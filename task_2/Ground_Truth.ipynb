{
 "cells": [
  {
   "cell_type": "code",
   "execution_count": 1,
   "metadata": {},
   "outputs": [
    {
     "name": "stderr",
     "output_type": "stream",
     "text": [
      "c:\\Users\\misha\\anaconda3\\envs\\py311\\Lib\\site-packages\\tqdm\\auto.py:21: TqdmWarning: IProgress not found. Please update jupyter and ipywidgets. See https://ipywidgets.readthedocs.io/en/stable/user_install.html\n",
      "  from .autonotebook import tqdm as notebook_tqdm\n",
      "[nltk_data] Downloading package vader_lexicon to\n",
      "[nltk_data]     C:\\Users\\misha\\AppData\\Roaming\\nltk_data...\n",
      "[nltk_data]   Package vader_lexicon is already up-to-date!\n",
      "[nltk_data] Downloading package vader_lexicon to\n",
      "[nltk_data]     C:\\Users\\misha\\AppData\\Roaming\\nltk_data...\n",
      "[nltk_data]   Package vader_lexicon is already up-to-date!\n"
     ]
    },
    {
     "data": {
      "text/plain": [
       "True"
      ]
     },
     "execution_count": 1,
     "metadata": {},
     "output_type": "execute_result"
    }
   ],
   "source": [
    "import pandas as pd\n",
    "import numpy as np\n",
    "from sklearn.model_selection import train_test_split\n",
    "from sklearn.feature_extraction.text import TfidfVectorizer\n",
    "from sklearn.linear_model import LogisticRegression\n",
    "from sklearn.metrics import classification_report, confusion_matrix\n",
    "from transformers import pipeline, AutoTokenizer, AutoModelForSequenceClassification\n",
    "from textblob import TextBlob\n",
    "import torch\n",
    "from sklearn.ensemble import VotingClassifier\n",
    "import warnings\n",
    "warnings.filterwarnings('ignore')\n",
    "import nltk\n",
    "from nltk.sentiment.vader import SentimentIntensityAnalyzer\n",
    "\n",
    "# Download the VADER lexicon\n",
    "nltk.download('vader_lexicon')\n",
    "\n",
    "from nltk.sentiment import SentimentIntensityAnalyzer\n",
    "\n",
    "# Download the VADER lexicon\n",
    "nltk.download('vader_lexicon')"
   ]
  },
  {
   "cell_type": "markdown",
   "metadata": {},
   "source": [
    "### Create the sentiment labels"
   ]
  },
  {
   "cell_type": "markdown",
   "metadata": {},
   "source": [
    "#### VADER"
   ]
  },
  {
   "cell_type": "code",
   "execution_count": 2,
   "metadata": {},
   "outputs": [],
   "source": [
    "# Initialize VADER Sentiment Analyzer\n",
    "sia = SentimentIntensityAnalyzer()"
   ]
  },
  {
   "cell_type": "markdown",
   "metadata": {},
   "source": [
    "##### Apply VADER to the hotel reviews"
   ]
  },
  {
   "cell_type": "code",
   "execution_count": 3,
   "metadata": {},
   "outputs": [],
   "source": [
    "df = pd.read_csv('../data/dataset_cleaned.csv')\n",
    "\n",
    "# Apply VADER to each review and get the compound sentiment score\n",
    "df['vader_score'] = df['review_text'].apply(lambda x: sia.polarity_scores(str(x)))\n",
    "df['compound_score'] = df['vader_score'].apply(lambda x: x['compound'])\n",
    "\n",
    "# Sentiment categorization based on VADER compound score\n",
    "df['vader_category'] = df['compound_score'].apply(lambda x: 'Positive' if x >= 0.05 else 'Negative' if x <= -0.05 else 'Neutral')"
   ]
  },
  {
   "cell_type": "markdown",
   "metadata": {},
   "source": [
    "#### Flair"
   ]
  },
  {
   "cell_type": "code",
   "execution_count": 4,
   "metadata": {},
   "outputs": [],
   "source": [
    "from typing import Tuple\n",
    "from flair.data import Sentence\n",
    "from flair.nn import Classifier\n",
    "\n",
    "def analyze_sentiment_apply(df, column_name):\n",
    "    tagger = Classifier.load('sentiment')\n",
    "    \n",
    "    def get_sentiment(text) -> Tuple[str, float]:\n",
    "        sentence = Sentence(str(text))\n",
    "        tagger.predict(sentence)\n",
    "        return (sentence.labels[0].value, sentence.labels[0].score)\n",
    "    \n",
    "    # Apply the function and create two new columns\n",
    "    df[['flair_sentiment', 'flair_confidence']] = df[column_name].apply(get_sentiment).apply(pd.Series)\n",
    "    return df"
   ]
  },
  {
   "cell_type": "code",
   "execution_count": 5,
   "metadata": {},
   "outputs": [],
   "source": [
    "df = analyze_sentiment_apply(df, 'review_text')"
   ]
  },
  {
   "cell_type": "markdown",
   "metadata": {},
   "source": [
    "#### TextBlob"
   ]
  },
  {
   "cell_type": "code",
   "execution_count": 6,
   "metadata": {},
   "outputs": [],
   "source": [
    "df['textblob_sentiment'] = df['review_text'].apply(lambda x: TextBlob(x).sentiment)"
   ]
  },
  {
   "cell_type": "code",
   "execution_count": 7,
   "metadata": {},
   "outputs": [],
   "source": [
    "# map textblob_sentiment column to postive, neutral or negative\n",
    "df['textblob_sentiment'] = df['textblob_sentiment'].apply(lambda x: 'positive' if x.polarity > 0 else 'negative' if x.polarity < 0 else 'neutral')"
   ]
  },
  {
   "cell_type": "markdown",
   "metadata": {},
   "source": [
    "### Voting Scheme"
   ]
  },
  {
   "cell_type": "markdown",
   "metadata": {},
   "source": [
    "#### Majority Vote"
   ]
  },
  {
   "cell_type": "code",
   "execution_count": 8,
   "metadata": {},
   "outputs": [
    {
     "data": {
      "text/html": [
       "<div>\n",
       "<style scoped>\n",
       "    .dataframe tbody tr th:only-of-type {\n",
       "        vertical-align: middle;\n",
       "    }\n",
       "\n",
       "    .dataframe tbody tr th {\n",
       "        vertical-align: top;\n",
       "    }\n",
       "\n",
       "    .dataframe thead th {\n",
       "        text-align: right;\n",
       "    }\n",
       "</style>\n",
       "<table border=\"1\" class=\"dataframe\">\n",
       "  <thead>\n",
       "    <tr style=\"text-align: right;\">\n",
       "      <th></th>\n",
       "      <th>helpfulVotes</th>\n",
       "      <th>id</th>\n",
       "      <th>address</th>\n",
       "      <th>city</th>\n",
       "      <th>placeName</th>\n",
       "      <th>numberOfReviews</th>\n",
       "      <th>placeRating</th>\n",
       "      <th>webUrl</th>\n",
       "      <th>publishedDate</th>\n",
       "      <th>userRating</th>\n",
       "      <th>...</th>\n",
       "      <th>whitespace_tokens</th>\n",
       "      <th>rule_based_tokens</th>\n",
       "      <th>spacy_tokens</th>\n",
       "      <th>wordpiece_tokens</th>\n",
       "      <th>vader_score</th>\n",
       "      <th>compound_score</th>\n",
       "      <th>vader_category</th>\n",
       "      <th>flair_sentiment</th>\n",
       "      <th>flair_confidence</th>\n",
       "      <th>textblob_sentiment</th>\n",
       "    </tr>\n",
       "  </thead>\n",
       "  <tbody>\n",
       "    <tr>\n",
       "      <th>0</th>\n",
       "      <td>0.0</td>\n",
       "      <td>978474125.0</td>\n",
       "      <td>24 Dharmapala Mawatha Dharmapala Mawatha, Colo...</td>\n",
       "      <td>Colombo</td>\n",
       "      <td>Nh Collection Colombo</td>\n",
       "      <td>2392</td>\n",
       "      <td>4.5</td>\n",
       "      <td>https://www.tripadvisor.com/Hotel_Review-g2939...</td>\n",
       "      <td>2024-11-03</td>\n",
       "      <td>5.0</td>\n",
       "      <td>...</td>\n",
       "      <td>['good', 'service', 'ayu', 'friendly', 'staff'...</td>\n",
       "      <td>['good', 'service', 'ayu', 'friendly', 'staff'...</td>\n",
       "      <td>['good', 'service', 'ayu', 'friendly', 'staff'...</td>\n",
       "      <td>['good', 'service', 'ayu', 'friendly', 'staff'...</td>\n",
       "      <td>{'neg': 0.0, 'neu': 0.389, 'pos': 0.611, 'comp...</td>\n",
       "      <td>0.9868</td>\n",
       "      <td>Positive</td>\n",
       "      <td>POSITIVE</td>\n",
       "      <td>0.943697</td>\n",
       "      <td>positive</td>\n",
       "    </tr>\n",
       "    <tr>\n",
       "      <th>1</th>\n",
       "      <td>0.0</td>\n",
       "      <td>978053018.0</td>\n",
       "      <td>24 Dharmapala Mawatha Dharmapala Mawatha, Colo...</td>\n",
       "      <td>Colombo</td>\n",
       "      <td>Nh Collection Colombo</td>\n",
       "      <td>2392</td>\n",
       "      <td>4.5</td>\n",
       "      <td>https://www.tripadvisor.com/Hotel_Review-g2939...</td>\n",
       "      <td>2024-10-30</td>\n",
       "      <td>1.0</td>\n",
       "      <td>...</td>\n",
       "      <td>['change', 'r', 'lady', 'manager', 'r', 'hotel...</td>\n",
       "      <td>['change', 'r', 'lady', 'manager', 'r', 'hotel...</td>\n",
       "      <td>['change', 'r', 'lady', 'manager', 'r', 'hotel...</td>\n",
       "      <td>['change', 'r', 'lady', 'manager', 'r', 'hotel...</td>\n",
       "      <td>{'neg': 0.173, 'neu': 0.762, 'pos': 0.066, 'co...</td>\n",
       "      <td>-0.3990</td>\n",
       "      <td>Negative</td>\n",
       "      <td>POSITIVE</td>\n",
       "      <td>0.590723</td>\n",
       "      <td>negative</td>\n",
       "    </tr>\n",
       "    <tr>\n",
       "      <th>2</th>\n",
       "      <td>0.0</td>\n",
       "      <td>976992067.0</td>\n",
       "      <td>24 Dharmapala Mawatha Dharmapala Mawatha, Colo...</td>\n",
       "      <td>Colombo</td>\n",
       "      <td>Nh Collection Colombo</td>\n",
       "      <td>2392</td>\n",
       "      <td>4.5</td>\n",
       "      <td>https://www.tripadvisor.com/Hotel_Review-g2939...</td>\n",
       "      <td>2024-10-28</td>\n",
       "      <td>5.0</td>\n",
       "      <td>...</td>\n",
       "      <td>['perfect', 'liked', 'everything', 'staff', 'k...</td>\n",
       "      <td>['perfect', 'liked', 'everything', 'staff', 'k...</td>\n",
       "      <td>['perfect', 'liked', 'everything', 'staff', 'k...</td>\n",
       "      <td>['perfect', 'liked', 'everything', 'staff', 'k...</td>\n",
       "      <td>{'neg': 0.079, 'neu': 0.334, 'pos': 0.587, 'co...</td>\n",
       "      <td>0.9796</td>\n",
       "      <td>Positive</td>\n",
       "      <td>POSITIVE</td>\n",
       "      <td>0.922921</td>\n",
       "      <td>positive</td>\n",
       "    </tr>\n",
       "    <tr>\n",
       "      <th>3</th>\n",
       "      <td>0.0</td>\n",
       "      <td>976690540.0</td>\n",
       "      <td>24 Dharmapala Mawatha Dharmapala Mawatha, Colo...</td>\n",
       "      <td>Colombo</td>\n",
       "      <td>Nh Collection Colombo</td>\n",
       "      <td>2392</td>\n",
       "      <td>4.5</td>\n",
       "      <td>https://www.tripadvisor.com/Hotel_Review-g2939...</td>\n",
       "      <td>2024-10-26</td>\n",
       "      <td>5.0</td>\n",
       "      <td>...</td>\n",
       "      <td>['stay', 'unforgettable', 'hotel', 'beautiful'...</td>\n",
       "      <td>['stay', 'unforgettable', 'hotel', 'beautiful'...</td>\n",
       "      <td>['stay', 'unforgettable', 'hotel', 'beautiful'...</td>\n",
       "      <td>['stay', 'unforgettable', 'hotel', 'beautiful'...</td>\n",
       "      <td>{'neg': 0.0, 'neu': 0.68, 'pos': 0.32, 'compou...</td>\n",
       "      <td>0.9468</td>\n",
       "      <td>Positive</td>\n",
       "      <td>POSITIVE</td>\n",
       "      <td>0.996439</td>\n",
       "      <td>positive</td>\n",
       "    </tr>\n",
       "    <tr>\n",
       "      <th>4</th>\n",
       "      <td>0.0</td>\n",
       "      <td>976664122.0</td>\n",
       "      <td>24 Dharmapala Mawatha Dharmapala Mawatha, Colo...</td>\n",
       "      <td>Colombo</td>\n",
       "      <td>Nh Collection Colombo</td>\n",
       "      <td>2392</td>\n",
       "      <td>4.5</td>\n",
       "      <td>https://www.tripadvisor.com/Hotel_Review-g2939...</td>\n",
       "      <td>2024-10-26</td>\n",
       "      <td>5.0</td>\n",
       "      <td>...</td>\n",
       "      <td>['amazing', 'hotel', 'well', 'situated', 'colo...</td>\n",
       "      <td>['amazing', 'hotel', 'well', 'situated', 'colo...</td>\n",
       "      <td>['amazing', 'hotel', 'well', 'situated', 'colo...</td>\n",
       "      <td>['amazing', 'hotel', 'well', 'situated', 'colo...</td>\n",
       "      <td>{'neg': 0.024, 'neu': 0.522, 'pos': 0.455, 'co...</td>\n",
       "      <td>0.9961</td>\n",
       "      <td>Positive</td>\n",
       "      <td>POSITIVE</td>\n",
       "      <td>0.991161</td>\n",
       "      <td>positive</td>\n",
       "    </tr>\n",
       "  </tbody>\n",
       "</table>\n",
       "<p>5 rows × 30 columns</p>\n",
       "</div>"
      ],
      "text/plain": [
       "   helpfulVotes           id  \\\n",
       "0           0.0  978474125.0   \n",
       "1           0.0  978053018.0   \n",
       "2           0.0  976992067.0   \n",
       "3           0.0  976690540.0   \n",
       "4           0.0  976664122.0   \n",
       "\n",
       "                                             address     city  \\\n",
       "0  24 Dharmapala Mawatha Dharmapala Mawatha, Colo...  Colombo   \n",
       "1  24 Dharmapala Mawatha Dharmapala Mawatha, Colo...  Colombo   \n",
       "2  24 Dharmapala Mawatha Dharmapala Mawatha, Colo...  Colombo   \n",
       "3  24 Dharmapala Mawatha Dharmapala Mawatha, Colo...  Colombo   \n",
       "4  24 Dharmapala Mawatha Dharmapala Mawatha, Colo...  Colombo   \n",
       "\n",
       "               placeName  numberOfReviews  placeRating  \\\n",
       "0  Nh Collection Colombo             2392          4.5   \n",
       "1  Nh Collection Colombo             2392          4.5   \n",
       "2  Nh Collection Colombo             2392          4.5   \n",
       "3  Nh Collection Colombo             2392          4.5   \n",
       "4  Nh Collection Colombo             2392          4.5   \n",
       "\n",
       "                                              webUrl publishedDate  \\\n",
       "0  https://www.tripadvisor.com/Hotel_Review-g2939...    2024-11-03   \n",
       "1  https://www.tripadvisor.com/Hotel_Review-g2939...    2024-10-30   \n",
       "2  https://www.tripadvisor.com/Hotel_Review-g2939...    2024-10-28   \n",
       "3  https://www.tripadvisor.com/Hotel_Review-g2939...    2024-10-26   \n",
       "4  https://www.tripadvisor.com/Hotel_Review-g2939...    2024-10-26   \n",
       "\n",
       "   userRating  ...                                  whitespace_tokens  \\\n",
       "0         5.0  ...  ['good', 'service', 'ayu', 'friendly', 'staff'...   \n",
       "1         1.0  ...  ['change', 'r', 'lady', 'manager', 'r', 'hotel...   \n",
       "2         5.0  ...  ['perfect', 'liked', 'everything', 'staff', 'k...   \n",
       "3         5.0  ...  ['stay', 'unforgettable', 'hotel', 'beautiful'...   \n",
       "4         5.0  ...  ['amazing', 'hotel', 'well', 'situated', 'colo...   \n",
       "\n",
       "                                   rule_based_tokens  \\\n",
       "0  ['good', 'service', 'ayu', 'friendly', 'staff'...   \n",
       "1  ['change', 'r', 'lady', 'manager', 'r', 'hotel...   \n",
       "2  ['perfect', 'liked', 'everything', 'staff', 'k...   \n",
       "3  ['stay', 'unforgettable', 'hotel', 'beautiful'...   \n",
       "4  ['amazing', 'hotel', 'well', 'situated', 'colo...   \n",
       "\n",
       "                                        spacy_tokens  \\\n",
       "0  ['good', 'service', 'ayu', 'friendly', 'staff'...   \n",
       "1  ['change', 'r', 'lady', 'manager', 'r', 'hotel...   \n",
       "2  ['perfect', 'liked', 'everything', 'staff', 'k...   \n",
       "3  ['stay', 'unforgettable', 'hotel', 'beautiful'...   \n",
       "4  ['amazing', 'hotel', 'well', 'situated', 'colo...   \n",
       "\n",
       "                                    wordpiece_tokens  \\\n",
       "0  ['good', 'service', 'ayu', 'friendly', 'staff'...   \n",
       "1  ['change', 'r', 'lady', 'manager', 'r', 'hotel...   \n",
       "2  ['perfect', 'liked', 'everything', 'staff', 'k...   \n",
       "3  ['stay', 'unforgettable', 'hotel', 'beautiful'...   \n",
       "4  ['amazing', 'hotel', 'well', 'situated', 'colo...   \n",
       "\n",
       "                                         vader_score compound_score  \\\n",
       "0  {'neg': 0.0, 'neu': 0.389, 'pos': 0.611, 'comp...         0.9868   \n",
       "1  {'neg': 0.173, 'neu': 0.762, 'pos': 0.066, 'co...        -0.3990   \n",
       "2  {'neg': 0.079, 'neu': 0.334, 'pos': 0.587, 'co...         0.9796   \n",
       "3  {'neg': 0.0, 'neu': 0.68, 'pos': 0.32, 'compou...         0.9468   \n",
       "4  {'neg': 0.024, 'neu': 0.522, 'pos': 0.455, 'co...         0.9961   \n",
       "\n",
       "  vader_category flair_sentiment flair_confidence textblob_sentiment  \n",
       "0       Positive        POSITIVE         0.943697           positive  \n",
       "1       Negative        POSITIVE         0.590723           negative  \n",
       "2       Positive        POSITIVE         0.922921           positive  \n",
       "3       Positive        POSITIVE         0.996439           positive  \n",
       "4       Positive        POSITIVE         0.991161           positive  \n",
       "\n",
       "[5 rows x 30 columns]"
      ]
     },
     "execution_count": 8,
     "metadata": {},
     "output_type": "execute_result"
    }
   ],
   "source": [
    "df.head()"
   ]
  },
  {
   "cell_type": "code",
   "execution_count": 40,
   "metadata": {},
   "outputs": [],
   "source": [
    "from collections import Counter\n",
    "\n",
    "def majority_vote(votes):\n",
    "  \"\"\"\n",
    "  Takes a list of sentiment labels and returns the majority sentiment.\n",
    "  \"\"\"\n",
    "  count = Counter(votes)\n",
    "  most_common, count = count.most_common(1)[0]\n",
    "\n",
    "  # If the most common sentiment has more than half the votes, return it\n",
    "  if count > len(votes) / 2:\n",
    "    return most_common\n",
    "  else:\n",
    "    return \"neutral\""
   ]
  },
  {
   "cell_type": "code",
   "execution_count": 51,
   "metadata": {},
   "outputs": [
    {
     "data": {
      "text/plain": [
       "Index(['helpfulVotes', 'id', 'address', 'city', 'placeName', 'numberOfReviews',\n",
       "       'placeRating', 'webUrl', 'publishedDate', 'userRating', 'roomTip',\n",
       "       'review_text', 'review_title', 'travelDate', 'tripType', 'username',\n",
       "       'word_tokens', 'bpe_tokens', 'bigram_tokens', 'trigram_tokens',\n",
       "       'whitespace_tokens', 'rule_based_tokens', 'spacy_tokens',\n",
       "       'wordpiece_tokens', 'vader_score', 'compound_score', 'vader_category',\n",
       "       'flair_sentiment', 'flair_confidence', 'textblob_sentiment'],\n",
       "      dtype='object')"
      ]
     },
     "execution_count": 51,
     "metadata": {},
     "output_type": "execute_result"
    }
   ],
   "source": [
    "df.columns"
   ]
  },
  {
   "cell_type": "code",
   "execution_count": 52,
   "metadata": {},
   "outputs": [],
   "source": [
    "# standardize all the sentiment columns\n",
    "for col in ['vader_category', 'flair_sentiment', 'textblob_sentiment']:\n",
    "    df[col] = df[col].str.lower()"
   ]
  },
  {
   "cell_type": "code",
   "execution_count": 53,
   "metadata": {},
   "outputs": [
    {
     "data": {
      "text/plain": [
       "vader_category  flair_sentiment  textblob_sentiment\n",
       "positive        positive         positive              10204\n",
       "                negative         positive                982\n",
       "negative        negative         negative                311\n",
       "                                 positive                123\n",
       "positive        negative         negative                109\n",
       "                positive         negative                 18\n",
       "negative        positive         positive                 14\n",
       "neutral         negative         positive                 11\n",
       "                                 negative                 10\n",
       "negative        positive         negative                  9\n",
       "neutral         positive         positive                  6\n",
       "negative        negative         neutral                   3\n",
       "positive        negative         neutral                   3\n",
       "                positive         neutral                   3\n",
       "neutral         positive         negative                  1\n",
       "                                 neutral                   1\n",
       "Name: count, dtype: int64"
      ]
     },
     "execution_count": 53,
     "metadata": {},
     "output_type": "execute_result"
    }
   ],
   "source": [
    "df[['vader_category', 'flair_sentiment', 'textblob_sentiment']].value_counts()"
   ]
  },
  {
   "cell_type": "code",
   "execution_count": null,
   "metadata": {},
   "outputs": [],
   "source": [
    "df['ground_truth'] = df.apply(lambda x: majority_vote([x['vader_category'], x['flair_sentiment'], x['textblob_sentiment']]), axis=1)"
   ]
  },
  {
   "cell_type": "code",
   "execution_count": null,
   "metadata": {},
   "outputs": [
    {
     "data": {
      "text/plain": [
       "vader_category  flair_sentiment  textblob_sentiment  majority_vote\n",
       "positive        positive         positive            positive         10204\n",
       "                negative         positive            positive           982\n",
       "negative        negative         negative            negative           311\n",
       "                                 positive            negative           123\n",
       "positive        negative         negative            negative           109\n",
       "                positive         negative            positive            18\n",
       "negative        positive         positive            positive            14\n",
       "neutral         negative         positive            neutral             11\n",
       "                                 negative            negative            10\n",
       "negative        positive         negative            negative             9\n",
       "neutral         positive         positive            positive             6\n",
       "negative        negative         neutral             negative             3\n",
       "positive        negative         neutral             neutral              3\n",
       "                positive         neutral             positive             3\n",
       "neutral         positive         negative            neutral              1\n",
       "                                 neutral             neutral              1\n",
       "Name: count, dtype: int64"
      ]
     },
     "execution_count": 55,
     "metadata": {},
     "output_type": "execute_result"
    }
   ],
   "source": [
    "df[['vader_category', 'flair_sentiment', 'textblob_sentiment', 'ground_truth']].value_counts()"
   ]
  },
  {
   "cell_type": "code",
   "execution_count": null,
   "metadata": {},
   "outputs": [
    {
     "data": {
      "text/plain": [
       "majority_vote\n",
       "positive    11227\n",
       "negative      565\n",
       "neutral        16\n",
       "Name: count, dtype: int64"
      ]
     },
     "execution_count": 56,
     "metadata": {},
     "output_type": "execute_result"
    }
   ],
   "source": [
    "df['ground_truth'].value_counts()"
   ]
  },
  {
   "cell_type": "code",
   "execution_count": 61,
   "metadata": {},
   "outputs": [],
   "source": [
    "df.to_csv('../data/processed/labelled_data.csv', index=False)"
   ]
  },
  {
   "cell_type": "code",
   "execution_count": null,
   "metadata": {},
   "outputs": [],
   "source": []
  }
 ],
 "metadata": {
  "kernelspec": {
   "display_name": "py311",
   "language": "python",
   "name": "python3"
  },
  "language_info": {
   "codemirror_mode": {
    "name": "ipython",
    "version": 3
   },
   "file_extension": ".py",
   "mimetype": "text/x-python",
   "name": "python",
   "nbconvert_exporter": "python",
   "pygments_lexer": "ipython3",
   "version": "3.11.10"
  }
 },
 "nbformat": 4,
 "nbformat_minor": 2
}
