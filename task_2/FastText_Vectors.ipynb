{
  "nbformat": 4,
  "nbformat_minor": 0,
  "metadata": {
    "colab": {
      "provenance": []
    },
    "kernelspec": {
      "name": "python3",
      "display_name": "Python 3"
    },
    "language_info": {
      "name": "python"
    }
  },
  "cells": [
    {
      "cell_type": "code",
      "source": [
        "import numpy as np\n",
        "import pandas as pd"
      ],
      "metadata": {
        "id": "pwq6d7IWsoW1"
      },
      "execution_count": 1,
      "outputs": []
    },
    {
      "cell_type": "code",
      "source": [
        "import gensim"
      ],
      "metadata": {
        "id": "42uJoNWFy3J8"
      },
      "execution_count": 13,
      "outputs": []
    },
    {
      "cell_type": "code",
      "source": [
        "import os\n",
        "import requests\n",
        "import zipfile"
      ],
      "metadata": {
        "id": "l8_C3VrLw7Jz"
      },
      "execution_count": 6,
      "outputs": []
    },
    {
      "cell_type": "code",
      "source": [
        "from tensorflow.keras.preprocessing.text import Tokenizer"
      ],
      "metadata": {
        "id": "-4up_X59u8c4"
      },
      "execution_count": 2,
      "outputs": []
    },
    {
      "cell_type": "code",
      "source": [
        "from tensorflow.keras.preprocessing.sequence import pad_sequences"
      ],
      "metadata": {
        "id": "R6EHQFOyvHp4"
      },
      "execution_count": 3,
      "outputs": []
    },
    {
      "cell_type": "code",
      "source": [
        "from google.colab import drive\n",
        "drive.mount('/content/drive')"
      ],
      "metadata": {
        "colab": {
          "base_uri": "https://localhost:8080/"
        },
        "id": "heDzvKIhsyqg",
        "outputId": "900fa850-f2c2-4d17-eed8-ace7d50961b3"
      },
      "execution_count": 5,
      "outputs": [
        {
          "output_type": "stream",
          "name": "stdout",
          "text": [
            "Mounted at /content/drive\n"
          ]
        }
      ]
    },
    {
      "cell_type": "code",
      "source": [
        "drive_path = \"/content/drive/MyDrive/Year 4/NLP notebooks and data/\""
      ],
      "metadata": {
        "id": "P74aqF0js6gH"
      },
      "execution_count": 7,
      "outputs": []
    },
    {
      "cell_type": "code",
      "source": [
        "df = pd.read_csv('/content/drive/MyDrive/Year 4/NLP notebooks and data/dataset_cleaned.csv')\n",
        "\n",
        "# print(df.head())\n"
      ],
      "metadata": {
        "id": "fq8egS0Gs-Z7"
      },
      "execution_count": 8,
      "outputs": []
    },
    {
      "cell_type": "code",
      "source": [
        "texts = df['review_text'].astype(str).tolist()"
      ],
      "metadata": {
        "id": "TF0htqKfuvXq"
      },
      "execution_count": 9,
      "outputs": []
    },
    {
      "cell_type": "code",
      "source": [
        "# Tokenize the text\n",
        "tokenizer = Tokenizer()\n",
        "tokenizer.fit_on_texts(texts)\n",
        "sequences = tokenizer.texts_to_sequences(texts)\n",
        "word_index = tokenizer.word_index"
      ],
      "metadata": {
        "id": "0DY3Pi22u29Z"
      },
      "execution_count": 10,
      "outputs": []
    },
    {
      "cell_type": "code",
      "source": [
        "# Pad sequences - when training\n",
        "# max_sequence_length = max(len(seq) for seq in sequences)\n",
        "# data = pad_sequences(sequences, maxlen=max_sequence_length, padding='post')"
      ],
      "metadata": {
        "id": "KIjrWTpAvDYJ"
      },
      "execution_count": null,
      "outputs": []
    },
    {
      "cell_type": "code",
      "source": [
        "# Step 3: Download and Load Pre-trained FastText Embeddings\n",
        "# Download the pre-trained FastText model (English)\n",
        "fasttext_url = 'https://dl.fbaipublicfiles.com/fasttext/vectors-crawl/cc.en.300.vec.gz'\n",
        "fasttext_path = drive_path+'cc.en.300.vec.gz'"
      ],
      "metadata": {
        "id": "LGdQc1bJvJ4m"
      },
      "execution_count": 11,
      "outputs": []
    },
    {
      "cell_type": "code",
      "source": [
        "if not os.path.exists(fasttext_path):\n",
        "    print(\"Downloading FastText embeddings...\")\n",
        "    response = requests.get(fasttext_url)\n",
        "    with open(fasttext_path, 'wb') as f:\n",
        "        f.write(response.content)"
      ],
      "metadata": {
        "colab": {
          "base_uri": "https://localhost:8080/"
        },
        "id": "wEcaOykIwy_I",
        "outputId": "5b1d7fee-35e0-49f2-8141-e8f7cacd02fc"
      },
      "execution_count": 12,
      "outputs": [
        {
          "output_type": "stream",
          "name": "stdout",
          "text": [
            "Downloading FastText embeddings...\n"
          ]
        }
      ]
    },
    {
      "cell_type": "code",
      "source": [
        "# Load FastText embeddings\n",
        "print(\"Loading FastText model...\")\n",
        "fasttext_model = gensim.models.KeyedVectors.load_word2vec_format(fasttext_path, binary=False)\n"
      ],
      "metadata": {
        "colab": {
          "base_uri": "https://localhost:8080/"
        },
        "id": "CKKuKS9zw2ve",
        "outputId": "ad61c9b1-f027-4bf2-d4e1-de8320de574f"
      },
      "execution_count": 14,
      "outputs": [
        {
          "output_type": "stream",
          "name": "stdout",
          "text": [
            "Loading FastText model...\n"
          ]
        }
      ]
    },
    {
      "cell_type": "code",
      "source": [
        "# Prepare embedding matrix\n",
        "embedding_dim = 300  # FastText vectors are 300-dimensional\n",
        "vocab_size = len(word_index) + 1\n",
        "embedding_matrix = np.zeros((vocab_size, embedding_dim))\n"
      ],
      "metadata": {
        "id": "1thfIUIcvQOS"
      },
      "execution_count": 15,
      "outputs": []
    },
    {
      "cell_type": "code",
      "source": [
        "for word, i in word_index.items():\n",
        "    if word in fasttext_model:\n",
        "        embedding_matrix[i] = fasttext_model[word]\n",
        "    else:\n",
        "        # For words not in the FastText model, you can assign a random vector or leave it as zeros\n",
        "        embedding_matrix[i] = np.random.normal(size=(embedding_dim,))"
      ],
      "metadata": {
        "id": "i8C211LgzA5Q"
      },
      "execution_count": 16,
      "outputs": []
    },
    {
      "cell_type": "code",
      "source": [
        "# Save the embedding matrix to a file\n",
        "np.save(drive_path+'FastText_embedding_matrix.npy', embedding_matrix)"
      ],
      "metadata": {
        "id": "IzmE-Feava4N"
      },
      "execution_count": 17,
      "outputs": []
    },
    {
      "cell_type": "code",
      "source": [
        "# Load the embedding matrix from the file\n",
        "embedding_matrix = np.load(drive_path+'FastText_embedding_matrix.npy')"
      ],
      "metadata": {
        "id": "uQMYyh9tvf_a"
      },
      "execution_count": 18,
      "outputs": []
    }
  ]
}