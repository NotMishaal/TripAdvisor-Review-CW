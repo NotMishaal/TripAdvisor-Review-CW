{
  "nbformat": 4,
  "nbformat_minor": 0,
  "metadata": {
    "colab": {
      "provenance": []
    },
    "kernelspec": {
      "name": "python3",
      "display_name": "Python 3"
    },
    "language_info": {
      "name": "python"
    }
  },
  "cells": [
    {
      "cell_type": "code",
      "execution_count": 1,
      "metadata": {
        "id": "4SnKb8GusklA"
      },
      "outputs": [],
      "source": [
        "import gensim.downloader as api\n",
        "from gensim.models import KeyedVectors"
      ]
    },
    {
      "cell_type": "code",
      "source": [
        "import numpy as np\n",
        "import pandas as pd"
      ],
      "metadata": {
        "id": "pwq6d7IWsoW1"
      },
      "execution_count": 2,
      "outputs": []
    },
    {
      "cell_type": "code",
      "source": [
        "from tensorflow.keras.preprocessing.text import Tokenizer"
      ],
      "metadata": {
        "id": "-4up_X59u8c4"
      },
      "execution_count": 9,
      "outputs": []
    },
    {
      "cell_type": "code",
      "source": [
        "from tensorflow.keras.preprocessing.sequence import pad_sequences"
      ],
      "metadata": {
        "id": "R6EHQFOyvHp4"
      },
      "execution_count": 12,
      "outputs": []
    },
    {
      "cell_type": "code",
      "source": [
        "from google.colab import drive\n",
        "drive.mount('/content/drive')"
      ],
      "metadata": {
        "colab": {
          "base_uri": "https://localhost:8080/"
        },
        "id": "heDzvKIhsyqg",
        "outputId": "25b3eca0-32db-4a4a-d14a-7c9e118f1a3b"
      },
      "execution_count": 3,
      "outputs": [
        {
          "output_type": "stream",
          "name": "stdout",
          "text": [
            "Mounted at /content/drive\n"
          ]
        }
      ]
    },
    {
      "cell_type": "code",
      "source": [
        "drive_path = \"/content/drive/MyDrive/Year 4/NLP notebooks and data/\""
      ],
      "metadata": {
        "id": "P74aqF0js6gH"
      },
      "execution_count": 5,
      "outputs": []
    },
    {
      "cell_type": "code",
      "source": [
        "df = pd.read_csv('/content/drive/MyDrive/Year 4/NLP notebooks and data/dataset_cleaned.csv')\n",
        "\n",
        "# print(df.head())\n"
      ],
      "metadata": {
        "id": "fq8egS0Gs-Z7"
      },
      "execution_count": 6,
      "outputs": []
    },
    {
      "cell_type": "code",
      "source": [
        "texts = df['review_text'].astype(str).tolist()"
      ],
      "metadata": {
        "id": "TF0htqKfuvXq"
      },
      "execution_count": 7,
      "outputs": []
    },
    {
      "cell_type": "code",
      "source": [
        "# Tokenize the text\n",
        "tokenizer = Tokenizer()\n",
        "tokenizer.fit_on_texts(texts)\n",
        "sequences = tokenizer.texts_to_sequences(texts)\n",
        "word_index = tokenizer.word_index"
      ],
      "metadata": {
        "id": "0DY3Pi22u29Z"
      },
      "execution_count": 10,
      "outputs": []
    },
    {
      "cell_type": "code",
      "source": [
        "# Pad sequences - when training\n",
        "# max_sequence_length = max(len(seq) for seq in sequences)\n",
        "# data = pad_sequences(sequences, maxlen=max_sequence_length, padding='post')"
      ],
      "metadata": {
        "id": "KIjrWTpAvDYJ"
      },
      "execution_count": 13,
      "outputs": []
    },
    {
      "cell_type": "code",
      "source": [
        "# Step 3: Download and Load Pre-trained Word2Vec Embeddings\n",
        "# Download the pre-trained Word2Vec model (Google News)\n",
        "word2vec_model = api.load('word2vec-google-news-300')"
      ],
      "metadata": {
        "colab": {
          "base_uri": "https://localhost:8080/"
        },
        "id": "LGdQc1bJvJ4m",
        "outputId": "9618234c-6f1a-4a43-8837-270c7c5db787"
      },
      "execution_count": 14,
      "outputs": [
        {
          "output_type": "stream",
          "name": "stdout",
          "text": [
            "[==================================================] 100.0% 1662.8/1662.8MB downloaded\n"
          ]
        }
      ]
    },
    {
      "cell_type": "code",
      "source": [
        "# Prepare embedding matrix\n",
        "embedding_dim = 300  # Word2Vec Google News vectors are 300-dimensional\n",
        "vocab_size = len(word_index) + 1\n",
        "embedding_matrix = np.zeros((vocab_size, embedding_dim))\n",
        "\n",
        "for word, i in word_index.items():\n",
        "    if word in word2vec_model:\n",
        "        embedding_matrix[i] = word2vec_model[word]\n",
        "    else:\n",
        "        # For words not in the Word2Vec model, you can assign a random vector or leave it as zeros\n",
        "        embedding_matrix[i] = np.random.normal(size=(embedding_dim,))\n"
      ],
      "metadata": {
        "id": "1thfIUIcvQOS"
      },
      "execution_count": 15,
      "outputs": []
    },
    {
      "cell_type": "code",
      "source": [
        "# Save the embedding matrix to a file\n",
        "np.save(drive_path+'Word2Vec_embedding_matrix.npy', embedding_matrix)"
      ],
      "metadata": {
        "id": "IzmE-Feava4N"
      },
      "execution_count": 16,
      "outputs": []
    },
    {
      "cell_type": "code",
      "source": [
        "# Load the embedding matrix from the file\n",
        "embedding_matrix = np.load(drive_path+'embedding_matrix.npy')"
      ],
      "metadata": {
        "id": "uQMYyh9tvf_a"
      },
      "execution_count": 17,
      "outputs": []
    }
  ]
}