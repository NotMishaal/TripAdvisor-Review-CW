{
  "nbformat": 4,
  "nbformat_minor": 0,
  "metadata": {
    "colab": {
      "provenance": []
    },
    "kernelspec": {
      "name": "python3",
      "display_name": "Python 3"
    },
    "language_info": {
      "name": "python"
    }
  },
  "cells": [
    {
      "cell_type": "markdown",
      "source": [
        "# **Sparse Vectorization Representations**"
      ],
      "metadata": {
        "id": "Du829F8lItN2"
      }
    },
    {
      "cell_type": "code",
      "source": [
        "# Import required libraries\n",
        "import pandas as pd\n",
        "from sklearn.feature_extraction.text import CountVectorizer, TfidfVectorizer"
      ],
      "metadata": {
        "id": "1kjJ_AXkIthh"
      },
      "execution_count": null,
      "outputs": []
    },
    {
      "cell_type": "code",
      "source": [
        "# Load the dataset (update path as needed)\n",
        "df = pd.read_csv('/content/dataset_cleaned.csv')\n",
        "\n",
        "# Ensure the dataset contains the necessary column\n",
        "if 'review_text' not in df.columns:\n",
        "    raise ValueError(\"Dataset must contain a 'review_text' column.\")\n",
        "\n",
        "print(f\"Number of reviews in the dataset: {len(df)}\")"
      ],
      "metadata": {
        "id": "UQToAnBxoViR",
        "colab": {
          "base_uri": "https://localhost:8080/"
        },
        "outputId": "4a86b3c7-3fb3-4f05-8d1f-01cd8162652e"
      },
      "execution_count": null,
      "outputs": [
        {
          "output_type": "stream",
          "name": "stdout",
          "text": [
            "Number of reviews in the dataset: 11809\n"
          ]
        }
      ]
    },
    {
      "cell_type": "markdown",
      "source": [
        "# 1. **Count** **Vectorizer**"
      ],
      "metadata": {
        "id": "xy4hsxGs4e_9"
      }
    },
    {
      "cell_type": "code",
      "source": [
        "# Initialize Count Vectorizer\n",
        "count_vectorizer = CountVectorizer(max_features=3000,min_df=5, max_df=0.8)\n",
        "count_matrix = count_vectorizer.fit_transform(df['review_text'])  # Transform text into sparse matrix"
      ],
      "metadata": {
        "id": "4zOpJxbQoXqg"
      },
      "execution_count": 98,
      "outputs": []
    },
    {
      "cell_type": "code",
      "source": [
        "# Display the shape of the Count Vectorizer matrix\n",
        "print(f\"Count Vectorizer Matrix Shape: {count_matrix.shape}\")"
      ],
      "metadata": {
        "colab": {
          "base_uri": "https://localhost:8080/"
        },
        "id": "Z79nnWBRoar-",
        "outputId": "3e6203a1-b2d9-40be-b06f-b85a5ebb7a59"
      },
      "execution_count": 99,
      "outputs": [
        {
          "output_type": "stream",
          "name": "stdout",
          "text": [
            "Count Vectorizer Matrix Shape: (11809, 3000)\n"
          ]
        }
      ]
    },
    {
      "cell_type": "code",
      "source": [
        "# Display features from the vocabulary\n",
        "print(\" Features from Count Vectorizer:\", count_vectorizer.get_feature_names_out()[:10])\n"
      ],
      "metadata": {
        "colab": {
          "base_uri": "https://localhost:8080/"
        },
        "id": "4QSgXpXEogO6",
        "outputId": "f26507ca-6fc5-4ca3-bd56-73f7d2ebcf47"
      },
      "execution_count": 100,
      "outputs": [
        {
          "output_type": "stream",
          "name": "stdout",
          "text": [
            " Features from Count Vectorizer: ['10pm' '1st' '2nd' '30am' '30pm' '3rd' '4th' '5am' '5min' '5th']\n"
          ]
        }
      ]
    },
    {
      "cell_type": "code",
      "source": [
        "# Calculate sparsity\n",
        "sparsity_count = (1 - count_matrix.nnz / float(count_matrix.shape[0] * count_matrix.shape[1])) * 100\n",
        "print(f\"Count Vectorizer Sparsity: {sparsity_count:.2f}%\")"
      ],
      "metadata": {
        "colab": {
          "base_uri": "https://localhost:8080/"
        },
        "id": "yGx3uxmwoim9",
        "outputId": "4e495c42-c0b4-4f05-93e7-e34589b2b0bb"
      },
      "execution_count": 101,
      "outputs": [
        {
          "output_type": "stream",
          "name": "stdout",
          "text": [
            "Count Vectorizer Sparsity: 98.71%\n"
          ]
        }
      ]
    },
    {
      "cell_type": "code",
      "source": [
        "print(f\"Count Vectorizer: Shape = {count_matrix.shape}, Sparsity = {sparsity_count:.2f}%\")\n"
      ],
      "metadata": {
        "id": "5p1_-Hmr5F4M",
        "colab": {
          "base_uri": "https://localhost:8080/"
        },
        "outputId": "f053be8c-ce46-419c-b156-eae2a4741edf"
      },
      "execution_count": 102,
      "outputs": [
        {
          "output_type": "stream",
          "name": "stdout",
          "text": [
            "Count Vectorizer: Shape = (11809, 3000), Sparsity = 98.71%\n"
          ]
        }
      ]
    },
    {
      "cell_type": "markdown",
      "source": [
        "# 2. **TF**-**IDF** **Vectorizer**"
      ],
      "metadata": {
        "id": "_DxR7si64jrB"
      }
    },
    {
      "cell_type": "code",
      "source": [
        "# Initialize TF-IDF Vectorizer\n",
        "tfidf_vectorizer = TfidfVectorizer(max_features=3000,min_df=5, max_df=0.8)\n",
        "tfidf_matrix = tfidf_vectorizer.fit_transform(df['review_text'])  # Transform text into sparse matrix"
      ],
      "metadata": {
        "id": "EpJRYk_LolD4"
      },
      "execution_count": 103,
      "outputs": []
    },
    {
      "cell_type": "code",
      "source": [
        "# Display the shape of the TF-IDF matrix\n",
        "print(f\"TF-IDF Vectorizer Matrix Shape: {tfidf_matrix.shape}\")"
      ],
      "metadata": {
        "colab": {
          "base_uri": "https://localhost:8080/"
        },
        "id": "OvHB3cqAontt",
        "outputId": "518c98b2-cf85-4253-9fe4-eb61e5b5d17e"
      },
      "execution_count": 104,
      "outputs": [
        {
          "output_type": "stream",
          "name": "stdout",
          "text": [
            "TF-IDF Vectorizer Matrix Shape: (11809, 3000)\n"
          ]
        }
      ]
    },
    {
      "cell_type": "code",
      "source": [
        "#Display a few feature names (words in the vocabulary)\n",
        "print(\" Features from TF-IDF Vectorizer:\", tfidf_vectorizer.get_feature_names_out()[:10])"
      ],
      "metadata": {
        "colab": {
          "base_uri": "https://localhost:8080/"
        },
        "id": "3Q0CrslFoqSY",
        "outputId": "e129c4a8-95db-49b2-e690-104e1de6ea32"
      },
      "execution_count": 105,
      "outputs": [
        {
          "output_type": "stream",
          "name": "stdout",
          "text": [
            " Features from TF-IDF Vectorizer: ['10pm' '1st' '2nd' '30am' '30pm' '3rd' '4th' '5am' '5min' '5th']\n"
          ]
        }
      ]
    },
    {
      "cell_type": "code",
      "source": [
        "# Calculate sparsity\n",
        "sparsity_tfidf = (1 - tfidf_matrix.nnz / float(tfidf_matrix.shape[0] * tfidf_matrix.shape[1])) * 100\n",
        "print(f\"TF-IDF Vectorizer Sparsity: {sparsity_tfidf:.2f}%\")"
      ],
      "metadata": {
        "colab": {
          "base_uri": "https://localhost:8080/"
        },
        "id": "Bxm80_0ioulp",
        "outputId": "d082fe9c-55eb-464e-d1c0-f8825cc50384"
      },
      "execution_count": 106,
      "outputs": [
        {
          "output_type": "stream",
          "name": "stdout",
          "text": [
            "TF-IDF Vectorizer Sparsity: 98.71%\n"
          ]
        }
      ]
    },
    {
      "cell_type": "code",
      "source": [
        "print(f\"TF-IDF Vectorizer: Shape = {tfidf_matrix.shape}, Sparsity = {sparsity_tfidf:.2f}%\")"
      ],
      "metadata": {
        "colab": {
          "base_uri": "https://localhost:8080/"
        },
        "id": "9UoyDleLow8I",
        "outputId": "e5f57147-df0e-4950-b723-9b302aaaab87"
      },
      "execution_count": 107,
      "outputs": [
        {
          "output_type": "stream",
          "name": "stdout",
          "text": [
            "TF-IDF Vectorizer: Shape = (11809, 3000), Sparsity = 98.71%\n"
          ]
        }
      ]
    }
  ]
}