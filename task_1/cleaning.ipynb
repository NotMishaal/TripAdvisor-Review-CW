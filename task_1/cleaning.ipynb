{
 "cells": [
  {
   "cell_type": "code",
   "execution_count": 1,
   "metadata": {},
   "outputs": [
    {
     "name": "stderr",
     "output_type": "stream",
     "text": [
      "None of PyTorch, TensorFlow >= 2.0, or Flax have been found. Models won't be available and only tokenizers, configuration and file/data utilities can be used.\n"
     ]
    }
   ],
   "source": [
    "import pandas as pd\n",
    "import numpy as np\n",
    "import nltk\n",
    "from nltk import WordNetLemmatizer, word_tokenize, ngrams\n",
    "from nltk.tokenize import WordPunctTokenizer\n",
    "from nltk.corpus import stopwords\n",
    "import spacy\n",
    "import matplotlib.pyplot as plt\n",
    "import seaborn as sns\n",
    "from langdetect import detect\n",
    "import emoji\n",
    "from transformers import BertTokenizer\n",
    "import sentencepiece as spm\n",
    "import inflect\n",
    "import contractions"
   ]
  },
  {
   "cell_type": "markdown",
   "metadata": {},
   "source": [
    "# Data Import & Initial Exploration"
   ]
  },
  {
   "cell_type": "code",
   "execution_count": 2,
   "metadata": {},
   "outputs": [
    {
     "name": "stderr",
     "output_type": "stream",
     "text": [
      "c:\\Users\\misha\\anaconda3\\envs\\py3.7\\lib\\site-packages\\IPython\\core\\interactiveshell.py:3257: DtypeWarning: Columns (473,531,589,621,623,626,629,632,635,638,641,644,647,650,652,655,658,661,664,667,670,673,676,679,681,684,687,690,693,696,699,702,705,708,710,713,716,719,722,725,728,731,734,737,739,742,745,748,751,754,757,760,763,766,768,771,774,777,780,783,786,789,792,795,797,800,803,806,809,812,815,818,821,824,826,829,832,835,838,841,844,847,850,853,855,858,861,864,867,870,873,876,879,881,884,887,890,893,896,899,902,905,907,910,913,916,919,922,925,928) have mixed types.Specify dtype option on import or set low_memory=False.\n",
      "  interactivity=interactivity, compiler=compiler, result=result)\n",
      "c:\\Users\\misha\\anaconda3\\envs\\py3.7\\lib\\site-packages\\IPython\\core\\interactiveshell.py:3257: DtypeWarning: Columns (357,389,391,394,397,400,403,406,409,412,415,418,420,423,426,429,432,435,438,441,444,447,449,452,455,458,461,464,467,470,473,476,478,481,484,487,490,493,496,499,502,505,507,510,513,516,519,522,525,528,531,534,536,539,542,545,548,551,554,557,560,563,565,568,571,574,577,580,583,586,589,592,594,597,600,603,606,609,612,615,618,621,623,626,629,632,635,638,641,644,647,650,652,655,658,661,664,667,670,673,676,679,681,684,687,690,693,696,699,702,705,708,710,713,716,719,722,725,728,731,734,737,739,742,745,748,751,754,757,760,763,765,768,771,774,777,780,783,786) have mixed types.Specify dtype option on import or set low_memory=False.\n",
      "  interactivity=interactivity, compiler=compiler, result=result)\n",
      "c:\\Users\\misha\\anaconda3\\envs\\py3.7\\lib\\site-packages\\IPython\\core\\interactiveshell.py:3257: DtypeWarning: Columns (270,386,415,444,473,502,505,507,510,513,516,519,522,525,528,531,534,536,539,542,545,548,551,554,557,560,563,565,568,571,574,577,580,583,586,589,592,594,597,600,603,606,609,612,615,618,621,623,626,629,632,635,638,641,644,647,650,652,655,658,661,664,667,670,673,676,679,681,684,687,690,693,696,699,702,705,708,710,713,716,719,722,725,728,731,734,737,739,742,745,748,751,754,757,760,763,766,768,771,774,777,780,783,786,789,792,795,797,800,803,806,809,812,815,818,821,823,826,829,832,835,838,841,844,847,849,852,855,858,861,864,867,870,873,876,878,881,884,887,890,893,896,899,902,905,907,910,913,916,919,922,925,928,931,934,936,939,942,945,948,951,954,957,960,963,965,968,971,974,977,980,983,986,989,991,994,997,1000,1003,1006,1009,1012,1015,1017,1020,1023,1026,1029,1032,1035,1038,1041,1043,1046,1049,1052,1055,1058,1061,1064,1067,1069,1072,1075,1078,1081,1084,1087,1090,1093,1096,1098,1101,1104,1107,1110,1113,1116,1119,1122,1124,1127,1130,1133,1136,1139,1142,1145,1148,1150,1153,1156,1159,1162,1165,1168,1171,1174,1176,1179,1182,1185,1188,1191,1194,1197,1200,1202,1205,1208,1211,1214,1217,1220,1223,1226,1228,1231,1234,1237,1240,1243,1246,1249,1252,1255,1257,1260,1263,1266,1269,1272,1275,1278,1281,1284,1286,1289,1292,1295,1298,1301,1304,1307,1310,1313,1315,1318,1321,1324,1327,1330,1333,1336,1339,1341,1344,1347,1350,1353,1356,1359,1362,1365,1367,1370,1373,1376,1379,1382,1385,1388,1391,1393,1396,1399,1402,1405,1408,1411,1414,1417,1419,1422,1425,1428,1431,1434,1437,1440,1443,1445,1448,1451,1454,1457,1460,1463,1466,1469,1471,1474,1477,1480,1483,1486,1489,1492,1495,1497,1500,1503,1506,1509,1512,1515,1518,1521,1523,1526,1529,1532,1535,1538,1541,1544,1547,1549,1552,1555,1558,1561,1564,1567,1570,1573,1575,1578,1581,1584,1587,1590,1593,1596,1599,1601,1604,1607,1610,1613,1616,1619,1622,1625,1627,1630,1633,1636,1639,1642,1645,1648,1651,1653,1656,1659,1662,1665,1668,1671,1674,1677,1679,1682,1685,1688,1691,1694,1697,1700,1703,1705,1708,1711,1714,1717,1720,1723,1726,1729,1731,1734,1737,1740,1743,1746,1749,1752,1755,1757,1760,1763,1766,1769,1772,1775,1778,1781,1783,1786,1789,1792,1795,1798,1801,1804,1807,1809,1812,1815,1818,1821,1824,1827,1830,1833,1835,1838,1841,1844,1847,1850,1853,1856,1859,1861,1864,1867,1870,1873,1876,1879,1882,1885,1887,1890,1893,1896,1899,1902,1905,1908) have mixed types.Specify dtype option on import or set low_memory=False.\n",
      "  interactivity=interactivity, compiler=compiler, result=result)\n",
      "c:\\Users\\misha\\anaconda3\\envs\\py3.7\\lib\\site-packages\\IPython\\core\\interactiveshell.py:3257: DtypeWarning: Columns (0,3,388,417,446,475,504,533,591,678,707,765,794,823,852,854,857,860,863,866,869,872,875,878,880,883,886,889,892,895,898,901,904,906,909,912,915,918,921,924,927) have mixed types.Specify dtype option on import or set low_memory=False.\n",
      "  interactivity=interactivity, compiler=compiler, result=result)\n"
     ]
    }
   ],
   "source": [
    "# load the raw individual datasets\n",
    "colombo = pd.read_csv('../data/raw/dataset_colombo_raw.csv')\n",
    "east = pd.read_csv('../data/raw/dataset_east_raw.csv')\n",
    "ella = pd.read_csv('../data/raw/dataset_ella_raw.csv')\n",
    "galle = pd.read_csv('../data/raw/dataset_galle_raw.csv')\n",
    "kandy = pd.read_csv('../data/raw/dataset_kandy_raw_1.csv')\n",
    "nuwaraeliya = pd.read_csv('../data/raw/dataset_nuwaraeliya_raw.csv')"
   ]
  },
  {
   "cell_type": "code",
   "execution_count": 3,
   "metadata": {},
   "outputs": [
    {
     "data": {
      "text/plain": [
       "((2000, 1012), (1846, 91), (1951, 870), (2100, 1992), (2000, 90), (1932, 1011))"
      ]
     },
     "execution_count": 3,
     "metadata": {},
     "output_type": "execute_result"
    }
   ],
   "source": [
    "# print the shape of the datasets\n",
    "colombo.shape, east.shape, ella.shape, galle.shape, kandy.shape, nuwaraeliya.shape"
   ]
  },
  {
   "cell_type": "markdown",
   "metadata": {},
   "source": [
    "Checking which columns to keep"
   ]
  },
  {
   "cell_type": "code",
   "execution_count": 4,
   "metadata": {},
   "outputs": [
    {
     "data": {
      "text/plain": [
       "['helpfulVotes',\n",
       " 'id',\n",
       " 'lang',\n",
       " 'locationId',\n",
       " 'ownerResponse',\n",
       " 'ownerResponse/connectionToSubject',\n",
       " 'ownerResponse/id',\n",
       " 'ownerResponse/lang',\n",
       " 'ownerResponse/publishedDate',\n",
       " 'ownerResponse/responder',\n",
       " 'ownerResponse/text',\n",
       " 'placeInfo/address',\n",
       " 'placeInfo/addressObj/city',\n",
       " 'placeInfo/addressObj/country',\n",
       " 'placeInfo/addressObj/postalcode',\n",
       " 'placeInfo/addressObj/state',\n",
       " 'placeInfo/addressObj/street1',\n",
       " 'placeInfo/addressObj/street2',\n",
       " 'placeInfo/id',\n",
       " 'placeInfo/latitude',\n",
       " 'placeInfo/locationString',\n",
       " 'placeInfo/longitude',\n",
       " 'placeInfo/name',\n",
       " 'placeInfo/numberOfReviews',\n",
       " 'placeInfo/rating',\n",
       " 'placeInfo/ratingHistogram/count1',\n",
       " 'placeInfo/ratingHistogram/count2',\n",
       " 'placeInfo/ratingHistogram/count3',\n",
       " 'placeInfo/ratingHistogram/count4',\n",
       " 'placeInfo/ratingHistogram/count5',\n",
       " 'placeInfo/webUrl',\n",
       " 'placeInfo/website',\n",
       " 'publishedDate',\n",
       " 'publishedPlatform',\n",
       " 'rating',\n",
       " 'roomTip',\n",
       " 'subratings/0/name',\n",
       " 'subratings/0/value',\n",
       " 'subratings/1/name',\n",
       " 'subratings/1/value',\n",
       " 'subratings/2/name',\n",
       " 'subratings/3/name',\n",
       " 'subratings/3/value',\n",
       " 'subratings/4/name',\n",
       " 'subratings/4/value',\n",
       " 'subratings/5/name',\n",
       " 'subratings/5/value',\n",
       " 'text',\n",
       " 'title',\n",
       " 'travelDate',\n",
       " 'tripType',\n",
       " 'url',\n",
       " 'user/avatar',\n",
       " 'user/avatarVariations/image',\n",
       " 'user/avatarVariations/photoSizes/0/height',\n",
       " 'user/avatarVariations/photoSizes/0/url',\n",
       " 'user/avatarVariations/photoSizes/0/width',\n",
       " 'user/avatarVariations/photoSizes/1/height',\n",
       " 'user/avatarVariations/photoSizes/1/url',\n",
       " 'user/avatarVariations/photoSizes/1/width',\n",
       " 'user/avatarVariations/photoSizes/2/height',\n",
       " 'user/avatarVariations/photoSizes/2/url',\n",
       " 'user/avatarVariations/photoSizes/2/width',\n",
       " 'user/avatarVariations/photoSizes/3/height',\n",
       " 'user/avatarVariations/photoSizes/3/url',\n",
       " 'user/avatarVariations/photoSizes/3/width',\n",
       " 'user/avatarVariations/photoSizes/4/height',\n",
       " 'user/avatarVariations/photoSizes/4/url',\n",
       " 'user/avatarVariations/photoSizes/4/width',\n",
       " 'user/avatarVariations/photoSizes/5/height',\n",
       " 'user/avatarVariations/photoSizes/5/url',\n",
       " 'user/avatarVariations/photoSizes/5/width',\n",
       " 'user/avatarVariations/photoSizes/6/height',\n",
       " 'user/avatarVariations/photoSizes/6/url',\n",
       " 'user/avatarVariations/photoSizes/6/width',\n",
       " 'user/avatarVariations/photoSizes/7/height',\n",
       " 'user/avatarVariations/photoSizes/7/url',\n",
       " 'user/avatarVariations/photoSizes/7/width',\n",
       " 'user/avatarVariations/photoSizes/8/height',\n",
       " 'user/avatarVariations/photoSizes/8/width',\n",
       " 'user/contributions/helpfulVotes',\n",
       " 'user/contributions/totalContributions',\n",
       " 'user/link',\n",
       " 'user/name',\n",
       " 'user/userId',\n",
       " 'user/userLocation',\n",
       " 'user/userLocation/id',\n",
       " 'user/userLocation/name',\n",
       " 'user/userLocation/shortName',\n",
       " 'user/username']"
      ]
     },
     "execution_count": 4,
     "metadata": {},
     "output_type": "execute_result"
    }
   ],
   "source": [
    "kandy.columns.tolist()"
   ]
  },
  {
   "cell_type": "code",
   "execution_count": 5,
   "metadata": {},
   "outputs": [
    {
     "data": {
      "text/html": [
       "<div>\n",
       "<style scoped>\n",
       "    .dataframe tbody tr th:only-of-type {\n",
       "        vertical-align: middle;\n",
       "    }\n",
       "\n",
       "    .dataframe tbody tr th {\n",
       "        vertical-align: top;\n",
       "    }\n",
       "\n",
       "    .dataframe thead th {\n",
       "        text-align: right;\n",
       "    }\n",
       "</style>\n",
       "<table border=\"1\" class=\"dataframe\">\n",
       "  <thead>\n",
       "    <tr style=\"text-align: right;\">\n",
       "      <th></th>\n",
       "      <th>helpfulVotes</th>\n",
       "      <th>id</th>\n",
       "      <th>lang</th>\n",
       "      <th>locationId</th>\n",
       "      <th>ownerResponse</th>\n",
       "      <th>ownerResponse/connectionToSubject</th>\n",
       "      <th>ownerResponse/id</th>\n",
       "      <th>ownerResponse/lang</th>\n",
       "      <th>ownerResponse/publishedDate</th>\n",
       "      <th>ownerResponse/responder</th>\n",
       "      <th>...</th>\n",
       "      <th>user/contributions/helpfulVotes</th>\n",
       "      <th>user/contributions/totalContributions</th>\n",
       "      <th>user/link</th>\n",
       "      <th>user/name</th>\n",
       "      <th>user/userId</th>\n",
       "      <th>user/userLocation</th>\n",
       "      <th>user/userLocation/id</th>\n",
       "      <th>user/userLocation/name</th>\n",
       "      <th>user/userLocation/shortName</th>\n",
       "      <th>user/username</th>\n",
       "    </tr>\n",
       "  </thead>\n",
       "  <tbody>\n",
       "    <tr>\n",
       "      <th>0</th>\n",
       "      <td>0</td>\n",
       "      <td>972640226</td>\n",
       "      <td>en</td>\n",
       "      <td>4173413</td>\n",
       "      <td>NaN</td>\n",
       "      <td>NaN</td>\n",
       "      <td>NaN</td>\n",
       "      <td>NaN</td>\n",
       "      <td>NaN</td>\n",
       "      <td>NaN</td>\n",
       "      <td>...</td>\n",
       "      <td>0</td>\n",
       "      <td>1</td>\n",
       "      <td>www.tripadvisor.com/Profile/homea575</td>\n",
       "      <td>Home A</td>\n",
       "      <td>C8DEEF169BD0B06A7116F5AA8CBEE505</td>\n",
       "      <td>NaN</td>\n",
       "      <td>NaN</td>\n",
       "      <td>NaN</td>\n",
       "      <td>NaN</td>\n",
       "      <td>homea575</td>\n",
       "    </tr>\n",
       "    <tr>\n",
       "      <th>1</th>\n",
       "      <td>0</td>\n",
       "      <td>942345342</td>\n",
       "      <td>en</td>\n",
       "      <td>4173413</td>\n",
       "      <td>NaN</td>\n",
       "      <td>NaN</td>\n",
       "      <td>NaN</td>\n",
       "      <td>NaN</td>\n",
       "      <td>NaN</td>\n",
       "      <td>NaN</td>\n",
       "      <td>...</td>\n",
       "      <td>1</td>\n",
       "      <td>20</td>\n",
       "      <td>www.tripadvisor.com/Profile/R5273HHvalentind</td>\n",
       "      <td>Valentin D</td>\n",
       "      <td>74A8DBD1CFC8AB82944759ED1DE3E355</td>\n",
       "      <td>NaN</td>\n",
       "      <td>NaN</td>\n",
       "      <td>NaN</td>\n",
       "      <td>NaN</td>\n",
       "      <td>R5273HHvalentind</td>\n",
       "    </tr>\n",
       "    <tr>\n",
       "      <th>2</th>\n",
       "      <td>0</td>\n",
       "      <td>932695686</td>\n",
       "      <td>en</td>\n",
       "      <td>4173413</td>\n",
       "      <td>NaN</td>\n",
       "      <td>NaN</td>\n",
       "      <td>NaN</td>\n",
       "      <td>NaN</td>\n",
       "      <td>NaN</td>\n",
       "      <td>NaN</td>\n",
       "      <td>...</td>\n",
       "      <td>0</td>\n",
       "      <td>1</td>\n",
       "      <td>www.tripadvisor.com/Profile/dinast2024</td>\n",
       "      <td>Dinas T</td>\n",
       "      <td>6984DC788123C57BB9DB35B5F53E8CE9</td>\n",
       "      <td>NaN</td>\n",
       "      <td>NaN</td>\n",
       "      <td>NaN</td>\n",
       "      <td>NaN</td>\n",
       "      <td>dinast2024</td>\n",
       "    </tr>\n",
       "    <tr>\n",
       "      <th>3</th>\n",
       "      <td>0</td>\n",
       "      <td>919333160</td>\n",
       "      <td>en</td>\n",
       "      <td>4173413</td>\n",
       "      <td>NaN</td>\n",
       "      <td>NaN</td>\n",
       "      <td>NaN</td>\n",
       "      <td>NaN</td>\n",
       "      <td>NaN</td>\n",
       "      <td>NaN</td>\n",
       "      <td>...</td>\n",
       "      <td>0</td>\n",
       "      <td>1</td>\n",
       "      <td>www.tripadvisor.com/Profile/madhawar2016</td>\n",
       "      <td>Madhawa R</td>\n",
       "      <td>9CEC5C98C2A8732A9E9C71E3A79113E8</td>\n",
       "      <td>NaN</td>\n",
       "      <td>293962.0</td>\n",
       "      <td>Colombo, Sri Lanka</td>\n",
       "      <td>Colombo</td>\n",
       "      <td>madhawar2016</td>\n",
       "    </tr>\n",
       "    <tr>\n",
       "      <th>4</th>\n",
       "      <td>0</td>\n",
       "      <td>914641015</td>\n",
       "      <td>en</td>\n",
       "      <td>4173413</td>\n",
       "      <td>NaN</td>\n",
       "      <td>NaN</td>\n",
       "      <td>NaN</td>\n",
       "      <td>NaN</td>\n",
       "      <td>NaN</td>\n",
       "      <td>NaN</td>\n",
       "      <td>...</td>\n",
       "      <td>0</td>\n",
       "      <td>12</td>\n",
       "      <td>www.tripadvisor.com/Profile/315chinthakaw</td>\n",
       "      <td>Chinthaka W</td>\n",
       "      <td>DA2EAB222D26CBEAC097EFCB1EB671FD</td>\n",
       "      <td>NaN</td>\n",
       "      <td>NaN</td>\n",
       "      <td>NaN</td>\n",
       "      <td>NaN</td>\n",
       "      <td>315chinthakaw</td>\n",
       "    </tr>\n",
       "  </tbody>\n",
       "</table>\n",
       "<p>5 rows × 90 columns</p>\n",
       "</div>"
      ],
      "text/plain": [
       "   helpfulVotes         id lang  locationId  ownerResponse  \\\n",
       "0             0  972640226   en     4173413            NaN   \n",
       "1             0  942345342   en     4173413            NaN   \n",
       "2             0  932695686   en     4173413            NaN   \n",
       "3             0  919333160   en     4173413            NaN   \n",
       "4             0  914641015   en     4173413            NaN   \n",
       "\n",
       "  ownerResponse/connectionToSubject  ownerResponse/id ownerResponse/lang  \\\n",
       "0                               NaN               NaN                NaN   \n",
       "1                               NaN               NaN                NaN   \n",
       "2                               NaN               NaN                NaN   \n",
       "3                               NaN               NaN                NaN   \n",
       "4                               NaN               NaN                NaN   \n",
       "\n",
       "  ownerResponse/publishedDate ownerResponse/responder  ...  \\\n",
       "0                         NaN                     NaN  ...   \n",
       "1                         NaN                     NaN  ...   \n",
       "2                         NaN                     NaN  ...   \n",
       "3                         NaN                     NaN  ...   \n",
       "4                         NaN                     NaN  ...   \n",
       "\n",
       "  user/contributions/helpfulVotes user/contributions/totalContributions  \\\n",
       "0                               0                                     1   \n",
       "1                               1                                    20   \n",
       "2                               0                                     1   \n",
       "3                               0                                     1   \n",
       "4                               0                                    12   \n",
       "\n",
       "                                      user/link    user/name  \\\n",
       "0          www.tripadvisor.com/Profile/homea575       Home A   \n",
       "1  www.tripadvisor.com/Profile/R5273HHvalentind   Valentin D   \n",
       "2        www.tripadvisor.com/Profile/dinast2024      Dinas T   \n",
       "3      www.tripadvisor.com/Profile/madhawar2016    Madhawa R   \n",
       "4     www.tripadvisor.com/Profile/315chinthakaw  Chinthaka W   \n",
       "\n",
       "                        user/userId  user/userLocation user/userLocation/id  \\\n",
       "0  C8DEEF169BD0B06A7116F5AA8CBEE505                NaN                  NaN   \n",
       "1  74A8DBD1CFC8AB82944759ED1DE3E355                NaN                  NaN   \n",
       "2  6984DC788123C57BB9DB35B5F53E8CE9                NaN                  NaN   \n",
       "3  9CEC5C98C2A8732A9E9C71E3A79113E8                NaN             293962.0   \n",
       "4  DA2EAB222D26CBEAC097EFCB1EB671FD                NaN                  NaN   \n",
       "\n",
       "  user/userLocation/name  user/userLocation/shortName     user/username  \n",
       "0                    NaN                          NaN          homea575  \n",
       "1                    NaN                          NaN  R5273HHvalentind  \n",
       "2                    NaN                          NaN        dinast2024  \n",
       "3     Colombo, Sri Lanka                      Colombo      madhawar2016  \n",
       "4                    NaN                          NaN     315chinthakaw  \n",
       "\n",
       "[5 rows x 90 columns]"
      ]
     },
     "execution_count": 5,
     "metadata": {},
     "output_type": "execute_result"
    }
   ],
   "source": [
    "kandy.head()"
   ]
  },
  {
   "cell_type": "code",
   "execution_count": 6,
   "metadata": {},
   "outputs": [],
   "source": [
    "# based on manual analysis of the scrapped data the following columns were deemed relevant\n",
    "useful_columns = [\n",
    "    'helpfulVotes',\n",
    "    'id',\n",
    "    'placeInfo/address',\n",
    "    'placeInfo/addressObj/city',\n",
    "    'placeInfo/name',\n",
    "    'placeInfo/numberOfReviews',\n",
    "    'placeInfo/rating',\n",
    "    'placeInfo/webUrl',\n",
    "    'publishedDate',\n",
    "    'rating',\n",
    "    'roomTip',\n",
    "    'text',\n",
    "    'title',\n",
    "    'travelDate',\n",
    "    'tripType',\n",
    "    'user/username',\n",
    "]"
   ]
  },
  {
   "cell_type": "code",
   "execution_count": 7,
   "metadata": {},
   "outputs": [
    {
     "data": {
      "text/plain": [
       "((2000, 16), (1846, 16), (1951, 16), (2100, 16), (2000, 16), (1932, 16))"
      ]
     },
     "execution_count": 7,
     "metadata": {},
     "output_type": "execute_result"
    }
   ],
   "source": [
    "# filter dataframes to only include useful columns\n",
    "colombo = colombo[useful_columns]\n",
    "east = east[useful_columns]\n",
    "ella = ella[useful_columns]\n",
    "galle = galle[useful_columns]\n",
    "kandy = kandy[useful_columns]\n",
    "nuwaraeliya = nuwaraeliya[useful_columns]\n",
    "\n",
    "# check shape of dataframes after filteration\n",
    "colombo.shape, east.shape, ella.shape, galle.shape, kandy.shape, nuwaraeliya.shape "
   ]
  },
  {
   "cell_type": "code",
   "execution_count": 8,
   "metadata": {},
   "outputs": [
    {
     "data": {
      "text/plain": [
       "(11829, 16)"
      ]
     },
     "execution_count": 8,
     "metadata": {},
     "output_type": "execute_result"
    }
   ],
   "source": [
    "# Concatenate dataframes\n",
    "data = pd.concat([colombo, east, ella, galle, kandy, nuwaraeliya])\n",
    "data.shape"
   ]
  },
  {
   "cell_type": "code",
   "execution_count": 9,
   "metadata": {},
   "outputs": [
    {
     "data": {
      "text/html": [
       "<div>\n",
       "<style scoped>\n",
       "    .dataframe tbody tr th:only-of-type {\n",
       "        vertical-align: middle;\n",
       "    }\n",
       "\n",
       "    .dataframe tbody tr th {\n",
       "        vertical-align: top;\n",
       "    }\n",
       "\n",
       "    .dataframe thead th {\n",
       "        text-align: right;\n",
       "    }\n",
       "</style>\n",
       "<table border=\"1\" class=\"dataframe\">\n",
       "  <thead>\n",
       "    <tr style=\"text-align: right;\">\n",
       "      <th></th>\n",
       "      <th>helpfulVotes</th>\n",
       "      <th>id</th>\n",
       "      <th>placeInfo/address</th>\n",
       "      <th>placeInfo/addressObj/city</th>\n",
       "      <th>placeInfo/name</th>\n",
       "      <th>placeInfo/numberOfReviews</th>\n",
       "      <th>placeInfo/rating</th>\n",
       "      <th>placeInfo/webUrl</th>\n",
       "      <th>publishedDate</th>\n",
       "      <th>rating</th>\n",
       "      <th>roomTip</th>\n",
       "      <th>text</th>\n",
       "      <th>title</th>\n",
       "      <th>travelDate</th>\n",
       "      <th>tripType</th>\n",
       "      <th>user/username</th>\n",
       "    </tr>\n",
       "  </thead>\n",
       "  <tbody>\n",
       "    <tr>\n",
       "      <th>0</th>\n",
       "      <td>0.0</td>\n",
       "      <td>978474125.0</td>\n",
       "      <td>24 Dharmapala Mawatha Dharmapala Mawatha, Colo...</td>\n",
       "      <td>Colombo</td>\n",
       "      <td>Nh Collection Colombo</td>\n",
       "      <td>2392</td>\n",
       "      <td>4.5</td>\n",
       "      <td>https://www.tripadvisor.com/Hotel_Review-g2939...</td>\n",
       "      <td>2024-11-03</td>\n",
       "      <td>5.0</td>\n",
       "      <td>Great place</td>\n",
       "      <td>Very good service at Ayu and friendly staff. S...</td>\n",
       "      <td>Experience at Ayu</td>\n",
       "      <td>2024-11</td>\n",
       "      <td>SOLO</td>\n",
       "      <td>219nikal</td>\n",
       "    </tr>\n",
       "    <tr>\n",
       "      <th>1</th>\n",
       "      <td>0.0</td>\n",
       "      <td>978053018.0</td>\n",
       "      <td>24 Dharmapala Mawatha Dharmapala Mawatha, Colo...</td>\n",
       "      <td>Colombo</td>\n",
       "      <td>Nh Collection Colombo</td>\n",
       "      <td>2392</td>\n",
       "      <td>4.5</td>\n",
       "      <td>https://www.tripadvisor.com/Hotel_Review-g2939...</td>\n",
       "      <td>2024-10-30</td>\n",
       "      <td>1.0</td>\n",
       "      <td>NaN</td>\n",
       "      <td>Change u r lady manager of u r hotel morning s...</td>\n",
       "      <td>Change u r lady manager of u r hotel morning s...</td>\n",
       "      <td>2024-10</td>\n",
       "      <td>BUSINESS</td>\n",
       "      <td>rajacool1984itz</td>\n",
       "    </tr>\n",
       "    <tr>\n",
       "      <th>2</th>\n",
       "      <td>0.0</td>\n",
       "      <td>976992067.0</td>\n",
       "      <td>24 Dharmapala Mawatha Dharmapala Mawatha, Colo...</td>\n",
       "      <td>Colombo</td>\n",
       "      <td>Nh Collection Colombo</td>\n",
       "      <td>2392</td>\n",
       "      <td>4.5</td>\n",
       "      <td>https://www.tripadvisor.com/Hotel_Review-g2939...</td>\n",
       "      <td>2024-10-28</td>\n",
       "      <td>5.0</td>\n",
       "      <td>NaN</td>\n",
       "      <td>Just Perfect \\nWe liked everything.\\nStaffs ar...</td>\n",
       "      <td>Amazed !</td>\n",
       "      <td>2024-10</td>\n",
       "      <td>FAMILY</td>\n",
       "      <td>857navidj</td>\n",
       "    </tr>\n",
       "    <tr>\n",
       "      <th>3</th>\n",
       "      <td>0.0</td>\n",
       "      <td>976690540.0</td>\n",
       "      <td>24 Dharmapala Mawatha Dharmapala Mawatha, Colo...</td>\n",
       "      <td>Colombo</td>\n",
       "      <td>Nh Collection Colombo</td>\n",
       "      <td>2392</td>\n",
       "      <td>4.5</td>\n",
       "      <td>https://www.tripadvisor.com/Hotel_Review-g2939...</td>\n",
       "      <td>2024-10-26</td>\n",
       "      <td>5.0</td>\n",
       "      <td>NaN</td>\n",
       "      <td>Our stay was unforgettable! The hotel was beau...</td>\n",
       "      <td>Wonderful stay</td>\n",
       "      <td>2024-10</td>\n",
       "      <td>FAMILY</td>\n",
       "      <td>809mickaelt</td>\n",
       "    </tr>\n",
       "    <tr>\n",
       "      <th>4</th>\n",
       "      <td>0.0</td>\n",
       "      <td>976664122.0</td>\n",
       "      <td>24 Dharmapala Mawatha Dharmapala Mawatha, Colo...</td>\n",
       "      <td>Colombo</td>\n",
       "      <td>Nh Collection Colombo</td>\n",
       "      <td>2392</td>\n",
       "      <td>4.5</td>\n",
       "      <td>https://www.tripadvisor.com/Hotel_Review-g2939...</td>\n",
       "      <td>2024-10-26</td>\n",
       "      <td>5.0</td>\n",
       "      <td>NaN</td>\n",
       "      <td>Amazing hotel very well situated in Colombo! Y...</td>\n",
       "      <td>Amazing hotel !</td>\n",
       "      <td>2024-10</td>\n",
       "      <td>FAMILY</td>\n",
       "      <td>M1879HRchloet</td>\n",
       "    </tr>\n",
       "  </tbody>\n",
       "</table>\n",
       "</div>"
      ],
      "text/plain": [
       "   helpfulVotes           id  \\\n",
       "0           0.0  978474125.0   \n",
       "1           0.0  978053018.0   \n",
       "2           0.0  976992067.0   \n",
       "3           0.0  976690540.0   \n",
       "4           0.0  976664122.0   \n",
       "\n",
       "                                   placeInfo/address  \\\n",
       "0  24 Dharmapala Mawatha Dharmapala Mawatha, Colo...   \n",
       "1  24 Dharmapala Mawatha Dharmapala Mawatha, Colo...   \n",
       "2  24 Dharmapala Mawatha Dharmapala Mawatha, Colo...   \n",
       "3  24 Dharmapala Mawatha Dharmapala Mawatha, Colo...   \n",
       "4  24 Dharmapala Mawatha Dharmapala Mawatha, Colo...   \n",
       "\n",
       "  placeInfo/addressObj/city         placeInfo/name  placeInfo/numberOfReviews  \\\n",
       "0                   Colombo  Nh Collection Colombo                       2392   \n",
       "1                   Colombo  Nh Collection Colombo                       2392   \n",
       "2                   Colombo  Nh Collection Colombo                       2392   \n",
       "3                   Colombo  Nh Collection Colombo                       2392   \n",
       "4                   Colombo  Nh Collection Colombo                       2392   \n",
       "\n",
       "   placeInfo/rating                                   placeInfo/webUrl  \\\n",
       "0               4.5  https://www.tripadvisor.com/Hotel_Review-g2939...   \n",
       "1               4.5  https://www.tripadvisor.com/Hotel_Review-g2939...   \n",
       "2               4.5  https://www.tripadvisor.com/Hotel_Review-g2939...   \n",
       "3               4.5  https://www.tripadvisor.com/Hotel_Review-g2939...   \n",
       "4               4.5  https://www.tripadvisor.com/Hotel_Review-g2939...   \n",
       "\n",
       "  publishedDate  rating       roomTip  \\\n",
       "0    2024-11-03     5.0  Great place    \n",
       "1    2024-10-30     1.0           NaN   \n",
       "2    2024-10-28     5.0           NaN   \n",
       "3    2024-10-26     5.0           NaN   \n",
       "4    2024-10-26     5.0           NaN   \n",
       "\n",
       "                                                text  \\\n",
       "0  Very good service at Ayu and friendly staff. S...   \n",
       "1  Change u r lady manager of u r hotel morning s...   \n",
       "2  Just Perfect \\nWe liked everything.\\nStaffs ar...   \n",
       "3  Our stay was unforgettable! The hotel was beau...   \n",
       "4  Amazing hotel very well situated in Colombo! Y...   \n",
       "\n",
       "                                               title travelDate  tripType  \\\n",
       "0                                  Experience at Ayu    2024-11      SOLO   \n",
       "1  Change u r lady manager of u r hotel morning s...    2024-10  BUSINESS   \n",
       "2                                           Amazed !    2024-10    FAMILY   \n",
       "3                                     Wonderful stay    2024-10    FAMILY   \n",
       "4                                    Amazing hotel !    2024-10    FAMILY   \n",
       "\n",
       "     user/username  \n",
       "0         219nikal  \n",
       "1  rajacool1984itz  \n",
       "2        857navidj  \n",
       "3      809mickaelt  \n",
       "4    M1879HRchloet  "
      ]
     },
     "execution_count": 9,
     "metadata": {},
     "output_type": "execute_result"
    }
   ],
   "source": [
    "data.head()"
   ]
  },
  {
   "cell_type": "code",
   "execution_count": 10,
   "metadata": {},
   "outputs": [
    {
     "name": "stdout",
     "output_type": "stream",
     "text": [
      "<class 'pandas.core.frame.DataFrame'>\n",
      "Int64Index: 11829 entries, 0 to 1931\n",
      "Data columns (total 16 columns):\n",
      " #   Column                     Non-Null Count  Dtype  \n",
      "---  ------                     --------------  -----  \n",
      " 0   helpfulVotes               11828 non-null  float64\n",
      " 1   id                         11828 non-null  float64\n",
      " 2   placeInfo/address          11829 non-null  object \n",
      " 3   placeInfo/addressObj/city  11779 non-null  object \n",
      " 4   placeInfo/name             11829 non-null  object \n",
      " 5   placeInfo/numberOfReviews  11829 non-null  int64  \n",
      " 6   placeInfo/rating           11828 non-null  float64\n",
      " 7   placeInfo/webUrl           11829 non-null  object \n",
      " 8   publishedDate              11828 non-null  object \n",
      " 9   rating                     11828 non-null  float64\n",
      " 10  roomTip                    1989 non-null   object \n",
      " 11  text                       11828 non-null  object \n",
      " 12  title                      11828 non-null  object \n",
      " 13  travelDate                 11819 non-null  object \n",
      " 14  tripType                   11819 non-null  object \n",
      " 15  user/username              11828 non-null  object \n",
      "dtypes: float64(4), int64(1), object(11)\n",
      "memory usage: 1.5+ MB\n"
     ]
    }
   ],
   "source": [
    "data.info()"
   ]
  },
  {
   "cell_type": "code",
   "execution_count": 11,
   "metadata": {},
   "outputs": [
    {
     "data": {
      "text/html": [
       "<div>\n",
       "<style scoped>\n",
       "    .dataframe tbody tr th:only-of-type {\n",
       "        vertical-align: middle;\n",
       "    }\n",
       "\n",
       "    .dataframe tbody tr th {\n",
       "        vertical-align: top;\n",
       "    }\n",
       "\n",
       "    .dataframe thead th {\n",
       "        text-align: right;\n",
       "    }\n",
       "</style>\n",
       "<table border=\"1\" class=\"dataframe\">\n",
       "  <thead>\n",
       "    <tr style=\"text-align: right;\">\n",
       "      <th></th>\n",
       "      <th>helpfulVotes</th>\n",
       "      <th>id</th>\n",
       "      <th>address</th>\n",
       "      <th>city</th>\n",
       "      <th>placeName</th>\n",
       "      <th>numberOfReviews</th>\n",
       "      <th>placeRating</th>\n",
       "      <th>webUrl</th>\n",
       "      <th>publishedDate</th>\n",
       "      <th>userRating</th>\n",
       "      <th>roomTip</th>\n",
       "      <th>review_text</th>\n",
       "      <th>review_title</th>\n",
       "      <th>travelDate</th>\n",
       "      <th>tripType</th>\n",
       "      <th>username</th>\n",
       "    </tr>\n",
       "  </thead>\n",
       "  <tbody>\n",
       "    <tr>\n",
       "      <th>0</th>\n",
       "      <td>0.0</td>\n",
       "      <td>978474125.0</td>\n",
       "      <td>24 Dharmapala Mawatha Dharmapala Mawatha, Colo...</td>\n",
       "      <td>Colombo</td>\n",
       "      <td>Nh Collection Colombo</td>\n",
       "      <td>2392</td>\n",
       "      <td>4.5</td>\n",
       "      <td>https://www.tripadvisor.com/Hotel_Review-g2939...</td>\n",
       "      <td>2024-11-03</td>\n",
       "      <td>5.0</td>\n",
       "      <td>Great place</td>\n",
       "      <td>Very good service at Ayu and friendly staff. S...</td>\n",
       "      <td>Experience at Ayu</td>\n",
       "      <td>2024-11</td>\n",
       "      <td>SOLO</td>\n",
       "      <td>219nikal</td>\n",
       "    </tr>\n",
       "    <tr>\n",
       "      <th>1</th>\n",
       "      <td>0.0</td>\n",
       "      <td>978053018.0</td>\n",
       "      <td>24 Dharmapala Mawatha Dharmapala Mawatha, Colo...</td>\n",
       "      <td>Colombo</td>\n",
       "      <td>Nh Collection Colombo</td>\n",
       "      <td>2392</td>\n",
       "      <td>4.5</td>\n",
       "      <td>https://www.tripadvisor.com/Hotel_Review-g2939...</td>\n",
       "      <td>2024-10-30</td>\n",
       "      <td>1.0</td>\n",
       "      <td>NaN</td>\n",
       "      <td>Change u r lady manager of u r hotel morning s...</td>\n",
       "      <td>Change u r lady manager of u r hotel morning s...</td>\n",
       "      <td>2024-10</td>\n",
       "      <td>BUSINESS</td>\n",
       "      <td>rajacool1984itz</td>\n",
       "    </tr>\n",
       "    <tr>\n",
       "      <th>2</th>\n",
       "      <td>0.0</td>\n",
       "      <td>976992067.0</td>\n",
       "      <td>24 Dharmapala Mawatha Dharmapala Mawatha, Colo...</td>\n",
       "      <td>Colombo</td>\n",
       "      <td>Nh Collection Colombo</td>\n",
       "      <td>2392</td>\n",
       "      <td>4.5</td>\n",
       "      <td>https://www.tripadvisor.com/Hotel_Review-g2939...</td>\n",
       "      <td>2024-10-28</td>\n",
       "      <td>5.0</td>\n",
       "      <td>NaN</td>\n",
       "      <td>Just Perfect \\nWe liked everything.\\nStaffs ar...</td>\n",
       "      <td>Amazed !</td>\n",
       "      <td>2024-10</td>\n",
       "      <td>FAMILY</td>\n",
       "      <td>857navidj</td>\n",
       "    </tr>\n",
       "    <tr>\n",
       "      <th>3</th>\n",
       "      <td>0.0</td>\n",
       "      <td>976690540.0</td>\n",
       "      <td>24 Dharmapala Mawatha Dharmapala Mawatha, Colo...</td>\n",
       "      <td>Colombo</td>\n",
       "      <td>Nh Collection Colombo</td>\n",
       "      <td>2392</td>\n",
       "      <td>4.5</td>\n",
       "      <td>https://www.tripadvisor.com/Hotel_Review-g2939...</td>\n",
       "      <td>2024-10-26</td>\n",
       "      <td>5.0</td>\n",
       "      <td>NaN</td>\n",
       "      <td>Our stay was unforgettable! The hotel was beau...</td>\n",
       "      <td>Wonderful stay</td>\n",
       "      <td>2024-10</td>\n",
       "      <td>FAMILY</td>\n",
       "      <td>809mickaelt</td>\n",
       "    </tr>\n",
       "    <tr>\n",
       "      <th>4</th>\n",
       "      <td>0.0</td>\n",
       "      <td>976664122.0</td>\n",
       "      <td>24 Dharmapala Mawatha Dharmapala Mawatha, Colo...</td>\n",
       "      <td>Colombo</td>\n",
       "      <td>Nh Collection Colombo</td>\n",
       "      <td>2392</td>\n",
       "      <td>4.5</td>\n",
       "      <td>https://www.tripadvisor.com/Hotel_Review-g2939...</td>\n",
       "      <td>2024-10-26</td>\n",
       "      <td>5.0</td>\n",
       "      <td>NaN</td>\n",
       "      <td>Amazing hotel very well situated in Colombo! Y...</td>\n",
       "      <td>Amazing hotel !</td>\n",
       "      <td>2024-10</td>\n",
       "      <td>FAMILY</td>\n",
       "      <td>M1879HRchloet</td>\n",
       "    </tr>\n",
       "  </tbody>\n",
       "</table>\n",
       "</div>"
      ],
      "text/plain": [
       "   helpfulVotes           id  \\\n",
       "0           0.0  978474125.0   \n",
       "1           0.0  978053018.0   \n",
       "2           0.0  976992067.0   \n",
       "3           0.0  976690540.0   \n",
       "4           0.0  976664122.0   \n",
       "\n",
       "                                             address     city  \\\n",
       "0  24 Dharmapala Mawatha Dharmapala Mawatha, Colo...  Colombo   \n",
       "1  24 Dharmapala Mawatha Dharmapala Mawatha, Colo...  Colombo   \n",
       "2  24 Dharmapala Mawatha Dharmapala Mawatha, Colo...  Colombo   \n",
       "3  24 Dharmapala Mawatha Dharmapala Mawatha, Colo...  Colombo   \n",
       "4  24 Dharmapala Mawatha Dharmapala Mawatha, Colo...  Colombo   \n",
       "\n",
       "               placeName  numberOfReviews  placeRating  \\\n",
       "0  Nh Collection Colombo             2392          4.5   \n",
       "1  Nh Collection Colombo             2392          4.5   \n",
       "2  Nh Collection Colombo             2392          4.5   \n",
       "3  Nh Collection Colombo             2392          4.5   \n",
       "4  Nh Collection Colombo             2392          4.5   \n",
       "\n",
       "                                              webUrl publishedDate  \\\n",
       "0  https://www.tripadvisor.com/Hotel_Review-g2939...    2024-11-03   \n",
       "1  https://www.tripadvisor.com/Hotel_Review-g2939...    2024-10-30   \n",
       "2  https://www.tripadvisor.com/Hotel_Review-g2939...    2024-10-28   \n",
       "3  https://www.tripadvisor.com/Hotel_Review-g2939...    2024-10-26   \n",
       "4  https://www.tripadvisor.com/Hotel_Review-g2939...    2024-10-26   \n",
       "\n",
       "   userRating       roomTip  \\\n",
       "0         5.0  Great place    \n",
       "1         1.0           NaN   \n",
       "2         5.0           NaN   \n",
       "3         5.0           NaN   \n",
       "4         5.0           NaN   \n",
       "\n",
       "                                         review_text  \\\n",
       "0  Very good service at Ayu and friendly staff. S...   \n",
       "1  Change u r lady manager of u r hotel morning s...   \n",
       "2  Just Perfect \\nWe liked everything.\\nStaffs ar...   \n",
       "3  Our stay was unforgettable! The hotel was beau...   \n",
       "4  Amazing hotel very well situated in Colombo! Y...   \n",
       "\n",
       "                                        review_title travelDate  tripType  \\\n",
       "0                                  Experience at Ayu    2024-11      SOLO   \n",
       "1  Change u r lady manager of u r hotel morning s...    2024-10  BUSINESS   \n",
       "2                                           Amazed !    2024-10    FAMILY   \n",
       "3                                     Wonderful stay    2024-10    FAMILY   \n",
       "4                                    Amazing hotel !    2024-10    FAMILY   \n",
       "\n",
       "          username  \n",
       "0         219nikal  \n",
       "1  rajacool1984itz  \n",
       "2        857navidj  \n",
       "3      809mickaelt  \n",
       "4    M1879HRchloet  "
      ]
     },
     "execution_count": 11,
     "metadata": {},
     "output_type": "execute_result"
    }
   ],
   "source": [
    "# renaming columns to be more readable\n",
    "column_names = {\n",
    "    'helpfulVotes': 'helpfulVotes',\n",
    "    'id': 'id',\n",
    "    'placeInfo/address': 'address',\n",
    "    'placeInfo/addressObj/city': 'city',\n",
    "    'placeInfo/name': 'placeName',\n",
    "    'placeInfo/numberOfReviews': 'numberOfReviews',\n",
    "    'placeInfo/rating': 'placeRating',\n",
    "    'placeInfo/webUrl': 'webUrl',\n",
    "    'publishedDate': 'publishedDate',\n",
    "    'rating': 'userRating',\n",
    "    'roomTip': 'roomTip',\n",
    "    'text': 'review_text',\n",
    "    'title': 'review_title',\n",
    "    'travelDate': 'travelDate',\n",
    "    'tripType': 'tripType',\n",
    "    'user/username': 'username',\n",
    "}\n",
    "\n",
    "data = data.rename(columns=column_names)\n",
    "data.head()"
   ]
  },
  {
   "cell_type": "code",
   "execution_count": 12,
   "metadata": {},
   "outputs": [],
   "source": [
    "# data.to_csv('..data/dataset_raw.csv', index=False)"
   ]
  },
  {
   "cell_type": "markdown",
   "metadata": {},
   "source": [
    "# Data Cleaning"
   ]
  },
  {
   "cell_type": "code",
   "execution_count": 13,
   "metadata": {},
   "outputs": [
    {
     "data": {
      "text/html": [
       "<div>\n",
       "<style scoped>\n",
       "    .dataframe tbody tr th:only-of-type {\n",
       "        vertical-align: middle;\n",
       "    }\n",
       "\n",
       "    .dataframe tbody tr th {\n",
       "        vertical-align: top;\n",
       "    }\n",
       "\n",
       "    .dataframe thead th {\n",
       "        text-align: right;\n",
       "    }\n",
       "</style>\n",
       "<table border=\"1\" class=\"dataframe\">\n",
       "  <thead>\n",
       "    <tr style=\"text-align: right;\">\n",
       "      <th></th>\n",
       "      <th>helpfulVotes</th>\n",
       "      <th>id</th>\n",
       "      <th>address</th>\n",
       "      <th>city</th>\n",
       "      <th>placeName</th>\n",
       "      <th>numberOfReviews</th>\n",
       "      <th>placeRating</th>\n",
       "      <th>webUrl</th>\n",
       "      <th>publishedDate</th>\n",
       "      <th>userRating</th>\n",
       "      <th>roomTip</th>\n",
       "      <th>review_text</th>\n",
       "      <th>review_title</th>\n",
       "      <th>travelDate</th>\n",
       "      <th>tripType</th>\n",
       "      <th>username</th>\n",
       "    </tr>\n",
       "  </thead>\n",
       "  <tbody>\n",
       "    <tr>\n",
       "      <th>0</th>\n",
       "      <td>0.0</td>\n",
       "      <td>978474125.0</td>\n",
       "      <td>24 Dharmapala Mawatha Dharmapala Mawatha, Colo...</td>\n",
       "      <td>Colombo</td>\n",
       "      <td>Nh Collection Colombo</td>\n",
       "      <td>2392</td>\n",
       "      <td>4.5</td>\n",
       "      <td>https://www.tripadvisor.com/Hotel_Review-g2939...</td>\n",
       "      <td>2024-11-03</td>\n",
       "      <td>5.0</td>\n",
       "      <td>Great place</td>\n",
       "      <td>Very good service at Ayu and friendly staff. S...</td>\n",
       "      <td>Experience at Ayu</td>\n",
       "      <td>2024-11</td>\n",
       "      <td>SOLO</td>\n",
       "      <td>219nikal</td>\n",
       "    </tr>\n",
       "    <tr>\n",
       "      <th>1</th>\n",
       "      <td>0.0</td>\n",
       "      <td>978053018.0</td>\n",
       "      <td>24 Dharmapala Mawatha Dharmapala Mawatha, Colo...</td>\n",
       "      <td>Colombo</td>\n",
       "      <td>Nh Collection Colombo</td>\n",
       "      <td>2392</td>\n",
       "      <td>4.5</td>\n",
       "      <td>https://www.tripadvisor.com/Hotel_Review-g2939...</td>\n",
       "      <td>2024-10-30</td>\n",
       "      <td>1.0</td>\n",
       "      <td>NaN</td>\n",
       "      <td>Change u r lady manager of u r hotel morning s...</td>\n",
       "      <td>Change u r lady manager of u r hotel morning s...</td>\n",
       "      <td>2024-10</td>\n",
       "      <td>BUSINESS</td>\n",
       "      <td>rajacool1984itz</td>\n",
       "    </tr>\n",
       "    <tr>\n",
       "      <th>2</th>\n",
       "      <td>0.0</td>\n",
       "      <td>976992067.0</td>\n",
       "      <td>24 Dharmapala Mawatha Dharmapala Mawatha, Colo...</td>\n",
       "      <td>Colombo</td>\n",
       "      <td>Nh Collection Colombo</td>\n",
       "      <td>2392</td>\n",
       "      <td>4.5</td>\n",
       "      <td>https://www.tripadvisor.com/Hotel_Review-g2939...</td>\n",
       "      <td>2024-10-28</td>\n",
       "      <td>5.0</td>\n",
       "      <td>NaN</td>\n",
       "      <td>Just Perfect \\nWe liked everything.\\nStaffs ar...</td>\n",
       "      <td>Amazed !</td>\n",
       "      <td>2024-10</td>\n",
       "      <td>FAMILY</td>\n",
       "      <td>857navidj</td>\n",
       "    </tr>\n",
       "    <tr>\n",
       "      <th>3</th>\n",
       "      <td>0.0</td>\n",
       "      <td>976690540.0</td>\n",
       "      <td>24 Dharmapala Mawatha Dharmapala Mawatha, Colo...</td>\n",
       "      <td>Colombo</td>\n",
       "      <td>Nh Collection Colombo</td>\n",
       "      <td>2392</td>\n",
       "      <td>4.5</td>\n",
       "      <td>https://www.tripadvisor.com/Hotel_Review-g2939...</td>\n",
       "      <td>2024-10-26</td>\n",
       "      <td>5.0</td>\n",
       "      <td>NaN</td>\n",
       "      <td>Our stay was unforgettable! The hotel was beau...</td>\n",
       "      <td>Wonderful stay</td>\n",
       "      <td>2024-10</td>\n",
       "      <td>FAMILY</td>\n",
       "      <td>809mickaelt</td>\n",
       "    </tr>\n",
       "    <tr>\n",
       "      <th>4</th>\n",
       "      <td>0.0</td>\n",
       "      <td>976664122.0</td>\n",
       "      <td>24 Dharmapala Mawatha Dharmapala Mawatha, Colo...</td>\n",
       "      <td>Colombo</td>\n",
       "      <td>Nh Collection Colombo</td>\n",
       "      <td>2392</td>\n",
       "      <td>4.5</td>\n",
       "      <td>https://www.tripadvisor.com/Hotel_Review-g2939...</td>\n",
       "      <td>2024-10-26</td>\n",
       "      <td>5.0</td>\n",
       "      <td>NaN</td>\n",
       "      <td>Amazing hotel very well situated in Colombo! Y...</td>\n",
       "      <td>Amazing hotel !</td>\n",
       "      <td>2024-10</td>\n",
       "      <td>FAMILY</td>\n",
       "      <td>M1879HRchloet</td>\n",
       "    </tr>\n",
       "  </tbody>\n",
       "</table>\n",
       "</div>"
      ],
      "text/plain": [
       "   helpfulVotes           id  \\\n",
       "0           0.0  978474125.0   \n",
       "1           0.0  978053018.0   \n",
       "2           0.0  976992067.0   \n",
       "3           0.0  976690540.0   \n",
       "4           0.0  976664122.0   \n",
       "\n",
       "                                             address     city  \\\n",
       "0  24 Dharmapala Mawatha Dharmapala Mawatha, Colo...  Colombo   \n",
       "1  24 Dharmapala Mawatha Dharmapala Mawatha, Colo...  Colombo   \n",
       "2  24 Dharmapala Mawatha Dharmapala Mawatha, Colo...  Colombo   \n",
       "3  24 Dharmapala Mawatha Dharmapala Mawatha, Colo...  Colombo   \n",
       "4  24 Dharmapala Mawatha Dharmapala Mawatha, Colo...  Colombo   \n",
       "\n",
       "               placeName  numberOfReviews  placeRating  \\\n",
       "0  Nh Collection Colombo             2392          4.5   \n",
       "1  Nh Collection Colombo             2392          4.5   \n",
       "2  Nh Collection Colombo             2392          4.5   \n",
       "3  Nh Collection Colombo             2392          4.5   \n",
       "4  Nh Collection Colombo             2392          4.5   \n",
       "\n",
       "                                              webUrl publishedDate  \\\n",
       "0  https://www.tripadvisor.com/Hotel_Review-g2939...    2024-11-03   \n",
       "1  https://www.tripadvisor.com/Hotel_Review-g2939...    2024-10-30   \n",
       "2  https://www.tripadvisor.com/Hotel_Review-g2939...    2024-10-28   \n",
       "3  https://www.tripadvisor.com/Hotel_Review-g2939...    2024-10-26   \n",
       "4  https://www.tripadvisor.com/Hotel_Review-g2939...    2024-10-26   \n",
       "\n",
       "   userRating       roomTip  \\\n",
       "0         5.0  Great place    \n",
       "1         1.0           NaN   \n",
       "2         5.0           NaN   \n",
       "3         5.0           NaN   \n",
       "4         5.0           NaN   \n",
       "\n",
       "                                         review_text  \\\n",
       "0  Very good service at Ayu and friendly staff. S...   \n",
       "1  Change u r lady manager of u r hotel morning s...   \n",
       "2  Just Perfect \\nWe liked everything.\\nStaffs ar...   \n",
       "3  Our stay was unforgettable! The hotel was beau...   \n",
       "4  Amazing hotel very well situated in Colombo! Y...   \n",
       "\n",
       "                                        review_title travelDate  tripType  \\\n",
       "0                                  Experience at Ayu    2024-11      SOLO   \n",
       "1  Change u r lady manager of u r hotel morning s...    2024-10  BUSINESS   \n",
       "2                                           Amazed !    2024-10    FAMILY   \n",
       "3                                     Wonderful stay    2024-10    FAMILY   \n",
       "4                                    Amazing hotel !    2024-10    FAMILY   \n",
       "\n",
       "          username  \n",
       "0         219nikal  \n",
       "1  rajacool1984itz  \n",
       "2        857navidj  \n",
       "3      809mickaelt  \n",
       "4    M1879HRchloet  "
      ]
     },
     "execution_count": 13,
     "metadata": {},
     "output_type": "execute_result"
    }
   ],
   "source": [
    "df = pd.read_csv(\"../data/dataset_raw.csv\")\n",
    "df.head()"
   ]
  },
  {
   "cell_type": "code",
   "execution_count": 14,
   "metadata": {},
   "outputs": [
    {
     "name": "stdout",
     "output_type": "stream",
     "text": [
      "Number of incomplete reviews: 1\n"
     ]
    }
   ],
   "source": [
    "# Identify incomplete reviews\n",
    "print(\"Number of incomplete reviews:\", df[df['review_text'].isnull()].shape[0])"
   ]
  },
  {
   "cell_type": "markdown",
   "metadata": {},
   "source": [
    "### Handling Duplicates"
   ]
  },
  {
   "cell_type": "code",
   "execution_count": 15,
   "metadata": {},
   "outputs": [
    {
     "name": "stdout",
     "output_type": "stream",
     "text": [
      "Number of duplicate reviews removed: 1\n"
     ]
    }
   ],
   "source": [
    "duplicates = df.duplicated(subset=['review_text'])\n",
    "print(\"Number of duplicate reviews removed:\", df[df.duplicated(subset=['review_text'])].shape[0])\n",
    "\n",
    "df = df[~duplicates]"
   ]
  },
  {
   "cell_type": "markdown",
   "metadata": {},
   "source": [
    "### Handling Missing Values"
   ]
  },
  {
   "cell_type": "code",
   "execution_count": 16,
   "metadata": {},
   "outputs": [
    {
     "name": "stdout",
     "output_type": "stream",
     "text": [
      "Number of missing data: \n",
      "helpfulVotes          1\n",
      "id                    1\n",
      "address               0\n",
      "city                 50\n",
      "placeName             0\n",
      "numberOfReviews       0\n",
      "placeRating           1\n",
      "webUrl                0\n",
      "publishedDate         1\n",
      "userRating            1\n",
      "roomTip            9839\n",
      "review_text           1\n",
      "review_title          1\n",
      "travelDate           10\n",
      "tripType             10\n",
      "username              1\n",
      "dtype: int64\n"
     ]
    }
   ],
   "source": [
    "# check for missing data\n",
    "print(f\"Number of missing data: \\n{df.isnull().sum()}\")"
   ]
  },
  {
   "cell_type": "code",
   "execution_count": 17,
   "metadata": {},
   "outputs": [
    {
     "data": {
      "text/html": [
       "<div>\n",
       "<style scoped>\n",
       "    .dataframe tbody tr th:only-of-type {\n",
       "        vertical-align: middle;\n",
       "    }\n",
       "\n",
       "    .dataframe tbody tr th {\n",
       "        vertical-align: top;\n",
       "    }\n",
       "\n",
       "    .dataframe thead th {\n",
       "        text-align: right;\n",
       "    }\n",
       "</style>\n",
       "<table border=\"1\" class=\"dataframe\">\n",
       "  <thead>\n",
       "    <tr style=\"text-align: right;\">\n",
       "      <th></th>\n",
       "      <th>helpfulVotes</th>\n",
       "      <th>id</th>\n",
       "      <th>address</th>\n",
       "      <th>city</th>\n",
       "      <th>placeName</th>\n",
       "      <th>numberOfReviews</th>\n",
       "      <th>placeRating</th>\n",
       "      <th>webUrl</th>\n",
       "      <th>publishedDate</th>\n",
       "      <th>userRating</th>\n",
       "      <th>roomTip</th>\n",
       "      <th>review_text</th>\n",
       "      <th>review_title</th>\n",
       "      <th>travelDate</th>\n",
       "      <th>tripType</th>\n",
       "      <th>username</th>\n",
       "    </tr>\n",
       "  </thead>\n",
       "  <tbody>\n",
       "    <tr>\n",
       "      <th>9917</th>\n",
       "      <td>NaN</td>\n",
       "      <td>NaN</td>\n",
       "      <td>No 09 Little England, Nuwara Eliya 22200 Sri L...</td>\n",
       "      <td>Nuwara Eliya</td>\n",
       "      <td>Swiss Cottage Nuwara Eliya</td>\n",
       "      <td>0</td>\n",
       "      <td>NaN</td>\n",
       "      <td>https://www.tripadvisor.com/Hotel_Review-g6085...</td>\n",
       "      <td>NaN</td>\n",
       "      <td>NaN</td>\n",
       "      <td>NaN</td>\n",
       "      <td>NaN</td>\n",
       "      <td>NaN</td>\n",
       "      <td>NaN</td>\n",
       "      <td>NaN</td>\n",
       "      <td>NaN</td>\n",
       "    </tr>\n",
       "  </tbody>\n",
       "</table>\n",
       "</div>"
      ],
      "text/plain": [
       "      helpfulVotes  id                                            address  \\\n",
       "9917           NaN NaN  No 09 Little England, Nuwara Eliya 22200 Sri L...   \n",
       "\n",
       "              city                   placeName  numberOfReviews  placeRating  \\\n",
       "9917  Nuwara Eliya  Swiss Cottage Nuwara Eliya                0          NaN   \n",
       "\n",
       "                                                 webUrl publishedDate  \\\n",
       "9917  https://www.tripadvisor.com/Hotel_Review-g6085...           NaN   \n",
       "\n",
       "      userRating roomTip review_text review_title travelDate tripType username  \n",
       "9917         NaN     NaN         NaN          NaN        NaN      NaN      NaN  "
      ]
     },
     "execution_count": 17,
     "metadata": {},
     "output_type": "execute_result"
    }
   ],
   "source": [
    "# check null rows for review_text column\n",
    "df[df['review_text'].isnull()]"
   ]
  },
  {
   "cell_type": "code",
   "execution_count": 18,
   "metadata": {},
   "outputs": [],
   "source": [
    "# drop null row\n",
    "df.dropna(subset=['review_text'], inplace=True)"
   ]
  },
  {
   "cell_type": "code",
   "execution_count": 19,
   "metadata": {},
   "outputs": [
    {
     "data": {
      "text/plain": [
       "helpfulVotes          0\n",
       "id                    0\n",
       "address               0\n",
       "city                 50\n",
       "placeName             0\n",
       "numberOfReviews       0\n",
       "placeRating           0\n",
       "webUrl                0\n",
       "publishedDate         0\n",
       "userRating            0\n",
       "roomTip            9838\n",
       "review_text           0\n",
       "review_title          0\n",
       "travelDate            9\n",
       "tripType              9\n",
       "username              0\n",
       "dtype: int64"
      ]
     },
     "execution_count": 19,
     "metadata": {},
     "output_type": "execute_result"
    }
   ],
   "source": [
    "df.isnull().sum()"
   ]
  },
  {
   "cell_type": "markdown",
   "metadata": {},
   "source": [
    "## Text Preprocessing"
   ]
  },
  {
   "cell_type": "markdown",
   "metadata": {},
   "source": [
    "### Convert text to lowercase"
   ]
  },
  {
   "cell_type": "code",
   "execution_count": 20,
   "metadata": {},
   "outputs": [],
   "source": [
    "df['review_text'] = df['review_text'].str.lower()"
   ]
  },
  {
   "cell_type": "markdown",
   "metadata": {},
   "source": [
    "### Remove HTML tags"
   ]
  },
  {
   "cell_type": "code",
   "execution_count": 21,
   "metadata": {},
   "outputs": [],
   "source": [
    "df['review_text'] = df['review_text'].str.replace(r'<.*?>', ' ', regex=True)"
   ]
  },
  {
   "cell_type": "markdown",
   "metadata": {},
   "source": [
    "### Remove URLs/emails from reviews"
   ]
  },
  {
   "cell_type": "code",
   "execution_count": 22,
   "metadata": {},
   "outputs": [],
   "source": [
    "df['review_text'] = df['review_text'].str.replace(r'http\\S+|www.\\S+|\\S+@\\S+', ' ', regex=True)"
   ]
  },
  {
   "cell_type": "markdown",
   "metadata": {},
   "source": [
    "### Remove punctuation & special characters"
   ]
  },
  {
   "cell_type": "code",
   "execution_count": 23,
   "metadata": {},
   "outputs": [],
   "source": [
    "df['review_text'] = df['review_text'].str.replace(r'[^\\w\\s]', ' ', regex=True)"
   ]
  },
  {
   "cell_type": "code",
   "execution_count": 24,
   "metadata": {},
   "outputs": [
    {
     "name": "stdout",
     "output_type": "stream",
     "text": [
      "Review titles with emojis: 177\n",
      "Review text with emojis: 0\n"
     ]
    }
   ],
   "source": [
    "# check the reviews for emojis using emoji library\n",
    "def contains_emoji(text):\n",
    "    return emoji.emoji_count(text) > 0\n",
    "\n",
    "print(f\"Review titles with emojis: {df['review_title'].apply(contains_emoji).sum()}\")\n",
    "print(f\"Review text with emojis: {df['review_text'].apply(contains_emoji).sum()}\")"
   ]
  },
  {
   "cell_type": "code",
   "execution_count": 25,
   "metadata": {},
   "outputs": [
    {
     "name": "stdout",
     "output_type": "stream",
     "text": [
      "Number of line breaks before: 5199\n",
      "Number of line breaks after:  0\n"
     ]
    }
   ],
   "source": [
    "# handling line breaks\n",
    "lb_count = df['review_text'].str.contains('\\n').sum()\n",
    "\n",
    "df['review_text'] = df['review_text'].str.replace('\\n', ' ')\n",
    "\n",
    "print(f\"Number of line breaks before: {lb_count}\")\n",
    "print(\"Number of line breaks after: \", df['review_text'].str.contains('\\n').sum())"
   ]
  },
  {
   "cell_type": "code",
   "execution_count": 26,
   "metadata": {},
   "outputs": [],
   "source": [
    "# expand contractions\n",
    "df['review_text'] = df['review_text'].apply(lambda x: contractions.fix(x))"
   ]
  },
  {
   "cell_type": "code",
   "execution_count": 27,
   "metadata": {},
   "outputs": [],
   "source": [
    "# dealing with numbers (inflecting numbers to words) \n",
    "p = inflect.engine()\n",
    "\n",
    "# Function to replace numbers with words\n",
    "def convert_numbers_to_words(text):\n",
    "    return ' '.join([p.number_to_words(word) if word.isdigit() else word for word in text.split()])\n",
    "\n",
    "df['review_text'] = df['review_text'].apply(convert_numbers_to_words)"
   ]
  },
  {
   "cell_type": "markdown",
   "metadata": {},
   "source": [
    "### Removing Stopwords"
   ]
  },
  {
   "cell_type": "code",
   "execution_count": 28,
   "metadata": {},
   "outputs": [],
   "source": [
    "stop_words = set(stopwords.words('english'))"
   ]
  },
  {
   "cell_type": "code",
   "execution_count": 29,
   "metadata": {},
   "outputs": [
    {
     "name": "stdout",
     "output_type": "stream",
     "text": [
      "Number of stop words before: 518762\n",
      "Number of stop words after: 0\n"
     ]
    }
   ],
   "source": [
    "# check stopword count in review_text column\n",
    "pre_sw_count = df['review_text'].apply(lambda x: len([w for w in x.split() if w in stop_words])).sum()\n",
    "df['review_text'] = df['review_text'].apply(lambda x: ' '.join([word for word in x.split() if word not in stop_words]))\n",
    "\n",
    "post_sw_count = df['review_text'].apply(lambda x: len([w for w in x.split() if w in stop_words])).sum()\n",
    "\n",
    "print(f\"Number of stop words before: {pre_sw_count}\")\n",
    "print(f\"Number of stop words after: {post_sw_count}\")"
   ]
  },
  {
   "cell_type": "markdown",
   "metadata": {},
   "source": [
    "### Lemmatize Text"
   ]
  },
  {
   "cell_type": "code",
   "execution_count": 30,
   "metadata": {},
   "outputs": [],
   "source": [
    "lemmatizer = WordNetLemmatizer()\n",
    "df['review_text'] = df['review_text'].apply(lambda x: ' '.join([lemmatizer.lemmatize(word) for word in x.split()]))"
   ]
  },
  {
   "cell_type": "markdown",
   "metadata": {},
   "source": [
    "### Handling Multilingual Data"
   ]
  },
  {
   "cell_type": "code",
   "execution_count": 31,
   "metadata": {},
   "outputs": [
    {
     "data": {
      "text/plain": [
       "en    11809\n",
       "fr        3\n",
       "ja        2\n",
       "sv        2\n",
       "he        2\n",
       "da        1\n",
       "it        1\n",
       "ta        1\n",
       "pl        1\n",
       "et        1\n",
       "sq        1\n",
       "es        1\n",
       "sk        1\n",
       "ar        1\n",
       "Name: language, dtype: int64"
      ]
     },
     "execution_count": 31,
     "metadata": {},
     "output_type": "execute_result"
    }
   ],
   "source": [
    "# Detect language\n",
    "df['language'] = df['review_text'].apply(detect)\n",
    "df['language'].value_counts()"
   ]
  },
  {
   "cell_type": "code",
   "execution_count": 32,
   "metadata": {},
   "outputs": [],
   "source": [
    "pd.set_option('display.max_colwidth', None)\n",
    "pd.set_option('display.width', None)"
   ]
  },
  {
   "cell_type": "code",
   "execution_count": 33,
   "metadata": {},
   "outputs": [
    {
     "data": {
      "text/html": [
       "<div>\n",
       "<style scoped>\n",
       "    .dataframe tbody tr th:only-of-type {\n",
       "        vertical-align: middle;\n",
       "    }\n",
       "\n",
       "    .dataframe tbody tr th {\n",
       "        vertical-align: top;\n",
       "    }\n",
       "\n",
       "    .dataframe thead th {\n",
       "        text-align: right;\n",
       "    }\n",
       "</style>\n",
       "<table border=\"1\" class=\"dataframe\">\n",
       "  <thead>\n",
       "    <tr style=\"text-align: right;\">\n",
       "      <th></th>\n",
       "      <th>id</th>\n",
       "      <th>review_text</th>\n",
       "      <th>language</th>\n",
       "    </tr>\n",
       "  </thead>\n",
       "  <tbody>\n",
       "    <tr>\n",
       "      <th>531</th>\n",
       "      <td>978318618.0</td>\n",
       "      <td>ம ற ஜ வ ட த ய ல அன த த வசத கள ம ச றப ப க இர ந தத அற கள த ப பரவ டன ம வசத ய கவ ம ந ர த த ய கவ ம க ணப பட டத வழங கப பட ட உணவ கழ ம நல லத க இர ந தத வ ட த ய ல இர ந த ப ர க க ம ப த கடற கர அழக க த ர க றத அன த த ச வ க க ம நன ற</td>\n",
       "      <td>ta</td>\n",
       "    </tr>\n",
       "    <tr>\n",
       "      <th>559</th>\n",
       "      <td>973182740.0</td>\n",
       "      <td>cinnamon best restaurant five star hotel sri lanka best value money</td>\n",
       "      <td>sv</td>\n",
       "    </tr>\n",
       "    <tr>\n",
       "      <th>1124</th>\n",
       "      <td>971043814.0</td>\n",
       "      <td>shanuka damith janith tharindu inusha sachini bashitha give u great service thank marriot</td>\n",
       "      <td>sq</td>\n",
       "    </tr>\n",
       "    <tr>\n",
       "      <th>2089</th>\n",
       "      <td>485911118.0</td>\n",
       "      <td>awesome arugam bay never many yummy meal breakfast snack luch dinner juice local food amazing mexican food good staff really friendly make feel like old friend place really good two different area beach well relaxing lounge clean washroom toilet bagni puliti ottimo cibo buona vista mare frutta fresca e deliziosi succhi il personale è super amichevole soprattutto caso di bisogno problemi anche sanitari rafaiul uno dei manager lavora anche ospedale locale prezzi sono nella medium la qualità è decisamente migliore di molti altri posti</td>\n",
       "      <td>it</td>\n",
       "    </tr>\n",
       "    <tr>\n",
       "      <th>3051</th>\n",
       "      <td>395484171.0</td>\n",
       "      <td>stayed two night comfortable affordable people pretty nice reliable friendly really enjoyed thank much 初めてのアルガンベイで 滞在先に困っていましたが ここのホテルにしてとても最高でした フレンドリーで優しいスタッフの皆さんありがとうございました</td>\n",
       "      <td>ja</td>\n",
       "    </tr>\n",
       "    <tr>\n",
       "      <th>3273</th>\n",
       "      <td>502935778.0</td>\n",
       "      <td>fajne miejsce super lokalizacja wszędzie blisko znamy szefa stąd wielka sympatia wobec ludzi tutaj poproście będzie wam dane dobra kuchnia niskie ceny świetne miejsce na nurkowanie w standardzie lokalnym porządnie miło atmosfera problem polecam spędziłthem tu z żoną cudowny tydzień great place perfect localization beach front balcony diving site ten min walk center trinco another direction koneswaram temple swami rock nilaveli uppaveli five ten min tuktuk really cool food ask done easy young staff super cool owner call bos give respect spent wonderful week wife super miss sun set dawn really loved perfect easy local stay forget dive</td>\n",
       "      <td>pl</td>\n",
       "    </tr>\n",
       "    <tr>\n",
       "      <th>4189</th>\n",
       "      <td>963411238.0</td>\n",
       "      <td>nice experience amazing hotel good service staff view absolutely fantastic thank shantha help really like come next time מלון מצוין עם נוף מדהים העובדים מאוד חרוצים ועוזרים בכל דבר המקום נגיש וקרוב למקומות בילוי ואטרקציות</td>\n",
       "      <td>he</td>\n",
       "    </tr>\n",
       "    <tr>\n",
       "      <th>4438</th>\n",
       "      <td>821759456.0</td>\n",
       "      <td>bandra kindly man always smile room big comfortable priceless view kindly crew ישראלים מקום מאוד נחמד עם חדרים ברמה גבוהה באמת הבעלים אדיב ונעים לא הצטערנו</td>\n",
       "      <td>he</td>\n",
       "    </tr>\n",
       "    <tr>\n",
       "      <th>4731</th>\n",
       "      <td>715440763.0</td>\n",
       "      <td>hotel near centrum railway station near restaurant shoops room big balcony view adam peak brakfast perfect mix europen local foood fruit fresh juice host number one thank nice holiday hotel krasna horska chata vyhladom na adam speak blizko centrum vedla zeleznicnej stanice blizko obchod restiky ozba bola velka cista wifi tepla voda krasny vyhlad na adam peak ranajky boli bohate hostitelia boli uzastni dakujeme za krasny zazitok</td>\n",
       "      <td>sk</td>\n",
       "    </tr>\n",
       "    <tr>\n",
       "      <th>5869</th>\n",
       "      <td>931857605.0</td>\n",
       "      <td>great place wonderful room also enjoyed yoga class jsgjdgvh fnheh dv dv dvndhndcndgndhndgnsgnscbsc scc vsgbgbzgbdgbscbxv fsbdhndcndcndcndcn fjegbdgbdg vsgbdhnzgndgbscbxb gjdgbdgbdgbscbsgbdgbsc fbgbfsbgbdvfhng</td>\n",
       "      <td>da</td>\n",
       "    </tr>\n",
       "    <tr>\n",
       "      <th>7162</th>\n",
       "      <td>976985768.0</td>\n",
       "      <td>entrance hotel unique huge pond entrance wich unique reception step entertain favorite part hotel loft bar night time hotel atmosphere totally different love come</td>\n",
       "      <td>fr</td>\n",
       "    </tr>\n",
       "    <tr>\n",
       "      <th>7806</th>\n",
       "      <td>970829604.0</td>\n",
       "      <td>although date friendliness service people work make thanks chef thivanka taking good care u marlan always taking care u kindness aunque esta actualizado la amabilidad el servicio de la gente que trabajan alli lo compensan gracias al chef thivanka por cuidarnos tan bien al marlan por atendernos siempre con su amabilidad</td>\n",
       "      <td>es</td>\n",
       "    </tr>\n",
       "    <tr>\n",
       "      <th>8136</th>\n",
       "      <td>643583524.0</td>\n",
       "      <td>two couple traveling pleasantly surprised happy come change nice luxurious feeling room good service worked even get transfer hotel vi var två par som reste hit och blev väldigt glatt överraskad och glad att få komma till change fint och lyxkänsla på rummen väldigt bra service av de som jobbade däare vi fick till och med transfer till och från hotellet</td>\n",
       "      <td>sv</td>\n",
       "    </tr>\n",
       "    <tr>\n",
       "      <th>8488</th>\n",
       "      <td>720324682.0</td>\n",
       "      <td>excellent eco lodge staff charles namal prasanna chef manjula house keeper excellent lay cottage excellent design cottage excellent view environment excellent srilankan food excellent excellent holiday</td>\n",
       "      <td>fr</td>\n",
       "    </tr>\n",
       "    <tr>\n",
       "      <th>8517</th>\n",
       "      <td>823509227.0</td>\n",
       "      <td>هوتيل جميل كانو مثل العائله احببت الوجود معهم صاحب المكان انسان مسلم ويطبخ الاكل اللذيذ انصح جدا بالذهاب الى هناك والاستمتاع باجواء العائله لديهم شخص اسمه محمد امران كان يوصلنا الى حيث نريد كان رجلا طيبا العائله كلها كانت طيبه انصح باخذ غرفه لديهم اذا كنتم في كاندي beautiful hotel like family loved owner place muslim cook delicious food highly recommend going enjoying family atmosphere person named muhammad amran used drive u want good man whole family kind would recommend taking room kandy</td>\n",
       "      <td>ar</td>\n",
       "    </tr>\n",
       "    <tr>\n",
       "      <th>10104</th>\n",
       "      <td>972609242.0</td>\n",
       "      <td>hotel good food nice staff really great sandamalee helpful hot water night cool climate thank youuuuuuuuuuuuuuuuuuuuuuuuuuuuuuuu</td>\n",
       "      <td>et</td>\n",
       "    </tr>\n",
       "    <tr>\n",
       "      <th>11475</th>\n",
       "      <td>873025908.0</td>\n",
       "      <td>service given staff excellent courteous friendly room clean quite spacious well maintained property beautiful garden picturesque environment keep team</td>\n",
       "      <td>fr</td>\n",
       "    </tr>\n",
       "    <tr>\n",
       "      <th>11551</th>\n",
       "      <td>680150172.0</td>\n",
       "      <td>お部屋も綺麗でとても居心地の良いゲストハウスでした お店やレストランがあるエリア アフタヌーンティーで有名なgrand hotel にも歩いて行けて便利でした ゲストハウスの方はとても親切で サリーを着てお茶摘み体験がしたいとお願いしたら お母さんが一緒に町のサリーショップに行ってサリーを見立ててくれ また次の日朝早くからサリーを着付けてくれました サリーのお買物も実際にサリーを着れたのも 本当にいい思い出です また 次の日ゴールまで移動するのに とっても親切なドライバーさんを紹介してもらい 長距離移動も楽しく過ごせました 次回は長く滞在してお母さんが作る晩ごはんをいただきたいです room clean comfortable location good go shopping restaurant area grand hotel walk people nice kind asked could go tea plucking wearing sari owner mother took u sari shop help u buy reasonable price helped u get dressed early morning one highlight trip also introduced u really nice professional driver long ride galle next time visit nuwaraeliya stay longer want try mother delicious dinner</td>\n",
       "      <td>ja</td>\n",
       "    </tr>\n",
       "  </tbody>\n",
       "</table>\n",
       "</div>"
      ],
      "text/plain": [
       "                id  \\\n",
       "531    978318618.0   \n",
       "559    973182740.0   \n",
       "1124   971043814.0   \n",
       "2089   485911118.0   \n",
       "3051   395484171.0   \n",
       "3273   502935778.0   \n",
       "4189   963411238.0   \n",
       "4438   821759456.0   \n",
       "4731   715440763.0   \n",
       "5869   931857605.0   \n",
       "7162   976985768.0   \n",
       "7806   970829604.0   \n",
       "8136   643583524.0   \n",
       "8488   720324682.0   \n",
       "8517   823509227.0   \n",
       "10104  972609242.0   \n",
       "11475  873025908.0   \n",
       "11551  680150172.0   \n",
       "\n",
       "                                                                                                                                                                                                                                                                                                                                                                                                                                                                                                                                                                                                                                                                                                         review_text  \\\n",
       "531                                                                                                                                                                                                                                                                                                                                                                                                                                                                                         ம ற ஜ வ ட த ய ல அன த த வசத கள ம ச றப ப க இர ந தத அற கள த ப பரவ டன ம வசத ய கவ ம ந ர த த ய கவ ம க ணப பட டத வழங கப பட ட உணவ கழ ம நல லத க இர ந தத வ ட த ய ல இர ந த ப ர க க ம ப த கடற கர அழக க த ர க றத அன த த ச வ க க ம நன ற   \n",
       "559                                                                                                                                                                                                                                                                                                                                                                                                                                                                                                                                                                                                                                              cinnamon best restaurant five star hotel sri lanka best value money   \n",
       "1124                                                                                                                                                                                                                                                                                                                                                                                                                                                                                                                                                                                                                       shanuka damith janith tharindu inusha sachini bashitha give u great service thank marriot   \n",
       "2089                                                                                                                                                       awesome arugam bay never many yummy meal breakfast snack luch dinner juice local food amazing mexican food good staff really friendly make feel like old friend place really good two different area beach well relaxing lounge clean washroom toilet bagni puliti ottimo cibo buona vista mare frutta fresca e deliziosi succhi il personale è super amichevole soprattutto caso di bisogno problemi anche sanitari rafaiul uno dei manager lavora anche ospedale locale prezzi sono nella medium la qualità è decisamente migliore di molti altri posti   \n",
       "3051                                                                                                                                                                                                                                                                                                                                                                                                                                                                                                                                 stayed two night comfortable affordable people pretty nice reliable friendly really enjoyed thank much 初めてのアルガンベイで 滞在先に困っていましたが ここのホテルにしてとても最高でした フレンドリーで優しいスタッフの皆さんありがとうございました   \n",
       "3273                                                fajne miejsce super lokalizacja wszędzie blisko znamy szefa stąd wielka sympatia wobec ludzi tutaj poproście będzie wam dane dobra kuchnia niskie ceny świetne miejsce na nurkowanie w standardzie lokalnym porządnie miło atmosfera problem polecam spędziłthem tu z żoną cudowny tydzień great place perfect localization beach front balcony diving site ten min walk center trinco another direction koneswaram temple swami rock nilaveli uppaveli five ten min tuktuk really cool food ask done easy young staff super cool owner call bos give respect spent wonderful week wife super miss sun set dawn really loved perfect easy local stay forget dive   \n",
       "4189                                                                                                                                                                                                                                                                                                                                                                                                                                                                                   nice experience amazing hotel good service staff view absolutely fantastic thank shantha help really like come next time מלון מצוין עם נוף מדהים העובדים מאוד חרוצים ועוזרים בכל דבר המקום נגיש וקרוב למקומות בילוי ואטרקציות   \n",
       "4438                                                                                                                                                                                                                                                                                                                                                                                                                                                                                                                                                     bandra kindly man always smile room big comfortable priceless view kindly crew ישראלים מקום מאוד נחמד עם חדרים ברמה גבוהה באמת הבעלים אדיב ונעים לא הצטערנו   \n",
       "4731                                                                                                                                                                                                                                                                 hotel near centrum railway station near restaurant shoops room big balcony view adam peak brakfast perfect mix europen local foood fruit fresh juice host number one thank nice holiday hotel krasna horska chata vyhladom na adam speak blizko centrum vedla zeleznicnej stanice blizko obchod restiky ozba bola velka cista wifi tepla voda krasny vyhlad na adam peak ranajky boli bohate hostitelia boli uzastni dakujeme za krasny zazitok   \n",
       "5869                                                                                                                                                                                                                                                                                                                                                                                                                                                                                                great place wonderful room also enjoyed yoga class jsgjdgvh fnheh dv dv dvndhndcndgndhndgnsgnscbsc scc vsgbgbzgbdgbscbxv fsbdhndcndcndcndcn fjegbdgbdg vsgbdhnzgndgbscbxb gjdgbdgbdgbscbsgbdgbsc fbgbfsbgbdvfhng   \n",
       "7162                                                                                                                                                                                                                                                                                                                                                                                                                                                                                                                                              entrance hotel unique huge pond entrance wich unique reception step entertain favorite part hotel loft bar night time hotel atmosphere totally different love come   \n",
       "7806                                                                                                                                                                                                                                                                                                                                                                                although date friendliness service people work make thanks chef thivanka taking good care u marlan always taking care u kindness aunque esta actualizado la amabilidad el servicio de la gente que trabajan alli lo compensan gracias al chef thivanka por cuidarnos tan bien al marlan por atendernos siempre con su amabilidad   \n",
       "8136                                                                                                                                                                                                                                                                                                                                              two couple traveling pleasantly surprised happy come change nice luxurious feeling room good service worked even get transfer hotel vi var två par som reste hit och blev väldigt glatt överraskad och glad att få komma till change fint och lyxkänsla på rummen väldigt bra service av de som jobbade däare vi fick till och med transfer till och från hotellet   \n",
       "8488                                                                                                                                                                                                                                                                                                                                                                                                                                                                                                       excellent eco lodge staff charles namal prasanna chef manjula house keeper excellent lay cottage excellent design cottage excellent view environment excellent srilankan food excellent excellent holiday   \n",
       "8517                                                                                                                                                                                                 هوتيل جميل كانو مثل العائله احببت الوجود معهم صاحب المكان انسان مسلم ويطبخ الاكل اللذيذ انصح جدا بالذهاب الى هناك والاستمتاع باجواء العائله لديهم شخص اسمه محمد امران كان يوصلنا الى حيث نريد كان رجلا طيبا العائله كلها كانت طيبه انصح باخذ غرفه لديهم اذا كنتم في كاندي beautiful hotel like family loved owner place muslim cook delicious food highly recommend going enjoying family atmosphere person named muhammad amran used drive u want good man whole family kind would recommend taking room kandy   \n",
       "10104                                                                                                                                                                                                                                                                                                                                                                                                                                                                                                                                                                               hotel good food nice staff really great sandamalee helpful hot water night cool climate thank youuuuuuuuuuuuuuuuuuuuuuuuuuuuuuuu   \n",
       "11475                                                                                                                                                                                                                                                                                                                                                                                                                                                                                                                                                         service given staff excellent courteous friendly room clean quite spacious well maintained property beautiful garden picturesque environment keep team   \n",
       "11551  お部屋も綺麗でとても居心地の良いゲストハウスでした お店やレストランがあるエリア アフタヌーンティーで有名なgrand hotel にも歩いて行けて便利でした ゲストハウスの方はとても親切で サリーを着てお茶摘み体験がしたいとお願いしたら お母さんが一緒に町のサリーショップに行ってサリーを見立ててくれ また次の日朝早くからサリーを着付けてくれました サリーのお買物も実際にサリーを着れたのも 本当にいい思い出です また 次の日ゴールまで移動するのに とっても親切なドライバーさんを紹介してもらい 長距離移動も楽しく過ごせました 次回は長く滞在してお母さんが作る晩ごはんをいただきたいです room clean comfortable location good go shopping restaurant area grand hotel walk people nice kind asked could go tea plucking wearing sari owner mother took u sari shop help u buy reasonable price helped u get dressed early morning one highlight trip also introduced u really nice professional driver long ride galle next time visit nuwaraeliya stay longer want try mother delicious dinner   \n",
       "\n",
       "      language  \n",
       "531         ta  \n",
       "559         sv  \n",
       "1124        sq  \n",
       "2089        it  \n",
       "3051        ja  \n",
       "3273        pl  \n",
       "4189        he  \n",
       "4438        he  \n",
       "4731        sk  \n",
       "5869        da  \n",
       "7162        fr  \n",
       "7806        es  \n",
       "8136        sv  \n",
       "8488        fr  \n",
       "8517        ar  \n",
       "10104       et  \n",
       "11475       fr  \n",
       "11551       ja  "
      ]
     },
     "execution_count": 33,
     "metadata": {},
     "output_type": "execute_result"
    }
   ],
   "source": [
    "df.loc[df['language'] != 'en', ['id', 'review_text', 'language']]"
   ]
  },
  {
   "cell_type": "code",
   "execution_count": 34,
   "metadata": {},
   "outputs": [],
   "source": [
    "# keep english reviews only\n",
    "df = df[df['language'] == 'en']\n",
    "df.drop(columns=['language'], inplace=True)"
   ]
  },
  {
   "cell_type": "markdown",
   "metadata": {},
   "source": [
    "### Normalize Whitespace"
   ]
  },
  {
   "cell_type": "code",
   "execution_count": 35,
   "metadata": {},
   "outputs": [],
   "source": [
    "df['review_text'] = df['review_text'].apply(lambda x: ' '.join(x.split()))"
   ]
  },
  {
   "cell_type": "markdown",
   "metadata": {},
   "source": [
    "# Tokenization Exploration"
   ]
  },
  {
   "cell_type": "markdown",
   "metadata": {},
   "source": [
    "Techniques explored:\n",
    "1. Word Tokenization\n",
    "2. Subword Tokenization (Byte-pair or BPE)\n",
    "3. n-Gram Tokenization (bi-gram/tri-gram)\n",
    "4. Whitespace Tokenization\n",
    "5. Rule-Based Tokenization\n",
    "6. SpaCy Tokenization\n",
    "7. WordPiece Tokenization"
   ]
  },
  {
   "cell_type": "code",
   "execution_count": 36,
   "metadata": {},
   "outputs": [],
   "source": [
    "tkn_results = []"
   ]
  },
  {
   "cell_type": "code",
   "execution_count": 37,
   "metadata": {},
   "outputs": [],
   "source": [
    "def calculate_vocab_size(tokenized_column):\n",
    "    vocab_size = len(set([token for tokens in tokenized_column for token in tokens]))\n",
    "    return vocab_size"
   ]
  },
  {
   "cell_type": "code",
   "execution_count": 38,
   "metadata": {},
   "outputs": [],
   "source": [
    "def calculate_average_token_length(tokenized_column):\n",
    "    total_token_length = sum(len(token) for tokens in tokenized_column for token in tokens)\n",
    "    total_tokens = sum(len(tokens) for tokens in tokenized_column)\n",
    "    average_token_length = total_token_length / total_tokens\n",
    "    return average_token_length"
   ]
  },
  {
   "cell_type": "code",
   "execution_count": 42,
   "metadata": {},
   "outputs": [],
   "source": [
    "def calculate_tokenizer_metrics(tokenized_column, tokenizer_name):\n",
    "    vocab_size = len(set([token for tokens in tokenized_column for token in tokens]))\n",
    "    avg_tkn_len = calculate_average_token_length(tokenized_column)\n",
    "\n",
    "    tkn_results.append({\n",
    "        \"Tokenizer\": tokenizer_name,\n",
    "        \"Vocabulary Size\": vocab_size,\n",
    "        \"Average Token Length\": avg_tkn_len,\n",
    "    })\n",
    "\n",
    "    print(f'Vocab size: {vocab_size}')\n",
    "    print(f'Average token length: {avg_tkn_len}')"
   ]
  },
  {
   "cell_type": "markdown",
   "metadata": {},
   "source": [
    "### Word Tokenization"
   ]
  },
  {
   "cell_type": "code",
   "execution_count": 43,
   "metadata": {},
   "outputs": [
    {
     "name": "stdout",
     "output_type": "stream",
     "text": [
      "Wall time: 3.03 s\n"
     ]
    }
   ],
   "source": [
    "%%time\n",
    "df['word_tokenization'] = df['review_text'].apply(lambda x: word_tokenize(x))"
   ]
  },
  {
   "cell_type": "code",
   "execution_count": 44,
   "metadata": {},
   "outputs": [
    {
     "name": "stdout",
     "output_type": "stream",
     "text": [
      "Vocab size: 19452\n",
      "Average token length: 5.764739810526389\n"
     ]
    }
   ],
   "source": [
    "calculate_tokenizer_metrics(df['word_tokenization'], \"Word Tokenization\")"
   ]
  },
  {
   "cell_type": "markdown",
   "metadata": {},
   "source": [
    "### BPE Tokenization"
   ]
  },
  {
   "cell_type": "code",
   "execution_count": 45,
   "metadata": {},
   "outputs": [
    {
     "name": "stdout",
     "output_type": "stream",
     "text": [
      "Wall time: 2.76 s\n"
     ]
    }
   ],
   "source": [
    "%%time\n",
    "# Train BPE model\n",
    "df['review_text'].to_csv('reviews.txt', index=False, header=False)\n",
    "spm.SentencePieceTrainer.train(input='reviews.txt', model_prefix='bpe', vocab_size=5000, model_type='bpe')\n",
    "\n",
    "# Load the model\n",
    "sp = spm.SentencePieceProcessor(model_file='bpe.model')\n",
    "\n",
    "def bpe_tokenize(text):\n",
    "    return sp.encode(text, out_type=str)\n",
    "\n",
    "df['bpe_tokenization'] = df['review_text'].apply(bpe_tokenize)"
   ]
  },
  {
   "cell_type": "code",
   "execution_count": 46,
   "metadata": {},
   "outputs": [
    {
     "name": "stdout",
     "output_type": "stream",
     "text": [
      "Vocab size: 5070\n",
      "Average token length: 5.939266018598967\n"
     ]
    }
   ],
   "source": [
    "calculate_tokenizer_metrics(df['bpe_tokenization'], \"BPE Tokenization\")"
   ]
  },
  {
   "cell_type": "markdown",
   "metadata": {},
   "source": [
    "### n-Gram Tokenization\n",
    "\n",
    "Bigram & Trigram"
   ]
  },
  {
   "cell_type": "code",
   "execution_count": 47,
   "metadata": {},
   "outputs": [
    {
     "name": "stdout",
     "output_type": "stream",
     "text": [
      "Wall time: 249 ms\n"
     ]
    }
   ],
   "source": [
    "%%time\n",
    "# bigram tokenization\n",
    "df['bigram_tokenization'] = df['review_text'].apply(lambda x: list(ngrams(x.split(), 2)))"
   ]
  },
  {
   "cell_type": "code",
   "execution_count": 48,
   "metadata": {},
   "outputs": [
    {
     "name": "stdout",
     "output_type": "stream",
     "text": [
      "Vocab size: 274634\n",
      "Average token length: 2.0\n"
     ]
    }
   ],
   "source": [
    "calculate_tokenizer_metrics(df['bigram_tokenization'], \"Bigram Tokenization\")"
   ]
  },
  {
   "cell_type": "code",
   "execution_count": 49,
   "metadata": {},
   "outputs": [
    {
     "name": "stdout",
     "output_type": "stream",
     "text": [
      "Wall time: 250 ms\n"
     ]
    }
   ],
   "source": [
    "%%time\n",
    "# trigram tokenization\n",
    "df['trigram_tokenization'] = df['review_text'].apply(lambda x: list(ngrams(x.split(), 3)))"
   ]
  },
  {
   "cell_type": "code",
   "execution_count": 50,
   "metadata": {},
   "outputs": [
    {
     "name": "stdout",
     "output_type": "stream",
     "text": [
      "Vocab size: 483244\n",
      "Average token length: 3.0\n"
     ]
    }
   ],
   "source": [
    "calculate_tokenizer_metrics(df['trigram_tokenization'], \"Trigram Tokenization\")"
   ]
  },
  {
   "cell_type": "markdown",
   "metadata": {},
   "source": [
    "### Whitespace Tokenization"
   ]
  },
  {
   "cell_type": "code",
   "execution_count": 51,
   "metadata": {},
   "outputs": [
    {
     "name": "stdout",
     "output_type": "stream",
     "text": [
      "Wall time: 100 ms\n"
     ]
    }
   ],
   "source": [
    "%%time\n",
    "df['whitespace_tokenization'] = df['review_text'].apply(lambda x: x.split())"
   ]
  },
  {
   "cell_type": "code",
   "execution_count": 52,
   "metadata": {},
   "outputs": [
    {
     "name": "stdout",
     "output_type": "stream",
     "text": [
      "Vocab size: 19454\n",
      "Average token length: 5.768445462808404\n"
     ]
    }
   ],
   "source": [
    "calculate_tokenizer_metrics(df['whitespace_tokenization'], \"Whitespace Tokenization\")"
   ]
  },
  {
   "cell_type": "code",
   "execution_count": 53,
   "metadata": {},
   "outputs": [
    {
     "data": {
      "text/plain": [
       "(316,)"
      ]
     },
     "execution_count": 53,
     "metadata": {},
     "output_type": "execute_result"
    }
   ],
   "source": [
    "# check if whitespace tokenization is the same as word tokenization\n",
    "df[df['word_tokenization'] != df['whitespace_tokenization']]['word_tokenization'].shape"
   ]
  },
  {
   "cell_type": "markdown",
   "metadata": {},
   "source": [
    "### Rule Based Tokenization"
   ]
  },
  {
   "cell_type": "code",
   "execution_count": 54,
   "metadata": {},
   "outputs": [
    {
     "name": "stdout",
     "output_type": "stream",
     "text": [
      "Wall time: 259 ms\n"
     ]
    }
   ],
   "source": [
    "%%time\n",
    "rule_tokenizer = WordPunctTokenizer()\n",
    "\n",
    "def rule_tokenize(text):\n",
    "    return rule_tokenizer.tokenize(text)\n",
    "\n",
    "df['rule_tokenization'] = df['review_text'].apply(rule_tokenize)"
   ]
  },
  {
   "cell_type": "code",
   "execution_count": 55,
   "metadata": {},
   "outputs": [
    {
     "name": "stdout",
     "output_type": "stream",
     "text": [
      "Vocab size: 19388\n",
      "Average token length: 5.7547920197076605\n"
     ]
    }
   ],
   "source": [
    "calculate_tokenizer_metrics(df['rule_tokenization'], \"Rule Based Tokenization\")"
   ]
  },
  {
   "cell_type": "markdown",
   "metadata": {},
   "source": [
    "### SpaCy Tokenization"
   ]
  },
  {
   "cell_type": "code",
   "execution_count": 56,
   "metadata": {},
   "outputs": [],
   "source": [
    "# spacy.cli.download(\"en_core_web_sm\")"
   ]
  },
  {
   "cell_type": "code",
   "execution_count": 57,
   "metadata": {},
   "outputs": [
    {
     "name": "stdout",
     "output_type": "stream",
     "text": [
      "Wall time: 1min 52s\n"
     ]
    }
   ],
   "source": [
    "%%time\n",
    "nlp = spacy.load('en_core_web_sm')\n",
    "\n",
    "def spacy_tokenize(text):\n",
    "    return [token.text for token in nlp(text)]\n",
    "\n",
    "df['spacy_tokenization'] = df['review_text'].apply(spacy_tokenize)"
   ]
  },
  {
   "cell_type": "code",
   "execution_count": 58,
   "metadata": {},
   "outputs": [
    {
     "name": "stdout",
     "output_type": "stream",
     "text": [
      "Vocab size: 19354\n",
      "Average token length: 5.748707148183291\n"
     ]
    }
   ],
   "source": [
    "calculate_tokenizer_metrics(df['spacy_tokenization'], \"SpaCy Tokenization\")"
   ]
  },
  {
   "cell_type": "markdown",
   "metadata": {},
   "source": [
    "### Wordpiece Tokenization"
   ]
  },
  {
   "cell_type": "code",
   "execution_count": 59,
   "metadata": {},
   "outputs": [
    {
     "name": "stdout",
     "output_type": "stream",
     "text": [
      "Wall time: 18.2 s\n"
     ]
    }
   ],
   "source": [
    "%%time\n",
    "wordpiece_tokenizer = BertTokenizer.from_pretrained('bert-base-uncased')\n",
    "\n",
    "def wordpiece_tokenize(text):\n",
    "    return wordpiece_tokenizer.tokenize(text)\n",
    "\n",
    "df['wordpiece_tokenization'] = df['review_text'].apply(wordpiece_tokenize)"
   ]
  },
  {
   "cell_type": "code",
   "execution_count": 60,
   "metadata": {},
   "outputs": [
    {
     "name": "stdout",
     "output_type": "stream",
     "text": [
      "Vocab size: 12442\n",
      "Average token length: 5.389014950628555\n"
     ]
    }
   ],
   "source": [
    "calculate_tokenizer_metrics(df['wordpiece_tokenization'], \"Wordpiece Tokenization\")"
   ]
  },
  {
   "cell_type": "markdown",
   "metadata": {},
   "source": [
    "### Comparison"
   ]
  },
  {
   "cell_type": "code",
   "execution_count": 61,
   "metadata": {},
   "outputs": [
    {
     "data": {
      "text/html": [
       "<div>\n",
       "<style scoped>\n",
       "    .dataframe tbody tr th:only-of-type {\n",
       "        vertical-align: middle;\n",
       "    }\n",
       "\n",
       "    .dataframe tbody tr th {\n",
       "        vertical-align: top;\n",
       "    }\n",
       "\n",
       "    .dataframe thead th {\n",
       "        text-align: right;\n",
       "    }\n",
       "</style>\n",
       "<table border=\"1\" class=\"dataframe\">\n",
       "  <thead>\n",
       "    <tr style=\"text-align: right;\">\n",
       "      <th></th>\n",
       "      <th>Tokenizer</th>\n",
       "      <th>Vocabulary Size</th>\n",
       "      <th>Average Token Length</th>\n",
       "    </tr>\n",
       "  </thead>\n",
       "  <tbody>\n",
       "    <tr>\n",
       "      <th>0</th>\n",
       "      <td>Word Tokenization</td>\n",
       "      <td>19452</td>\n",
       "      <td>5.764740</td>\n",
       "    </tr>\n",
       "    <tr>\n",
       "      <th>1</th>\n",
       "      <td>Word Tokenization</td>\n",
       "      <td>19452</td>\n",
       "      <td>5.764740</td>\n",
       "    </tr>\n",
       "    <tr>\n",
       "      <th>2</th>\n",
       "      <td>BPE Tokenization</td>\n",
       "      <td>5070</td>\n",
       "      <td>5.939266</td>\n",
       "    </tr>\n",
       "    <tr>\n",
       "      <th>3</th>\n",
       "      <td>Bigram Tokenization</td>\n",
       "      <td>274634</td>\n",
       "      <td>2.000000</td>\n",
       "    </tr>\n",
       "    <tr>\n",
       "      <th>4</th>\n",
       "      <td>Trigram Tokenization</td>\n",
       "      <td>483244</td>\n",
       "      <td>3.000000</td>\n",
       "    </tr>\n",
       "    <tr>\n",
       "      <th>5</th>\n",
       "      <td>Whitespace Tokenization</td>\n",
       "      <td>19454</td>\n",
       "      <td>5.768445</td>\n",
       "    </tr>\n",
       "    <tr>\n",
       "      <th>6</th>\n",
       "      <td>Rule Based Tokenization</td>\n",
       "      <td>19388</td>\n",
       "      <td>5.754792</td>\n",
       "    </tr>\n",
       "    <tr>\n",
       "      <th>7</th>\n",
       "      <td>SpaCy Tokenization</td>\n",
       "      <td>19354</td>\n",
       "      <td>5.748707</td>\n",
       "    </tr>\n",
       "    <tr>\n",
       "      <th>8</th>\n",
       "      <td>Wordpiece Tokenization</td>\n",
       "      <td>12442</td>\n",
       "      <td>5.389015</td>\n",
       "    </tr>\n",
       "  </tbody>\n",
       "</table>\n",
       "</div>"
      ],
      "text/plain": [
       "                 Tokenizer  Vocabulary Size  Average Token Length\n",
       "0        Word Tokenization            19452              5.764740\n",
       "1        Word Tokenization            19452              5.764740\n",
       "2         BPE Tokenization             5070              5.939266\n",
       "3      Bigram Tokenization           274634              2.000000\n",
       "4     Trigram Tokenization           483244              3.000000\n",
       "5  Whitespace Tokenization            19454              5.768445\n",
       "6  Rule Based Tokenization            19388              5.754792\n",
       "7       SpaCy Tokenization            19354              5.748707\n",
       "8   Wordpiece Tokenization            12442              5.389015"
      ]
     },
     "execution_count": 61,
     "metadata": {},
     "output_type": "execute_result"
    }
   ],
   "source": [
    "results_df = pd.DataFrame(tkn_results)\n",
    "results_df.head(10)"
   ]
  },
  {
   "cell_type": "markdown",
   "metadata": {},
   "source": [
    "# Exporting"
   ]
  },
  {
   "cell_type": "code",
   "execution_count": 63,
   "metadata": {},
   "outputs": [],
   "source": [
    "pd.reset_option('^display')"
   ]
  },
  {
   "cell_type": "code",
   "execution_count": 65,
   "metadata": {},
   "outputs": [
    {
     "data": {
      "text/html": [
       "<div>\n",
       "<style scoped>\n",
       "    .dataframe tbody tr th:only-of-type {\n",
       "        vertical-align: middle;\n",
       "    }\n",
       "\n",
       "    .dataframe tbody tr th {\n",
       "        vertical-align: top;\n",
       "    }\n",
       "\n",
       "    .dataframe thead th {\n",
       "        text-align: right;\n",
       "    }\n",
       "</style>\n",
       "<table border=\"1\" class=\"dataframe\">\n",
       "  <thead>\n",
       "    <tr style=\"text-align: right;\">\n",
       "      <th></th>\n",
       "      <th>helpfulVotes</th>\n",
       "      <th>id</th>\n",
       "      <th>address</th>\n",
       "      <th>city</th>\n",
       "      <th>placeName</th>\n",
       "      <th>numberOfReviews</th>\n",
       "      <th>placeRating</th>\n",
       "      <th>webUrl</th>\n",
       "      <th>publishedDate</th>\n",
       "      <th>userRating</th>\n",
       "      <th>...</th>\n",
       "      <th>tripType</th>\n",
       "      <th>username</th>\n",
       "      <th>word_tokenization</th>\n",
       "      <th>bpe_tokenization</th>\n",
       "      <th>bigram_tokenization</th>\n",
       "      <th>trigram_tokenization</th>\n",
       "      <th>whitespace_tokenization</th>\n",
       "      <th>rule_tokenization</th>\n",
       "      <th>spacy_tokenization</th>\n",
       "      <th>wordpiece_tokenization</th>\n",
       "    </tr>\n",
       "  </thead>\n",
       "  <tbody>\n",
       "    <tr>\n",
       "      <th>0</th>\n",
       "      <td>0.0</td>\n",
       "      <td>978474125.0</td>\n",
       "      <td>24 Dharmapala Mawatha Dharmapala Mawatha, Colo...</td>\n",
       "      <td>Colombo</td>\n",
       "      <td>Nh Collection Colombo</td>\n",
       "      <td>2392</td>\n",
       "      <td>4.5</td>\n",
       "      <td>https://www.tripadvisor.com/Hotel_Review-g2939...</td>\n",
       "      <td>2024-11-03</td>\n",
       "      <td>5.0</td>\n",
       "      <td>...</td>\n",
       "      <td>SOLO</td>\n",
       "      <td>219nikal</td>\n",
       "      <td>[good, service, ayu, friendly, staff, samadhi,...</td>\n",
       "      <td>[▁good, ▁service, ▁ayu, ▁friendly, ▁staff, ▁sa...</td>\n",
       "      <td>[(good, service), (service, ayu), (ayu, friend...</td>\n",
       "      <td>[(good, service, ayu), (service, ayu, friendly...</td>\n",
       "      <td>[good, service, ayu, friendly, staff, samadhi,...</td>\n",
       "      <td>[good, service, ayu, friendly, staff, samadhi,...</td>\n",
       "      <td>[good, service, ayu, friendly, staff, samadhi,...</td>\n",
       "      <td>[good, service, a, ##yu, friendly, staff, sam,...</td>\n",
       "    </tr>\n",
       "    <tr>\n",
       "      <th>1</th>\n",
       "      <td>0.0</td>\n",
       "      <td>978053018.0</td>\n",
       "      <td>24 Dharmapala Mawatha Dharmapala Mawatha, Colo...</td>\n",
       "      <td>Colombo</td>\n",
       "      <td>Nh Collection Colombo</td>\n",
       "      <td>2392</td>\n",
       "      <td>4.5</td>\n",
       "      <td>https://www.tripadvisor.com/Hotel_Review-g2939...</td>\n",
       "      <td>2024-10-30</td>\n",
       "      <td>1.0</td>\n",
       "      <td>...</td>\n",
       "      <td>BUSINESS</td>\n",
       "      <td>rajacool1984itz</td>\n",
       "      <td>[change, r, lady, manager, r, hotel, morning, ...</td>\n",
       "      <td>[▁change, ▁r, ▁lady, ▁manager, ▁r, ▁hotel, ▁mo...</td>\n",
       "      <td>[(change, r), (r, lady), (lady, manager), (man...</td>\n",
       "      <td>[(change, r, lady), (r, lady, manager), (lady,...</td>\n",
       "      <td>[change, r, lady, manager, r, hotel, morning, ...</td>\n",
       "      <td>[change, r, lady, manager, r, hotel, morning, ...</td>\n",
       "      <td>[change, r, lady, manager, r, hotel, morning, ...</td>\n",
       "      <td>[change, r, lady, manager, r, hotel, morning, ...</td>\n",
       "    </tr>\n",
       "    <tr>\n",
       "      <th>2</th>\n",
       "      <td>0.0</td>\n",
       "      <td>976992067.0</td>\n",
       "      <td>24 Dharmapala Mawatha Dharmapala Mawatha, Colo...</td>\n",
       "      <td>Colombo</td>\n",
       "      <td>Nh Collection Colombo</td>\n",
       "      <td>2392</td>\n",
       "      <td>4.5</td>\n",
       "      <td>https://www.tripadvisor.com/Hotel_Review-g2939...</td>\n",
       "      <td>2024-10-28</td>\n",
       "      <td>5.0</td>\n",
       "      <td>...</td>\n",
       "      <td>FAMILY</td>\n",
       "      <td>857navidj</td>\n",
       "      <td>[perfect, liked, everything, staff, kind, food...</td>\n",
       "      <td>[▁perfect, ▁liked, ▁everything, ▁staff, ▁kind,...</td>\n",
       "      <td>[(perfect, liked), (liked, everything), (every...</td>\n",
       "      <td>[(perfect, liked, everything), (liked, everyth...</td>\n",
       "      <td>[perfect, liked, everything, staff, kind, food...</td>\n",
       "      <td>[perfect, liked, everything, staff, kind, food...</td>\n",
       "      <td>[perfect, liked, everything, staff, kind, food...</td>\n",
       "      <td>[perfect, liked, everything, staff, kind, food...</td>\n",
       "    </tr>\n",
       "    <tr>\n",
       "      <th>3</th>\n",
       "      <td>0.0</td>\n",
       "      <td>976690540.0</td>\n",
       "      <td>24 Dharmapala Mawatha Dharmapala Mawatha, Colo...</td>\n",
       "      <td>Colombo</td>\n",
       "      <td>Nh Collection Colombo</td>\n",
       "      <td>2392</td>\n",
       "      <td>4.5</td>\n",
       "      <td>https://www.tripadvisor.com/Hotel_Review-g2939...</td>\n",
       "      <td>2024-10-26</td>\n",
       "      <td>5.0</td>\n",
       "      <td>...</td>\n",
       "      <td>FAMILY</td>\n",
       "      <td>809mickaelt</td>\n",
       "      <td>[stay, unforgettable, hotel, beautiful, staff,...</td>\n",
       "      <td>[▁stay, ▁unforgettable, ▁hotel, ▁beautiful, ▁s...</td>\n",
       "      <td>[(stay, unforgettable), (unforgettable, hotel)...</td>\n",
       "      <td>[(stay, unforgettable, hotel), (unforgettable,...</td>\n",
       "      <td>[stay, unforgettable, hotel, beautiful, staff,...</td>\n",
       "      <td>[stay, unforgettable, hotel, beautiful, staff,...</td>\n",
       "      <td>[stay, unforgettable, hotel, beautiful, staff,...</td>\n",
       "      <td>[stay, un, ##for, ##get, ##table, hotel, beaut...</td>\n",
       "    </tr>\n",
       "    <tr>\n",
       "      <th>4</th>\n",
       "      <td>0.0</td>\n",
       "      <td>976664122.0</td>\n",
       "      <td>24 Dharmapala Mawatha Dharmapala Mawatha, Colo...</td>\n",
       "      <td>Colombo</td>\n",
       "      <td>Nh Collection Colombo</td>\n",
       "      <td>2392</td>\n",
       "      <td>4.5</td>\n",
       "      <td>https://www.tripadvisor.com/Hotel_Review-g2939...</td>\n",
       "      <td>2024-10-26</td>\n",
       "      <td>5.0</td>\n",
       "      <td>...</td>\n",
       "      <td>FAMILY</td>\n",
       "      <td>M1879HRchloet</td>\n",
       "      <td>[amazing, hotel, well, situated, colombo, dire...</td>\n",
       "      <td>[▁amazing, ▁hotel, ▁well, ▁situated, ▁colombo,...</td>\n",
       "      <td>[(amazing, hotel), (hotel, well), (well, situa...</td>\n",
       "      <td>[(amazing, hotel, well), (hotel, well, situate...</td>\n",
       "      <td>[amazing, hotel, well, situated, colombo, dire...</td>\n",
       "      <td>[amazing, hotel, well, situated, colombo, dire...</td>\n",
       "      <td>[amazing, hotel, well, situated, colombo, dire...</td>\n",
       "      <td>[amazing, hotel, well, situated, colombo, dire...</td>\n",
       "    </tr>\n",
       "  </tbody>\n",
       "</table>\n",
       "<p>5 rows × 24 columns</p>\n",
       "</div>"
      ],
      "text/plain": [
       "   helpfulVotes           id  \\\n",
       "0           0.0  978474125.0   \n",
       "1           0.0  978053018.0   \n",
       "2           0.0  976992067.0   \n",
       "3           0.0  976690540.0   \n",
       "4           0.0  976664122.0   \n",
       "\n",
       "                                             address     city  \\\n",
       "0  24 Dharmapala Mawatha Dharmapala Mawatha, Colo...  Colombo   \n",
       "1  24 Dharmapala Mawatha Dharmapala Mawatha, Colo...  Colombo   \n",
       "2  24 Dharmapala Mawatha Dharmapala Mawatha, Colo...  Colombo   \n",
       "3  24 Dharmapala Mawatha Dharmapala Mawatha, Colo...  Colombo   \n",
       "4  24 Dharmapala Mawatha Dharmapala Mawatha, Colo...  Colombo   \n",
       "\n",
       "               placeName  numberOfReviews  placeRating  \\\n",
       "0  Nh Collection Colombo             2392          4.5   \n",
       "1  Nh Collection Colombo             2392          4.5   \n",
       "2  Nh Collection Colombo             2392          4.5   \n",
       "3  Nh Collection Colombo             2392          4.5   \n",
       "4  Nh Collection Colombo             2392          4.5   \n",
       "\n",
       "                                              webUrl publishedDate  \\\n",
       "0  https://www.tripadvisor.com/Hotel_Review-g2939...    2024-11-03   \n",
       "1  https://www.tripadvisor.com/Hotel_Review-g2939...    2024-10-30   \n",
       "2  https://www.tripadvisor.com/Hotel_Review-g2939...    2024-10-28   \n",
       "3  https://www.tripadvisor.com/Hotel_Review-g2939...    2024-10-26   \n",
       "4  https://www.tripadvisor.com/Hotel_Review-g2939...    2024-10-26   \n",
       "\n",
       "   userRating  ...  tripType         username  \\\n",
       "0         5.0  ...      SOLO         219nikal   \n",
       "1         1.0  ...  BUSINESS  rajacool1984itz   \n",
       "2         5.0  ...    FAMILY        857navidj   \n",
       "3         5.0  ...    FAMILY      809mickaelt   \n",
       "4         5.0  ...    FAMILY    M1879HRchloet   \n",
       "\n",
       "                                   word_tokenization  \\\n",
       "0  [good, service, ayu, friendly, staff, samadhi,...   \n",
       "1  [change, r, lady, manager, r, hotel, morning, ...   \n",
       "2  [perfect, liked, everything, staff, kind, food...   \n",
       "3  [stay, unforgettable, hotel, beautiful, staff,...   \n",
       "4  [amazing, hotel, well, situated, colombo, dire...   \n",
       "\n",
       "                                    bpe_tokenization  \\\n",
       "0  [▁good, ▁service, ▁ayu, ▁friendly, ▁staff, ▁sa...   \n",
       "1  [▁change, ▁r, ▁lady, ▁manager, ▁r, ▁hotel, ▁mo...   \n",
       "2  [▁perfect, ▁liked, ▁everything, ▁staff, ▁kind,...   \n",
       "3  [▁stay, ▁unforgettable, ▁hotel, ▁beautiful, ▁s...   \n",
       "4  [▁amazing, ▁hotel, ▁well, ▁situated, ▁colombo,...   \n",
       "\n",
       "                                 bigram_tokenization  \\\n",
       "0  [(good, service), (service, ayu), (ayu, friend...   \n",
       "1  [(change, r), (r, lady), (lady, manager), (man...   \n",
       "2  [(perfect, liked), (liked, everything), (every...   \n",
       "3  [(stay, unforgettable), (unforgettable, hotel)...   \n",
       "4  [(amazing, hotel), (hotel, well), (well, situa...   \n",
       "\n",
       "                                trigram_tokenization  \\\n",
       "0  [(good, service, ayu), (service, ayu, friendly...   \n",
       "1  [(change, r, lady), (r, lady, manager), (lady,...   \n",
       "2  [(perfect, liked, everything), (liked, everyth...   \n",
       "3  [(stay, unforgettable, hotel), (unforgettable,...   \n",
       "4  [(amazing, hotel, well), (hotel, well, situate...   \n",
       "\n",
       "                             whitespace_tokenization  \\\n",
       "0  [good, service, ayu, friendly, staff, samadhi,...   \n",
       "1  [change, r, lady, manager, r, hotel, morning, ...   \n",
       "2  [perfect, liked, everything, staff, kind, food...   \n",
       "3  [stay, unforgettable, hotel, beautiful, staff,...   \n",
       "4  [amazing, hotel, well, situated, colombo, dire...   \n",
       "\n",
       "                                   rule_tokenization  \\\n",
       "0  [good, service, ayu, friendly, staff, samadhi,...   \n",
       "1  [change, r, lady, manager, r, hotel, morning, ...   \n",
       "2  [perfect, liked, everything, staff, kind, food...   \n",
       "3  [stay, unforgettable, hotel, beautiful, staff,...   \n",
       "4  [amazing, hotel, well, situated, colombo, dire...   \n",
       "\n",
       "                                  spacy_tokenization  \\\n",
       "0  [good, service, ayu, friendly, staff, samadhi,...   \n",
       "1  [change, r, lady, manager, r, hotel, morning, ...   \n",
       "2  [perfect, liked, everything, staff, kind, food...   \n",
       "3  [stay, unforgettable, hotel, beautiful, staff,...   \n",
       "4  [amazing, hotel, well, situated, colombo, dire...   \n",
       "\n",
       "                              wordpiece_tokenization  \n",
       "0  [good, service, a, ##yu, friendly, staff, sam,...  \n",
       "1  [change, r, lady, manager, r, hotel, morning, ...  \n",
       "2  [perfect, liked, everything, staff, kind, food...  \n",
       "3  [stay, un, ##for, ##get, ##table, hotel, beaut...  \n",
       "4  [amazing, hotel, well, situated, colombo, dire...  \n",
       "\n",
       "[5 rows x 24 columns]"
      ]
     },
     "execution_count": 65,
     "metadata": {},
     "output_type": "execute_result"
    }
   ],
   "source": [
    "df.head()"
   ]
  },
  {
   "cell_type": "code",
   "execution_count": 66,
   "metadata": {},
   "outputs": [
    {
     "data": {
      "text/plain": [
       "(11809, 24)"
      ]
     },
     "execution_count": 66,
     "metadata": {},
     "output_type": "execute_result"
    }
   ],
   "source": [
    "df.shape"
   ]
  },
  {
   "cell_type": "code",
   "execution_count": 68,
   "metadata": {},
   "outputs": [
    {
     "data": {
      "text/plain": [
       "['helpfulVotes',\n",
       " 'id',\n",
       " 'address',\n",
       " 'city',\n",
       " 'placeName',\n",
       " 'numberOfReviews',\n",
       " 'placeRating',\n",
       " 'webUrl',\n",
       " 'publishedDate',\n",
       " 'userRating',\n",
       " 'roomTip',\n",
       " 'review_text',\n",
       " 'review_title',\n",
       " 'travelDate',\n",
       " 'tripType',\n",
       " 'username',\n",
       " 'word_tokenization',\n",
       " 'bpe_tokenization',\n",
       " 'bigram_tokenization',\n",
       " 'trigram_tokenization',\n",
       " 'whitespace_tokenization',\n",
       " 'rule_tokenization',\n",
       " 'spacy_tokenization',\n",
       " 'wordpiece_tokenization']"
      ]
     },
     "execution_count": 68,
     "metadata": {},
     "output_type": "execute_result"
    }
   ],
   "source": [
    "df.columns.tolist()"
   ]
  },
  {
   "cell_type": "code",
   "execution_count": 69,
   "metadata": {},
   "outputs": [],
   "source": [
    "df.to_csv('../data/dataset_cleaned.csv', index=False)"
   ]
  },
  {
   "cell_type": "code",
   "execution_count": null,
   "metadata": {},
   "outputs": [],
   "source": []
  }
 ],
 "metadata": {
  "kernelspec": {
   "display_name": "py3.7",
   "language": "python",
   "name": "python3"
  },
  "language_info": {
   "codemirror_mode": {
    "name": "ipython",
    "version": 3
   },
   "file_extension": ".py",
   "mimetype": "text/x-python",
   "name": "python",
   "nbconvert_exporter": "python",
   "pygments_lexer": "ipython3",
   "version": "3.7.12"
  }
 },
 "nbformat": 4,
 "nbformat_minor": 2
}
