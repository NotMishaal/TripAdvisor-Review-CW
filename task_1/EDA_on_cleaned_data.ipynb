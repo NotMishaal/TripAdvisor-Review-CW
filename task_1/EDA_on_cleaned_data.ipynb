{
 "cells": [
  {
   "cell_type": "markdown",
   "metadata": {},
   "source": [
    "# Importing libraries"
   ]
  },
  {
   "cell_type": "code",
   "execution_count": 1,
   "metadata": {},
   "outputs": [],
   "source": [
    "import pandas as pd\n",
    "import numpy as np"
   ]
  },
  {
   "cell_type": "code",
   "execution_count": 23,
   "metadata": {},
   "outputs": [],
   "source": [
    "import matplotlib.pyplot as plt"
   ]
  },
  {
   "cell_type": "code",
   "execution_count": 38,
   "metadata": {},
   "outputs": [],
   "source": [
    "import seaborn as sns"
   ]
  },
  {
   "cell_type": "markdown",
   "metadata": {},
   "source": [
    "# Defining Functions"
   ]
  },
  {
   "cell_type": "code",
   "execution_count": null,
   "metadata": {},
   "outputs": [],
   "source": [
    "# To show frequency diagrams\n",
    "def plot_hist(df_name, xvar_name):\n",
    "    plt.hist(df_name[xvar_name].values)\n",
    "    plt.xlabel(f\"{xvar_name} categories\")\n",
    "    plt.ylabel(\"Count per each category\")\n",
    "    plt.show()"
   ]
  },
  {
   "cell_type": "code",
   "execution_count": null,
   "metadata": {},
   "outputs": [],
   "source": [
    "def bar_plots(df_name,xvar_name):\n",
    "    plt.bar(df_name[xvar_name].values, df_name)\n",
    "    plt.xlabel(f\"{xvar_name} categories\")\n",
    "    plt.ylabel(\"Count per each category\")\n",
    "    plt.show()"
   ]
  },
  {
   "cell_type": "markdown",
   "metadata": {},
   "source": [
    "# Loading Dataset"
   ]
  },
  {
   "cell_type": "code",
   "execution_count": 2,
   "metadata": {},
   "outputs": [],
   "source": [
    "df = pd.read_csv(\"../data/dataset_cleaned.csv\")"
   ]
  },
  {
   "cell_type": "code",
   "execution_count": 14,
   "metadata": {},
   "outputs": [
    {
     "data": {
      "text/plain": [
       "(11809, 24)"
      ]
     },
     "execution_count": 14,
     "metadata": {},
     "output_type": "execute_result"
    }
   ],
   "source": [
    "df.shape"
   ]
  },
  {
   "cell_type": "code",
   "execution_count": 79,
   "metadata": {},
   "outputs": [
    {
     "data": {
      "text/plain": [
       "count       11759\n",
       "unique         24\n",
       "top       Colombo\n",
       "freq         1997\n",
       "Name: city, dtype: object"
      ]
     },
     "execution_count": 79,
     "metadata": {},
     "output_type": "execute_result"
    }
   ],
   "source": [
    "df['city'].describe()"
   ]
  },
  {
   "cell_type": "code",
   "execution_count": 80,
   "metadata": {},
   "outputs": [
    {
     "data": {
      "text/plain": [
       "count                     11809\n",
       "unique                      239\n",
       "top       Nh Collection Colombo\n",
       "freq                         50\n",
       "Name: placeName, dtype: object"
      ]
     },
     "execution_count": 80,
     "metadata": {},
     "output_type": "execute_result"
    }
   ],
   "source": [
    "df['placeName'].describe()"
   ]
  },
  {
   "cell_type": "code",
   "execution_count": 3,
   "metadata": {},
   "outputs": [
    {
     "name": "stdout",
     "output_type": "stream",
     "text": [
      "<class 'pandas.core.frame.DataFrame'>\n",
      "RangeIndex: 11809 entries, 0 to 11808\n",
      "Data columns (total 24 columns):\n",
      " #   Column                   Non-Null Count  Dtype  \n",
      "---  ------                   --------------  -----  \n",
      " 0   helpfulVotes             11809 non-null  float64\n",
      " 1   id                       11809 non-null  float64\n",
      " 2   address                  11809 non-null  object \n",
      " 3   city                     11759 non-null  object \n",
      " 4   placeName                11809 non-null  object \n",
      " 5   numberOfReviews          11809 non-null  int64  \n",
      " 6   placeRating              11809 non-null  float64\n",
      " 7   webUrl                   11809 non-null  object \n",
      " 8   publishedDate            11809 non-null  object \n",
      " 9   userRating               11809 non-null  float64\n",
      " 10  roomTip                  1989 non-null   object \n",
      " 11  review_text              11809 non-null  object \n",
      " 12  review_title             11809 non-null  object \n",
      " 13  travelDate               11800 non-null  object \n",
      " 14  tripType                 11800 non-null  object \n",
      " 15  username                 11809 non-null  object \n",
      " 16  word_tokenization        11809 non-null  object \n",
      " 17  bpe_tokenization         11809 non-null  object \n",
      " 18  bigram_tokenization      11809 non-null  object \n",
      " 19  trigram_tokenization     11809 non-null  object \n",
      " 20  whitespace_tokenization  11809 non-null  object \n",
      " 21  rule_tokenization        11809 non-null  object \n",
      " 22  spacy_tokenization       11809 non-null  object \n",
      " 23  wordpiece_tokenization   11809 non-null  object \n",
      "dtypes: float64(4), int64(1), object(19)\n",
      "memory usage: 2.2+ MB\n"
     ]
    }
   ],
   "source": [
    "df.info()"
   ]
  },
  {
   "cell_type": "markdown",
   "metadata": {},
   "source": [
    "helpfulvotes\n",
    "    - placerating\n",
    "    - trip type\n",
    "    - review_text_length\n",
    "place rating\n",
    "    - #reviews\n",
    "    - userRating\n",
    "    - published date\n",
    "    - tripDate\n",
    "    - tripDate\n",
    "user rating\n",
    "    - review text lenght\n",
    "no_of_rating for hotel vs\n",
    "    - tot helpful votes\n",
    "    - avg rating\n",
    "    - \n",
    "review text length vs review_title length"
   ]
  },
  {
   "cell_type": "code",
   "execution_count": 4,
   "metadata": {},
   "outputs": [
    {
     "data": {
      "text/html": [
       "<div>\n",
       "<style scoped>\n",
       "    .dataframe tbody tr th:only-of-type {\n",
       "        vertical-align: middle;\n",
       "    }\n",
       "\n",
       "    .dataframe tbody tr th {\n",
       "        vertical-align: top;\n",
       "    }\n",
       "\n",
       "    .dataframe thead th {\n",
       "        text-align: right;\n",
       "    }\n",
       "</style>\n",
       "<table border=\"1\" class=\"dataframe\">\n",
       "  <thead>\n",
       "    <tr style=\"text-align: right;\">\n",
       "      <th></th>\n",
       "      <th>helpfulVotes</th>\n",
       "      <th>id</th>\n",
       "      <th>address</th>\n",
       "      <th>city</th>\n",
       "      <th>placeName</th>\n",
       "      <th>numberOfReviews</th>\n",
       "      <th>placeRating</th>\n",
       "      <th>webUrl</th>\n",
       "      <th>publishedDate</th>\n",
       "      <th>userRating</th>\n",
       "      <th>...</th>\n",
       "      <th>tripType</th>\n",
       "      <th>username</th>\n",
       "      <th>word_tokenization</th>\n",
       "      <th>bpe_tokenization</th>\n",
       "      <th>bigram_tokenization</th>\n",
       "      <th>trigram_tokenization</th>\n",
       "      <th>whitespace_tokenization</th>\n",
       "      <th>rule_tokenization</th>\n",
       "      <th>spacy_tokenization</th>\n",
       "      <th>wordpiece_tokenization</th>\n",
       "    </tr>\n",
       "  </thead>\n",
       "  <tbody>\n",
       "    <tr>\n",
       "      <th>9231</th>\n",
       "      <td>0.0</td>\n",
       "      <td>880064980.0</td>\n",
       "      <td>Amunugama Walawwa, Kundasale 20270 Sri Lanka</td>\n",
       "      <td>Kundasale</td>\n",
       "      <td>The Kandy House</td>\n",
       "      <td>860</td>\n",
       "      <td>4.5</td>\n",
       "      <td>https://www.tripadvisor.com/Hotel_Review-g1199...</td>\n",
       "      <td>2023-02-25</td>\n",
       "      <td>5.0</td>\n",
       "      <td>...</td>\n",
       "      <td>COUPLES</td>\n",
       "      <td>LouiseM976</td>\n",
       "      <td>['fabulous', 'oasis', 'calm', 'close', 'kandy'...</td>\n",
       "      <td>['▁fabulous', '▁oasis', '▁calm', '▁close', '▁k...</td>\n",
       "      <td>[('fabulous', 'oasis'), ('oasis', 'calm'), ('c...</td>\n",
       "      <td>[('fabulous', 'oasis', 'calm'), ('oasis', 'cal...</td>\n",
       "      <td>['fabulous', 'oasis', 'calm', 'close', 'kandy'...</td>\n",
       "      <td>['fabulous', 'oasis', 'calm', 'close', 'kandy'...</td>\n",
       "      <td>['fabulous', 'oasis', 'calm', 'close', 'kandy'...</td>\n",
       "      <td>['fabulous', 'oasis', 'calm', 'close', 'kan', ...</td>\n",
       "    </tr>\n",
       "    <tr>\n",
       "      <th>9985</th>\n",
       "      <td>0.0</td>\n",
       "      <td>978194110.0</td>\n",
       "      <td>No 01 Glen Fall Road, Nuwara Eliya 22200 Sri L...</td>\n",
       "      <td>Nuwara Eliya</td>\n",
       "      <td>Araliya Green City</td>\n",
       "      <td>1517</td>\n",
       "      <td>5.0</td>\n",
       "      <td>https://www.tripadvisor.com/Hotel_Review-g6085...</td>\n",
       "      <td>2024-10-31</td>\n",
       "      <td>5.0</td>\n",
       "      <td>...</td>\n",
       "      <td>FAMILY</td>\n",
       "      <td>xitiv2024</td>\n",
       "      <td>['make', 'stay', 'comfortable', 'make', 'feel'...</td>\n",
       "      <td>['▁make', '▁stay', '▁comfortable', '▁make', '▁...</td>\n",
       "      <td>[('make', 'stay'), ('stay', 'comfortable'), ('...</td>\n",
       "      <td>[('make', 'stay', 'comfortable'), ('stay', 'co...</td>\n",
       "      <td>['make', 'stay', 'comfortable', 'make', 'feel'...</td>\n",
       "      <td>['make', 'stay', 'comfortable', 'make', 'feel'...</td>\n",
       "      <td>['make', 'stay', 'comfortable', 'make', 'feel'...</td>\n",
       "      <td>['make', 'stay', 'comfortable', 'make', 'feel'...</td>\n",
       "    </tr>\n",
       "    <tr>\n",
       "      <th>1293</th>\n",
       "      <td>1.0</td>\n",
       "      <td>953023985.0</td>\n",
       "      <td>102A, Kirulapone Avenue Baseline Road, Colombo...</td>\n",
       "      <td>Colombo</td>\n",
       "      <td>Best Western Elyon Colombo</td>\n",
       "      <td>784</td>\n",
       "      <td>4.0</td>\n",
       "      <td>https://www.tripadvisor.com/Hotel_Review-g2939...</td>\n",
       "      <td>2024-05-30</td>\n",
       "      <td>5.0</td>\n",
       "      <td>...</td>\n",
       "      <td>SOLO</td>\n",
       "      <td>Ryan777392312</td>\n",
       "      <td>['wonderful', 'stay', 'delicious', 'food', 'ex...</td>\n",
       "      <td>['▁wonderful', '▁stay', '▁delicious', '▁food',...</td>\n",
       "      <td>[('wonderful', 'stay'), ('stay', 'delicious'),...</td>\n",
       "      <td>[('wonderful', 'stay', 'delicious'), ('stay', ...</td>\n",
       "      <td>['wonderful', 'stay', 'delicious', 'food', 'ex...</td>\n",
       "      <td>['wonderful', 'stay', 'delicious', 'food', 'ex...</td>\n",
       "      <td>['wonderful', 'stay', 'delicious', 'food', 'ex...</td>\n",
       "      <td>['wonderful', 'stay', 'delicious', 'food', 'ex...</td>\n",
       "    </tr>\n",
       "    <tr>\n",
       "      <th>8425</th>\n",
       "      <td>0.0</td>\n",
       "      <td>965103135.0</td>\n",
       "      <td>#12 Mahamaya Mawatha, Kandy 20000 Sri Lanka</td>\n",
       "      <td>Kandy</td>\n",
       "      <td>Grand Serendib Hotel</td>\n",
       "      <td>191</td>\n",
       "      <td>4.5</td>\n",
       "      <td>https://www.tripadvisor.com/Hotel_Review-g3041...</td>\n",
       "      <td>2024-08-16</td>\n",
       "      <td>5.0</td>\n",
       "      <td>...</td>\n",
       "      <td>FAMILY</td>\n",
       "      <td>B636MIjamesm</td>\n",
       "      <td>['view', 'absolute', 'best', 'thing', 'hotel',...</td>\n",
       "      <td>['▁view', '▁absolute', '▁best', '▁thing', '▁ho...</td>\n",
       "      <td>[('view', 'absolute'), ('absolute', 'best'), (...</td>\n",
       "      <td>[('view', 'absolute', 'best'), ('absolute', 'b...</td>\n",
       "      <td>['view', 'absolute', 'best', 'thing', 'hotel',...</td>\n",
       "      <td>['view', 'absolute', 'best', 'thing', 'hotel',...</td>\n",
       "      <td>['view', 'absolute', 'best', 'thing', 'hotel',...</td>\n",
       "      <td>['view', 'absolute', 'best', 'thing', 'hotel',...</td>\n",
       "    </tr>\n",
       "    <tr>\n",
       "      <th>10598</th>\n",
       "      <td>0.0</td>\n",
       "      <td>967275686.0</td>\n",
       "      <td>Mahagastota Hill Climb Blackpool, Nuwara Eliya...</td>\n",
       "      <td>Nuwara Eliya</td>\n",
       "      <td>The Blackpool Resort &amp; Spa</td>\n",
       "      <td>1150</td>\n",
       "      <td>4.5</td>\n",
       "      <td>https://www.tripadvisor.com/Hotel_Review-g6085...</td>\n",
       "      <td>2024-08-28</td>\n",
       "      <td>5.0</td>\n",
       "      <td>...</td>\n",
       "      <td>FAMILY</td>\n",
       "      <td>kumarjain748</td>\n",
       "      <td>['good', 'reasort', 'stay', 'good', 'food', 'e...</td>\n",
       "      <td>['▁good', '▁re', 'as', 'ort', '▁stay', '▁good'...</td>\n",
       "      <td>[('good', 'reasort'), ('reasort', 'stay'), ('s...</td>\n",
       "      <td>[('good', 'reasort', 'stay'), ('reasort', 'sta...</td>\n",
       "      <td>['good', 'reasort', 'stay', 'good', 'food', 'e...</td>\n",
       "      <td>['good', 'reasort', 'stay', 'good', 'food', 'e...</td>\n",
       "      <td>['good', 'reasort', 'stay', 'good', 'food', 'e...</td>\n",
       "      <td>['good', 're', '##as', '##ort', 'stay', 'good'...</td>\n",
       "    </tr>\n",
       "  </tbody>\n",
       "</table>\n",
       "<p>5 rows × 24 columns</p>\n",
       "</div>"
      ],
      "text/plain": [
       "       helpfulVotes           id  \\\n",
       "9231            0.0  880064980.0   \n",
       "9985            0.0  978194110.0   \n",
       "1293            1.0  953023985.0   \n",
       "8425            0.0  965103135.0   \n",
       "10598           0.0  967275686.0   \n",
       "\n",
       "                                                 address          city  \\\n",
       "9231        Amunugama Walawwa, Kundasale 20270 Sri Lanka     Kundasale   \n",
       "9985   No 01 Glen Fall Road, Nuwara Eliya 22200 Sri L...  Nuwara Eliya   \n",
       "1293   102A, Kirulapone Avenue Baseline Road, Colombo...       Colombo   \n",
       "8425         #12 Mahamaya Mawatha, Kandy 20000 Sri Lanka         Kandy   \n",
       "10598  Mahagastota Hill Climb Blackpool, Nuwara Eliya...  Nuwara Eliya   \n",
       "\n",
       "                        placeName  numberOfReviews  placeRating  \\\n",
       "9231              The Kandy House              860          4.5   \n",
       "9985           Araliya Green City             1517          5.0   \n",
       "1293   Best Western Elyon Colombo              784          4.0   \n",
       "8425         Grand Serendib Hotel              191          4.5   \n",
       "10598  The Blackpool Resort & Spa             1150          4.5   \n",
       "\n",
       "                                                  webUrl publishedDate  \\\n",
       "9231   https://www.tripadvisor.com/Hotel_Review-g1199...    2023-02-25   \n",
       "9985   https://www.tripadvisor.com/Hotel_Review-g6085...    2024-10-31   \n",
       "1293   https://www.tripadvisor.com/Hotel_Review-g2939...    2024-05-30   \n",
       "8425   https://www.tripadvisor.com/Hotel_Review-g3041...    2024-08-16   \n",
       "10598  https://www.tripadvisor.com/Hotel_Review-g6085...    2024-08-28   \n",
       "\n",
       "       userRating  ... tripType       username  \\\n",
       "9231          5.0  ...  COUPLES     LouiseM976   \n",
       "9985          5.0  ...   FAMILY      xitiv2024   \n",
       "1293          5.0  ...     SOLO  Ryan777392312   \n",
       "8425          5.0  ...   FAMILY   B636MIjamesm   \n",
       "10598         5.0  ...   FAMILY   kumarjain748   \n",
       "\n",
       "                                       word_tokenization  \\\n",
       "9231   ['fabulous', 'oasis', 'calm', 'close', 'kandy'...   \n",
       "9985   ['make', 'stay', 'comfortable', 'make', 'feel'...   \n",
       "1293   ['wonderful', 'stay', 'delicious', 'food', 'ex...   \n",
       "8425   ['view', 'absolute', 'best', 'thing', 'hotel',...   \n",
       "10598  ['good', 'reasort', 'stay', 'good', 'food', 'e...   \n",
       "\n",
       "                                        bpe_tokenization  \\\n",
       "9231   ['▁fabulous', '▁oasis', '▁calm', '▁close', '▁k...   \n",
       "9985   ['▁make', '▁stay', '▁comfortable', '▁make', '▁...   \n",
       "1293   ['▁wonderful', '▁stay', '▁delicious', '▁food',...   \n",
       "8425   ['▁view', '▁absolute', '▁best', '▁thing', '▁ho...   \n",
       "10598  ['▁good', '▁re', 'as', 'ort', '▁stay', '▁good'...   \n",
       "\n",
       "                                     bigram_tokenization  \\\n",
       "9231   [('fabulous', 'oasis'), ('oasis', 'calm'), ('c...   \n",
       "9985   [('make', 'stay'), ('stay', 'comfortable'), ('...   \n",
       "1293   [('wonderful', 'stay'), ('stay', 'delicious'),...   \n",
       "8425   [('view', 'absolute'), ('absolute', 'best'), (...   \n",
       "10598  [('good', 'reasort'), ('reasort', 'stay'), ('s...   \n",
       "\n",
       "                                    trigram_tokenization  \\\n",
       "9231   [('fabulous', 'oasis', 'calm'), ('oasis', 'cal...   \n",
       "9985   [('make', 'stay', 'comfortable'), ('stay', 'co...   \n",
       "1293   [('wonderful', 'stay', 'delicious'), ('stay', ...   \n",
       "8425   [('view', 'absolute', 'best'), ('absolute', 'b...   \n",
       "10598  [('good', 'reasort', 'stay'), ('reasort', 'sta...   \n",
       "\n",
       "                                 whitespace_tokenization  \\\n",
       "9231   ['fabulous', 'oasis', 'calm', 'close', 'kandy'...   \n",
       "9985   ['make', 'stay', 'comfortable', 'make', 'feel'...   \n",
       "1293   ['wonderful', 'stay', 'delicious', 'food', 'ex...   \n",
       "8425   ['view', 'absolute', 'best', 'thing', 'hotel',...   \n",
       "10598  ['good', 'reasort', 'stay', 'good', 'food', 'e...   \n",
       "\n",
       "                                       rule_tokenization  \\\n",
       "9231   ['fabulous', 'oasis', 'calm', 'close', 'kandy'...   \n",
       "9985   ['make', 'stay', 'comfortable', 'make', 'feel'...   \n",
       "1293   ['wonderful', 'stay', 'delicious', 'food', 'ex...   \n",
       "8425   ['view', 'absolute', 'best', 'thing', 'hotel',...   \n",
       "10598  ['good', 'reasort', 'stay', 'good', 'food', 'e...   \n",
       "\n",
       "                                      spacy_tokenization  \\\n",
       "9231   ['fabulous', 'oasis', 'calm', 'close', 'kandy'...   \n",
       "9985   ['make', 'stay', 'comfortable', 'make', 'feel'...   \n",
       "1293   ['wonderful', 'stay', 'delicious', 'food', 'ex...   \n",
       "8425   ['view', 'absolute', 'best', 'thing', 'hotel',...   \n",
       "10598  ['good', 'reasort', 'stay', 'good', 'food', 'e...   \n",
       "\n",
       "                                  wordpiece_tokenization  \n",
       "9231   ['fabulous', 'oasis', 'calm', 'close', 'kan', ...  \n",
       "9985   ['make', 'stay', 'comfortable', 'make', 'feel'...  \n",
       "1293   ['wonderful', 'stay', 'delicious', 'food', 'ex...  \n",
       "8425   ['view', 'absolute', 'best', 'thing', 'hotel',...  \n",
       "10598  ['good', 're', '##as', '##ort', 'stay', 'good'...  \n",
       "\n",
       "[5 rows x 24 columns]"
      ]
     },
     "execution_count": 4,
     "metadata": {},
     "output_type": "execute_result"
    }
   ],
   "source": [
    "df.sample(5)"
   ]
  },
  {
   "cell_type": "markdown",
   "metadata": {},
   "source": [
    "# Frequency Distribution - Single Level"
   ]
  },
  {
   "cell_type": "markdown",
   "metadata": {},
   "source": [
    "#### Number of reviews per each city"
   ]
  },
  {
   "cell_type": "code",
   "execution_count": 76,
   "metadata": {},
   "outputs": [
    {
     "data": {
      "text/plain": [
       "city\n",
       "Ahangama          50\n",
       "Ampitiya          50\n",
       "Hantana           50\n",
       "Gurudeniya        50\n",
       "Kosgoda           50\n",
       "Wattegama         50\n",
       "Rathgama          50\n",
       "Miwaladeniya      50\n",
       "Werapitiya        50\n",
       "Heerassagala      99\n",
       "Ahungalla        100\n",
       "Kundasale        100\n",
       "Koggala          100\n",
       "Bentota          348\n",
       "Hikkaduwa        400\n",
       "Pottuvil         438\n",
       "Unawatuna        449\n",
       "Arugam Bay       492\n",
       "Galle            550\n",
       "Trincomalee      913\n",
       "Kandy           1448\n",
       "Nuwara Eliya    1927\n",
       "Ella            1948\n",
       "Colombo         1997\n",
       "Name: city, dtype: int64"
      ]
     },
     "execution_count": 76,
     "metadata": {},
     "output_type": "execute_result"
    }
   ],
   "source": [
    "df.groupby(\"city\")['city'].count().sort_values()"
   ]
  },
  {
   "cell_type": "markdown",
   "metadata": {},
   "source": [
    "#### Number of Reviews per each Hotel"
   ]
  },
  {
   "cell_type": "code",
   "execution_count": 17,
   "metadata": {},
   "outputs": [
    {
     "data": {
      "text/plain": [
       "placeName\n",
       "Wild Resort Ella                   34\n",
       "Dutch Bay Beach Cottages           35\n",
       "Ella Paddy Field View Guest Inn    38\n",
       "Trinco Blue Waves                  40\n",
       "Trincomalee Beach Resort & Spa     40\n",
       "                                   ..\n",
       "Trinco Blu By Cinnamon             50\n",
       "Welcombe Hotel - Trinco            50\n",
       "Whisky Point Resort                50\n",
       "Yara Galle Fort                    50\n",
       "Zion View Ella Green Retreat       50\n",
       "Name: placeName, Length: 239, dtype: int64"
      ]
     },
     "execution_count": 17,
     "metadata": {},
     "output_type": "execute_result"
    }
   ],
   "source": [
    "# Number of reviews per each hotel\n",
    "df.groupby(\"placeName\")['placeName'].count().sort_values()"
   ]
  },
  {
   "cell_type": "markdown",
   "metadata": {},
   "source": [
    "#### Number of Reviews per Each Trip Type"
   ]
  },
  {
   "cell_type": "code",
   "execution_count": 18,
   "metadata": {},
   "outputs": [
    {
     "data": {
      "text/plain": [
       "tripType\n",
       "BUSINESS     372\n",
       "SOLO         918\n",
       "NONE        1042\n",
       "FRIENDS     1821\n",
       "FAMILY      3470\n",
       "COUPLES     4177\n",
       "Name: tripType, dtype: int64"
      ]
     },
     "execution_count": 18,
     "metadata": {},
     "output_type": "execute_result"
    }
   ],
   "source": [
    "df.groupby(\"tripType\")['tripType'].count().sort_values()"
   ]
  },
  {
   "cell_type": "code",
   "execution_count": null,
   "metadata": {},
   "outputs": [
    {
     "data": {
      "text/plain": [
       "<seaborn.axisgrid.FacetGrid at 0x1fc5fe54050>"
      ]
     },
     "execution_count": 44,
     "metadata": {},
     "output_type": "execute_result"
    },
    {
     "data": {
      "image/png": "[encoded data removed]",
      "text/plain": [
       "<Figure size 500x500 with 1 Axes>"
      ]
     },
     "metadata": {},
     "output_type": "display_data"
    }
   ],
   "source": [
    "sns.displot(df, x=\"tripType\", shrink=0.6)"
   ]
  },
  {
   "cell_type": "code",
   "execution_count": 32,
   "metadata": {},
   "outputs": [
    {
     "data": {
      "text/plain": [
       "numpy.ndarray"
      ]
     },
     "execution_count": 32,
     "metadata": {},
     "output_type": "execute_result"
    }
   ],
   "source": [
    "type(df[\"city\"].values)"
   ]
  },
  {
   "cell_type": "markdown",
   "metadata": {},
   "source": [
    "#### Number of Reviews per Each PlaceRating"
   ]
  },
  {
   "cell_type": "code",
   "execution_count": 71,
   "metadata": {},
   "outputs": [
    {
     "data": {
      "text/html": [
       "<div>\n",
       "<style scoped>\n",
       "    .dataframe tbody tr th:only-of-type {\n",
       "        vertical-align: middle;\n",
       "    }\n",
       "\n",
       "    .dataframe tbody tr th {\n",
       "        vertical-align: top;\n",
       "    }\n",
       "\n",
       "    .dataframe thead th {\n",
       "        text-align: right;\n",
       "    }\n",
       "</style>\n",
       "<table border=\"1\" class=\"dataframe\">\n",
       "  <thead>\n",
       "    <tr style=\"text-align: right;\">\n",
       "      <th></th>\n",
       "      <th></th>\n",
       "      <th>placeRating</th>\n",
       "    </tr>\n",
       "    <tr>\n",
       "      <th>placeName</th>\n",
       "      <th>placeRating</th>\n",
       "      <th></th>\n",
       "    </tr>\n",
       "  </thead>\n",
       "  <tbody>\n",
       "    <tr>\n",
       "      <th>Wild Resort Ella</th>\n",
       "      <th>4.5</th>\n",
       "      <td>34</td>\n",
       "    </tr>\n",
       "    <tr>\n",
       "      <th>Dutch Bay Beach Cottages</th>\n",
       "      <th>4.0</th>\n",
       "      <td>35</td>\n",
       "    </tr>\n",
       "    <tr>\n",
       "      <th>Ella Paddy Field View Guest Inn</th>\n",
       "      <th>4.0</th>\n",
       "      <td>38</td>\n",
       "    </tr>\n",
       "    <tr>\n",
       "      <th>Trinco Blue Waves</th>\n",
       "      <th>4.5</th>\n",
       "      <td>40</td>\n",
       "    </tr>\n",
       "    <tr>\n",
       "      <th>Trincomalee Beach Resort &amp; Spa</th>\n",
       "      <th>2.5</th>\n",
       "      <td>40</td>\n",
       "    </tr>\n",
       "    <tr>\n",
       "      <th>...</th>\n",
       "      <th>...</th>\n",
       "      <td>...</td>\n",
       "    </tr>\n",
       "    <tr>\n",
       "      <th>Trinco Blu By Cinnamon</th>\n",
       "      <th>4.5</th>\n",
       "      <td>50</td>\n",
       "    </tr>\n",
       "    <tr>\n",
       "      <th>Welcombe Hotel - Trinco</th>\n",
       "      <th>3.5</th>\n",
       "      <td>50</td>\n",
       "    </tr>\n",
       "    <tr>\n",
       "      <th>Whisky Point Resort</th>\n",
       "      <th>5.0</th>\n",
       "      <td>50</td>\n",
       "    </tr>\n",
       "    <tr>\n",
       "      <th>Yara Galle Fort</th>\n",
       "      <th>5.0</th>\n",
       "      <td>50</td>\n",
       "    </tr>\n",
       "    <tr>\n",
       "      <th>Zion View Ella Green Retreat</th>\n",
       "      <th>4.5</th>\n",
       "      <td>50</td>\n",
       "    </tr>\n",
       "  </tbody>\n",
       "</table>\n",
       "<p>239 rows × 1 columns</p>\n",
       "</div>"
      ],
      "text/plain": [
       "                                             placeRating\n",
       "placeName                       placeRating             \n",
       "Wild Resort Ella                4.5                   34\n",
       "Dutch Bay Beach Cottages        4.0                   35\n",
       "Ella Paddy Field View Guest Inn 4.0                   38\n",
       "Trinco Blue Waves               4.5                   40\n",
       "Trincomalee Beach Resort & Spa  2.5                   40\n",
       "...                                                  ...\n",
       "Trinco Blu By Cinnamon          4.5                   50\n",
       "Welcombe Hotel - Trinco         3.5                   50\n",
       "Whisky Point Resort             5.0                   50\n",
       "Yara Galle Fort                 5.0                   50\n",
       "Zion View Ella Green Retreat    4.5                   50\n",
       "\n",
       "[239 rows x 1 columns]"
      ]
     },
     "execution_count": 71,
     "metadata": {},
     "output_type": "execute_result"
    }
   ],
   "source": [
    "place_rating_count = df.groupby([\"placeName\",\"placeRating\"])['placeRating'].count().sort_values().to_frame()\n",
    "place_rating_count"
   ]
  },
  {
   "cell_type": "code",
   "execution_count": 73,
   "metadata": {},
   "outputs": [
    {
     "data": {
      "text/html": [
       "<div>\n",
       "<style scoped>\n",
       "    .dataframe tbody tr th:only-of-type {\n",
       "        vertical-align: middle;\n",
       "    }\n",
       "\n",
       "    .dataframe tbody tr th {\n",
       "        vertical-align: top;\n",
       "    }\n",
       "\n",
       "    .dataframe thead th {\n",
       "        text-align: right;\n",
       "    }\n",
       "</style>\n",
       "<table border=\"1\" class=\"dataframe\">\n",
       "  <thead>\n",
       "    <tr style=\"text-align: right;\">\n",
       "      <th></th>\n",
       "      <th></th>\n",
       "      <th>rating_count</th>\n",
       "    </tr>\n",
       "    <tr>\n",
       "      <th>placeName</th>\n",
       "      <th>placeRating</th>\n",
       "      <th></th>\n",
       "    </tr>\n",
       "  </thead>\n",
       "  <tbody>\n",
       "    <tr>\n",
       "      <th>Wild Resort Ella</th>\n",
       "      <th>4.5</th>\n",
       "      <td>34</td>\n",
       "    </tr>\n",
       "    <tr>\n",
       "      <th>Dutch Bay Beach Cottages</th>\n",
       "      <th>4.0</th>\n",
       "      <td>35</td>\n",
       "    </tr>\n",
       "    <tr>\n",
       "      <th>Ella Paddy Field View Guest Inn</th>\n",
       "      <th>4.0</th>\n",
       "      <td>38</td>\n",
       "    </tr>\n",
       "    <tr>\n",
       "      <th>Trinco Blue Waves</th>\n",
       "      <th>4.5</th>\n",
       "      <td>40</td>\n",
       "    </tr>\n",
       "    <tr>\n",
       "      <th>Trincomalee Beach Resort &amp; Spa</th>\n",
       "      <th>2.5</th>\n",
       "      <td>40</td>\n",
       "    </tr>\n",
       "    <tr>\n",
       "      <th>...</th>\n",
       "      <th>...</th>\n",
       "      <td>...</td>\n",
       "    </tr>\n",
       "    <tr>\n",
       "      <th>Trinco Blu By Cinnamon</th>\n",
       "      <th>4.5</th>\n",
       "      <td>50</td>\n",
       "    </tr>\n",
       "    <tr>\n",
       "      <th>Welcombe Hotel - Trinco</th>\n",
       "      <th>3.5</th>\n",
       "      <td>50</td>\n",
       "    </tr>\n",
       "    <tr>\n",
       "      <th>Whisky Point Resort</th>\n",
       "      <th>5.0</th>\n",
       "      <td>50</td>\n",
       "    </tr>\n",
       "    <tr>\n",
       "      <th>Yara Galle Fort</th>\n",
       "      <th>5.0</th>\n",
       "      <td>50</td>\n",
       "    </tr>\n",
       "    <tr>\n",
       "      <th>Zion View Ella Green Retreat</th>\n",
       "      <th>4.5</th>\n",
       "      <td>50</td>\n",
       "    </tr>\n",
       "  </tbody>\n",
       "</table>\n",
       "<p>239 rows × 1 columns</p>\n",
       "</div>"
      ],
      "text/plain": [
       "                                             rating_count\n",
       "placeName                       placeRating              \n",
       "Wild Resort Ella                4.5                    34\n",
       "Dutch Bay Beach Cottages        4.0                    35\n",
       "Ella Paddy Field View Guest Inn 4.0                    38\n",
       "Trinco Blue Waves               4.5                    40\n",
       "Trincomalee Beach Resort & Spa  2.5                    40\n",
       "...                                                   ...\n",
       "Trinco Blu By Cinnamon          4.5                    50\n",
       "Welcombe Hotel - Trinco         3.5                    50\n",
       "Whisky Point Resort             5.0                    50\n",
       "Yara Galle Fort                 5.0                    50\n",
       "Zion View Ella Green Retreat    4.5                    50\n",
       "\n",
       "[239 rows x 1 columns]"
      ]
     },
     "execution_count": 73,
     "metadata": {},
     "output_type": "execute_result"
    }
   ],
   "source": [
    "place_rating_count.rename(columns={\"placeRating\": \"rating_count\"}, inplace=True)\n",
    "place_rating_count"
   ]
  },
  {
   "cell_type": "code",
   "execution_count": 74,
   "metadata": {},
   "outputs": [
    {
     "data": {
      "text/html": [
       "<div>\n",
       "<style scoped>\n",
       "    .dataframe tbody tr th:only-of-type {\n",
       "        vertical-align: middle;\n",
       "    }\n",
       "\n",
       "    .dataframe tbody tr th {\n",
       "        vertical-align: top;\n",
       "    }\n",
       "\n",
       "    .dataframe thead th {\n",
       "        text-align: right;\n",
       "    }\n",
       "</style>\n",
       "<table border=\"1\" class=\"dataframe\">\n",
       "  <thead>\n",
       "    <tr style=\"text-align: right;\">\n",
       "      <th></th>\n",
       "      <th>placeName</th>\n",
       "      <th>placeRating</th>\n",
       "      <th>rating_count</th>\n",
       "    </tr>\n",
       "  </thead>\n",
       "  <tbody>\n",
       "    <tr>\n",
       "      <th>0</th>\n",
       "      <td>Wild Resort Ella</td>\n",
       "      <td>4.5</td>\n",
       "      <td>34</td>\n",
       "    </tr>\n",
       "    <tr>\n",
       "      <th>1</th>\n",
       "      <td>Dutch Bay Beach Cottages</td>\n",
       "      <td>4.0</td>\n",
       "      <td>35</td>\n",
       "    </tr>\n",
       "    <tr>\n",
       "      <th>2</th>\n",
       "      <td>Ella Paddy Field View Guest Inn</td>\n",
       "      <td>4.0</td>\n",
       "      <td>38</td>\n",
       "    </tr>\n",
       "    <tr>\n",
       "      <th>3</th>\n",
       "      <td>Trinco Blue Waves</td>\n",
       "      <td>4.5</td>\n",
       "      <td>40</td>\n",
       "    </tr>\n",
       "    <tr>\n",
       "      <th>4</th>\n",
       "      <td>Trincomalee Beach Resort &amp; Spa</td>\n",
       "      <td>2.5</td>\n",
       "      <td>40</td>\n",
       "    </tr>\n",
       "    <tr>\n",
       "      <th>...</th>\n",
       "      <td>...</td>\n",
       "      <td>...</td>\n",
       "      <td>...</td>\n",
       "    </tr>\n",
       "    <tr>\n",
       "      <th>234</th>\n",
       "      <td>Trinco Blu By Cinnamon</td>\n",
       "      <td>4.5</td>\n",
       "      <td>50</td>\n",
       "    </tr>\n",
       "    <tr>\n",
       "      <th>235</th>\n",
       "      <td>Welcombe Hotel - Trinco</td>\n",
       "      <td>3.5</td>\n",
       "      <td>50</td>\n",
       "    </tr>\n",
       "    <tr>\n",
       "      <th>236</th>\n",
       "      <td>Whisky Point Resort</td>\n",
       "      <td>5.0</td>\n",
       "      <td>50</td>\n",
       "    </tr>\n",
       "    <tr>\n",
       "      <th>237</th>\n",
       "      <td>Yara Galle Fort</td>\n",
       "      <td>5.0</td>\n",
       "      <td>50</td>\n",
       "    </tr>\n",
       "    <tr>\n",
       "      <th>238</th>\n",
       "      <td>Zion View Ella Green Retreat</td>\n",
       "      <td>4.5</td>\n",
       "      <td>50</td>\n",
       "    </tr>\n",
       "  </tbody>\n",
       "</table>\n",
       "<p>239 rows × 3 columns</p>\n",
       "</div>"
      ],
      "text/plain": [
       "                           placeName  placeRating  rating_count\n",
       "0                   Wild Resort Ella          4.5            34\n",
       "1           Dutch Bay Beach Cottages          4.0            35\n",
       "2    Ella Paddy Field View Guest Inn          4.0            38\n",
       "3                  Trinco Blue Waves          4.5            40\n",
       "4     Trincomalee Beach Resort & Spa          2.5            40\n",
       "..                               ...          ...           ...\n",
       "234           Trinco Blu By Cinnamon          4.5            50\n",
       "235          Welcombe Hotel - Trinco          3.5            50\n",
       "236              Whisky Point Resort          5.0            50\n",
       "237                  Yara Galle Fort          5.0            50\n",
       "238     Zion View Ella Green Retreat          4.5            50\n",
       "\n",
       "[239 rows x 3 columns]"
      ]
     },
     "execution_count": 74,
     "metadata": {},
     "output_type": "execute_result"
    }
   ],
   "source": [
    "place_rating_count2 = place_rating_count.reset_index()\n",
    "place_rating_count2"
   ]
  },
  {
   "cell_type": "code",
   "execution_count": 75,
   "metadata": {},
   "outputs": [
    {
     "data": {
      "text/plain": [
       "<seaborn.axisgrid.FacetGrid at 0x1fc56f42710>"
      ]
     },
     "execution_count": 75,
     "metadata": {},
     "output_type": "execute_result"
    },
    {
     "data": {
      "image/png": "[encoded data removed]",
      "text/plain": [
       "<Figure size 500x500 with 1 Axes>"
      ]
     },
     "metadata": {},
     "output_type": "display_data"
    }
   ],
   "source": [
    "sns.displot(place_rating_count2, x=\"placeRating\", shrink =.8)"
   ]
  },
  {
   "cell_type": "markdown",
   "metadata": {},
   "source": [
    "#### Number of Reviews per Each User Rating"
   ]
  },
  {
   "cell_type": "code",
   "execution_count": 50,
   "metadata": {},
   "outputs": [
    {
     "data": {
      "text/plain": [
       "userRating\n",
       "2.0     353\n",
       "1.0     560\n",
       "3.0     695\n",
       "4.0    1786\n",
       "5.0    8415\n",
       "Name: userRating, dtype: int64"
      ]
     },
     "execution_count": 50,
     "metadata": {},
     "output_type": "execute_result"
    }
   ],
   "source": [
    "df.groupby(\"userRating\")['userRating'].count().sort_values()"
   ]
  },
  {
   "cell_type": "code",
   "execution_count": 51,
   "metadata": {},
   "outputs": [
    {
     "data": {
      "text/plain": [
       "<seaborn.axisgrid.FacetGrid at 0x1fc61f56210>"
      ]
     },
     "execution_count": 51,
     "metadata": {},
     "output_type": "execute_result"
    },
    {
     "data": {
      "image/png": "[encoded data removed]",
      "text/plain": [
       "<Figure size 500x500 with 1 Axes>"
      ]
     },
     "metadata": {},
     "output_type": "display_data"
    }
   ],
   "source": [
    "sns.displot(df, x=\"userRating\", shrink =9)"
   ]
  },
  {
   "cell_type": "code",
   "execution_count": null,
   "metadata": {},
   "outputs": [],
   "source": [
    "placeRating"
   ]
  },
  {
   "cell_type": "markdown",
   "metadata": {},
   "source": [
    "y - place rating\n",
    "horizontally divided for each rating in y\n",
    "histogram of user rating for each place"
   ]
  },
  {
   "cell_type": "markdown",
   "metadata": {},
   "source": [
    "# Frequency Distribution - Mulit Level"
   ]
  },
  {
   "cell_type": "markdown",
   "metadata": {},
   "source": []
  },
  {
   "cell_type": "code",
   "execution_count": null,
   "metadata": {},
   "outputs": [],
   "source": []
  }
 ],
 "metadata": {
  "kernelspec": {
   "display_name": "NLPEnv",
   "language": "python",
   "name": "python3"
  },
  "language_info": {
   "codemirror_mode": {
    "name": "ipython",
    "version": 3
   },
   "file_extension": ".py",
   "mimetype": "text/x-python",
   "name": "python",
   "nbconvert_exporter": "python",
   "pygments_lexer": "ipython3",
   "version": "3.13.0"
  }
 },
 "nbformat": 4,
 "nbformat_minor": 2
}
