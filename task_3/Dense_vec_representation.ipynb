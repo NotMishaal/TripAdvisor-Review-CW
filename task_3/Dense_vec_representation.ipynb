{
 "cells": [
  {
   "cell_type": "code",
   "execution_count": null,
   "metadata": {},
   "outputs": [],
   "source": [
    "import pandas as pd\n",
    "import numpy as np\n",
    "\n",
    "from gensim.models import FastText, Word2Vec\n",
    "from nltk.tokenize import  word_tokenize\n",
    "\n",
    "import nltk\n",
    "nltk.download('punkt_tab')"
   ]
  },
  {
   "cell_type": "code",
   "execution_count": null,
   "metadata": {},
   "outputs": [],
   "source": [
    "drive_path = \"/content/drive/MyDrive/Year 4/NLP notebooks and data/\""
   ]
  },
  {
   "cell_type": "code",
   "execution_count": null,
   "metadata": {},
   "outputs": [],
   "source": [
    "df = pd.read_csv('/content/drive/MyDrive/Year 4/NLP notebooks and data/dataset_cleaned.csv')"
   ]
  },
  {
   "cell_type": "code",
   "execution_count": null,
   "metadata": {},
   "outputs": [],
   "source": [
    "texts = df['review_text'].astype(str).tolist()"
   ]
  },
  {
   "cell_type": "markdown",
   "metadata": {},
   "source": [
    "# Functions Defining"
   ]
  },
  {
   "cell_type": "code",
   "execution_count": null,
   "metadata": {},
   "outputs": [],
   "source": [
    "def tokenize_sentences(name_tokenizer = \"nltk\"):\n",
    "  if name_tokenizer == \"nltk\":\n",
    "    # Tokenize the sentences\n",
    "    tokenized_sentences = [word_tokenize(sentence.lower()) for sentence in texts]\n",
    "  return tokenized_sentences"
   ]
  },
  {
   "cell_type": "code",
   "execution_count": null,
   "metadata": {},
   "outputs": [],
   "source": [
    "# Function to compute mean FastText embeddings\n",
    "def mean_fasttext(tokenized_sentences, fasttext_model, embedding_dim=300):\n",
    "    mean_vectors = []\n",
    "    for sentence in tokenized_sentences:\n",
    "        vectors = [\n",
    "            fasttext_model.wv[word]\n",
    "            for word in sentence\n",
    "            if word in fasttext_model.wv.key_to_index\n",
    "        ]\n",
    "        if vectors:\n",
    "            mean_vec = np.mean(vectors, axis=0)\n",
    "        else:\n",
    "            mean_vec = np.zeros(embedding_dim)\n",
    "        mean_vectors.append(mean_vec)\n",
    "    return np.array(mean_vectors)\n",
    "\n",
    "# Compute mean vectors\n",
    "mean_vectors = mean_fasttext(tokenized_sentences, fasttext_model)\n",
    "\n",
    "print(mean_vectors.shape)  # Shape: (num_sentences, embedding_dim)"
   ]
  },
  {
   "cell_type": "markdown",
   "metadata": {},
   "source": [
    "## tokenizing Sentences"
   ]
  },
  {
   "cell_type": "code",
   "execution_count": null,
   "metadata": {},
   "outputs": [],
   "source": [
    "tokenized_sentences = tokenize_sentences(\"nltk\")"
   ]
  },
  {
   "cell_type": "markdown",
   "metadata": {},
   "source": [
    "# Fasttext"
   ]
  },
  {
   "cell_type": "code",
   "execution_count": null,
   "metadata": {},
   "outputs": [],
   "source": [
    "fasttext_model = FastText(vector_size=100, window=3, min_count=1)  # instantiate\n",
    "fasttext_model.build_vocab(corpus_iterable=tokenized_sentences)\n",
    "fasttext_model.train(corpus_iterable=tokenized_sentences, total_examples=len(texts), epochs=10)\n",
    "# get vocab keys with indices\n",
    "vocab = fasttext_model.wv.key_to_index"
   ]
  },
  {
   "cell_type": "code",
   "execution_count": null,
   "metadata": {},
   "outputs": [],
   "source": [
    "print(list(fasttext_model.wv.key_to_index.keys())[:10])  # Print some vocabulary keys"
   ]
  },
  {
   "cell_type": "code",
   "execution_count": null,
   "metadata": {},
   "outputs": [],
   "source": [
    "mean_vectors = mean_fasttext(tokenized_sentences, fasttext_model, embedding_dim=100)\n",
    "print(mean_vectors.shape)  # Shape: (num_sentences, 4)\n"
   ]
  },
  {
   "cell_type": "code",
   "execution_count": null,
   "metadata": {},
   "outputs": [],
   "source": [
    "fasttext_model.wv.most_similar('amazing')"
   ]
  },
  {
   "cell_type": "code",
   "execution_count": null,
   "metadata": {},
   "outputs": [],
   "source": [
    "fasttext_model.wv.most_similar('dirty')"
   ]
  },
  {
   "cell_type": "code",
   "execution_count": null,
   "metadata": {},
   "outputs": [],
   "source": [
    "fasttext_model.wv.most_similar('shocked')"
   ]
  },
  {
   "cell_type": "code",
   "execution_count": null,
   "metadata": {},
   "outputs": [],
   "source": [
    "# Save the NumPy array as a .npy file\n",
    "np.save(drive_path+'/dense_vectors/fasttext_vectors.npy', np.array(mean_vectors))"
   ]
  },
  {
   "cell_type": "markdown",
   "metadata": {},
   "source": [
    "# Word2Vec"
   ]
  },
  {
   "cell_type": "code",
   "execution_count": null,
   "metadata": {},
   "outputs": [],
   "source": [
    "# Train Word2Vec model\n",
    "word2vec_model = Word2Vec(sentences=tokenized_sentences, vector_size=100, window=5, min_count=1, workers=4)"
   ]
  },
  {
   "cell_type": "code",
   "execution_count": null,
   "metadata": {},
   "outputs": [],
   "source": [
    "w1 = \"dirty\"\n",
    "word2vec_model.wv.most_similar(positive=w1)"
   ]
  },
  {
   "cell_type": "code",
   "execution_count": null,
   "metadata": {},
   "outputs": [],
   "source": [
    "w2 = \"polite\"\n",
    "word2vec_model.wv.most_similar(positive=w2)"
   ]
  },
  {
   "cell_type": "code",
   "execution_count": null,
   "metadata": {},
   "outputs": [],
   "source": [
    "w3 = \"shocked\"\n",
    "word2vec_model.wv.most_similar(positive=w3)"
   ]
  },
  {
   "cell_type": "code",
   "execution_count": null,
   "metadata": {},
   "outputs": [],
   "source": [
    "# Get vectors for each sentence\n",
    "embedding_dim = word2vec_model.vector_size\n",
    "sentence_vectors = [get_text_vector(sentence, word2vec_model, embedding_dim) for sentence in tokenized_sentences]"
   ]
  },
  {
   "cell_type": "code",
   "execution_count": null,
   "metadata": {},
   "outputs": [],
   "source": [
    "# Save the NumPy array as a .npy file\n",
    "np.save(drive_path+'/dense_vectors/word2vec_vectors.npy', np.array(sentence_vectors))"
   ]
  }
 ],
 "metadata": {
  "kernelspec": {
   "display_name": "NLPEnv",
   "language": "python",
   "name": "python3"
  },
  "language_info": {
   "codemirror_mode": {
    "name": "ipython",
    "version": 3
   },
   "file_extension": ".py",
   "mimetype": "text/x-python",
   "name": "python",
   "nbconvert_exporter": "python",
   "pygments_lexer": "ipython3",
   "version": "3.13.0"
  }
 },
 "nbformat": 4,
 "nbformat_minor": 2
}
