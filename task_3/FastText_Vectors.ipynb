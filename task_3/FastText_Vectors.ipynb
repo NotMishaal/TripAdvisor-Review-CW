{
 "cells": [
  {
   "cell_type": "code",
   "execution_count": 2,
   "metadata": {
    "id": "pwq6d7IWsoW1"
   },
   "outputs": [],
   "source": [
    "import numpy as np\n",
    "import pandas as pd"
   ]
  },
  {
   "cell_type": "code",
   "execution_count": 13,
   "metadata": {
    "id": "42uJoNWFy3J8"
   },
   "outputs": [],
   "source": [
    "import gensim"
   ]
  },
  {
   "cell_type": "code",
   "execution_count": 6,
   "metadata": {
    "id": "l8_C3VrLw7Jz"
   },
   "outputs": [],
   "source": [
    "import os\n",
    "import requests\n",
    "import zipfile"
   ]
  },
  {
   "cell_type": "code",
   "execution_count": 2,
   "metadata": {
    "id": "-4up_X59u8c4"
   },
   "outputs": [],
   "source": [
    "from tensorflow.keras.preprocessing.text import Tokenizer"
   ]
  },
  {
   "cell_type": "code",
   "execution_count": 3,
   "metadata": {
    "id": "R6EHQFOyvHp4"
   },
   "outputs": [],
   "source": [
    "from tensorflow.keras.preprocessing.sequence import pad_sequences"
   ]
  },
  {
   "cell_type": "code",
   "execution_count": 5,
   "metadata": {
    "colab": {
     "base_uri": "https://localhost:8080/"
    },
    "id": "heDzvKIhsyqg",
    "outputId": "900fa850-f2c2-4d17-eed8-ace7d50961b3"
   },
   "outputs": [
    {
     "name": "stdout",
     "output_type": "stream",
     "text": [
      "Mounted at /content/drive\n"
     ]
    }
   ],
   "source": [
    "from google.colab import drive\n",
    "drive.mount('/content/drive')"
   ]
  },
  {
   "cell_type": "code",
   "execution_count": 7,
   "metadata": {
    "id": "P74aqF0js6gH"
   },
   "outputs": [],
   "source": [
    "drive_path = \"/content/drive/MyDrive/Year 4/NLP notebooks and data/\""
   ]
  },
  {
   "cell_type": "code",
   "execution_count": 7,
   "metadata": {},
   "outputs": [
    {
     "data": {
      "text/plain": [
       "(11808, 31)"
      ]
     },
     "execution_count": 7,
     "metadata": {},
     "output_type": "execute_result"
    }
   ],
   "source": [
    "df_lablled = pd.read_csv(r'C:\\Users\\Lisara\\RGU-Y4-C\\NLP\\TripAdvisor-Review-CW\\data\\processed\\labelled_data.csv')\n",
    "df_lablled.shape"
   ]
  },
  {
   "cell_type": "code",
   "execution_count": 8,
   "metadata": {
    "id": "fq8egS0Gs-Z7"
   },
   "outputs": [],
   "source": [
    "df = pd.read_csv('/content/drive/MyDrive/Year 4/NLP notebooks and data/dataset_cleaned.csv')\n",
    "\n",
    "# print(df.head())\n"
   ]
  },
  {
   "cell_type": "code",
   "execution_count": 9,
   "metadata": {
    "id": "TF0htqKfuvXq"
   },
   "outputs": [],
   "source": [
    "texts = df['review_text'].astype(str).tolist()"
   ]
  },
  {
   "cell_type": "code",
   "execution_count": null,
   "metadata": {},
   "outputs": [],
   "source": [
    "texts"
   ]
  },
  {
   "cell_type": "code",
   "execution_count": 10,
   "metadata": {
    "id": "0DY3Pi22u29Z"
   },
   "outputs": [],
   "source": [
    "# Tokenize the text\n",
    "tokenizer = Tokenizer()\n",
    "tokenizer.fit_on_texts(texts)\n",
    "sequences = tokenizer.texts_to_sequences(texts)\n",
    "word_index = tokenizer.word_index"
   ]
  },
  {
   "cell_type": "code",
   "execution_count": null,
   "metadata": {
    "id": "KIjrWTpAvDYJ"
   },
   "outputs": [],
   "source": [
    "# Pad sequences - when training\n",
    "# max_sequence_length = max(len(seq) for seq in sequences)\n",
    "# data = pad_sequences(sequences, maxlen=max_sequence_length, padding='post')"
   ]
  },
  {
   "cell_type": "code",
   "execution_count": 11,
   "metadata": {
    "id": "LGdQc1bJvJ4m"
   },
   "outputs": [],
   "source": [
    "# Step 3: Download and Load Pre-trained FastText Embeddings\n",
    "# Download the pre-trained FastText model (English)\n",
    "fasttext_url = 'https://dl.fbaipublicfiles.com/fasttext/vectors-crawl/cc.en.300.vec.gz'\n",
    "fasttext_path = drive_path+'cc.en.300.vec.gz'"
   ]
  },
  {
   "cell_type": "code",
   "execution_count": 12,
   "metadata": {
    "colab": {
     "base_uri": "https://localhost:8080/"
    },
    "id": "wEcaOykIwy_I",
    "outputId": "5b1d7fee-35e0-49f2-8141-e8f7cacd02fc"
   },
   "outputs": [
    {
     "name": "stdout",
     "output_type": "stream",
     "text": [
      "Downloading FastText embeddings...\n"
     ]
    }
   ],
   "source": [
    "if not os.path.exists(fasttext_path):\n",
    "    print(\"Downloading FastText embeddings...\")\n",
    "    response = requests.get(fasttext_url)\n",
    "    with open(fasttext_path, 'wb') as f:\n",
    "        f.write(response.content)"
   ]
  },
  {
   "cell_type": "code",
   "execution_count": 14,
   "metadata": {
    "colab": {
     "base_uri": "https://localhost:8080/"
    },
    "id": "CKKuKS9zw2ve",
    "outputId": "ad61c9b1-f027-4bf2-d4e1-de8320de574f"
   },
   "outputs": [
    {
     "name": "stdout",
     "output_type": "stream",
     "text": [
      "Loading FastText model...\n"
     ]
    }
   ],
   "source": [
    "# Load FastText embeddings\n",
    "print(\"Loading FastText model...\")\n",
    "fasttext_model = gensim.models.KeyedVectors.load_word2vec_format(fasttext_path, binary=False)\n"
   ]
  },
  {
   "cell_type": "code",
   "execution_count": 15,
   "metadata": {
    "id": "1thfIUIcvQOS"
   },
   "outputs": [],
   "source": [
    "# Prepare embedding matrix\n",
    "embedding_dim = 300  # FastText vectors are 300-dimensional\n",
    "vocab_size = len(word_index) + 1\n",
    "embedding_matrix = np.zeros((vocab_size, embedding_dim))\n"
   ]
  },
  {
   "cell_type": "code",
   "execution_count": 16,
   "metadata": {
    "id": "i8C211LgzA5Q"
   },
   "outputs": [],
   "source": [
    "for word, i in word_index.items():\n",
    "    if word in fasttext_model:\n",
    "        embedding_matrix[i] = fasttext_model[word]\n",
    "    else:\n",
    "        # For words not in the FastText model, you can assign a random vector or leave it as zeros\n",
    "        embedding_matrix[i] = np.random.normal(size=(embedding_dim,))"
   ]
  },
  {
   "cell_type": "code",
   "execution_count": 17,
   "metadata": {
    "id": "IzmE-Feava4N"
   },
   "outputs": [],
   "source": [
    "# Save the embedding matrix to a file\n",
    "np.save(drive_path+'FastText_embedding_matrix.npy', embedding_matrix)"
   ]
  },
  {
   "cell_type": "code",
   "execution_count": 18,
   "metadata": {
    "id": "uQMYyh9tvf_a"
   },
   "outputs": [],
   "source": [
    "# Load the embedding matrix from the file\n",
    "embedding_matrix = np.load(drive_path+'FastText_embedding_matrix.npy')"
   ]
  },
  {
   "cell_type": "code",
   "execution_count": null,
   "metadata": {},
   "outputs": [],
   "source": [
    "embedding_matrix.shape # (19401, 300)"
   ]
  }
 ],
 "metadata": {
  "colab": {
   "provenance": []
  },
  "kernelspec": {
   "display_name": "NLPEnv",
   "language": "python",
   "name": "python3"
  },
  "language_info": {
   "codemirror_mode": {
    "name": "ipython",
    "version": 3
   },
   "file_extension": ".py",
   "mimetype": "text/x-python",
   "name": "python",
   "nbconvert_exporter": "python",
   "pygments_lexer": "ipython3",
   "version": "3.13.0"
  }
 },
 "nbformat": 4,
 "nbformat_minor": 0
}
