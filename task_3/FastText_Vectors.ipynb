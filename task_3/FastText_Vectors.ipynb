{
  "cells": [
    {
      "cell_type": "code",
      "execution_count": null,
      "metadata": {
        "colab": {
          "base_uri": "https://localhost:8080/"
        },
        "id": "r27d7nnqH63i",
        "outputId": "dbd83682-bd63-42ae-d38e-62198ee1f214"
      },
      "outputs": [
        {
          "name": "stdout",
          "output_type": "stream",
          "text": [
            "Collecting fasttext\n",
            "  Downloading fasttext-0.9.3.tar.gz (73 kB)\n",
            "\u001b[?25l     \u001b[90m━━━━━━━━━━━━━━━━━━━━━━━━━━━━━━━━━━━━━━━━\u001b[0m \u001b[32m0.0/73.4 kB\u001b[0m \u001b[31m?\u001b[0m eta \u001b[36m-:--:--\u001b[0m\r\u001b[2K     \u001b[90m━━━━━━━━━━━━━━━━━━━━━━━━━━━━━━━━━━━━━━━━\u001b[0m \u001b[32m73.4/73.4 kB\u001b[0m \u001b[31m2.1 MB/s\u001b[0m eta \u001b[36m0:00:00\u001b[0m\n",
            "\u001b[?25h  Installing build dependencies ... \u001b[?25l\u001b[?25hdone\n",
            "  Getting requirements to build wheel ... \u001b[?25l\u001b[?25hdone\n",
            "  Preparing metadata (pyproject.toml) ... \u001b[?25l\u001b[?25hdone\n",
            "Collecting pybind11>=2.2 (from fasttext)\n",
            "  Using cached pybind11-2.13.6-py3-none-any.whl.metadata (9.5 kB)\n",
            "Requirement already satisfied: setuptools>=0.7.0 in /usr/local/lib/python3.10/dist-packages (from fasttext) (75.1.0)\n",
            "Requirement already satisfied: numpy in /usr/local/lib/python3.10/dist-packages (from fasttext) (1.26.4)\n",
            "Using cached pybind11-2.13.6-py3-none-any.whl (243 kB)\n",
            "Building wheels for collected packages: fasttext\n",
            "  Building wheel for fasttext (pyproject.toml) ... \u001b[?25l\u001b[?25hdone\n",
            "  Created wheel for fasttext: filename=fasttext-0.9.3-cp310-cp310-linux_x86_64.whl size=4296188 sha256=ea490fcdd78a18a65e430c1ca78646e06ade238621443813d7b7f113fcfdc33e\n",
            "  Stored in directory: /root/.cache/pip/wheels/0d/a2/00/81db54d3e6a8199b829d58e02cec2ddb20ce3e59fad8d3c92a\n",
            "Successfully built fasttext\n",
            "Installing collected packages: pybind11, fasttext\n",
            "Successfully installed fasttext-0.9.3 pybind11-2.13.6\n"
          ]
        }
      ],
      "source": [
        "! pip install fasttext"
      ]
    },
    {
      "cell_type": "code",
      "execution_count": null,
      "metadata": {
        "id": "pwq6d7IWsoW1"
      },
      "outputs": [],
      "source": [
        "import numpy as np\n",
        "import pandas as pd"
      ]
    },
    {
      "cell_type": "code",
      "execution_count": null,
      "metadata": {
        "id": "42uJoNWFy3J8"
      },
      "outputs": [],
      "source": [
        "from gensim.models import FastText"
      ]
    },
    {
      "cell_type": "code",
      "execution_count": null,
      "metadata": {
        "id": "l8_C3VrLw7Jz"
      },
      "outputs": [],
      "source": [
        "import os\n",
        "import requests\n",
        "import zipfile"
      ]
    },
    {
      "cell_type": "code",
      "source": [
        "import nltk"
      ],
      "metadata": {
        "id": "E0hWaDOM6jqw"
      },
      "execution_count": null,
      "outputs": []
    },
    {
      "cell_type": "code",
      "execution_count": null,
      "metadata": {
        "id": "-4up_X59u8c4",
        "colab": {
          "base_uri": "https://localhost:8080/"
        },
        "outputId": "202af4be-6923-41e3-b0d9-c6a61426f3e3"
      },
      "outputs": [
        {
          "output_type": "stream",
          "name": "stderr",
          "text": [
            "[nltk_data] Downloading package punkt_tab to /root/nltk_data...\n",
            "[nltk_data]   Unzipping tokenizers/punkt_tab.zip.\n"
          ]
        },
        {
          "output_type": "execute_result",
          "data": {
            "text/plain": [
              "True"
            ]
          },
          "metadata": {},
          "execution_count": 5
        }
      ],
      "source": [
        "from nltk.tokenize import word_tokenize\n",
        "import nltk\n",
        "nltk.download('punkt_tab')"
      ]
    },
    {
      "cell_type": "code",
      "execution_count": null,
      "metadata": {
        "colab": {
          "base_uri": "https://localhost:8080/"
        },
        "id": "heDzvKIhsyqg",
        "outputId": "ed308328-4283-4e52-a8a5-c97b65cdb4bb"
      },
      "outputs": [
        {
          "output_type": "stream",
          "name": "stdout",
          "text": [
            "Mounted at /content/drive\n"
          ]
        }
      ],
      "source": [
        "from google.colab import drive\n",
        "drive.mount('/content/drive')"
      ]
    },
    {
      "cell_type": "code",
      "execution_count": null,
      "metadata": {
        "id": "P74aqF0js6gH"
      },
      "outputs": [],
      "source": [
        "drive_path = \"/content/drive/MyDrive/Year 4/NLP notebooks and data/\""
      ]
    },
    {
      "cell_type": "code",
      "execution_count": null,
      "metadata": {
        "id": "fq8egS0Gs-Z7"
      },
      "outputs": [],
      "source": [
        "df = pd.read_csv('/content/drive/MyDrive/Year 4/NLP notebooks and data/dense_vectors/w2v_sent_added.csv', index_col=0)\n"
      ]
    },
    {
      "cell_type": "code",
      "source": [
        "df.shape"
      ],
      "metadata": {
        "colab": {
          "base_uri": "https://localhost:8080/"
        },
        "collapsed": true,
        "id": "ObPL0xWArsLp",
        "outputId": "514b316c-ddf4-4e9c-d519-596c2d7ae89c"
      },
      "execution_count": null,
      "outputs": [
        {
          "output_type": "execute_result",
          "data": {
            "text/plain": [
              "(11808, 25)"
            ]
          },
          "metadata": {},
          "execution_count": 65
        }
      ]
    },
    {
      "cell_type": "code",
      "source": [
        "# df.head()"
      ],
      "metadata": {
        "collapsed": true,
        "colab": {
          "base_uri": "https://localhost:8080/",
          "height": 689
        },
        "id": "gkA7AbjeLTZl",
        "outputId": "1e576b09-3c9e-460a-ed98-9fc03c9adde8"
      },
      "execution_count": null,
      "outputs": [
        {
          "output_type": "execute_result",
          "data": {
            "text/plain": [
              "   helpfulVotes           id  \\\n",
              "0           0.0  978474125.0   \n",
              "1           0.0  978053018.0   \n",
              "2           0.0  976992067.0   \n",
              "3           0.0  976690540.0   \n",
              "4           0.0  976664122.0   \n",
              "\n",
              "                                             address     city  \\\n",
              "0  24 Dharmapala Mawatha Dharmapala Mawatha, Colo...  Colombo   \n",
              "1  24 Dharmapala Mawatha Dharmapala Mawatha, Colo...  Colombo   \n",
              "2  24 Dharmapala Mawatha Dharmapala Mawatha, Colo...  Colombo   \n",
              "3  24 Dharmapala Mawatha Dharmapala Mawatha, Colo...  Colombo   \n",
              "4  24 Dharmapala Mawatha Dharmapala Mawatha, Colo...  Colombo   \n",
              "\n",
              "               placeName  numberOfReviews  placeRating  \\\n",
              "0  Nh Collection Colombo             2392          4.5   \n",
              "1  Nh Collection Colombo             2392          4.5   \n",
              "2  Nh Collection Colombo             2392          4.5   \n",
              "3  Nh Collection Colombo             2392          4.5   \n",
              "4  Nh Collection Colombo             2392          4.5   \n",
              "\n",
              "                                              webUrl publishedDate  \\\n",
              "0  https://www.tripadvisor.com/Hotel_Review-g2939...    2024-11-03   \n",
              "1  https://www.tripadvisor.com/Hotel_Review-g2939...    2024-10-30   \n",
              "2  https://www.tripadvisor.com/Hotel_Review-g2939...    2024-10-28   \n",
              "3  https://www.tripadvisor.com/Hotel_Review-g2939...    2024-10-26   \n",
              "4  https://www.tripadvisor.com/Hotel_Review-g2939...    2024-10-26   \n",
              "\n",
              "   userRating  ...         username  \\\n",
              "0         5.0  ...         219nikal   \n",
              "1         1.0  ...  rajacool1984itz   \n",
              "2         5.0  ...        857navidj   \n",
              "3         5.0  ...      809mickaelt   \n",
              "4         5.0  ...    M1879HRchloet   \n",
              "\n",
              "                                         word_tokens  \\\n",
              "0  ['good', 'service', 'ayu', 'friendly', 'staff'...   \n",
              "1  ['change', 'r', 'lady', 'manager', 'r', 'hotel...   \n",
              "2  ['perfect', 'liked', 'everything', 'staff', 'k...   \n",
              "3  ['stay', 'unforgettable', 'hotel', 'beautiful'...   \n",
              "4  ['amazing', 'hotel', 'well', 'situated', 'colo...   \n",
              "\n",
              "                                          bpe_tokens  \\\n",
              "0  ['good', 'service', 'ayu', 'friendly', 'staff'...   \n",
              "1  ['change', 'r', 'lady', 'manager', 'r', 'hotel...   \n",
              "2  ['perfect', 'liked', 'everything', 'staff', 'k...   \n",
              "3  ['stay', 'unforgettable', 'hotel', 'beautiful'...   \n",
              "4  ['amazing', 'hotel', 'well', 'situated', 'colo...   \n",
              "\n",
              "                                       bigram_tokens  \\\n",
              "0  [('good', 'service'), ('service', 'ayu'), ('ay...   \n",
              "1  [('change', 'r'), ('r', 'lady'), ('lady', 'man...   \n",
              "2  [('perfect', 'liked'), ('liked', 'everything')...   \n",
              "3  [('stay', 'unforgettable'), ('unforgettable', ...   \n",
              "4  [('amazing', 'hotel'), ('hotel', 'well'), ('we...   \n",
              "\n",
              "                                      trigram_tokens  \\\n",
              "0  [('good', 'service', 'ayu'), ('service', 'ayu'...   \n",
              "1  [('change', 'r', 'lady'), ('r', 'lady', 'manag...   \n",
              "2  [('perfect', 'liked', 'everything'), ('liked',...   \n",
              "3  [('stay', 'unforgettable', 'hotel'), ('unforge...   \n",
              "4  [('amazing', 'hotel', 'well'), ('hotel', 'well...   \n",
              "\n",
              "                                   whitespace_tokens  \\\n",
              "0  ['good', 'service', 'ayu', 'friendly', 'staff'...   \n",
              "1  ['change', 'r', 'lady', 'manager', 'r', 'hotel...   \n",
              "2  ['perfect', 'liked', 'everything', 'staff', 'k...   \n",
              "3  ['stay', 'unforgettable', 'hotel', 'beautiful'...   \n",
              "4  ['amazing', 'hotel', 'well', 'situated', 'colo...   \n",
              "\n",
              "                                   rule_based_tokens  \\\n",
              "0  ['good', 'service', 'ayu', 'friendly', 'staff'...   \n",
              "1  ['change', 'r', 'lady', 'manager', 'r', 'hotel...   \n",
              "2  ['perfect', 'liked', 'everything', 'staff', 'k...   \n",
              "3  ['stay', 'unforgettable', 'hotel', 'beautiful'...   \n",
              "4  ['amazing', 'hotel', 'well', 'situated', 'colo...   \n",
              "\n",
              "                                        spacy_tokens  \\\n",
              "0  ['good', 'service', 'ayu', 'friendly', 'staff'...   \n",
              "1  ['change', 'r', 'lady', 'manager', 'r', 'hotel...   \n",
              "2  ['perfect', 'liked', 'everything', 'staff', 'k...   \n",
              "3  ['stay', 'unforgettable', 'hotel', 'beautiful'...   \n",
              "4  ['amazing', 'hotel', 'well', 'situated', 'colo...   \n",
              "\n",
              "                                    wordpiece_tokens  \\\n",
              "0  ['good', 'service', 'ayu', 'friendly', 'staff'...   \n",
              "1  ['change', 'r', 'lady', 'manager', 'r', 'hotel...   \n",
              "2  ['perfect', 'liked', 'everything', 'staff', 'k...   \n",
              "3  ['stay', 'unforgettable', 'hotel', 'beautiful'...   \n",
              "4  ['amazing', 'hotel', 'well', 'situated', 'colo...   \n",
              "\n",
              "                                    w2v_sent_vectors  \n",
              "0  [ 0.31044984  0.4014417   0.08356439 -0.276954...  \n",
              "1  [ 0.0217988   0.116291    0.17720811  0.093357...  \n",
              "2  [ 0.4899982   0.37943998  0.29790735 -0.087504...  \n",
              "3  [ 0.11686482  0.21760912 -0.11814022 -0.409385...  \n",
              "4  [ 0.26037872  0.18244962  0.12281694 -0.105581...  \n",
              "\n",
              "[5 rows x 25 columns]"
            ],
            "text/html": [
              "\n",
              "  <div id=\"df-70100e4d-6f1e-43c5-bc38-7ee05734d954\" class=\"colab-df-container\">\n",
              "    <div>\n",
              "<style scoped>\n",
              "    .dataframe tbody tr th:only-of-type {\n",
              "        vertical-align: middle;\n",
              "    }\n",
              "\n",
              "    .dataframe tbody tr th {\n",
              "        vertical-align: top;\n",
              "    }\n",
              "\n",
              "    .dataframe thead th {\n",
              "        text-align: right;\n",
              "    }\n",
              "</style>\n",
              "<table border=\"1\" class=\"dataframe\">\n",
              "  <thead>\n",
              "    <tr style=\"text-align: right;\">\n",
              "      <th></th>\n",
              "      <th>helpfulVotes</th>\n",
              "      <th>id</th>\n",
              "      <th>address</th>\n",
              "      <th>city</th>\n",
              "      <th>placeName</th>\n",
              "      <th>numberOfReviews</th>\n",
              "      <th>placeRating</th>\n",
              "      <th>webUrl</th>\n",
              "      <th>publishedDate</th>\n",
              "      <th>userRating</th>\n",
              "      <th>...</th>\n",
              "      <th>username</th>\n",
              "      <th>word_tokens</th>\n",
              "      <th>bpe_tokens</th>\n",
              "      <th>bigram_tokens</th>\n",
              "      <th>trigram_tokens</th>\n",
              "      <th>whitespace_tokens</th>\n",
              "      <th>rule_based_tokens</th>\n",
              "      <th>spacy_tokens</th>\n",
              "      <th>wordpiece_tokens</th>\n",
              "      <th>w2v_sent_vectors</th>\n",
              "    </tr>\n",
              "  </thead>\n",
              "  <tbody>\n",
              "    <tr>\n",
              "      <th>0</th>\n",
              "      <td>0.0</td>\n",
              "      <td>978474125.0</td>\n",
              "      <td>24 Dharmapala Mawatha Dharmapala Mawatha, Colo...</td>\n",
              "      <td>Colombo</td>\n",
              "      <td>Nh Collection Colombo</td>\n",
              "      <td>2392</td>\n",
              "      <td>4.5</td>\n",
              "      <td>https://www.tripadvisor.com/Hotel_Review-g2939...</td>\n",
              "      <td>2024-11-03</td>\n",
              "      <td>5.0</td>\n",
              "      <td>...</td>\n",
              "      <td>219nikal</td>\n",
              "      <td>['good', 'service', 'ayu', 'friendly', 'staff'...</td>\n",
              "      <td>['good', 'service', 'ayu', 'friendly', 'staff'...</td>\n",
              "      <td>[('good', 'service'), ('service', 'ayu'), ('ay...</td>\n",
              "      <td>[('good', 'service', 'ayu'), ('service', 'ayu'...</td>\n",
              "      <td>['good', 'service', 'ayu', 'friendly', 'staff'...</td>\n",
              "      <td>['good', 'service', 'ayu', 'friendly', 'staff'...</td>\n",
              "      <td>['good', 'service', 'ayu', 'friendly', 'staff'...</td>\n",
              "      <td>['good', 'service', 'ayu', 'friendly', 'staff'...</td>\n",
              "      <td>[ 0.31044984  0.4014417   0.08356439 -0.276954...</td>\n",
              "    </tr>\n",
              "    <tr>\n",
              "      <th>1</th>\n",
              "      <td>0.0</td>\n",
              "      <td>978053018.0</td>\n",
              "      <td>24 Dharmapala Mawatha Dharmapala Mawatha, Colo...</td>\n",
              "      <td>Colombo</td>\n",
              "      <td>Nh Collection Colombo</td>\n",
              "      <td>2392</td>\n",
              "      <td>4.5</td>\n",
              "      <td>https://www.tripadvisor.com/Hotel_Review-g2939...</td>\n",
              "      <td>2024-10-30</td>\n",
              "      <td>1.0</td>\n",
              "      <td>...</td>\n",
              "      <td>rajacool1984itz</td>\n",
              "      <td>['change', 'r', 'lady', 'manager', 'r', 'hotel...</td>\n",
              "      <td>['change', 'r', 'lady', 'manager', 'r', 'hotel...</td>\n",
              "      <td>[('change', 'r'), ('r', 'lady'), ('lady', 'man...</td>\n",
              "      <td>[('change', 'r', 'lady'), ('r', 'lady', 'manag...</td>\n",
              "      <td>['change', 'r', 'lady', 'manager', 'r', 'hotel...</td>\n",
              "      <td>['change', 'r', 'lady', 'manager', 'r', 'hotel...</td>\n",
              "      <td>['change', 'r', 'lady', 'manager', 'r', 'hotel...</td>\n",
              "      <td>['change', 'r', 'lady', 'manager', 'r', 'hotel...</td>\n",
              "      <td>[ 0.0217988   0.116291    0.17720811  0.093357...</td>\n",
              "    </tr>\n",
              "    <tr>\n",
              "      <th>2</th>\n",
              "      <td>0.0</td>\n",
              "      <td>976992067.0</td>\n",
              "      <td>24 Dharmapala Mawatha Dharmapala Mawatha, Colo...</td>\n",
              "      <td>Colombo</td>\n",
              "      <td>Nh Collection Colombo</td>\n",
              "      <td>2392</td>\n",
              "      <td>4.5</td>\n",
              "      <td>https://www.tripadvisor.com/Hotel_Review-g2939...</td>\n",
              "      <td>2024-10-28</td>\n",
              "      <td>5.0</td>\n",
              "      <td>...</td>\n",
              "      <td>857navidj</td>\n",
              "      <td>['perfect', 'liked', 'everything', 'staff', 'k...</td>\n",
              "      <td>['perfect', 'liked', 'everything', 'staff', 'k...</td>\n",
              "      <td>[('perfect', 'liked'), ('liked', 'everything')...</td>\n",
              "      <td>[('perfect', 'liked', 'everything'), ('liked',...</td>\n",
              "      <td>['perfect', 'liked', 'everything', 'staff', 'k...</td>\n",
              "      <td>['perfect', 'liked', 'everything', 'staff', 'k...</td>\n",
              "      <td>['perfect', 'liked', 'everything', 'staff', 'k...</td>\n",
              "      <td>['perfect', 'liked', 'everything', 'staff', 'k...</td>\n",
              "      <td>[ 0.4899982   0.37943998  0.29790735 -0.087504...</td>\n",
              "    </tr>\n",
              "    <tr>\n",
              "      <th>3</th>\n",
              "      <td>0.0</td>\n",
              "      <td>976690540.0</td>\n",
              "      <td>24 Dharmapala Mawatha Dharmapala Mawatha, Colo...</td>\n",
              "      <td>Colombo</td>\n",
              "      <td>Nh Collection Colombo</td>\n",
              "      <td>2392</td>\n",
              "      <td>4.5</td>\n",
              "      <td>https://www.tripadvisor.com/Hotel_Review-g2939...</td>\n",
              "      <td>2024-10-26</td>\n",
              "      <td>5.0</td>\n",
              "      <td>...</td>\n",
              "      <td>809mickaelt</td>\n",
              "      <td>['stay', 'unforgettable', 'hotel', 'beautiful'...</td>\n",
              "      <td>['stay', 'unforgettable', 'hotel', 'beautiful'...</td>\n",
              "      <td>[('stay', 'unforgettable'), ('unforgettable', ...</td>\n",
              "      <td>[('stay', 'unforgettable', 'hotel'), ('unforge...</td>\n",
              "      <td>['stay', 'unforgettable', 'hotel', 'beautiful'...</td>\n",
              "      <td>['stay', 'unforgettable', 'hotel', 'beautiful'...</td>\n",
              "      <td>['stay', 'unforgettable', 'hotel', 'beautiful'...</td>\n",
              "      <td>['stay', 'unforgettable', 'hotel', 'beautiful'...</td>\n",
              "      <td>[ 0.11686482  0.21760912 -0.11814022 -0.409385...</td>\n",
              "    </tr>\n",
              "    <tr>\n",
              "      <th>4</th>\n",
              "      <td>0.0</td>\n",
              "      <td>976664122.0</td>\n",
              "      <td>24 Dharmapala Mawatha Dharmapala Mawatha, Colo...</td>\n",
              "      <td>Colombo</td>\n",
              "      <td>Nh Collection Colombo</td>\n",
              "      <td>2392</td>\n",
              "      <td>4.5</td>\n",
              "      <td>https://www.tripadvisor.com/Hotel_Review-g2939...</td>\n",
              "      <td>2024-10-26</td>\n",
              "      <td>5.0</td>\n",
              "      <td>...</td>\n",
              "      <td>M1879HRchloet</td>\n",
              "      <td>['amazing', 'hotel', 'well', 'situated', 'colo...</td>\n",
              "      <td>['amazing', 'hotel', 'well', 'situated', 'colo...</td>\n",
              "      <td>[('amazing', 'hotel'), ('hotel', 'well'), ('we...</td>\n",
              "      <td>[('amazing', 'hotel', 'well'), ('hotel', 'well...</td>\n",
              "      <td>['amazing', 'hotel', 'well', 'situated', 'colo...</td>\n",
              "      <td>['amazing', 'hotel', 'well', 'situated', 'colo...</td>\n",
              "      <td>['amazing', 'hotel', 'well', 'situated', 'colo...</td>\n",
              "      <td>['amazing', 'hotel', 'well', 'situated', 'colo...</td>\n",
              "      <td>[ 0.26037872  0.18244962  0.12281694 -0.105581...</td>\n",
              "    </tr>\n",
              "  </tbody>\n",
              "</table>\n",
              "<p>5 rows × 25 columns</p>\n",
              "</div>\n",
              "    <div class=\"colab-df-buttons\">\n",
              "\n",
              "  <div class=\"colab-df-container\">\n",
              "    <button class=\"colab-df-convert\" onclick=\"convertToInteractive('df-70100e4d-6f1e-43c5-bc38-7ee05734d954')\"\n",
              "            title=\"Convert this dataframe to an interactive table.\"\n",
              "            style=\"display:none;\">\n",
              "\n",
              "  <svg xmlns=\"http://www.w3.org/2000/svg\" height=\"24px\" viewBox=\"0 -960 960 960\">\n",
              "    <path d=\"M120-120v-720h720v720H120Zm60-500h600v-160H180v160Zm220 220h160v-160H400v160Zm0 220h160v-160H400v160ZM180-400h160v-160H180v160Zm440 0h160v-160H620v160ZM180-180h160v-160H180v160Zm440 0h160v-160H620v160Z\"/>\n",
              "  </svg>\n",
              "    </button>\n",
              "\n",
              "  <style>\n",
              "    .colab-df-container {\n",
              "      display:flex;\n",
              "      gap: 12px;\n",
              "    }\n",
              "\n",
              "    .colab-df-convert {\n",
              "      background-color: #E8F0FE;\n",
              "      border: none;\n",
              "      border-radius: 50%;\n",
              "      cursor: pointer;\n",
              "      display: none;\n",
              "      fill: #1967D2;\n",
              "      height: 32px;\n",
              "      padding: 0 0 0 0;\n",
              "      width: 32px;\n",
              "    }\n",
              "\n",
              "    .colab-df-convert:hover {\n",
              "      background-color: #E2EBFA;\n",
              "      box-shadow: 0px 1px 2px rgba(60, 64, 67, 0.3), 0px 1px 3px 1px rgba(60, 64, 67, 0.15);\n",
              "      fill: #174EA6;\n",
              "    }\n",
              "\n",
              "    .colab-df-buttons div {\n",
              "      margin-bottom: 4px;\n",
              "    }\n",
              "\n",
              "    [theme=dark] .colab-df-convert {\n",
              "      background-color: #3B4455;\n",
              "      fill: #D2E3FC;\n",
              "    }\n",
              "\n",
              "    [theme=dark] .colab-df-convert:hover {\n",
              "      background-color: #434B5C;\n",
              "      box-shadow: 0px 1px 3px 1px rgba(0, 0, 0, 0.15);\n",
              "      filter: drop-shadow(0px 1px 2px rgba(0, 0, 0, 0.3));\n",
              "      fill: #FFFFFF;\n",
              "    }\n",
              "  </style>\n",
              "\n",
              "    <script>\n",
              "      const buttonEl =\n",
              "        document.querySelector('#df-70100e4d-6f1e-43c5-bc38-7ee05734d954 button.colab-df-convert');\n",
              "      buttonEl.style.display =\n",
              "        google.colab.kernel.accessAllowed ? 'block' : 'none';\n",
              "\n",
              "      async function convertToInteractive(key) {\n",
              "        const element = document.querySelector('#df-70100e4d-6f1e-43c5-bc38-7ee05734d954');\n",
              "        const dataTable =\n",
              "          await google.colab.kernel.invokeFunction('convertToInteractive',\n",
              "                                                    [key], {});\n",
              "        if (!dataTable) return;\n",
              "\n",
              "        const docLinkHtml = 'Like what you see? Visit the ' +\n",
              "          '<a target=\"_blank\" href=https://colab.research.google.com/notebooks/data_table.ipynb>data table notebook</a>'\n",
              "          + ' to learn more about interactive tables.';\n",
              "        element.innerHTML = '';\n",
              "        dataTable['output_type'] = 'display_data';\n",
              "        await google.colab.output.renderOutput(dataTable, element);\n",
              "        const docLink = document.createElement('div');\n",
              "        docLink.innerHTML = docLinkHtml;\n",
              "        element.appendChild(docLink);\n",
              "      }\n",
              "    </script>\n",
              "  </div>\n",
              "\n",
              "\n",
              "<div id=\"df-be65e5d0-908f-46dd-a5fc-a0da4b103734\">\n",
              "  <button class=\"colab-df-quickchart\" onclick=\"quickchart('df-be65e5d0-908f-46dd-a5fc-a0da4b103734')\"\n",
              "            title=\"Suggest charts\"\n",
              "            style=\"display:none;\">\n",
              "\n",
              "<svg xmlns=\"http://www.w3.org/2000/svg\" height=\"24px\"viewBox=\"0 0 24 24\"\n",
              "     width=\"24px\">\n",
              "    <g>\n",
              "        <path d=\"M19 3H5c-1.1 0-2 .9-2 2v14c0 1.1.9 2 2 2h14c1.1 0 2-.9 2-2V5c0-1.1-.9-2-2-2zM9 17H7v-7h2v7zm4 0h-2V7h2v10zm4 0h-2v-4h2v4z\"/>\n",
              "    </g>\n",
              "</svg>\n",
              "  </button>\n",
              "\n",
              "<style>\n",
              "  .colab-df-quickchart {\n",
              "      --bg-color: #E8F0FE;\n",
              "      --fill-color: #1967D2;\n",
              "      --hover-bg-color: #E2EBFA;\n",
              "      --hover-fill-color: #174EA6;\n",
              "      --disabled-fill-color: #AAA;\n",
              "      --disabled-bg-color: #DDD;\n",
              "  }\n",
              "\n",
              "  [theme=dark] .colab-df-quickchart {\n",
              "      --bg-color: #3B4455;\n",
              "      --fill-color: #D2E3FC;\n",
              "      --hover-bg-color: #434B5C;\n",
              "      --hover-fill-color: #FFFFFF;\n",
              "      --disabled-bg-color: #3B4455;\n",
              "      --disabled-fill-color: #666;\n",
              "  }\n",
              "\n",
              "  .colab-df-quickchart {\n",
              "    background-color: var(--bg-color);\n",
              "    border: none;\n",
              "    border-radius: 50%;\n",
              "    cursor: pointer;\n",
              "    display: none;\n",
              "    fill: var(--fill-color);\n",
              "    height: 32px;\n",
              "    padding: 0;\n",
              "    width: 32px;\n",
              "  }\n",
              "\n",
              "  .colab-df-quickchart:hover {\n",
              "    background-color: var(--hover-bg-color);\n",
              "    box-shadow: 0 1px 2px rgba(60, 64, 67, 0.3), 0 1px 3px 1px rgba(60, 64, 67, 0.15);\n",
              "    fill: var(--button-hover-fill-color);\n",
              "  }\n",
              "\n",
              "  .colab-df-quickchart-complete:disabled,\n",
              "  .colab-df-quickchart-complete:disabled:hover {\n",
              "    background-color: var(--disabled-bg-color);\n",
              "    fill: var(--disabled-fill-color);\n",
              "    box-shadow: none;\n",
              "  }\n",
              "\n",
              "  .colab-df-spinner {\n",
              "    border: 2px solid var(--fill-color);\n",
              "    border-color: transparent;\n",
              "    border-bottom-color: var(--fill-color);\n",
              "    animation:\n",
              "      spin 1s steps(1) infinite;\n",
              "  }\n",
              "\n",
              "  @keyframes spin {\n",
              "    0% {\n",
              "      border-color: transparent;\n",
              "      border-bottom-color: var(--fill-color);\n",
              "      border-left-color: var(--fill-color);\n",
              "    }\n",
              "    20% {\n",
              "      border-color: transparent;\n",
              "      border-left-color: var(--fill-color);\n",
              "      border-top-color: var(--fill-color);\n",
              "    }\n",
              "    30% {\n",
              "      border-color: transparent;\n",
              "      border-left-color: var(--fill-color);\n",
              "      border-top-color: var(--fill-color);\n",
              "      border-right-color: var(--fill-color);\n",
              "    }\n",
              "    40% {\n",
              "      border-color: transparent;\n",
              "      border-right-color: var(--fill-color);\n",
              "      border-top-color: var(--fill-color);\n",
              "    }\n",
              "    60% {\n",
              "      border-color: transparent;\n",
              "      border-right-color: var(--fill-color);\n",
              "    }\n",
              "    80% {\n",
              "      border-color: transparent;\n",
              "      border-right-color: var(--fill-color);\n",
              "      border-bottom-color: var(--fill-color);\n",
              "    }\n",
              "    90% {\n",
              "      border-color: transparent;\n",
              "      border-bottom-color: var(--fill-color);\n",
              "    }\n",
              "  }\n",
              "</style>\n",
              "\n",
              "  <script>\n",
              "    async function quickchart(key) {\n",
              "      const quickchartButtonEl =\n",
              "        document.querySelector('#' + key + ' button');\n",
              "      quickchartButtonEl.disabled = true;  // To prevent multiple clicks.\n",
              "      quickchartButtonEl.classList.add('colab-df-spinner');\n",
              "      try {\n",
              "        const charts = await google.colab.kernel.invokeFunction(\n",
              "            'suggestCharts', [key], {});\n",
              "      } catch (error) {\n",
              "        console.error('Error during call to suggestCharts:', error);\n",
              "      }\n",
              "      quickchartButtonEl.classList.remove('colab-df-spinner');\n",
              "      quickchartButtonEl.classList.add('colab-df-quickchart-complete');\n",
              "    }\n",
              "    (() => {\n",
              "      let quickchartButtonEl =\n",
              "        document.querySelector('#df-be65e5d0-908f-46dd-a5fc-a0da4b103734 button');\n",
              "      quickchartButtonEl.style.display =\n",
              "        google.colab.kernel.accessAllowed ? 'block' : 'none';\n",
              "    })();\n",
              "  </script>\n",
              "</div>\n",
              "\n",
              "    </div>\n",
              "  </div>\n"
            ],
            "application/vnd.google.colaboratory.intrinsic+json": {
              "type": "dataframe",
              "variable_name": "df"
            }
          },
          "metadata": {},
          "execution_count": 66
        }
      ]
    },
    {
      "cell_type": "code",
      "execution_count": null,
      "metadata": {
        "id": "TF0htqKfuvXq"
      },
      "outputs": [],
      "source": [
        "texts = df['review_text'].astype(str).tolist()"
      ]
    },
    {
      "cell_type": "code",
      "source": [
        "def tokenize_sentences(name_tokenizer = \"nltk\"):\n",
        "  if name_tokenizer == \"nltk\":\n",
        "    # Tokenize the sentences\n",
        "    tokenized_sentences = [word_tokenize(sentence.lower()) for sentence in texts]\n",
        "  return tokenized_sentences"
      ],
      "metadata": {
        "id": "BAdlYo2fJJZ-"
      },
      "execution_count": null,
      "outputs": []
    },
    {
      "cell_type": "markdown",
      "source": [],
      "metadata": {
        "id": "5OeQUGSiJIq6"
      }
    },
    {
      "cell_type": "code",
      "source": [
        "tokenized_sentences = tokenize_sentences(\"nltk\")"
      ],
      "metadata": {
        "id": "3BRAFz298jqF"
      },
      "execution_count": null,
      "outputs": []
    },
    {
      "cell_type": "code",
      "source": [
        "fasttext_model = FastText(vector_size=100, window=3, min_count=1)  # instantiate\n",
        "fasttext_model.build_vocab(corpus_iterable=tokenized_sentences)\n",
        "fasttext_model.train(corpus_iterable=tokenized_sentences, total_examples=len(texts), epochs=10)\n",
        "# get vocab keys with indices\n",
        "vocab = fasttext_model.wv.key_to_index"
      ],
      "metadata": {
        "id": "U0urxQNDBV3I"
      },
      "execution_count": null,
      "outputs": []
    },
    {
      "cell_type": "code",
      "source": [
        "# fasttext_model = FastText(vector_size=100, window=3, min_count=1, sentences=tokenized_sentences, epochs=10)"
      ],
      "metadata": {
        "id": "lvDcLa_38pJb"
      },
      "execution_count": null,
      "outputs": []
    },
    {
      "cell_type": "code",
      "source": [
        "print(list(fasttext_model.wv.key_to_index.keys())[:10])  # Print some vocabulary keys\n"
      ],
      "metadata": {
        "colab": {
          "base_uri": "https://localhost:8080/"
        },
        "id": "7eQkivNzFELv",
        "outputId": "c801a190-ef94-4b04-c84c-8a955e07eb14"
      },
      "execution_count": null,
      "outputs": [
        {
          "output_type": "stream",
          "name": "stdout",
          "text": [
            "['room', 'hotel', 'staff', 'stay', 'food', 'good', 'place', 'great', 'u', 'view']\n"
          ]
        }
      ]
    },
    {
      "cell_type": "code",
      "source": [
        "mean_vectors = mean_fasttext(tokenized_sentences, fasttext_model, embedding_dim=100)\n",
        "print(mean_vectors.shape)  # Shape: (num_sentences, 4)\n"
      ],
      "metadata": {
        "colab": {
          "base_uri": "https://localhost:8080/"
        },
        "id": "HR-exYSKFhEJ",
        "outputId": "cd5882c0-e7f8-4870-b6fe-ac5955716069"
      },
      "execution_count": null,
      "outputs": [
        {
          "output_type": "stream",
          "name": "stdout",
          "text": [
            "(11808, 100)\n"
          ]
        }
      ]
    },
    {
      "cell_type": "code",
      "source": [
        "\n",
        "# Function to compute mean FastText embeddings\n",
        "def mean_fasttext(tokenized_sentences, fasttext_model, embedding_dim=300):\n",
        "    mean_vectors = []\n",
        "    for sentence in tokenized_sentences:\n",
        "        vectors = [\n",
        "            fasttext_model.wv[word]\n",
        "            for word in sentence\n",
        "            if word in fasttext_model.wv.key_to_index\n",
        "        ]\n",
        "        if vectors:\n",
        "            mean_vec = np.mean(vectors, axis=0)\n",
        "        else:\n",
        "            mean_vec = np.zeros(embedding_dim)\n",
        "        mean_vectors.append(mean_vec)\n",
        "    return np.array(mean_vectors)\n",
        "\n",
        "# Compute mean vectors\n",
        "mean_vectors = mean_fasttext(tokenized_sentences, fasttext_model)\n",
        "\n",
        "print(mean_vectors.shape)  # Shape: (num_sentences, embedding_dim)\n"
      ],
      "metadata": {
        "colab": {
          "base_uri": "https://localhost:8080/"
        },
        "id": "-9Jqk6Nt-RG5",
        "outputId": "cb07a518-6f9c-42a7-fbda-f23ea5585c53"
      },
      "execution_count": null,
      "outputs": [
        {
          "output_type": "stream",
          "name": "stdout",
          "text": [
            "(11808, 100)\n"
          ]
        }
      ]
    },
    {
      "cell_type": "code",
      "source": [
        "fasttext_model.wv.most_similar('amazing')"
      ],
      "metadata": {
        "colab": {
          "base_uri": "https://localhost:8080/"
        },
        "id": "NHtqTzBC9f9U",
        "outputId": "52eab338-f776-4ea2-b562-cbbe8078355f"
      },
      "execution_count": null,
      "outputs": [
        {
          "output_type": "execute_result",
          "data": {
            "text/plain": [
              "[('amamazing', 0.9956830143928528),\n",
              " ('amaziiiing', 0.9471464157104492),\n",
              " ('aamazinggg', 0.9435597062110901),\n",
              " ('amaaaazing', 0.9388038516044617),\n",
              " ('amazingthe', 0.9372182488441467),\n",
              " ('fantastic', 0.9341516494750977),\n",
              " ('amazingg', 0.9278940558433533),\n",
              " ('ffantastic', 0.9252470135688782),\n",
              " ('fabulous', 0.9184911847114563),\n",
              " ('fantabulous', 0.9164339900016785)]"
            ]
          },
          "metadata": {},
          "execution_count": 55
        }
      ]
    },
    {
      "cell_type": "code",
      "source": [
        "fasttext_model.wv.most_similar('dirty')"
      ],
      "metadata": {
        "colab": {
          "base_uri": "https://localhost:8080/"
        },
        "id": "a8ogW1Cn92aE",
        "outputId": "40c8f92c-651b-4a8c-e0fd-a4f67c0f24e0"
      },
      "execution_count": null,
      "outputs": [
        {
          "output_type": "execute_result",
          "data": {
            "text/plain": [
              "[('dirtyand', 0.8820580840110779),\n",
              " ('filty', 0.8647610545158386),\n",
              " ('dirt', 0.8611960411071777),\n",
              " ('broken', 0.8584807515144348),\n",
              " ('filthy', 0.8520568609237671),\n",
              " ('corridor', 0.8398616313934326),\n",
              " ('shenold', 0.8377142548561096),\n",
              " ('filth', 0.8368777632713318),\n",
              " ('empty', 0.8349714875221252),\n",
              " ('emperor', 0.825221836566925)]"
            ]
          },
          "metadata": {},
          "execution_count": 22
        }
      ]
    },
    {
      "cell_type": "code",
      "source": [
        "fasttext_model.wv.most_similar('shocked')"
      ],
      "metadata": {
        "colab": {
          "base_uri": "https://localhost:8080/"
        },
        "id": "sQGZBOe-92TL",
        "outputId": "b54b3c64-71b4-4899-f064-1fba47243e6a"
      },
      "execution_count": null,
      "outputs": [
        {
          "output_type": "execute_result",
          "data": {
            "text/plain": [
              "[('gridlocked', 0.9578807950019836),\n",
              " ('docked', 0.9447126984596252),\n",
              " ('padlocked', 0.9397667050361633),\n",
              " ('knocked', 0.9380359053611755),\n",
              " ('stocked', 0.9341610670089722),\n",
              " ('unlocked', 0.9339839220046997),\n",
              " ('blocked', 0.9330265522003174),\n",
              " ('leaked', 0.9293112754821777),\n",
              " ('clogged', 0.9240790009498596),\n",
              " ('cracked', 0.9234054684638977)]"
            ]
          },
          "metadata": {},
          "execution_count": 23
        }
      ]
    },
    {
      "cell_type": "code",
      "source": [
        "# Get vectors for our dataframe text\n",
        "# Function to get vector for a tokenized sentence\n",
        "def get_text_vector(tokens, fasttext_model, embedding_dim):\n",
        "    word_vectors = [fasttext_model[word] for word in tokens if word in fasttext_model.key_to_index]\n",
        "    if not word_vectors:\n",
        "        return np.zeros(embedding_dim)\n",
        "    return np.mean(fasttext_model, axis=0)"
      ],
      "metadata": {
        "id": "LhqTOyC2-Q3w"
      },
      "execution_count": null,
      "outputs": []
    },
    {
      "cell_type": "code",
      "source": [
        "# Get vectors for each sentence\n",
        "embedding_dim = fasttext_model.vector_size"
      ],
      "metadata": {
        "id": "pEazThz7FZ3g"
      },
      "execution_count": null,
      "outputs": []
    },
    {
      "cell_type": "code",
      "source": [
        "df['fasttext_vector'] =list( mean_vectors)"
      ],
      "metadata": {
        "id": "7RVv4NYGRE3s"
      },
      "execution_count": null,
      "outputs": []
    },
    {
      "cell_type": "code",
      "source": [],
      "metadata": {
        "id": "ZT0et3CMG1ek"
      },
      "execution_count": null,
      "outputs": []
    },
    {
      "cell_type": "code",
      "source": [
        "df['fasttext_vector'][0].shape"
      ],
      "metadata": {
        "colab": {
          "base_uri": "https://localhost:8080/"
        },
        "id": "aoI46W49HBC1",
        "outputId": "5c030b8d-a3fe-4c5b-ea6e-6ea2edcac3c1"
      },
      "execution_count": null,
      "outputs": [
        {
          "output_type": "execute_result",
          "data": {
            "text/plain": [
              "(100,)"
            ]
          },
          "metadata": {},
          "execution_count": 74
        }
      ]
    },
    {
      "cell_type": "code",
      "source": [
        "df['fasttext_vector'][0]"
      ],
      "metadata": {
        "colab": {
          "base_uri": "https://localhost:8080/"
        },
        "id": "apoUO6fIRdTM",
        "outputId": "132798fc-734d-4405-dc98-f16fff816330"
      },
      "execution_count": null,
      "outputs": [
        {
          "output_type": "execute_result",
          "data": {
            "text/plain": [
              "array([-0.11610988, -0.12987489, -0.33931983,  0.08791909,  0.22365391,\n",
              "        0.6294985 ,  0.52020186,  0.46804   , -0.16062143,  0.01037494,\n",
              "       -1.1442918 ,  0.61500424,  0.0428411 ,  0.11276926,  0.13659194,\n",
              "        0.44973034,  0.31086105, -0.02755777,  0.37053847, -0.22559658,\n",
              "       -0.04271239,  0.47784176,  0.11682773, -0.16742794,  0.05646819,\n",
              "       -0.25089172,  0.79605913, -0.02720084,  0.35326722, -0.07183632,\n",
              "       -0.10798911,  0.7028063 ,  0.5046865 ,  0.03483013,  0.36958236,\n",
              "        0.8557653 ,  0.9372164 ,  0.712684  , -0.06010467,  0.21480928,\n",
              "        0.7544831 , -0.08510005,  0.7881786 ,  0.31703636,  0.7918008 ,\n",
              "        0.19051184,  0.0433846 , -0.00527452,  0.3386475 , -0.16402918,\n",
              "        0.6264556 ,  0.76088905,  0.1955854 ,  0.13056238, -0.19597505,\n",
              "       -0.603251  , -0.02653148, -0.39269593, -0.21377167, -0.39631948,\n",
              "       -0.25378016,  0.15385996, -0.85889816,  1.0825136 ,  0.87203753,\n",
              "        0.58312255,  0.37778038,  0.24229464,  0.20106886,  0.38436317,\n",
              "        0.13442533,  0.03249211, -0.09260872,  0.2882598 , -0.30504492,\n",
              "       -0.09494082, -0.28147522, -0.45511875, -0.40339783,  0.10655028,\n",
              "       -0.4585393 ,  0.26288724,  0.23810613, -0.40611672, -0.03439164,\n",
              "       -0.46787298,  0.9254387 , -0.25470412,  0.16268186, -0.5213024 ,\n",
              "       -1.0864146 , -1.1625719 , -0.1129688 , -0.29393983, -0.2351847 ,\n",
              "        0.06315157, -0.04682194, -0.21414168,  0.39005476, -0.689412  ],\n",
              "      dtype=float32)"
            ]
          },
          "metadata": {},
          "execution_count": 75
        }
      ]
    },
    {
      "cell_type": "code",
      "source": [
        "df.to_csv(drive_path+'dense_vectors/w2v_sent_added_fasttext.csv', index=False)"
      ],
      "metadata": {
        "id": "kHYz_lHgHH3Q"
      },
      "execution_count": null,
      "outputs": []
    },
    {
      "cell_type": "code",
      "source": [
        "df.head(2)"
      ],
      "metadata": {
        "colab": {
          "base_uri": "https://localhost:8080/",
          "height": 335
        },
        "id": "TFvg3kxBR4vQ",
        "outputId": "ca17c6f6-005c-47c7-dabe-3204a771f88e"
      },
      "execution_count": null,
      "outputs": [
        {
          "output_type": "execute_result",
          "data": {
            "text/plain": [
              "   helpfulVotes           id  \\\n",
              "0           0.0  978474125.0   \n",
              "1           0.0  978053018.0   \n",
              "\n",
              "                                             address     city  \\\n",
              "0  24 Dharmapala Mawatha Dharmapala Mawatha, Colo...  Colombo   \n",
              "1  24 Dharmapala Mawatha Dharmapala Mawatha, Colo...  Colombo   \n",
              "\n",
              "               placeName  numberOfReviews  placeRating  \\\n",
              "0  Nh Collection Colombo             2392          4.5   \n",
              "1  Nh Collection Colombo             2392          4.5   \n",
              "\n",
              "                                              webUrl publishedDate  \\\n",
              "0  https://www.tripadvisor.com/Hotel_Review-g2939...    2024-11-03   \n",
              "1  https://www.tripadvisor.com/Hotel_Review-g2939...    2024-10-30   \n",
              "\n",
              "   userRating  ...                                        word_tokens  \\\n",
              "0         5.0  ...  ['good', 'service', 'ayu', 'friendly', 'staff'...   \n",
              "1         1.0  ...  ['change', 'r', 'lady', 'manager', 'r', 'hotel...   \n",
              "\n",
              "                                          bpe_tokens  \\\n",
              "0  ['good', 'service', 'ayu', 'friendly', 'staff'...   \n",
              "1  ['change', 'r', 'lady', 'manager', 'r', 'hotel...   \n",
              "\n",
              "                                       bigram_tokens  \\\n",
              "0  [('good', 'service'), ('service', 'ayu'), ('ay...   \n",
              "1  [('change', 'r'), ('r', 'lady'), ('lady', 'man...   \n",
              "\n",
              "                                      trigram_tokens  \\\n",
              "0  [('good', 'service', 'ayu'), ('service', 'ayu'...   \n",
              "1  [('change', 'r', 'lady'), ('r', 'lady', 'manag...   \n",
              "\n",
              "                                   whitespace_tokens  \\\n",
              "0  ['good', 'service', 'ayu', 'friendly', 'staff'...   \n",
              "1  ['change', 'r', 'lady', 'manager', 'r', 'hotel...   \n",
              "\n",
              "                                   rule_based_tokens  \\\n",
              "0  ['good', 'service', 'ayu', 'friendly', 'staff'...   \n",
              "1  ['change', 'r', 'lady', 'manager', 'r', 'hotel...   \n",
              "\n",
              "                                        spacy_tokens  \\\n",
              "0  ['good', 'service', 'ayu', 'friendly', 'staff'...   \n",
              "1  ['change', 'r', 'lady', 'manager', 'r', 'hotel...   \n",
              "\n",
              "                                    wordpiece_tokens  \\\n",
              "0  ['good', 'service', 'ayu', 'friendly', 'staff'...   \n",
              "1  ['change', 'r', 'lady', 'manager', 'r', 'hotel...   \n",
              "\n",
              "                                    w2v_sent_vectors  \\\n",
              "0  [ 0.31044984  0.4014417   0.08356439 -0.276954...   \n",
              "1  [ 0.0217988   0.116291    0.17720811  0.093357...   \n",
              "\n",
              "                                     fasttext_vector  \n",
              "0  [-0.11610988, -0.12987489, -0.33931983, 0.0879...  \n",
              "1  [-0.23382354, 0.18804383, -0.108332925, 0.1351...  \n",
              "\n",
              "[2 rows x 26 columns]"
            ],
            "text/html": [
              "\n",
              "  <div id=\"df-5f4d5d92-c17f-4ab4-b9b8-c8bb300d8760\" class=\"colab-df-container\">\n",
              "    <div>\n",
              "<style scoped>\n",
              "    .dataframe tbody tr th:only-of-type {\n",
              "        vertical-align: middle;\n",
              "    }\n",
              "\n",
              "    .dataframe tbody tr th {\n",
              "        vertical-align: top;\n",
              "    }\n",
              "\n",
              "    .dataframe thead th {\n",
              "        text-align: right;\n",
              "    }\n",
              "</style>\n",
              "<table border=\"1\" class=\"dataframe\">\n",
              "  <thead>\n",
              "    <tr style=\"text-align: right;\">\n",
              "      <th></th>\n",
              "      <th>helpfulVotes</th>\n",
              "      <th>id</th>\n",
              "      <th>address</th>\n",
              "      <th>city</th>\n",
              "      <th>placeName</th>\n",
              "      <th>numberOfReviews</th>\n",
              "      <th>placeRating</th>\n",
              "      <th>webUrl</th>\n",
              "      <th>publishedDate</th>\n",
              "      <th>userRating</th>\n",
              "      <th>...</th>\n",
              "      <th>word_tokens</th>\n",
              "      <th>bpe_tokens</th>\n",
              "      <th>bigram_tokens</th>\n",
              "      <th>trigram_tokens</th>\n",
              "      <th>whitespace_tokens</th>\n",
              "      <th>rule_based_tokens</th>\n",
              "      <th>spacy_tokens</th>\n",
              "      <th>wordpiece_tokens</th>\n",
              "      <th>w2v_sent_vectors</th>\n",
              "      <th>fasttext_vector</th>\n",
              "    </tr>\n",
              "  </thead>\n",
              "  <tbody>\n",
              "    <tr>\n",
              "      <th>0</th>\n",
              "      <td>0.0</td>\n",
              "      <td>978474125.0</td>\n",
              "      <td>24 Dharmapala Mawatha Dharmapala Mawatha, Colo...</td>\n",
              "      <td>Colombo</td>\n",
              "      <td>Nh Collection Colombo</td>\n",
              "      <td>2392</td>\n",
              "      <td>4.5</td>\n",
              "      <td>https://www.tripadvisor.com/Hotel_Review-g2939...</td>\n",
              "      <td>2024-11-03</td>\n",
              "      <td>5.0</td>\n",
              "      <td>...</td>\n",
              "      <td>['good', 'service', 'ayu', 'friendly', 'staff'...</td>\n",
              "      <td>['good', 'service', 'ayu', 'friendly', 'staff'...</td>\n",
              "      <td>[('good', 'service'), ('service', 'ayu'), ('ay...</td>\n",
              "      <td>[('good', 'service', 'ayu'), ('service', 'ayu'...</td>\n",
              "      <td>['good', 'service', 'ayu', 'friendly', 'staff'...</td>\n",
              "      <td>['good', 'service', 'ayu', 'friendly', 'staff'...</td>\n",
              "      <td>['good', 'service', 'ayu', 'friendly', 'staff'...</td>\n",
              "      <td>['good', 'service', 'ayu', 'friendly', 'staff'...</td>\n",
              "      <td>[ 0.31044984  0.4014417   0.08356439 -0.276954...</td>\n",
              "      <td>[-0.11610988, -0.12987489, -0.33931983, 0.0879...</td>\n",
              "    </tr>\n",
              "    <tr>\n",
              "      <th>1</th>\n",
              "      <td>0.0</td>\n",
              "      <td>978053018.0</td>\n",
              "      <td>24 Dharmapala Mawatha Dharmapala Mawatha, Colo...</td>\n",
              "      <td>Colombo</td>\n",
              "      <td>Nh Collection Colombo</td>\n",
              "      <td>2392</td>\n",
              "      <td>4.5</td>\n",
              "      <td>https://www.tripadvisor.com/Hotel_Review-g2939...</td>\n",
              "      <td>2024-10-30</td>\n",
              "      <td>1.0</td>\n",
              "      <td>...</td>\n",
              "      <td>['change', 'r', 'lady', 'manager', 'r', 'hotel...</td>\n",
              "      <td>['change', 'r', 'lady', 'manager', 'r', 'hotel...</td>\n",
              "      <td>[('change', 'r'), ('r', 'lady'), ('lady', 'man...</td>\n",
              "      <td>[('change', 'r', 'lady'), ('r', 'lady', 'manag...</td>\n",
              "      <td>['change', 'r', 'lady', 'manager', 'r', 'hotel...</td>\n",
              "      <td>['change', 'r', 'lady', 'manager', 'r', 'hotel...</td>\n",
              "      <td>['change', 'r', 'lady', 'manager', 'r', 'hotel...</td>\n",
              "      <td>['change', 'r', 'lady', 'manager', 'r', 'hotel...</td>\n",
              "      <td>[ 0.0217988   0.116291    0.17720811  0.093357...</td>\n",
              "      <td>[-0.23382354, 0.18804383, -0.108332925, 0.1351...</td>\n",
              "    </tr>\n",
              "  </tbody>\n",
              "</table>\n",
              "<p>2 rows × 26 columns</p>\n",
              "</div>\n",
              "    <div class=\"colab-df-buttons\">\n",
              "\n",
              "  <div class=\"colab-df-container\">\n",
              "    <button class=\"colab-df-convert\" onclick=\"convertToInteractive('df-5f4d5d92-c17f-4ab4-b9b8-c8bb300d8760')\"\n",
              "            title=\"Convert this dataframe to an interactive table.\"\n",
              "            style=\"display:none;\">\n",
              "\n",
              "  <svg xmlns=\"http://www.w3.org/2000/svg\" height=\"24px\" viewBox=\"0 -960 960 960\">\n",
              "    <path d=\"M120-120v-720h720v720H120Zm60-500h600v-160H180v160Zm220 220h160v-160H400v160Zm0 220h160v-160H400v160ZM180-400h160v-160H180v160Zm440 0h160v-160H620v160ZM180-180h160v-160H180v160Zm440 0h160v-160H620v160Z\"/>\n",
              "  </svg>\n",
              "    </button>\n",
              "\n",
              "  <style>\n",
              "    .colab-df-container {\n",
              "      display:flex;\n",
              "      gap: 12px;\n",
              "    }\n",
              "\n",
              "    .colab-df-convert {\n",
              "      background-color: #E8F0FE;\n",
              "      border: none;\n",
              "      border-radius: 50%;\n",
              "      cursor: pointer;\n",
              "      display: none;\n",
              "      fill: #1967D2;\n",
              "      height: 32px;\n",
              "      padding: 0 0 0 0;\n",
              "      width: 32px;\n",
              "    }\n",
              "\n",
              "    .colab-df-convert:hover {\n",
              "      background-color: #E2EBFA;\n",
              "      box-shadow: 0px 1px 2px rgba(60, 64, 67, 0.3), 0px 1px 3px 1px rgba(60, 64, 67, 0.15);\n",
              "      fill: #174EA6;\n",
              "    }\n",
              "\n",
              "    .colab-df-buttons div {\n",
              "      margin-bottom: 4px;\n",
              "    }\n",
              "\n",
              "    [theme=dark] .colab-df-convert {\n",
              "      background-color: #3B4455;\n",
              "      fill: #D2E3FC;\n",
              "    }\n",
              "\n",
              "    [theme=dark] .colab-df-convert:hover {\n",
              "      background-color: #434B5C;\n",
              "      box-shadow: 0px 1px 3px 1px rgba(0, 0, 0, 0.15);\n",
              "      filter: drop-shadow(0px 1px 2px rgba(0, 0, 0, 0.3));\n",
              "      fill: #FFFFFF;\n",
              "    }\n",
              "  </style>\n",
              "\n",
              "    <script>\n",
              "      const buttonEl =\n",
              "        document.querySelector('#df-5f4d5d92-c17f-4ab4-b9b8-c8bb300d8760 button.colab-df-convert');\n",
              "      buttonEl.style.display =\n",
              "        google.colab.kernel.accessAllowed ? 'block' : 'none';\n",
              "\n",
              "      async function convertToInteractive(key) {\n",
              "        const element = document.querySelector('#df-5f4d5d92-c17f-4ab4-b9b8-c8bb300d8760');\n",
              "        const dataTable =\n",
              "          await google.colab.kernel.invokeFunction('convertToInteractive',\n",
              "                                                    [key], {});\n",
              "        if (!dataTable) return;\n",
              "\n",
              "        const docLinkHtml = 'Like what you see? Visit the ' +\n",
              "          '<a target=\"_blank\" href=https://colab.research.google.com/notebooks/data_table.ipynb>data table notebook</a>'\n",
              "          + ' to learn more about interactive tables.';\n",
              "        element.innerHTML = '';\n",
              "        dataTable['output_type'] = 'display_data';\n",
              "        await google.colab.output.renderOutput(dataTable, element);\n",
              "        const docLink = document.createElement('div');\n",
              "        docLink.innerHTML = docLinkHtml;\n",
              "        element.appendChild(docLink);\n",
              "      }\n",
              "    </script>\n",
              "  </div>\n",
              "\n",
              "\n",
              "<div id=\"df-40105b1b-9f3d-4475-9d0a-bc07e1ef5d06\">\n",
              "  <button class=\"colab-df-quickchart\" onclick=\"quickchart('df-40105b1b-9f3d-4475-9d0a-bc07e1ef5d06')\"\n",
              "            title=\"Suggest charts\"\n",
              "            style=\"display:none;\">\n",
              "\n",
              "<svg xmlns=\"http://www.w3.org/2000/svg\" height=\"24px\"viewBox=\"0 0 24 24\"\n",
              "     width=\"24px\">\n",
              "    <g>\n",
              "        <path d=\"M19 3H5c-1.1 0-2 .9-2 2v14c0 1.1.9 2 2 2h14c1.1 0 2-.9 2-2V5c0-1.1-.9-2-2-2zM9 17H7v-7h2v7zm4 0h-2V7h2v10zm4 0h-2v-4h2v4z\"/>\n",
              "    </g>\n",
              "</svg>\n",
              "  </button>\n",
              "\n",
              "<style>\n",
              "  .colab-df-quickchart {\n",
              "      --bg-color: #E8F0FE;\n",
              "      --fill-color: #1967D2;\n",
              "      --hover-bg-color: #E2EBFA;\n",
              "      --hover-fill-color: #174EA6;\n",
              "      --disabled-fill-color: #AAA;\n",
              "      --disabled-bg-color: #DDD;\n",
              "  }\n",
              "\n",
              "  [theme=dark] .colab-df-quickchart {\n",
              "      --bg-color: #3B4455;\n",
              "      --fill-color: #D2E3FC;\n",
              "      --hover-bg-color: #434B5C;\n",
              "      --hover-fill-color: #FFFFFF;\n",
              "      --disabled-bg-color: #3B4455;\n",
              "      --disabled-fill-color: #666;\n",
              "  }\n",
              "\n",
              "  .colab-df-quickchart {\n",
              "    background-color: var(--bg-color);\n",
              "    border: none;\n",
              "    border-radius: 50%;\n",
              "    cursor: pointer;\n",
              "    display: none;\n",
              "    fill: var(--fill-color);\n",
              "    height: 32px;\n",
              "    padding: 0;\n",
              "    width: 32px;\n",
              "  }\n",
              "\n",
              "  .colab-df-quickchart:hover {\n",
              "    background-color: var(--hover-bg-color);\n",
              "    box-shadow: 0 1px 2px rgba(60, 64, 67, 0.3), 0 1px 3px 1px rgba(60, 64, 67, 0.15);\n",
              "    fill: var(--button-hover-fill-color);\n",
              "  }\n",
              "\n",
              "  .colab-df-quickchart-complete:disabled,\n",
              "  .colab-df-quickchart-complete:disabled:hover {\n",
              "    background-color: var(--disabled-bg-color);\n",
              "    fill: var(--disabled-fill-color);\n",
              "    box-shadow: none;\n",
              "  }\n",
              "\n",
              "  .colab-df-spinner {\n",
              "    border: 2px solid var(--fill-color);\n",
              "    border-color: transparent;\n",
              "    border-bottom-color: var(--fill-color);\n",
              "    animation:\n",
              "      spin 1s steps(1) infinite;\n",
              "  }\n",
              "\n",
              "  @keyframes spin {\n",
              "    0% {\n",
              "      border-color: transparent;\n",
              "      border-bottom-color: var(--fill-color);\n",
              "      border-left-color: var(--fill-color);\n",
              "    }\n",
              "    20% {\n",
              "      border-color: transparent;\n",
              "      border-left-color: var(--fill-color);\n",
              "      border-top-color: var(--fill-color);\n",
              "    }\n",
              "    30% {\n",
              "      border-color: transparent;\n",
              "      border-left-color: var(--fill-color);\n",
              "      border-top-color: var(--fill-color);\n",
              "      border-right-color: var(--fill-color);\n",
              "    }\n",
              "    40% {\n",
              "      border-color: transparent;\n",
              "      border-right-color: var(--fill-color);\n",
              "      border-top-color: var(--fill-color);\n",
              "    }\n",
              "    60% {\n",
              "      border-color: transparent;\n",
              "      border-right-color: var(--fill-color);\n",
              "    }\n",
              "    80% {\n",
              "      border-color: transparent;\n",
              "      border-right-color: var(--fill-color);\n",
              "      border-bottom-color: var(--fill-color);\n",
              "    }\n",
              "    90% {\n",
              "      border-color: transparent;\n",
              "      border-bottom-color: var(--fill-color);\n",
              "    }\n",
              "  }\n",
              "</style>\n",
              "\n",
              "  <script>\n",
              "    async function quickchart(key) {\n",
              "      const quickchartButtonEl =\n",
              "        document.querySelector('#' + key + ' button');\n",
              "      quickchartButtonEl.disabled = true;  // To prevent multiple clicks.\n",
              "      quickchartButtonEl.classList.add('colab-df-spinner');\n",
              "      try {\n",
              "        const charts = await google.colab.kernel.invokeFunction(\n",
              "            'suggestCharts', [key], {});\n",
              "      } catch (error) {\n",
              "        console.error('Error during call to suggestCharts:', error);\n",
              "      }\n",
              "      quickchartButtonEl.classList.remove('colab-df-spinner');\n",
              "      quickchartButtonEl.classList.add('colab-df-quickchart-complete');\n",
              "    }\n",
              "    (() => {\n",
              "      let quickchartButtonEl =\n",
              "        document.querySelector('#df-40105b1b-9f3d-4475-9d0a-bc07e1ef5d06 button');\n",
              "      quickchartButtonEl.style.display =\n",
              "        google.colab.kernel.accessAllowed ? 'block' : 'none';\n",
              "    })();\n",
              "  </script>\n",
              "</div>\n",
              "\n",
              "    </div>\n",
              "  </div>\n"
            ],
            "application/vnd.google.colaboratory.intrinsic+json": {
              "type": "dataframe",
              "variable_name": "df"
            }
          },
          "metadata": {},
          "execution_count": 77
        }
      ]
    },
    {
      "cell_type": "code",
      "source": [
        "# df.head(2)"
      ],
      "metadata": {
        "colab": {
          "base_uri": "https://localhost:8080/",
          "height": 335
        },
        "collapsed": true,
        "id": "mCxPDigFLe3q",
        "outputId": "ba4821af-217d-40af-e47a-852d18410ae6"
      },
      "execution_count": null,
      "outputs": [
        {
          "output_type": "execute_result",
          "data": {
            "text/plain": [
              "   helpfulVotes           id  \\\n",
              "0           0.0  978474125.0   \n",
              "1           0.0  978053018.0   \n",
              "\n",
              "                                             address     city  \\\n",
              "0  24 Dharmapala Mawatha Dharmapala Mawatha, Colo...  Colombo   \n",
              "1  24 Dharmapala Mawatha Dharmapala Mawatha, Colo...  Colombo   \n",
              "\n",
              "               placeName  numberOfReviews  placeRating  \\\n",
              "0  Nh Collection Colombo             2392          4.5   \n",
              "1  Nh Collection Colombo             2392          4.5   \n",
              "\n",
              "                                              webUrl publishedDate  \\\n",
              "0  https://www.tripadvisor.com/Hotel_Review-g2939...    2024-11-03   \n",
              "1  https://www.tripadvisor.com/Hotel_Review-g2939...    2024-10-30   \n",
              "\n",
              "   userRating  ...         username  \\\n",
              "0         5.0  ...         219nikal   \n",
              "1         1.0  ...  rajacool1984itz   \n",
              "\n",
              "                                         word_tokens  \\\n",
              "0  ['good', 'service', 'ayu', 'friendly', 'staff'...   \n",
              "1  ['change', 'r', 'lady', 'manager', 'r', 'hotel...   \n",
              "\n",
              "                                          bpe_tokens  \\\n",
              "0  ['good', 'service', 'ayu', 'friendly', 'staff'...   \n",
              "1  ['change', 'r', 'lady', 'manager', 'r', 'hotel...   \n",
              "\n",
              "                                       bigram_tokens  \\\n",
              "0  [('good', 'service'), ('service', 'ayu'), ('ay...   \n",
              "1  [('change', 'r'), ('r', 'lady'), ('lady', 'man...   \n",
              "\n",
              "                                      trigram_tokens  \\\n",
              "0  [('good', 'service', 'ayu'), ('service', 'ayu'...   \n",
              "1  [('change', 'r', 'lady'), ('r', 'lady', 'manag...   \n",
              "\n",
              "                                   whitespace_tokens  \\\n",
              "0  ['good', 'service', 'ayu', 'friendly', 'staff'...   \n",
              "1  ['change', 'r', 'lady', 'manager', 'r', 'hotel...   \n",
              "\n",
              "                                   rule_based_tokens  \\\n",
              "0  ['good', 'service', 'ayu', 'friendly', 'staff'...   \n",
              "1  ['change', 'r', 'lady', 'manager', 'r', 'hotel...   \n",
              "\n",
              "                                        spacy_tokens  \\\n",
              "0  ['good', 'service', 'ayu', 'friendly', 'staff'...   \n",
              "1  ['change', 'r', 'lady', 'manager', 'r', 'hotel...   \n",
              "\n",
              "                                    wordpiece_tokens  \\\n",
              "0  ['good', 'service', 'ayu', 'friendly', 'staff'...   \n",
              "1  ['change', 'r', 'lady', 'manager', 'r', 'hotel...   \n",
              "\n",
              "                                    w2v_sent_vectors  \n",
              "0  [ 0.31044984  0.4014417   0.08356439 -0.276954...  \n",
              "1  [ 0.0217988   0.116291    0.17720811  0.093357...  \n",
              "\n",
              "[2 rows x 25 columns]"
            ],
            "text/html": [
              "\n",
              "  <div id=\"df-6ab8aacd-3fda-44ca-a82d-f1fe547b2220\" class=\"colab-df-container\">\n",
              "    <div>\n",
              "<style scoped>\n",
              "    .dataframe tbody tr th:only-of-type {\n",
              "        vertical-align: middle;\n",
              "    }\n",
              "\n",
              "    .dataframe tbody tr th {\n",
              "        vertical-align: top;\n",
              "    }\n",
              "\n",
              "    .dataframe thead th {\n",
              "        text-align: right;\n",
              "    }\n",
              "</style>\n",
              "<table border=\"1\" class=\"dataframe\">\n",
              "  <thead>\n",
              "    <tr style=\"text-align: right;\">\n",
              "      <th></th>\n",
              "      <th>helpfulVotes</th>\n",
              "      <th>id</th>\n",
              "      <th>address</th>\n",
              "      <th>city</th>\n",
              "      <th>placeName</th>\n",
              "      <th>numberOfReviews</th>\n",
              "      <th>placeRating</th>\n",
              "      <th>webUrl</th>\n",
              "      <th>publishedDate</th>\n",
              "      <th>userRating</th>\n",
              "      <th>...</th>\n",
              "      <th>username</th>\n",
              "      <th>word_tokens</th>\n",
              "      <th>bpe_tokens</th>\n",
              "      <th>bigram_tokens</th>\n",
              "      <th>trigram_tokens</th>\n",
              "      <th>whitespace_tokens</th>\n",
              "      <th>rule_based_tokens</th>\n",
              "      <th>spacy_tokens</th>\n",
              "      <th>wordpiece_tokens</th>\n",
              "      <th>w2v_sent_vectors</th>\n",
              "    </tr>\n",
              "  </thead>\n",
              "  <tbody>\n",
              "    <tr>\n",
              "      <th>0</th>\n",
              "      <td>0.0</td>\n",
              "      <td>978474125.0</td>\n",
              "      <td>24 Dharmapala Mawatha Dharmapala Mawatha, Colo...</td>\n",
              "      <td>Colombo</td>\n",
              "      <td>Nh Collection Colombo</td>\n",
              "      <td>2392</td>\n",
              "      <td>4.5</td>\n",
              "      <td>https://www.tripadvisor.com/Hotel_Review-g2939...</td>\n",
              "      <td>2024-11-03</td>\n",
              "      <td>5.0</td>\n",
              "      <td>...</td>\n",
              "      <td>219nikal</td>\n",
              "      <td>['good', 'service', 'ayu', 'friendly', 'staff'...</td>\n",
              "      <td>['good', 'service', 'ayu', 'friendly', 'staff'...</td>\n",
              "      <td>[('good', 'service'), ('service', 'ayu'), ('ay...</td>\n",
              "      <td>[('good', 'service', 'ayu'), ('service', 'ayu'...</td>\n",
              "      <td>['good', 'service', 'ayu', 'friendly', 'staff'...</td>\n",
              "      <td>['good', 'service', 'ayu', 'friendly', 'staff'...</td>\n",
              "      <td>['good', 'service', 'ayu', 'friendly', 'staff'...</td>\n",
              "      <td>['good', 'service', 'ayu', 'friendly', 'staff'...</td>\n",
              "      <td>[ 0.31044984  0.4014417   0.08356439 -0.276954...</td>\n",
              "    </tr>\n",
              "    <tr>\n",
              "      <th>1</th>\n",
              "      <td>0.0</td>\n",
              "      <td>978053018.0</td>\n",
              "      <td>24 Dharmapala Mawatha Dharmapala Mawatha, Colo...</td>\n",
              "      <td>Colombo</td>\n",
              "      <td>Nh Collection Colombo</td>\n",
              "      <td>2392</td>\n",
              "      <td>4.5</td>\n",
              "      <td>https://www.tripadvisor.com/Hotel_Review-g2939...</td>\n",
              "      <td>2024-10-30</td>\n",
              "      <td>1.0</td>\n",
              "      <td>...</td>\n",
              "      <td>rajacool1984itz</td>\n",
              "      <td>['change', 'r', 'lady', 'manager', 'r', 'hotel...</td>\n",
              "      <td>['change', 'r', 'lady', 'manager', 'r', 'hotel...</td>\n",
              "      <td>[('change', 'r'), ('r', 'lady'), ('lady', 'man...</td>\n",
              "      <td>[('change', 'r', 'lady'), ('r', 'lady', 'manag...</td>\n",
              "      <td>['change', 'r', 'lady', 'manager', 'r', 'hotel...</td>\n",
              "      <td>['change', 'r', 'lady', 'manager', 'r', 'hotel...</td>\n",
              "      <td>['change', 'r', 'lady', 'manager', 'r', 'hotel...</td>\n",
              "      <td>['change', 'r', 'lady', 'manager', 'r', 'hotel...</td>\n",
              "      <td>[ 0.0217988   0.116291    0.17720811  0.093357...</td>\n",
              "    </tr>\n",
              "  </tbody>\n",
              "</table>\n",
              "<p>2 rows × 25 columns</p>\n",
              "</div>\n",
              "    <div class=\"colab-df-buttons\">\n",
              "\n",
              "  <div class=\"colab-df-container\">\n",
              "    <button class=\"colab-df-convert\" onclick=\"convertToInteractive('df-6ab8aacd-3fda-44ca-a82d-f1fe547b2220')\"\n",
              "            title=\"Convert this dataframe to an interactive table.\"\n",
              "            style=\"display:none;\">\n",
              "\n",
              "  <svg xmlns=\"http://www.w3.org/2000/svg\" height=\"24px\" viewBox=\"0 -960 960 960\">\n",
              "    <path d=\"M120-120v-720h720v720H120Zm60-500h600v-160H180v160Zm220 220h160v-160H400v160Zm0 220h160v-160H400v160ZM180-400h160v-160H180v160Zm440 0h160v-160H620v160ZM180-180h160v-160H180v160Zm440 0h160v-160H620v160Z\"/>\n",
              "  </svg>\n",
              "    </button>\n",
              "\n",
              "  <style>\n",
              "    .colab-df-container {\n",
              "      display:flex;\n",
              "      gap: 12px;\n",
              "    }\n",
              "\n",
              "    .colab-df-convert {\n",
              "      background-color: #E8F0FE;\n",
              "      border: none;\n",
              "      border-radius: 50%;\n",
              "      cursor: pointer;\n",
              "      display: none;\n",
              "      fill: #1967D2;\n",
              "      height: 32px;\n",
              "      padding: 0 0 0 0;\n",
              "      width: 32px;\n",
              "    }\n",
              "\n",
              "    .colab-df-convert:hover {\n",
              "      background-color: #E2EBFA;\n",
              "      box-shadow: 0px 1px 2px rgba(60, 64, 67, 0.3), 0px 1px 3px 1px rgba(60, 64, 67, 0.15);\n",
              "      fill: #174EA6;\n",
              "    }\n",
              "\n",
              "    .colab-df-buttons div {\n",
              "      margin-bottom: 4px;\n",
              "    }\n",
              "\n",
              "    [theme=dark] .colab-df-convert {\n",
              "      background-color: #3B4455;\n",
              "      fill: #D2E3FC;\n",
              "    }\n",
              "\n",
              "    [theme=dark] .colab-df-convert:hover {\n",
              "      background-color: #434B5C;\n",
              "      box-shadow: 0px 1px 3px 1px rgba(0, 0, 0, 0.15);\n",
              "      filter: drop-shadow(0px 1px 2px rgba(0, 0, 0, 0.3));\n",
              "      fill: #FFFFFF;\n",
              "    }\n",
              "  </style>\n",
              "\n",
              "    <script>\n",
              "      const buttonEl =\n",
              "        document.querySelector('#df-6ab8aacd-3fda-44ca-a82d-f1fe547b2220 button.colab-df-convert');\n",
              "      buttonEl.style.display =\n",
              "        google.colab.kernel.accessAllowed ? 'block' : 'none';\n",
              "\n",
              "      async function convertToInteractive(key) {\n",
              "        const element = document.querySelector('#df-6ab8aacd-3fda-44ca-a82d-f1fe547b2220');\n",
              "        const dataTable =\n",
              "          await google.colab.kernel.invokeFunction('convertToInteractive',\n",
              "                                                    [key], {});\n",
              "        if (!dataTable) return;\n",
              "\n",
              "        const docLinkHtml = 'Like what you see? Visit the ' +\n",
              "          '<a target=\"_blank\" href=https://colab.research.google.com/notebooks/data_table.ipynb>data table notebook</a>'\n",
              "          + ' to learn more about interactive tables.';\n",
              "        element.innerHTML = '';\n",
              "        dataTable['output_type'] = 'display_data';\n",
              "        await google.colab.output.renderOutput(dataTable, element);\n",
              "        const docLink = document.createElement('div');\n",
              "        docLink.innerHTML = docLinkHtml;\n",
              "        element.appendChild(docLink);\n",
              "      }\n",
              "    </script>\n",
              "  </div>\n",
              "\n",
              "\n",
              "<div id=\"df-50d76810-cfaf-430f-9252-a05e44e313c5\">\n",
              "  <button class=\"colab-df-quickchart\" onclick=\"quickchart('df-50d76810-cfaf-430f-9252-a05e44e313c5')\"\n",
              "            title=\"Suggest charts\"\n",
              "            style=\"display:none;\">\n",
              "\n",
              "<svg xmlns=\"http://www.w3.org/2000/svg\" height=\"24px\"viewBox=\"0 0 24 24\"\n",
              "     width=\"24px\">\n",
              "    <g>\n",
              "        <path d=\"M19 3H5c-1.1 0-2 .9-2 2v14c0 1.1.9 2 2 2h14c1.1 0 2-.9 2-2V5c0-1.1-.9-2-2-2zM9 17H7v-7h2v7zm4 0h-2V7h2v10zm4 0h-2v-4h2v4z\"/>\n",
              "    </g>\n",
              "</svg>\n",
              "  </button>\n",
              "\n",
              "<style>\n",
              "  .colab-df-quickchart {\n",
              "      --bg-color: #E8F0FE;\n",
              "      --fill-color: #1967D2;\n",
              "      --hover-bg-color: #E2EBFA;\n",
              "      --hover-fill-color: #174EA6;\n",
              "      --disabled-fill-color: #AAA;\n",
              "      --disabled-bg-color: #DDD;\n",
              "  }\n",
              "\n",
              "  [theme=dark] .colab-df-quickchart {\n",
              "      --bg-color: #3B4455;\n",
              "      --fill-color: #D2E3FC;\n",
              "      --hover-bg-color: #434B5C;\n",
              "      --hover-fill-color: #FFFFFF;\n",
              "      --disabled-bg-color: #3B4455;\n",
              "      --disabled-fill-color: #666;\n",
              "  }\n",
              "\n",
              "  .colab-df-quickchart {\n",
              "    background-color: var(--bg-color);\n",
              "    border: none;\n",
              "    border-radius: 50%;\n",
              "    cursor: pointer;\n",
              "    display: none;\n",
              "    fill: var(--fill-color);\n",
              "    height: 32px;\n",
              "    padding: 0;\n",
              "    width: 32px;\n",
              "  }\n",
              "\n",
              "  .colab-df-quickchart:hover {\n",
              "    background-color: var(--hover-bg-color);\n",
              "    box-shadow: 0 1px 2px rgba(60, 64, 67, 0.3), 0 1px 3px 1px rgba(60, 64, 67, 0.15);\n",
              "    fill: var(--button-hover-fill-color);\n",
              "  }\n",
              "\n",
              "  .colab-df-quickchart-complete:disabled,\n",
              "  .colab-df-quickchart-complete:disabled:hover {\n",
              "    background-color: var(--disabled-bg-color);\n",
              "    fill: var(--disabled-fill-color);\n",
              "    box-shadow: none;\n",
              "  }\n",
              "\n",
              "  .colab-df-spinner {\n",
              "    border: 2px solid var(--fill-color);\n",
              "    border-color: transparent;\n",
              "    border-bottom-color: var(--fill-color);\n",
              "    animation:\n",
              "      spin 1s steps(1) infinite;\n",
              "  }\n",
              "\n",
              "  @keyframes spin {\n",
              "    0% {\n",
              "      border-color: transparent;\n",
              "      border-bottom-color: var(--fill-color);\n",
              "      border-left-color: var(--fill-color);\n",
              "    }\n",
              "    20% {\n",
              "      border-color: transparent;\n",
              "      border-left-color: var(--fill-color);\n",
              "      border-top-color: var(--fill-color);\n",
              "    }\n",
              "    30% {\n",
              "      border-color: transparent;\n",
              "      border-left-color: var(--fill-color);\n",
              "      border-top-color: var(--fill-color);\n",
              "      border-right-color: var(--fill-color);\n",
              "    }\n",
              "    40% {\n",
              "      border-color: transparent;\n",
              "      border-right-color: var(--fill-color);\n",
              "      border-top-color: var(--fill-color);\n",
              "    }\n",
              "    60% {\n",
              "      border-color: transparent;\n",
              "      border-right-color: var(--fill-color);\n",
              "    }\n",
              "    80% {\n",
              "      border-color: transparent;\n",
              "      border-right-color: var(--fill-color);\n",
              "      border-bottom-color: var(--fill-color);\n",
              "    }\n",
              "    90% {\n",
              "      border-color: transparent;\n",
              "      border-bottom-color: var(--fill-color);\n",
              "    }\n",
              "  }\n",
              "</style>\n",
              "\n",
              "  <script>\n",
              "    async function quickchart(key) {\n",
              "      const quickchartButtonEl =\n",
              "        document.querySelector('#' + key + ' button');\n",
              "      quickchartButtonEl.disabled = true;  // To prevent multiple clicks.\n",
              "      quickchartButtonEl.classList.add('colab-df-spinner');\n",
              "      try {\n",
              "        const charts = await google.colab.kernel.invokeFunction(\n",
              "            'suggestCharts', [key], {});\n",
              "      } catch (error) {\n",
              "        console.error('Error during call to suggestCharts:', error);\n",
              "      }\n",
              "      quickchartButtonEl.classList.remove('colab-df-spinner');\n",
              "      quickchartButtonEl.classList.add('colab-df-quickchart-complete');\n",
              "    }\n",
              "    (() => {\n",
              "      let quickchartButtonEl =\n",
              "        document.querySelector('#df-50d76810-cfaf-430f-9252-a05e44e313c5 button');\n",
              "      quickchartButtonEl.style.display =\n",
              "        google.colab.kernel.accessAllowed ? 'block' : 'none';\n",
              "    })();\n",
              "  </script>\n",
              "</div>\n",
              "\n",
              "    </div>\n",
              "  </div>\n"
            ],
            "application/vnd.google.colaboratory.intrinsic+json": {
              "type": "dataframe",
              "variable_name": "df"
            }
          },
          "metadata": {},
          "execution_count": 69
        }
      ]
    },
    {
      "cell_type": "code",
      "source": [
        "# Save the NumPy array as a .npy file\n",
        "np.save(drive_path+'/dense_vectors/fasttext_vectors.npy', np.array(mean_vectors))"
      ],
      "metadata": {
        "id": "tFOV2ZoYTGYG"
      },
      "execution_count": null,
      "outputs": []
    },
    {
      "cell_type": "markdown",
      "source": [
        "\n",
        "\n",
        "---\n",
        "\n"
      ],
      "metadata": {
        "id": "gR3UHDAxG2iX"
      }
    },
    {
      "cell_type": "code",
      "execution_count": null,
      "metadata": {
        "id": "LGdQc1bJvJ4m"
      },
      "outputs": [],
      "source": [
        "# Step 3: Download and Load Pre-trained FastText Embeddings\n",
        "# Download the pre-trained FastText model (English)\n",
        "fasttext_url = 'https://dl.fbaipublicfiles.com/fasttext/vectors-crawl/cc.en.300.vec.gz'\n"
      ]
    },
    {
      "cell_type": "code",
      "execution_count": null,
      "metadata": {
        "id": "XEeIl3j5I9Lq"
      },
      "outputs": [],
      "source": [
        "fasttext_path = drive_path+'cc.en.300.vec.gz'"
      ]
    },
    {
      "cell_type": "code",
      "execution_count": null,
      "metadata": {
        "id": "wEcaOykIwy_I"
      },
      "outputs": [],
      "source": [
        "if not os.path.exists(fasttext_path):\n",
        "    print(\"Downloading FastText embeddings...\")\n",
        "    response = requests.get(fasttext_url)\n",
        "    with open(fasttext_path, 'wb') as f:\n",
        "        f.write(response.content)"
      ]
    },
    {
      "cell_type": "code",
      "execution_count": null,
      "metadata": {
        "colab": {
          "background_save": true,
          "base_uri": "https://localhost:8080/"
        },
        "id": "CKKuKS9zw2ve",
        "outputId": "7b07e41b-ed37-4a73-ce26-52fa2dd152d5"
      },
      "outputs": [
        {
          "name": "stdout",
          "output_type": "stream",
          "text": [
            "Loading FastText model...\n"
          ]
        }
      ],
      "source": [
        "# Load FastText embeddings\n",
        "print(\"Loading FastText model...\")\n",
        "fasttext_model = gensim.models.KeyedVectors.load_word2vec_format(fasttext_path, binary=False)\n"
      ]
    },
    {
      "cell_type": "code",
      "execution_count": null,
      "metadata": {
        "id": "b4zbjtzxZYRy"
      },
      "outputs": [],
      "source": [
        "# Save in binary format\n",
        "fasttext_model.save(drive_path+\"fasttext_model_300.bin\")"
      ]
    },
    {
      "cell_type": "code",
      "execution_count": null,
      "metadata": {
        "id": "1DAqnSXzV7GM",
        "colab": {
          "base_uri": "https://localhost:8080/",
          "height": 165
        },
        "collapsed": true,
        "outputId": "d39b9ed6-3001-4b3f-a401-9ea7482157a8"
      },
      "outputs": [
        {
          "output_type": "error",
          "ename": "AttributeError",
          "evalue": "'KeyedVectors' object has no attribute 'get_word_vectors'",
          "traceback": [
            "\u001b[0;31m---------------------------------------------------------------------------\u001b[0m",
            "\u001b[0;31mAttributeError\u001b[0m                            Traceback (most recent call last)",
            "\u001b[0;32m<ipython-input-31-d955a37310fe>\u001b[0m in \u001b[0;36m<cell line: 2>\u001b[0;34m()\u001b[0m\n\u001b[1;32m      1\u001b[0m \u001b[0;31m# Save in text format (word vectors only)\u001b[0m\u001b[0;34m\u001b[0m\u001b[0;34m\u001b[0m\u001b[0m\n\u001b[0;32m----> 2\u001b[0;31m \u001b[0mfasttext_model\u001b[0m\u001b[0;34m.\u001b[0m\u001b[0mget_word_vectors\u001b[0m\u001b[0;34m(\u001b[0m\u001b[0mdrive_path\u001b[0m\u001b[0;34m+\u001b[0m\u001b[0;34m'fasttext_model_300.vec'\u001b[0m\u001b[0;34m)\u001b[0m\u001b[0;34m\u001b[0m\u001b[0;34m\u001b[0m\u001b[0m\n\u001b[0m",
            "\u001b[0;31mAttributeError\u001b[0m: 'KeyedVectors' object has no attribute 'get_word_vectors'"
          ]
        }
      ],
      "source": [
        "# Save in text format (word vectors only)\n",
        "fasttext_model.get_word_vectors(drive_path+'fasttext_model_300.vec')"
      ]
    },
    {
      "cell_type": "code",
      "execution_count": null,
      "metadata": {
        "id": "1thfIUIcvQOS"
      },
      "outputs": [],
      "source": [
        "# Prepare embedding matrix\n",
        "embedding_dim = 300  # FastText vectors are 300-dimensional\n",
        "vocab_size = len(word_index) + 1\n",
        "embedding_matrix = np.zeros((vocab_size, embedding_dim))\n"
      ]
    },
    {
      "cell_type": "code",
      "execution_count": null,
      "metadata": {
        "id": "i8C211LgzA5Q"
      },
      "outputs": [],
      "source": [
        "for word, i in word_index.items():\n",
        "    if word in fasttext_model:\n",
        "        embedding_matrix[i] = fasttext_model[word]\n",
        "    else:\n",
        "        # For words not in the FastText model, you can assign a random vector or leave it as zeros\n",
        "        embedding_matrix[i] = np.random.normal(size=(embedding_dim,))"
      ]
    },
    {
      "cell_type": "code",
      "execution_count": null,
      "metadata": {
        "id": "IzmE-Feava4N"
      },
      "outputs": [],
      "source": [
        "# Save the embedding matrix to a file\n",
        "np.save(drive_path+'FastText_embedding_matrix_300.npy', embedding_matrix)"
      ]
    },
    {
      "cell_type": "code",
      "execution_count": null,
      "metadata": {
        "id": "uQMYyh9tvf_a"
      },
      "outputs": [],
      "source": [
        "# Load the embedding matrix from the file\n",
        "embedding_matrix = np.load(drive_path+'FastText_embedding_matrix_300.npy')"
      ]
    },
    {
      "cell_type": "code",
      "execution_count": null,
      "metadata": {
        "id": "Bda6OklW-3Bf",
        "colab": {
          "base_uri": "https://localhost:8080/"
        },
        "outputId": "4b0e5890-737b-470e-fd38-64eecc89bcc2"
      },
      "outputs": [
        {
          "output_type": "execute_result",
          "data": {
            "text/plain": [
              "(19401, 300)"
            ]
          },
          "metadata": {},
          "execution_count": 36
        }
      ],
      "source": [
        "embedding_matrix.shape"
      ]
    }
  ],
  "metadata": {
    "colab": {
      "provenance": []
    },
    "kernelspec": {
      "display_name": "Python 3",
      "name": "python3"
    },
    "language_info": {
      "name": "python"
    }
  },
  "nbformat": 4,
  "nbformat_minor": 0
}