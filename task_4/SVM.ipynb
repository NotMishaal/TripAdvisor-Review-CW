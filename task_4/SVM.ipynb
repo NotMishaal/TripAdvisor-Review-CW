{
  "nbformat": 4,
  "nbformat_minor": 0,
  "metadata": {
    "colab": {
      "provenance": []
    },
    "kernelspec": {
      "name": "python3",
      "display_name": "Python 3"
    },
    "language_info": {
      "name": "python"
    }
  },
  "cells": [
    {
      "cell_type": "code",
      "execution_count": null,
      "metadata": {
        "id": "jzqbH6EnBXyn"
      },
      "outputs": [],
      "source": [
        "# Load the Labeled Dataset\n",
        "import pandas as pd\n",
        "from sklearn.feature_extraction.text import CountVectorizer, TfidfVectorizer\n",
        "from sklearn.model_selection import train_test_split\n",
        "from sklearn.svm import SVC\n",
        "from sklearn.metrics import classification_report, accuracy_score, precision_score, recall_score, f1_score\n",
        "from imblearn.over_sampling import SMOTE"
      ]
    },
    {
      "cell_type": "code",
      "source": [
        "# Load the labeled dataset\n",
        "df = pd.read_csv('/content/labelled_data.csv')"
      ],
      "metadata": {
        "id": "e3Q0uNLaBlyt"
      },
      "execution_count": null,
      "outputs": []
    },
    {
      "cell_type": "code",
      "source": [
        "# Ensure the dataset contains necessary columns\n",
        "if 'review_text' not in df.columns or 'majority_vote' not in df.columns:\n",
        "    raise ValueError(\"Dataset must contain 'review_text' and 'majority_vote' columns.\")"
      ],
      "metadata": {
        "id": "SHUlgXClBnuY"
      },
      "execution_count": null,
      "outputs": []
    },
    {
      "cell_type": "code",
      "source": [
        "# Features (X) and Labels (y)\n",
        "X = df['review_text']\n",
        "y = df['majority_vote']\n",
        "\n",
        "# Map labels to numeric values\n",
        "label_mapping = {'positive': 1, 'negative': 0, 'neutral': 2}\n",
        "y = y.map(label_mapping)\n",
        "\n",
        "# Check class distribution\n",
        "print(\"Class Distribution:\")\n",
        "print(y.value_counts())"
      ],
      "metadata": {
        "colab": {
          "base_uri": "https://localhost:8080/"
        },
        "id": "2tz4uTaGBrK_",
        "outputId": "8f26b9af-3372-4d58-91b6-a9f2ca115602"
      },
      "execution_count": null,
      "outputs": [
        {
          "output_type": "stream",
          "name": "stdout",
          "text": [
            "Class Distribution:\n",
            "majority_vote\n",
            "1    11227\n",
            "0      565\n",
            "2       16\n",
            "Name: count, dtype: int64\n"
          ]
        }
      ]
    },
    {
      "cell_type": "code",
      "source": [
        "# 1. Count Vectorizer\n",
        "count_vectorizer = CountVectorizer(max_features=3000, min_df=5, max_df=0.8)\n",
        "X_count = count_vectorizer.fit_transform(X)"
      ],
      "metadata": {
        "id": "Krkxjy9uBwdJ"
      },
      "execution_count": null,
      "outputs": []
    },
    {
      "cell_type": "code",
      "source": [
        "# 2. TF-IDF Vectorizer\n",
        "tfidf_vectorizer = TfidfVectorizer(max_features=3000, min_df=5, max_df=0.8)\n",
        "X_tfidf = tfidf_vectorizer.fit_transform(X)"
      ],
      "metadata": {
        "id": "m25HZZhXB0qp"
      },
      "execution_count": null,
      "outputs": []
    },
    {
      "cell_type": "code",
      "source": [
        "# Display shapes of feature matrices\n",
        "print(f\"Count Vectorizer Shape: {X_count.shape}\")\n",
        "print(f\"TF-IDF Vectorizer Shape: {X_tfidf.shape}\")\n",
        "\n",
        "# Train-Test Split\n",
        "X_train_count, X_test_count, y_train, y_test = train_test_split(X_count, y, test_size=0.2, random_state=42)\n",
        "X_train_tfidf, X_test_tfidf, _, _ = train_test_split(X_tfidf, y, test_size=0.2, random_state=42)\n"
      ],
      "metadata": {
        "colab": {
          "base_uri": "https://localhost:8080/"
        },
        "id": "gkalUUkgB5vl",
        "outputId": "0006454e-3164-4f69-fddf-698ab32a9cac"
      },
      "execution_count": null,
      "outputs": [
        {
          "output_type": "stream",
          "name": "stdout",
          "text": [
            "Count Vectorizer Shape: (11808, 3000)\n",
            "TF-IDF Vectorizer Shape: (11808, 3000)\n"
          ]
        }
      ]
    },
    {
      "cell_type": "code",
      "source": [
        "# SVM Implementation: Baseline Model\n",
        "print(\"\\n=== Baseline SVM (No Balancing) ===\")\n",
        "svm_baseline = SVC(kernel='linear', random_state=42)"
      ],
      "metadata": {
        "colab": {
          "base_uri": "https://localhost:8080/"
        },
        "id": "Y_7r7eRMB6Z9",
        "outputId": "f1de4780-412f-43c2-9db1-03cdc34cbf89"
      },
      "execution_count": null,
      "outputs": [
        {
          "output_type": "stream",
          "name": "stdout",
          "text": [
            "\n",
            "=== Baseline SVM (No Balancing) ===\n"
          ]
        }
      ]
    },
    {
      "cell_type": "code",
      "source": [
        "# Train and Evaluate on Count Vectorizer Features\n",
        "svm_baseline.fit(X_train_count, y_train)\n",
        "y_pred_count = svm_baseline.predict(X_test_count)\n",
        "print(\"\\nPerformance with Count Vectorizer:\")\n",
        "print(classification_report(y_test, y_pred_count))\n",
        "print(f\"Accuracy: {accuracy_score(y_test, y_pred_count):.2f}\")"
      ],
      "metadata": {
        "colab": {
          "base_uri": "https://localhost:8080/"
        },
        "id": "LSwZdbbnB878",
        "outputId": "d054bdf0-aa08-4b82-d593-7f11e67382c2"
      },
      "execution_count": null,
      "outputs": [
        {
          "output_type": "stream",
          "name": "stdout",
          "text": [
            "\n",
            "Performance with Count Vectorizer:\n",
            "              precision    recall  f1-score   support\n",
            "\n",
            "           0       0.65      0.72      0.68        92\n",
            "           1       0.99      0.99      0.99      2266\n",
            "           2       0.00      0.00      0.00         4\n",
            "\n",
            "    accuracy                           0.97      2362\n",
            "   macro avg       0.55      0.57      0.56      2362\n",
            "weighted avg       0.97      0.97      0.97      2362\n",
            "\n",
            "Accuracy: 0.97\n"
          ]
        },
        {
          "output_type": "stream",
          "name": "stderr",
          "text": [
            "/usr/local/lib/python3.10/dist-packages/sklearn/metrics/_classification.py:1531: UndefinedMetricWarning: Precision is ill-defined and being set to 0.0 in labels with no predicted samples. Use `zero_division` parameter to control this behavior.\n",
            "  _warn_prf(average, modifier, f\"{metric.capitalize()} is\", len(result))\n",
            "/usr/local/lib/python3.10/dist-packages/sklearn/metrics/_classification.py:1531: UndefinedMetricWarning: Precision is ill-defined and being set to 0.0 in labels with no predicted samples. Use `zero_division` parameter to control this behavior.\n",
            "  _warn_prf(average, modifier, f\"{metric.capitalize()} is\", len(result))\n",
            "/usr/local/lib/python3.10/dist-packages/sklearn/metrics/_classification.py:1531: UndefinedMetricWarning: Precision is ill-defined and being set to 0.0 in labels with no predicted samples. Use `zero_division` parameter to control this behavior.\n",
            "  _warn_prf(average, modifier, f\"{metric.capitalize()} is\", len(result))\n"
          ]
        }
      ]
    },
    {
      "cell_type": "code",
      "source": [
        "# Train and Evaluate on TF-IDF Features\n",
        "svm_baseline.fit(X_train_tfidf, y_train)\n",
        "y_pred_tfidf = svm_baseline.predict(X_test_tfidf)\n",
        "print(\"\\nPerformance with TF-IDF Vectorizer:\")\n",
        "print(classification_report(y_test, y_pred_tfidf))\n",
        "print(f\"Accuracy: {accuracy_score(y_test, y_pred_tfidf):.2f}\")"
      ],
      "metadata": {
        "colab": {
          "base_uri": "https://localhost:8080/"
        },
        "id": "e3WGYWidB_oZ",
        "outputId": "f6e4b5c8-12ae-4e0d-f85d-e4ba56be8b9d"
      },
      "execution_count": null,
      "outputs": [
        {
          "output_type": "stream",
          "name": "stdout",
          "text": [
            "\n",
            "Performance with TF-IDF Vectorizer:\n",
            "              precision    recall  f1-score   support\n",
            "\n",
            "           0       0.77      0.62      0.69        92\n",
            "           1       0.98      0.99      0.99      2266\n",
            "           2       0.00      0.00      0.00         4\n",
            "\n",
            "    accuracy                           0.98      2362\n",
            "   macro avg       0.58      0.54      0.56      2362\n",
            "weighted avg       0.97      0.98      0.98      2362\n",
            "\n",
            "Accuracy: 0.98\n"
          ]
        },
        {
          "output_type": "stream",
          "name": "stderr",
          "text": [
            "/usr/local/lib/python3.10/dist-packages/sklearn/metrics/_classification.py:1531: UndefinedMetricWarning: Precision is ill-defined and being set to 0.0 in labels with no predicted samples. Use `zero_division` parameter to control this behavior.\n",
            "  _warn_prf(average, modifier, f\"{metric.capitalize()} is\", len(result))\n",
            "/usr/local/lib/python3.10/dist-packages/sklearn/metrics/_classification.py:1531: UndefinedMetricWarning: Precision is ill-defined and being set to 0.0 in labels with no predicted samples. Use `zero_division` parameter to control this behavior.\n",
            "  _warn_prf(average, modifier, f\"{metric.capitalize()} is\", len(result))\n",
            "/usr/local/lib/python3.10/dist-packages/sklearn/metrics/_classification.py:1531: UndefinedMetricWarning: Precision is ill-defined and being set to 0.0 in labels with no predicted samples. Use `zero_division` parameter to control this behavior.\n",
            "  _warn_prf(average, modifier, f\"{metric.capitalize()} is\", len(result))\n"
          ]
        }
      ]
    },
    {
      "cell_type": "code",
      "source": [
        "# SVM with Class Weight Balancing\n",
        "print(\"\\n=== SVM with Class Weight Balancing ===\")\n",
        "svm_weighted = SVC(kernel='linear', class_weight='balanced', random_state=42)\n"
      ],
      "metadata": {
        "colab": {
          "base_uri": "https://localhost:8080/"
        },
        "id": "2lWsAok4CB9u",
        "outputId": "955df8b2-d175-4d04-ac97-4d4a95fed3dc"
      },
      "execution_count": null,
      "outputs": [
        {
          "output_type": "stream",
          "name": "stdout",
          "text": [
            "\n",
            "=== SVM with Class Weight Balancing ===\n"
          ]
        }
      ]
    },
    {
      "cell_type": "code",
      "source": [
        "# Train and Evaluate on Count Vectorizer Features\n",
        "svm_weighted.fit(X_train_count, y_train)\n",
        "y_pred_weighted_count = svm_weighted.predict(X_test_count)\n",
        "print(\"\\nPerformance with Count Vectorizer (Balanced Weights):\")\n",
        "print(classification_report(y_test, y_pred_weighted_count))\n",
        "print(f\"Accuracy: {accuracy_score(y_test, y_pred_weighted_count):.2f}\")\n"
      ],
      "metadata": {
        "colab": {
          "base_uri": "https://localhost:8080/"
        },
        "id": "pOQiiveDCLBy",
        "outputId": "b92d8b2c-9e5f-4e6e-a889-91d54031cf32"
      },
      "execution_count": null,
      "outputs": [
        {
          "output_type": "stream",
          "name": "stdout",
          "text": [
            "\n",
            "Performance with Count Vectorizer (Balanced Weights):\n",
            "              precision    recall  f1-score   support\n",
            "\n",
            "           0       0.66      0.73      0.69        92\n",
            "           1       0.99      0.99      0.99      2266\n",
            "           2       0.00      0.00      0.00         4\n",
            "\n",
            "    accuracy                           0.97      2362\n",
            "   macro avg       0.55      0.57      0.56      2362\n",
            "weighted avg       0.97      0.97      0.97      2362\n",
            "\n",
            "Accuracy: 0.97\n"
          ]
        },
        {
          "output_type": "stream",
          "name": "stderr",
          "text": [
            "/usr/local/lib/python3.10/dist-packages/sklearn/metrics/_classification.py:1531: UndefinedMetricWarning: Precision is ill-defined and being set to 0.0 in labels with no predicted samples. Use `zero_division` parameter to control this behavior.\n",
            "  _warn_prf(average, modifier, f\"{metric.capitalize()} is\", len(result))\n",
            "/usr/local/lib/python3.10/dist-packages/sklearn/metrics/_classification.py:1531: UndefinedMetricWarning: Precision is ill-defined and being set to 0.0 in labels with no predicted samples. Use `zero_division` parameter to control this behavior.\n",
            "  _warn_prf(average, modifier, f\"{metric.capitalize()} is\", len(result))\n",
            "/usr/local/lib/python3.10/dist-packages/sklearn/metrics/_classification.py:1531: UndefinedMetricWarning: Precision is ill-defined and being set to 0.0 in labels with no predicted samples. Use `zero_division` parameter to control this behavior.\n",
            "  _warn_prf(average, modifier, f\"{metric.capitalize()} is\", len(result))\n"
          ]
        }
      ]
    },
    {
      "cell_type": "code",
      "source": [
        "# Train and Evaluate on TF-IDF Features\n",
        "svm_weighted.fit(X_train_tfidf, y_train)\n",
        "y_pred_weighted_tfidf = svm_weighted.predict(X_test_tfidf)\n",
        "print(\"\\nPerformance with TF-IDF Vectorizer (Balanced Weights):\")\n",
        "print(classification_report(y_test, y_pred_weighted_tfidf))\n",
        "print(f\"Accuracy: {accuracy_score(y_test, y_pred_weighted_tfidf):.2f}\")\n"
      ],
      "metadata": {
        "colab": {
          "base_uri": "https://localhost:8080/"
        },
        "id": "h8rvbSthCNmX",
        "outputId": "486d50b4-4af0-4e05-deef-014c38722644"
      },
      "execution_count": null,
      "outputs": [
        {
          "output_type": "stream",
          "name": "stdout",
          "text": [
            "\n",
            "Performance with TF-IDF Vectorizer (Balanced Weights):\n",
            "              precision    recall  f1-score   support\n",
            "\n",
            "           0       0.55      0.84      0.67        92\n",
            "           1       0.99      0.97      0.98      2266\n",
            "           2       0.00      0.00      0.00         4\n",
            "\n",
            "    accuracy                           0.97      2362\n",
            "   macro avg       0.52      0.60      0.55      2362\n",
            "weighted avg       0.97      0.97      0.97      2362\n",
            "\n",
            "Accuracy: 0.97\n"
          ]
        },
        {
          "output_type": "stream",
          "name": "stderr",
          "text": [
            "/usr/local/lib/python3.10/dist-packages/sklearn/metrics/_classification.py:1531: UndefinedMetricWarning: Precision is ill-defined and being set to 0.0 in labels with no predicted samples. Use `zero_division` parameter to control this behavior.\n",
            "  _warn_prf(average, modifier, f\"{metric.capitalize()} is\", len(result))\n",
            "/usr/local/lib/python3.10/dist-packages/sklearn/metrics/_classification.py:1531: UndefinedMetricWarning: Precision is ill-defined and being set to 0.0 in labels with no predicted samples. Use `zero_division` parameter to control this behavior.\n",
            "  _warn_prf(average, modifier, f\"{metric.capitalize()} is\", len(result))\n",
            "/usr/local/lib/python3.10/dist-packages/sklearn/metrics/_classification.py:1531: UndefinedMetricWarning: Precision is ill-defined and being set to 0.0 in labels with no predicted samples. Use `zero_division` parameter to control this behavior.\n",
            "  _warn_prf(average, modifier, f\"{metric.capitalize()} is\", len(result))\n"
          ]
        }
      ]
    },
    {
      "cell_type": "code",
      "source": [
        "# SMOTE Oversampling\n",
        "print(\"\\n=== SVM with SMOTE Oversampling ===\")\n",
        "# Apply SMOTE to the Count Vectorizer features\n",
        "smote = SMOTE(random_state=42)\n",
        "X_train_smote, y_train_smote = smote.fit_resample(X_train_count, y_train)\n",
        "\n",
        "print(\"Class distribution after SMOTE:\")\n",
        "print(pd.Series(y_train_smote).value_counts())\n"
      ],
      "metadata": {
        "colab": {
          "base_uri": "https://localhost:8080/"
        },
        "id": "ejlfkL7NCPq2",
        "outputId": "8f51e317-dd04-44e4-cad8-8ea5133296ca"
      },
      "execution_count": null,
      "outputs": [
        {
          "output_type": "stream",
          "name": "stdout",
          "text": [
            "\n",
            "=== SVM with SMOTE Oversampling ===\n",
            "Class distribution after SMOTE:\n",
            "majority_vote\n",
            "1    8961\n",
            "0    8961\n",
            "2    8961\n",
            "Name: count, dtype: int64\n"
          ]
        }
      ]
    },
    {
      "cell_type": "code",
      "source": [
        "# Train and Evaluate on SMOTE-balanced data\n",
        "svm_smote = SVC(kernel='linear', random_state=42)\n",
        "svm_smote.fit(X_train_smote, y_train_smote)\n",
        "y_pred_smote = svm_smote.predict(X_test_count)\n",
        "print(\"\\nPerformance with SMOTE Oversampling:\")\n",
        "print(classification_report(y_test, y_pred_smote))\n",
        "print(f\"Accuracy: {accuracy_score(y_test, y_pred_smote):.2f}\")\n"
      ],
      "metadata": {
        "colab": {
          "base_uri": "https://localhost:8080/"
        },
        "id": "vKS6pz9sCUXt",
        "outputId": "afdce6f0-cee2-406f-b082-ef5cd35e3432"
      },
      "execution_count": null,
      "outputs": [
        {
          "output_type": "stream",
          "name": "stdout",
          "text": [
            "\n",
            "Performance with SMOTE Oversampling:\n",
            "              precision    recall  f1-score   support\n",
            "\n",
            "           0       0.56      0.64      0.60        92\n",
            "           1       0.98      0.98      0.98      2266\n",
            "           2       0.00      0.00      0.00         4\n",
            "\n",
            "    accuracy                           0.97      2362\n",
            "   macro avg       0.52      0.54      0.53      2362\n",
            "weighted avg       0.97      0.97      0.97      2362\n",
            "\n",
            "Accuracy: 0.97\n"
          ]
        },
        {
          "output_type": "stream",
          "name": "stderr",
          "text": [
            "/usr/local/lib/python3.10/dist-packages/sklearn/metrics/_classification.py:1531: UndefinedMetricWarning: Precision is ill-defined and being set to 0.0 in labels with no predicted samples. Use `zero_division` parameter to control this behavior.\n",
            "  _warn_prf(average, modifier, f\"{metric.capitalize()} is\", len(result))\n",
            "/usr/local/lib/python3.10/dist-packages/sklearn/metrics/_classification.py:1531: UndefinedMetricWarning: Precision is ill-defined and being set to 0.0 in labels with no predicted samples. Use `zero_division` parameter to control this behavior.\n",
            "  _warn_prf(average, modifier, f\"{metric.capitalize()} is\", len(result))\n",
            "/usr/local/lib/python3.10/dist-packages/sklearn/metrics/_classification.py:1531: UndefinedMetricWarning: Precision is ill-defined and being set to 0.0 in labels with no predicted samples. Use `zero_division` parameter to control this behavior.\n",
            "  _warn_prf(average, modifier, f\"{metric.capitalize()} is\", len(result))\n"
          ]
        }
      ]
    },
    {
      "cell_type": "code",
      "source": [
        "# Calculate Evaluation Metrics (Precision, Recall, F1-Score) for Baseline Model\n",
        "precision = precision_score(y_test, y_pred_count, average='weighted')\n",
        "recall = recall_score(y_test, y_pred_count, average='weighted')\n",
        "f1 = f1_score(y_test, y_pred_count, average='weighted')\n",
        "\n",
        "print(\"\\n=== Evaluation Metrics for Baseline SVM ===\")\n",
        "print(f\"Precision: {precision:.2f}\")\n",
        "print(f\"Recall: {recall:.2f}\")\n",
        "print(f\"F1-Score: {f1:.2f}\")\n"
      ],
      "metadata": {
        "colab": {
          "base_uri": "https://localhost:8080/"
        },
        "id": "-DsT7DNbCWrZ",
        "outputId": "052254f2-bc01-464e-c97b-9c239ac70164"
      },
      "execution_count": null,
      "outputs": [
        {
          "output_type": "stream",
          "name": "stdout",
          "text": [
            "\n",
            "=== Evaluation Metrics for Baseline SVM ===\n",
            "Precision: 0.97\n",
            "Recall: 0.97\n",
            "F1-Score: 0.97\n"
          ]
        },
        {
          "output_type": "stream",
          "name": "stderr",
          "text": [
            "/usr/local/lib/python3.10/dist-packages/sklearn/metrics/_classification.py:1531: UndefinedMetricWarning: Precision is ill-defined and being set to 0.0 in labels with no predicted samples. Use `zero_division` parameter to control this behavior.\n",
            "  _warn_prf(average, modifier, f\"{metric.capitalize()} is\", len(result))\n"
          ]
        }
      ]
    }
  ]
}