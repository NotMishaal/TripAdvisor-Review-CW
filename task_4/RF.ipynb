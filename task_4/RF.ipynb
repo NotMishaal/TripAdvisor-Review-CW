{
<<<<<<< HEAD
 "cells": [
  {
   "cell_type": "markdown",
   "metadata": {
    "id": "tOa-L6bnYbP7"
   },
   "source": [
    "# Import Libraries"
   ]
  },
  {
   "cell_type": "code",
   "execution_count": null,
   "metadata": {
    "id": "z85zrA56fdat"
   },
   "outputs": [],
   "source": [
    "# Standard Library Imports\n",
    "import re\n",
    "\n",
    "# Third-Party Library Imports\n",
    "import numpy as np\n",
    "import pandas as pd\n",
    "import seaborn as sns\n",
    "import matplotlib.pyplot as plt\n",
    "from scipy.sparse import load_npz\n",
    "\n",
    "# Machine Learning Libraries\n",
    "from sklearn.ensemble import RandomForestClassifier\n",
    "from sklearn.model_selection import train_test_split\n",
    "from sklearn.metrics import classification_report, confusion_matrix, accuracy_score\n",
    "from sklearn.preprocessing import LabelEncoder\n",
    "\n",
    "# NLP Libraries\n",
    "import nltk\n",
    "from imblearn.over_sampling import SMOTE\n",
    "\n",
    "# Configure inline plotting (for Jupyter Notebook)\n",
    "%matplotlib inline"
   ]
  },
  {
   "cell_type": "markdown",
   "metadata": {
    "id": "F77E6K-fYgDH"
   },
   "source": [
    "# Load Dataset"
   ]
  },
  {
   "cell_type": "code",
   "execution_count": 5,
   "metadata": {
    "colab": {
     "base_uri": "https://localhost:8080/"
    },
    "id": "fEHr9RRakEKE",
    "outputId": "db9632f3-78d7-4267-f25a-ea38533bc692"
   },
   "outputs": [
    {
     "name": "stdout",
     "output_type": "stream",
     "text": [
      "Mounted at /content/drive\n"
     ]
    }
   ],
   "source": [
    "from google.colab import drive\n",
    "drive.mount('/content/drive')"
   ]
  },
  {
   "cell_type": "code",
   "execution_count": 6,
   "metadata": {
    "id": "tdG1ZZZcMii3"
   },
   "outputs": [],
   "source": [
    "df_labels = pd.read_csv('/content/drive/MyDrive/Year 4/NLP notebooks and data/Data/Preprocessed/labelled_data.csv', index_col = 0)"
   ]
  },
  {
   "cell_type": "code",
   "execution_count": null,
   "metadata": {
    "colab": {
     "base_uri": "https://localhost:8080/"
    },
    "id": "QjJj54SJM-Hw",
    "outputId": "e70090b3-b1c8-4589-b677-254ecbb9ed79"
   },
   "outputs": [
    {
     "data": {
      "text/plain": [
       "(11808, 30)"
      ]
     },
     "execution_count": 27,
     "metadata": {},
     "output_type": "execute_result"
    }
   ],
   "source": [
    "df_labels.shape"
   ]
  },
  {
   "cell_type": "code",
   "execution_count": null,
   "metadata": {
    "colab": {
     "base_uri": "https://localhost:8080/"
    },
    "id": "btCaI2ChM_pi",
    "outputId": "2e625bfd-5e5d-4579-f57f-2b9d2921dbfe"
   },
   "outputs": [
    {
     "data": {
      "text/plain": [
       "Index(['id', 'address', 'city', 'placeName', 'numberOfReviews', 'placeRating',\n",
       "       'webUrl', 'publishedDate', 'userRating', 'roomTip', 'review_text',\n",
       "       'review_title', 'travelDate', 'tripType', 'username', 'word_tokens',\n",
       "       'bpe_tokens', 'bigram_tokens', 'trigram_tokens', 'whitespace_tokens',\n",
       "       'rule_based_tokens', 'spacy_tokens', 'wordpiece_tokens', 'vader_score',\n",
       "       'compound_score', 'vader_category', 'flair_sentiment',\n",
       "       'flair_confidence', 'textblob_sentiment', 'majority_vote'],\n",
       "      dtype='object')"
      ]
     },
     "execution_count": 28,
     "metadata": {},
     "output_type": "execute_result"
    }
   ],
   "source": [
    "df_labels.columns"
   ]
  },
  {
   "cell_type": "markdown",
   "metadata": {
    "id": "yblyFaU_MdLd"
   },
   "source": [
    "# Load labels (y)"
   ]
  },
  {
   "cell_type": "code",
   "execution_count": 11,
   "metadata": {
    "colab": {
     "base_uri": "https://localhost:8080/",
     "height": 489
    },
    "id": "qrOBuGDzNeAa",
    "outputId": "c12655c6-e6f6-4541-e3bf-1c7bb81a0e37"
   },
   "outputs": [
    {
     "data": {
      "text/html": [
       "<div>\n",
       "<style scoped>\n",
       "    .dataframe tbody tr th:only-of-type {\n",
       "        vertical-align: middle;\n",
       "    }\n",
       "\n",
       "    .dataframe tbody tr th {\n",
       "        vertical-align: top;\n",
       "    }\n",
       "\n",
       "    .dataframe thead th {\n",
       "        text-align: right;\n",
       "    }\n",
       "</style>\n",
       "<table border=\"1\" class=\"dataframe\">\n",
       "  <thead>\n",
       "    <tr style=\"text-align: right;\">\n",
       "      <th></th>\n",
       "      <th>majority_vote</th>\n",
       "    </tr>\n",
       "    <tr>\n",
       "      <th>helpfulVotes</th>\n",
       "      <th></th>\n",
       "    </tr>\n",
       "  </thead>\n",
       "  <tbody>\n",
       "    <tr>\n",
       "      <th>0.0</th>\n",
       "      <td>positive</td>\n",
       "    </tr>\n",
       "    <tr>\n",
       "      <th>0.0</th>\n",
       "      <td>negative</td>\n",
       "    </tr>\n",
       "    <tr>\n",
       "      <th>0.0</th>\n",
       "      <td>positive</td>\n",
       "    </tr>\n",
       "    <tr>\n",
       "      <th>0.0</th>\n",
       "      <td>positive</td>\n",
       "    </tr>\n",
       "    <tr>\n",
       "      <th>0.0</th>\n",
       "      <td>positive</td>\n",
       "    </tr>\n",
       "    <tr>\n",
       "      <th>...</th>\n",
       "      <td>...</td>\n",
       "    </tr>\n",
       "    <tr>\n",
       "      <th>1.0</th>\n",
       "      <td>positive</td>\n",
       "    </tr>\n",
       "    <tr>\n",
       "      <th>0.0</th>\n",
       "      <td>positive</td>\n",
       "    </tr>\n",
       "    <tr>\n",
       "      <th>1.0</th>\n",
       "      <td>positive</td>\n",
       "    </tr>\n",
       "    <tr>\n",
       "      <th>0.0</th>\n",
       "      <td>positive</td>\n",
       "    </tr>\n",
       "    <tr>\n",
       "      <th>0.0</th>\n",
       "      <td>positive</td>\n",
       "    </tr>\n",
       "  </tbody>\n",
       "</table>\n",
       "<p>11808 rows × 1 columns</p>\n",
       "</div><br><label><b>dtype:</b> object</label>"
      ],
      "text/plain": [
       "helpfulVotes\n",
       "0.0    positive\n",
       "0.0    negative\n",
       "0.0    positive\n",
       "0.0    positive\n",
       "0.0    positive\n",
       "         ...   \n",
       "1.0    positive\n",
       "0.0    positive\n",
       "1.0    positive\n",
       "0.0    positive\n",
       "0.0    positive\n",
       "Name: majority_vote, Length: 11808, dtype: object"
      ]
     },
     "execution_count": 11,
     "metadata": {},
     "output_type": "execute_result"
    }
   ],
   "source": [
    "df_labels['majority_vote']"
   ]
  },
  {
   "cell_type": "code",
   "execution_count": 7,
   "metadata": {
    "id": "2XkLg-xCNIdi"
   },
   "outputs": [],
   "source": [
    "y = df_labels['majority_vote']"
   ]
  },
  {
   "cell_type": "code",
   "execution_count": 8,
   "metadata": {
    "colab": {
     "base_uri": "https://localhost:8080/"
    },
    "id": "KMaW5zAsOQZB",
    "outputId": "90673aa8-e3b4-45a0-d057-cb7987156660"
   },
   "outputs": [
    {
     "data": {
      "text/plain": [
       "(11808,)"
      ]
     },
     "execution_count": 8,
     "metadata": {},
     "output_type": "execute_result"
    }
   ],
   "source": [
    "y.shape"
   ]
  },
  {
   "cell_type": "code",
   "execution_count": 9,
   "metadata": {
    "colab": {
     "base_uri": "https://localhost:8080/"
    },
    "id": "X7XpHgbGPNir",
    "outputId": "a60b2756-61f7-4f84-8ccc-8da8096d4a18"
   },
   "outputs": [
    {
     "data": {
      "text/plain": [
       "(9550,)"
      ]
     },
     "execution_count": 9,
     "metadata": {},
     "output_type": "execute_result"
    }
   ],
   "source": [
    "y[0].shape"
   ]
  },
  {
   "cell_type": "code",
   "execution_count": 10,
   "metadata": {
    "colab": {
     "base_uri": "https://localhost:8080/",
     "height": 489
    },
    "id": "S1HtMhuMNVtq",
    "outputId": "3b9e55c2-3d8b-4494-cd42-b114a5f09fc5"
   },
   "outputs": [
    {
     "data": {
      "text/html": [
       "<div>\n",
       "<style scoped>\n",
       "    .dataframe tbody tr th:only-of-type {\n",
       "        vertical-align: middle;\n",
       "    }\n",
       "\n",
       "    .dataframe tbody tr th {\n",
       "        vertical-align: top;\n",
       "    }\n",
       "\n",
       "    .dataframe thead th {\n",
       "        text-align: right;\n",
       "    }\n",
       "</style>\n",
       "<table border=\"1\" class=\"dataframe\">\n",
       "  <thead>\n",
       "    <tr style=\"text-align: right;\">\n",
       "      <th></th>\n",
       "      <th>majority_vote</th>\n",
       "    </tr>\n",
       "    <tr>\n",
       "      <th>helpfulVotes</th>\n",
       "      <th></th>\n",
       "    </tr>\n",
       "  </thead>\n",
       "  <tbody>\n",
       "    <tr>\n",
       "      <th>0.0</th>\n",
       "      <td>positive</td>\n",
       "    </tr>\n",
       "    <tr>\n",
       "      <th>0.0</th>\n",
       "      <td>negative</td>\n",
       "    </tr>\n",
       "    <tr>\n",
       "      <th>0.0</th>\n",
       "      <td>positive</td>\n",
       "    </tr>\n",
       "    <tr>\n",
       "      <th>0.0</th>\n",
       "      <td>positive</td>\n",
       "    </tr>\n",
       "    <tr>\n",
       "      <th>0.0</th>\n",
       "      <td>positive</td>\n",
       "    </tr>\n",
       "    <tr>\n",
       "      <th>...</th>\n",
       "      <td>...</td>\n",
       "    </tr>\n",
       "    <tr>\n",
       "      <th>0.0</th>\n",
       "      <td>positive</td>\n",
       "    </tr>\n",
       "    <tr>\n",
       "      <th>0.0</th>\n",
       "      <td>positive</td>\n",
       "    </tr>\n",
       "    <tr>\n",
       "      <th>0.0</th>\n",
       "      <td>positive</td>\n",
       "    </tr>\n",
       "    <tr>\n",
       "      <th>0.0</th>\n",
       "      <td>positive</td>\n",
       "    </tr>\n",
       "    <tr>\n",
       "      <th>0.0</th>\n",
       "      <td>positive</td>\n",
       "    </tr>\n",
       "  </tbody>\n",
       "</table>\n",
       "<p>9550 rows × 1 columns</p>\n",
       "</div><br><label><b>dtype:</b> object</label>"
      ],
      "text/plain": [
       "helpfulVotes\n",
       "0.0    positive\n",
       "0.0    negative\n",
       "0.0    positive\n",
       "0.0    positive\n",
       "0.0    positive\n",
       "         ...   \n",
       "0.0    positive\n",
       "0.0    positive\n",
       "0.0    positive\n",
       "0.0    positive\n",
       "0.0    positive\n",
       "Name: majority_vote, Length: 9550, dtype: object"
      ]
     },
     "execution_count": 10,
     "metadata": {},
     "output_type": "execute_result"
    }
   ],
   "source": [
    "y[0]"
   ]
  },
  {
   "cell_type": "code",
   "execution_count": 13,
   "metadata": {
    "colab": {
     "base_uri": "https://localhost:8080/"
    },
    "id": "h9xxk1ADOjzR",
    "outputId": "ebfbccc9-75b0-403b-9601-240105b2533b"
   },
   "outputs": [
    {
     "data": {
      "text/plain": [
       "array([2, 0, 2, ..., 2, 2, 2])"
      ]
     },
     "execution_count": 13,
     "metadata": {},
     "output_type": "execute_result"
    }
   ],
   "source": [
    "# Label encode the target variable\n",
    "label_encoder = LabelEncoder()\n",
    "y_encoded = label_encoder.fit_transform(y)\n",
    "y_encoded"
   ]
  },
  {
   "cell_type": "markdown",
   "metadata": {
    "id": "GoedyDCLNNU0"
   },
   "source": [
    "# Load vectors (X)"
   ]
  },
  {
   "cell_type": "code",
   "execution_count": 38,
   "metadata": {
    "id": "-3KkPFJQTpkK"
   },
   "outputs": [],
   "source": [
    "# Load the NumPy array from the .npy file\n",
    "drive_path = \"/content/drive/MyDrive/Year 4/NLP notebooks and data/dense_vectors\"\n",
    "vec_type = 'word2vec'#'fasttext' #'word2vec' #\n",
    "loaded_vectors = np.load(drive_path+f'/{vec_type}_vectors.npy')"
   ]
  },
  {
   "cell_type": "code",
   "execution_count": 74,
   "metadata": {
    "id": "rOlV3Tf9U4-x"
   },
   "outputs": [],
   "source": [
    "# Load the NumPy array from the .npy file\n",
    "drive_path = \"/content/drive/MyDrive/Year 4/NLP notebooks and data/sparse vectors\"\n",
    "vec_type = 'tfidf'#'tfidf' #'count' #\n",
    "loaded_vectors = load_npz(drive_path+f'/{vec_type}_matrix.npz')"
   ]
  },
  {
   "cell_type": "code",
   "execution_count": 75,
   "metadata": {
    "colab": {
     "base_uri": "https://localhost:8080/"
    },
    "id": "QfECa5PST97N",
    "outputId": "a8fea684-178c-4586-80d9-2332ddd5ed1b"
   },
   "outputs": [
    {
     "data": {
      "text/plain": [
       "(11808, 3000)"
      ]
     },
     "execution_count": 75,
     "metadata": {},
     "output_type": "execute_result"
    }
   ],
   "source": [
    "loaded_vectors.shape"
   ]
  },
  {
   "cell_type": "code",
   "execution_count": 76,
   "metadata": {
    "id": "Wu3cQJw9SW8x"
   },
   "outputs": [],
   "source": [
    "X = loaded_vectors"
   ]
  },
  {
   "cell_type": "code",
   "execution_count": 17,
   "metadata": {
    "colab": {
     "base_uri": "https://localhost:8080/",
     "height": 209
    },
    "id": "T2-3-uISmxP9",
    "outputId": "17145232-d6fc-49b3-eab9-c1af9a4a645c"
   },
   "outputs": [
    {
     "data": {
      "text/html": [
       "<div>\n",
       "<style scoped>\n",
       "    .dataframe tbody tr th:only-of-type {\n",
       "        vertical-align: middle;\n",
       "    }\n",
       "\n",
       "    .dataframe tbody tr th {\n",
       "        vertical-align: top;\n",
       "    }\n",
       "\n",
       "    .dataframe thead th {\n",
       "        text-align: right;\n",
       "    }\n",
       "</style>\n",
       "<table border=\"1\" class=\"dataframe\">\n",
       "  <thead>\n",
       "    <tr style=\"text-align: right;\">\n",
       "      <th></th>\n",
       "      <th>count</th>\n",
       "    </tr>\n",
       "    <tr>\n",
       "      <th>majority_vote</th>\n",
       "      <th></th>\n",
       "    </tr>\n",
       "  </thead>\n",
       "  <tbody>\n",
       "    <tr>\n",
       "      <th>positive</th>\n",
       "      <td>11227</td>\n",
       "    </tr>\n",
       "    <tr>\n",
       "      <th>negative</th>\n",
       "      <td>565</td>\n",
       "    </tr>\n",
       "    <tr>\n",
       "      <th>neutral</th>\n",
       "      <td>16</td>\n",
       "    </tr>\n",
       "  </tbody>\n",
       "</table>\n",
       "</div><br><label><b>dtype:</b> int64</label>"
      ],
      "text/plain": [
       "majority_vote\n",
       "positive    11227\n",
       "negative      565\n",
       "neutral        16\n",
       "Name: count, dtype: int64"
      ]
     },
     "execution_count": 17,
     "metadata": {},
     "output_type": "execute_result"
    }
   ],
   "source": [
    "y.value_counts()"
   ]
  },
  {
   "cell_type": "markdown",
   "metadata": {
    "id": "6nb9CobjYopP"
   },
   "source": [
    "# Split Dataset"
   ]
  },
  {
   "cell_type": "code",
   "execution_count": 77,
   "metadata": {
    "id": "VHC5z38Gklwr"
   },
   "outputs": [],
   "source": [
    "# Split the dataset\n",
    "X_train, X_test, y_train, y_test = train_test_split(X, y, test_size=0.2, random_state=42)"
   ]
  },
  {
   "cell_type": "code",
   "execution_count": null,
   "metadata": {
    "id": "Nz4v1bY-O99y"
   },
   "outputs": [],
   "source": [
    "# Decode the numeric labels back to original categories # TODO add later\n",
    "# y_test_labels = label_encoder.inverse_transform(y_test)\n",
    "# y_pred_labels = label_encoder.inverse_transform(y_pred)"
   ]
  },
  {
   "cell_type": "markdown",
   "metadata": {
    "id": "ycp34WckVqDj"
   },
   "source": [
    "## Without SMOTE"
   ]
  },
  {
   "cell_type": "code",
   "execution_count": 78,
   "metadata": {
    "id": "bAKsWcmflUyp"
   },
   "outputs": [],
   "source": [
    "# Train Random Forest model - Without SMOTE\n",
    "rf_model = RandomForestClassifier(n_estimators=100, random_state=42)"
   ]
  },
  {
   "cell_type": "markdown",
   "metadata": {
    "id": "PFXMZJGyVzze"
   },
   "source": [
    "## With SMOTE"
   ]
  },
  {
   "cell_type": "code",
   "execution_count": 79,
   "metadata": {
    "id": "IRPhev9zV3EU"
   },
   "outputs": [],
   "source": [
    "# With SMOTE\n",
    "smote = SMOTE(random_state=42)\n",
    "X_train_sm, y_train_sm = smote.fit_resample(X_train, y_train)"
   ]
  },
  {
   "cell_type": "code",
   "execution_count": 80,
   "metadata": {
    "id": "IznbbW2VQv4m"
   },
   "outputs": [],
   "source": [
    "rf_model_smote = RandomForestClassifier(random_state=42)"
   ]
  },
  {
   "cell_type": "markdown",
   "metadata": {
    "id": "Ej4IV-0CWE69"
   },
   "source": [
    "# Balanced RF Model"
   ]
  },
  {
   "cell_type": "code",
   "execution_count": 81,
   "metadata": {
    "id": "oWGbxN8rWI11"
   },
   "outputs": [],
   "source": [
    "from imblearn.ensemble import BalancedRandomForestClassifier\n",
    "brf_model = BalancedRandomForestClassifier(random_state=42)\n"
   ]
  },
  {
   "cell_type": "markdown",
   "metadata": {
    "id": "WF_-f_DNSjxe"
   },
   "source": [
    "# Fitting and Evaluation"
   ]
  },
  {
   "cell_type": "code",
   "execution_count": 26,
   "metadata": {
    "id": "c1XVAse5XA8I"
   },
   "outputs": [],
   "source": [
    "def fit_predict_evaluate(model, X_train, y_train, X_test, y_test, text_print = \"\"):\n",
    "\n",
    "    model.fit(X_train, y_train)\n",
    "    y_pred = model.predict(X_test)\n",
    "\n",
    "    print(text_print)\n",
    "    print(\"Accuracy:\", accuracy_score(y_test, y_pred))\n",
    "    print(\"Confusion Matrix:\\n\", confusion_matrix(y_test, y_pred))\n",
    "    print(\"Classification Report:\\n\", classification_report(y_test, y_pred))\n",
    "\n",
    "    cm = confusion_matrix(y_test, y_pred)\n",
    "    sns.heatmap(cm, annot=True, fmt='d', cmap='Blues', xticklabels=['Negative', 'Neutral', 'Positive'], yticklabels=['Negative', 'Neutral', 'Positive'])\n",
    "    plt.title('Confusion Matrix')\n",
    "    plt.xlabel('Predicted')\n",
    "    plt.ylabel('Actual')\n",
    "    plt.show()"
   ]
  },
  {
   "cell_type": "markdown",
   "metadata": {
    "id": "l-Qpn38SSWmw"
   },
   "source": [
    "## Balanced RF model"
   ]
  },
  {
   "cell_type": "code",
   "execution_count": 83,
   "metadata": {
    "colab": {
     "base_uri": "https://localhost:8080/",
     "height": 891
    },
    "id": "Z8YGCh3WYtPe",
    "outputId": "544384fe-d490-4fcf-ba80-75d7ff72220c"
   },
   "outputs": [
    {
     "name": "stderr",
     "output_type": "stream",
     "text": [
      "/usr/local/lib/python3.10/dist-packages/imblearn/ensemble/_forest.py:577: FutureWarning: The default of `sampling_strategy` will change from `'auto'` to `'all'` in version 0.13. This change will follow the implementation proposed in the original paper. Set to `'all'` to silence this warning and adopt the future behaviour.\n",
      "  warn(\n",
      "/usr/local/lib/python3.10/dist-packages/imblearn/ensemble/_forest.py:589: FutureWarning: The default of `replacement` will change from `False` to `True` in version 0.13. This change will follow the implementation proposed in the original paper. Set to `True` to silence this warning and adopt the future behaviour.\n",
      "  warn(\n",
      "/usr/local/lib/python3.10/dist-packages/imblearn/ensemble/_forest.py:601: FutureWarning: The default of `bootstrap` will change from `True` to `False` in version 0.13. This change will follow the implementation proposed in the original paper. Set to `False` to silence this warning and adopt the future behaviour.\n",
      "  warn(\n"
     ]
    },
    {
     "name": "stdout",
     "output_type": "stream",
     "text": [
      "With Balanced Random Forest Model\n",
      "Accuracy: 0.6100762066045724\n",
      "Confusion Matrix:\n",
      " [[  34   54    4]\n",
      " [   1    3    0]\n",
      " [ 139  723 1404]]\n",
      "Classification Report:\n",
      "               precision    recall  f1-score   support\n",
      "\n",
      "    negative       0.20      0.37      0.26        92\n",
      "     neutral       0.00      0.75      0.01         4\n",
      "    positive       1.00      0.62      0.76      2266\n",
      "\n",
      "    accuracy                           0.61      2362\n",
      "   macro avg       0.40      0.58      0.34      2362\n",
      "weighted avg       0.96      0.61      0.74      2362\n",
      "\n"
     ]
    },
    {
     "data": {
      "image/png": "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",
      "text/plain": [
       "<Figure size 640x480 with 2 Axes>"
      ]
     },
     "metadata": {},
     "output_type": "display_data"
    }
   ],
   "source": [
    "fit_predict_evaluate(model =brf_model, X_train=X_train, y_train=y_train, X_test=X_test, y_test=y_test, text_print = \"With Balanced Random Forest Model\")"
   ]
  },
  {
   "cell_type": "markdown",
   "metadata": {
    "id": "0WL7wm-kSax_"
   },
   "source": [
    "## Without SMOTE RF moodel"
   ]
  },
  {
   "cell_type": "code",
   "execution_count": 84,
   "metadata": {
    "colab": {
     "base_uri": "https://localhost:8080/",
     "height": 891
    },
    "id": "iji4ySGlZR1-",
    "outputId": "9f2249b6-c772-4389-9930-ccb730bbfe34"
   },
   "outputs": [
    {
     "name": "stdout",
     "output_type": "stream",
     "text": [
      "Without SMOTE Random Forest\n",
      "Accuracy: 0.9720575783234547\n",
      "Confusion Matrix:\n",
      " [[  32    0   60]\n",
      " [   0    0    4]\n",
      " [   2    0 2264]]\n",
      "Classification Report:\n",
      "               precision    recall  f1-score   support\n",
      "\n",
      "    negative       0.94      0.35      0.51        92\n",
      "     neutral       0.00      0.00      0.00         4\n",
      "    positive       0.97      1.00      0.99      2266\n",
      "\n",
      "    accuracy                           0.97      2362\n",
      "   macro avg       0.64      0.45      0.50      2362\n",
      "weighted avg       0.97      0.97      0.97      2362\n",
      "\n"
     ]
    },
    {
     "name": "stderr",
     "output_type": "stream",
     "text": [
      "/usr/local/lib/python3.10/dist-packages/sklearn/metrics/_classification.py:1531: UndefinedMetricWarning: Precision is ill-defined and being set to 0.0 in labels with no predicted samples. Use `zero_division` parameter to control this behavior.\n",
      "  _warn_prf(average, modifier, f\"{metric.capitalize()} is\", len(result))\n",
      "/usr/local/lib/python3.10/dist-packages/sklearn/metrics/_classification.py:1531: UndefinedMetricWarning: Precision is ill-defined and being set to 0.0 in labels with no predicted samples. Use `zero_division` parameter to control this behavior.\n",
      "  _warn_prf(average, modifier, f\"{metric.capitalize()} is\", len(result))\n",
      "/usr/local/lib/python3.10/dist-packages/sklearn/metrics/_classification.py:1531: UndefinedMetricWarning: Precision is ill-defined and being set to 0.0 in labels with no predicted samples. Use `zero_division` parameter to control this behavior.\n",
      "  _warn_prf(average, modifier, f\"{metric.capitalize()} is\", len(result))\n"
     ]
    },
    {
     "data": {
      "image/png": "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",
      "text/plain": [
       "<Figure size 640x480 with 2 Axes>"
      ]
     },
     "metadata": {},
     "output_type": "display_data"
    }
   ],
   "source": [
    "fit_predict_evaluate(model =rf_model, X_train=X_train, y_train=y_train, X_test=X_test, y_test=y_test, text_print = \"Without SMOTE Random Forest\")"
   ]
  },
  {
   "cell_type": "markdown",
   "metadata": {
    "id": "SSszGVUGSe4j"
   },
   "source": [
    "## With SMOTE RF model"
   ]
  },
  {
   "cell_type": "code",
   "execution_count": 85,
   "metadata": {
    "colab": {
     "base_uri": "https://localhost:8080/",
     "height": 891
    },
    "id": "1MUlKZ-nPlE3",
    "outputId": "e813ef3d-1bfb-4387-f23c-0d4893f2c8d7"
   },
   "outputs": [
    {
     "name": "stdout",
     "output_type": "stream",
     "text": [
      "With SMOTE Random Forest\n",
      "Accuracy: 0.9686706181202371\n",
      "Confusion Matrix:\n",
      " [[  47    0   45]\n",
      " [   0    0    4]\n",
      " [  25    0 2241]]\n",
      "Classification Report:\n",
      "               precision    recall  f1-score   support\n",
      "\n",
      "    negative       0.65      0.51      0.57        92\n",
      "     neutral       0.00      0.00      0.00         4\n",
      "    positive       0.98      0.99      0.98      2266\n",
      "\n",
      "    accuracy                           0.97      2362\n",
      "   macro avg       0.54      0.50      0.52      2362\n",
      "weighted avg       0.96      0.97      0.97      2362\n",
      "\n"
     ]
    },
    {
     "name": "stderr",
     "output_type": "stream",
     "text": [
      "/usr/local/lib/python3.10/dist-packages/sklearn/metrics/_classification.py:1531: UndefinedMetricWarning: Precision is ill-defined and being set to 0.0 in labels with no predicted samples. Use `zero_division` parameter to control this behavior.\n",
      "  _warn_prf(average, modifier, f\"{metric.capitalize()} is\", len(result))\n",
      "/usr/local/lib/python3.10/dist-packages/sklearn/metrics/_classification.py:1531: UndefinedMetricWarning: Precision is ill-defined and being set to 0.0 in labels with no predicted samples. Use `zero_division` parameter to control this behavior.\n",
      "  _warn_prf(average, modifier, f\"{metric.capitalize()} is\", len(result))\n",
      "/usr/local/lib/python3.10/dist-packages/sklearn/metrics/_classification.py:1531: UndefinedMetricWarning: Precision is ill-defined and being set to 0.0 in labels with no predicted samples. Use `zero_division` parameter to control this behavior.\n",
      "  _warn_prf(average, modifier, f\"{metric.capitalize()} is\", len(result))\n"
     ]
    },
    {
     "data": {
      "image/png": "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",
      "text/plain": [
       "<Figure size 640x480 with 2 Axes>"
      ]
     },
     "metadata": {},
     "output_type": "display_data"
    }
   ],
   "source": [
    "fit_predict_evaluate(model =rf_model_smote, X_train=X_train_sm, y_train=y_train_sm, X_test=X_test, y_test=y_test, text_print = \"With SMOTE Random Forest\")"
   ]
  }
 ],
 "metadata": {
  "colab": {
   "provenance": []
  },
  "kernelspec": {
   "display_name": "Python 3",
   "name": "python3"
  },
  "language_info": {
   "name": "python"
  }
 },
 "nbformat": 4,
 "nbformat_minor": 0
}
=======
  "nbformat": 4,
  "nbformat_minor": 0,
  "metadata": {
    "colab": {
      "provenance": []
    },
    "kernelspec": {
      "name": "python3",
      "display_name": "Python 3"
    },
    "language_info": {
      "name": "python"
    }
  },
  "cells": [
    {
      "cell_type": "code",
      "execution_count": 1,
      "metadata": {
        "id": "z85zrA56fdat"
      },
      "outputs": [],
      "source": [
        "import numpy as np # linear algebra\n",
        "import pandas as pd # data processing, CSV file I/O (e.g. pd.read_csv)\n",
        "import seaborn as sns\n",
        "import matplotlib.pyplot as plt\n",
        "\n",
        "import re\n",
        "import nltk\n",
        "%matplotlib inline\n",
        "from sklearn.ensemble import RandomForestClassifier\n",
        "from sklearn.model_selection import cross_val_score\n",
        "from sklearn.model_selection import train_test_split\n",
        "# from sklearn.metrics import classification_report\n",
        "\n",
        "from gensim.models import KeyedVectors"
      ]
    },
    {
      "cell_type": "code",
      "source": [
        "# from sklearn.ensemble import RandomForestClassifier\n",
        "from sklearn.metrics import classification_report, confusion_matrix, accuracy_score\n",
        "# from sklearn.model_selection import train_test_split\n",
        "from imblearn.over_sampling import SMOTE\n",
        "# import numpy as np"
      ],
      "metadata": {
        "id": "5MswFV0jJ2Wj"
      },
      "execution_count": 3,
      "outputs": []
    },
    {
      "cell_type": "code",
      "source": [
        "drive_path = \"/content/drive/MyDrive/Year 4/NLP notebooks and data/dense_vectors\""
      ],
      "metadata": {
        "id": "KSLis8yrjqLH"
      },
      "execution_count": 4,
      "outputs": []
    },
    {
      "cell_type": "code",
      "source": [
        "# Load pre-trained embeddings\n",
        "def load_embedding(file_path, embedding_type):\n",
        "    if embedding_type == \"word2vec\":\n",
        "        return KeyedVectors.load_word2vec_format(file_path, binary=True)\n",
        "    elif embedding_type == \"glove\":\n",
        "        # Convert GloVe to Word2Vec format\n",
        "        glove_vectors = {}\n",
        "        with open(file_path, \"r\", encoding=\"utf-8\") as f:\n",
        "            for line in f:\n",
        "                values = line.split()\n",
        "                word = values[0]\n",
        "                vector = np.array(values[1:], dtype=\"float32\")\n",
        "                glove_vectors[word] = vector\n",
        "        return glove_vectors\n",
        "    elif embedding_type == \"fasttext\":\n",
        "        return KeyedVectors.load(file_path)\n",
        "    else:\n",
        "        raise ValueError(\"Unsupported embedding type\")"
      ],
      "metadata": {
        "id": "4ldAVePdfkZy"
      },
      "execution_count": null,
      "outputs": []
    },
    {
      "cell_type": "code",
      "source": [
        "# Compute sentence embedding by averaging word embeddings\n",
        "# def get_sentence_embedding(sentence, embedding_model, embedding_dim):\n",
        "#     words = sentence.split()\n",
        "#     embeddings = []\n",
        "#     for word in words:\n",
        "#         if word in embedding_model:\n",
        "#             embeddings.append(embedding_model[word])\n",
        "#     if embeddings:\n",
        "#         return np.mean(embeddings, axis=0)\n",
        "#     else:\n",
        "#         return np.zeros(embedding_dim)"
      ],
      "metadata": {
        "id": "pJYijHo6jwiA"
      },
      "execution_count": null,
      "outputs": []
    },
    {
      "cell_type": "code",
      "source": [
        "from google.colab import drive\n",
        "drive.mount('/content/drive')"
      ],
      "metadata": {
        "colab": {
          "base_uri": "https://localhost:8080/"
        },
        "id": "fEHr9RRakEKE",
        "outputId": "13b673cc-d521-48b8-92bc-eee37dc81717"
      },
      "execution_count": 5,
      "outputs": [
        {
          "output_type": "stream",
          "name": "stdout",
          "text": [
            "Mounted at /content/drive\n"
          ]
        }
      ]
    },
    {
      "cell_type": "code",
      "source": [
        "# df = pd.read_csv('/content/drive/MyDrive/Year 4/NLP notebooks and data/dense_vectors/w2v_sent_added_fasttext.csv')"
      ],
      "metadata": {
        "id": "qsjZ0kQ0j5iG"
      },
      "execution_count": 60,
      "outputs": []
    },
    {
      "cell_type": "code",
      "source": [
        "df_labels = pd.read_csv('/content/drive/MyDrive/Year 4/NLP notebooks and data/Data/Preprocessed/labelled_data.csv', index_col = 0)"
      ],
      "metadata": {
        "id": "tdG1ZZZcMii3"
      },
      "execution_count": 26,
      "outputs": []
    },
    {
      "cell_type": "code",
      "source": [
        "# df.shape"
      ],
      "metadata": {
        "colab": {
          "base_uri": "https://localhost:8080/"
        },
        "id": "JFmG1rnKrnub",
        "outputId": "681a04fb-c104-4faa-d6dd-31e7877e69d5"
      },
      "execution_count": 58,
      "outputs": [
        {
          "output_type": "execute_result",
          "data": {
            "text/plain": [
              "(11808, 25)"
            ]
          },
          "metadata": {},
          "execution_count": 58
        }
      ]
    },
    {
      "cell_type": "code",
      "source": [
        "df_labels.shape"
      ],
      "metadata": {
        "colab": {
          "base_uri": "https://localhost:8080/"
        },
        "id": "QjJj54SJM-Hw",
        "outputId": "e70090b3-b1c8-4589-b677-254ecbb9ed79"
      },
      "execution_count": 27,
      "outputs": [
        {
          "output_type": "execute_result",
          "data": {
            "text/plain": [
              "(11808, 30)"
            ]
          },
          "metadata": {},
          "execution_count": 27
        }
      ]
    },
    {
      "cell_type": "code",
      "source": [
        "# df.columns"
      ],
      "metadata": {
        "colab": {
          "base_uri": "https://localhost:8080/"
        },
        "id": "mrvwP0X8lN7j",
        "outputId": "fd18c175-8c30-48ac-97b7-78ef984b0da6"
      },
      "execution_count": 61,
      "outputs": [
        {
          "output_type": "execute_result",
          "data": {
            "text/plain": [
              "Index(['helpfulVotes', 'id', 'address', 'city', 'placeName', 'numberOfReviews',\n",
              "       'placeRating', 'webUrl', 'publishedDate', 'userRating', 'roomTip',\n",
              "       'review_text', 'review_title', 'travelDate', 'tripType', 'username',\n",
              "       'word_tokens', 'bpe_tokens', 'bigram_tokens', 'trigram_tokens',\n",
              "       'whitespace_tokens', 'rule_based_tokens', 'spacy_tokens',\n",
              "       'wordpiece_tokens', 'w2v_sent_vectors', 'fasttext_vector'],\n",
              "      dtype='object')"
            ]
          },
          "metadata": {},
          "execution_count": 61
        }
      ]
    },
    {
      "cell_type": "code",
      "source": [
        "df_labels.columns"
      ],
      "metadata": {
        "colab": {
          "base_uri": "https://localhost:8080/"
        },
        "id": "btCaI2ChM_pi",
        "outputId": "2e625bfd-5e5d-4579-f57f-2b9d2921dbfe"
      },
      "execution_count": 28,
      "outputs": [
        {
          "output_type": "execute_result",
          "data": {
            "text/plain": [
              "Index(['id', 'address', 'city', 'placeName', 'numberOfReviews', 'placeRating',\n",
              "       'webUrl', 'publishedDate', 'userRating', 'roomTip', 'review_text',\n",
              "       'review_title', 'travelDate', 'tripType', 'username', 'word_tokens',\n",
              "       'bpe_tokens', 'bigram_tokens', 'trigram_tokens', 'whitespace_tokens',\n",
              "       'rule_based_tokens', 'spacy_tokens', 'wordpiece_tokens', 'vader_score',\n",
              "       'compound_score', 'vader_category', 'flair_sentiment',\n",
              "       'flair_confidence', 'textblob_sentiment', 'majority_vote'],\n",
              "      dtype='object')"
            ]
          },
          "metadata": {},
          "execution_count": 28
        }
      ]
    },
    {
      "cell_type": "code",
      "source": [
        "\n",
        "# df = df.reset_index(drop=True)\n"
      ],
      "metadata": {
        "id": "Q5v8w0h8Lzda"
      },
      "execution_count": 54,
      "outputs": []
    },
    {
      "cell_type": "code",
      "source": [
        "# df.head(2)"
      ],
      "metadata": {
        "colab": {
          "base_uri": "https://localhost:8080/",
          "height": 335
        },
        "id": "fxfUkFiJKljj",
        "outputId": "304732e6-8248-4218-af30-5e9ce449c082"
      },
      "execution_count": 62,
      "outputs": [
        {
          "output_type": "execute_result",
          "data": {
            "text/plain": [
              "   helpfulVotes           id  \\\n",
              "0           0.0  978474125.0   \n",
              "1           0.0  978053018.0   \n",
              "\n",
              "                                             address     city  \\\n",
              "0  24 Dharmapala Mawatha Dharmapala Mawatha, Colo...  Colombo   \n",
              "1  24 Dharmapala Mawatha Dharmapala Mawatha, Colo...  Colombo   \n",
              "\n",
              "               placeName  numberOfReviews  placeRating  \\\n",
              "0  Nh Collection Colombo             2392          4.5   \n",
              "1  Nh Collection Colombo             2392          4.5   \n",
              "\n",
              "                                              webUrl publishedDate  \\\n",
              "0  https://www.tripadvisor.com/Hotel_Review-g2939...    2024-11-03   \n",
              "1  https://www.tripadvisor.com/Hotel_Review-g2939...    2024-10-30   \n",
              "\n",
              "   userRating  ...                                        word_tokens  \\\n",
              "0         5.0  ...  ['good', 'service', 'ayu', 'friendly', 'staff'...   \n",
              "1         1.0  ...  ['change', 'r', 'lady', 'manager', 'r', 'hotel...   \n",
              "\n",
              "                                          bpe_tokens  \\\n",
              "0  ['good', 'service', 'ayu', 'friendly', 'staff'...   \n",
              "1  ['change', 'r', 'lady', 'manager', 'r', 'hotel...   \n",
              "\n",
              "                                       bigram_tokens  \\\n",
              "0  [('good', 'service'), ('service', 'ayu'), ('ay...   \n",
              "1  [('change', 'r'), ('r', 'lady'), ('lady', 'man...   \n",
              "\n",
              "                                      trigram_tokens  \\\n",
              "0  [('good', 'service', 'ayu'), ('service', 'ayu'...   \n",
              "1  [('change', 'r', 'lady'), ('r', 'lady', 'manag...   \n",
              "\n",
              "                                   whitespace_tokens  \\\n",
              "0  ['good', 'service', 'ayu', 'friendly', 'staff'...   \n",
              "1  ['change', 'r', 'lady', 'manager', 'r', 'hotel...   \n",
              "\n",
              "                                   rule_based_tokens  \\\n",
              "0  ['good', 'service', 'ayu', 'friendly', 'staff'...   \n",
              "1  ['change', 'r', 'lady', 'manager', 'r', 'hotel...   \n",
              "\n",
              "                                        spacy_tokens  \\\n",
              "0  ['good', 'service', 'ayu', 'friendly', 'staff'...   \n",
              "1  ['change', 'r', 'lady', 'manager', 'r', 'hotel...   \n",
              "\n",
              "                                    wordpiece_tokens  \\\n",
              "0  ['good', 'service', 'ayu', 'friendly', 'staff'...   \n",
              "1  ['change', 'r', 'lady', 'manager', 'r', 'hotel...   \n",
              "\n",
              "                                    w2v_sent_vectors  \\\n",
              "0  [ 0.31044984  0.4014417   0.08356439 -0.276954...   \n",
              "1  [ 0.0217988   0.116291    0.17720811  0.093357...   \n",
              "\n",
              "                                     fasttext_vector  \n",
              "0  [-0.11610988 -0.12987489 -0.33931983  0.087919...  \n",
              "1  [-0.23382354  0.18804383 -0.10833292  0.135183...  \n",
              "\n",
              "[2 rows x 26 columns]"
            ],
            "text/html": [
              "\n",
              "  <div id=\"df-a8d0713b-d41c-4eb5-b913-a670fd2b2912\" class=\"colab-df-container\">\n",
              "    <div>\n",
              "<style scoped>\n",
              "    .dataframe tbody tr th:only-of-type {\n",
              "        vertical-align: middle;\n",
              "    }\n",
              "\n",
              "    .dataframe tbody tr th {\n",
              "        vertical-align: top;\n",
              "    }\n",
              "\n",
              "    .dataframe thead th {\n",
              "        text-align: right;\n",
              "    }\n",
              "</style>\n",
              "<table border=\"1\" class=\"dataframe\">\n",
              "  <thead>\n",
              "    <tr style=\"text-align: right;\">\n",
              "      <th></th>\n",
              "      <th>helpfulVotes</th>\n",
              "      <th>id</th>\n",
              "      <th>address</th>\n",
              "      <th>city</th>\n",
              "      <th>placeName</th>\n",
              "      <th>numberOfReviews</th>\n",
              "      <th>placeRating</th>\n",
              "      <th>webUrl</th>\n",
              "      <th>publishedDate</th>\n",
              "      <th>userRating</th>\n",
              "      <th>...</th>\n",
              "      <th>word_tokens</th>\n",
              "      <th>bpe_tokens</th>\n",
              "      <th>bigram_tokens</th>\n",
              "      <th>trigram_tokens</th>\n",
              "      <th>whitespace_tokens</th>\n",
              "      <th>rule_based_tokens</th>\n",
              "      <th>spacy_tokens</th>\n",
              "      <th>wordpiece_tokens</th>\n",
              "      <th>w2v_sent_vectors</th>\n",
              "      <th>fasttext_vector</th>\n",
              "    </tr>\n",
              "  </thead>\n",
              "  <tbody>\n",
              "    <tr>\n",
              "      <th>0</th>\n",
              "      <td>0.0</td>\n",
              "      <td>978474125.0</td>\n",
              "      <td>24 Dharmapala Mawatha Dharmapala Mawatha, Colo...</td>\n",
              "      <td>Colombo</td>\n",
              "      <td>Nh Collection Colombo</td>\n",
              "      <td>2392</td>\n",
              "      <td>4.5</td>\n",
              "      <td>https://www.tripadvisor.com/Hotel_Review-g2939...</td>\n",
              "      <td>2024-11-03</td>\n",
              "      <td>5.0</td>\n",
              "      <td>...</td>\n",
              "      <td>['good', 'service', 'ayu', 'friendly', 'staff'...</td>\n",
              "      <td>['good', 'service', 'ayu', 'friendly', 'staff'...</td>\n",
              "      <td>[('good', 'service'), ('service', 'ayu'), ('ay...</td>\n",
              "      <td>[('good', 'service', 'ayu'), ('service', 'ayu'...</td>\n",
              "      <td>['good', 'service', 'ayu', 'friendly', 'staff'...</td>\n",
              "      <td>['good', 'service', 'ayu', 'friendly', 'staff'...</td>\n",
              "      <td>['good', 'service', 'ayu', 'friendly', 'staff'...</td>\n",
              "      <td>['good', 'service', 'ayu', 'friendly', 'staff'...</td>\n",
              "      <td>[ 0.31044984  0.4014417   0.08356439 -0.276954...</td>\n",
              "      <td>[-0.11610988 -0.12987489 -0.33931983  0.087919...</td>\n",
              "    </tr>\n",
              "    <tr>\n",
              "      <th>1</th>\n",
              "      <td>0.0</td>\n",
              "      <td>978053018.0</td>\n",
              "      <td>24 Dharmapala Mawatha Dharmapala Mawatha, Colo...</td>\n",
              "      <td>Colombo</td>\n",
              "      <td>Nh Collection Colombo</td>\n",
              "      <td>2392</td>\n",
              "      <td>4.5</td>\n",
              "      <td>https://www.tripadvisor.com/Hotel_Review-g2939...</td>\n",
              "      <td>2024-10-30</td>\n",
              "      <td>1.0</td>\n",
              "      <td>...</td>\n",
              "      <td>['change', 'r', 'lady', 'manager', 'r', 'hotel...</td>\n",
              "      <td>['change', 'r', 'lady', 'manager', 'r', 'hotel...</td>\n",
              "      <td>[('change', 'r'), ('r', 'lady'), ('lady', 'man...</td>\n",
              "      <td>[('change', 'r', 'lady'), ('r', 'lady', 'manag...</td>\n",
              "      <td>['change', 'r', 'lady', 'manager', 'r', 'hotel...</td>\n",
              "      <td>['change', 'r', 'lady', 'manager', 'r', 'hotel...</td>\n",
              "      <td>['change', 'r', 'lady', 'manager', 'r', 'hotel...</td>\n",
              "      <td>['change', 'r', 'lady', 'manager', 'r', 'hotel...</td>\n",
              "      <td>[ 0.0217988   0.116291    0.17720811  0.093357...</td>\n",
              "      <td>[-0.23382354  0.18804383 -0.10833292  0.135183...</td>\n",
              "    </tr>\n",
              "  </tbody>\n",
              "</table>\n",
              "<p>2 rows × 26 columns</p>\n",
              "</div>\n",
              "    <div class=\"colab-df-buttons\">\n",
              "\n",
              "  <div class=\"colab-df-container\">\n",
              "    <button class=\"colab-df-convert\" onclick=\"convertToInteractive('df-a8d0713b-d41c-4eb5-b913-a670fd2b2912')\"\n",
              "            title=\"Convert this dataframe to an interactive table.\"\n",
              "            style=\"display:none;\">\n",
              "\n",
              "  <svg xmlns=\"http://www.w3.org/2000/svg\" height=\"24px\" viewBox=\"0 -960 960 960\">\n",
              "    <path d=\"M120-120v-720h720v720H120Zm60-500h600v-160H180v160Zm220 220h160v-160H400v160Zm0 220h160v-160H400v160ZM180-400h160v-160H180v160Zm440 0h160v-160H620v160ZM180-180h160v-160H180v160Zm440 0h160v-160H620v160Z\"/>\n",
              "  </svg>\n",
              "    </button>\n",
              "\n",
              "  <style>\n",
              "    .colab-df-container {\n",
              "      display:flex;\n",
              "      gap: 12px;\n",
              "    }\n",
              "\n",
              "    .colab-df-convert {\n",
              "      background-color: #E8F0FE;\n",
              "      border: none;\n",
              "      border-radius: 50%;\n",
              "      cursor: pointer;\n",
              "      display: none;\n",
              "      fill: #1967D2;\n",
              "      height: 32px;\n",
              "      padding: 0 0 0 0;\n",
              "      width: 32px;\n",
              "    }\n",
              "\n",
              "    .colab-df-convert:hover {\n",
              "      background-color: #E2EBFA;\n",
              "      box-shadow: 0px 1px 2px rgba(60, 64, 67, 0.3), 0px 1px 3px 1px rgba(60, 64, 67, 0.15);\n",
              "      fill: #174EA6;\n",
              "    }\n",
              "\n",
              "    .colab-df-buttons div {\n",
              "      margin-bottom: 4px;\n",
              "    }\n",
              "\n",
              "    [theme=dark] .colab-df-convert {\n",
              "      background-color: #3B4455;\n",
              "      fill: #D2E3FC;\n",
              "    }\n",
              "\n",
              "    [theme=dark] .colab-df-convert:hover {\n",
              "      background-color: #434B5C;\n",
              "      box-shadow: 0px 1px 3px 1px rgba(0, 0, 0, 0.15);\n",
              "      filter: drop-shadow(0px 1px 2px rgba(0, 0, 0, 0.3));\n",
              "      fill: #FFFFFF;\n",
              "    }\n",
              "  </style>\n",
              "\n",
              "    <script>\n",
              "      const buttonEl =\n",
              "        document.querySelector('#df-a8d0713b-d41c-4eb5-b913-a670fd2b2912 button.colab-df-convert');\n",
              "      buttonEl.style.display =\n",
              "        google.colab.kernel.accessAllowed ? 'block' : 'none';\n",
              "\n",
              "      async function convertToInteractive(key) {\n",
              "        const element = document.querySelector('#df-a8d0713b-d41c-4eb5-b913-a670fd2b2912');\n",
              "        const dataTable =\n",
              "          await google.colab.kernel.invokeFunction('convertToInteractive',\n",
              "                                                    [key], {});\n",
              "        if (!dataTable) return;\n",
              "\n",
              "        const docLinkHtml = 'Like what you see? Visit the ' +\n",
              "          '<a target=\"_blank\" href=https://colab.research.google.com/notebooks/data_table.ipynb>data table notebook</a>'\n",
              "          + ' to learn more about interactive tables.';\n",
              "        element.innerHTML = '';\n",
              "        dataTable['output_type'] = 'display_data';\n",
              "        await google.colab.output.renderOutput(dataTable, element);\n",
              "        const docLink = document.createElement('div');\n",
              "        docLink.innerHTML = docLinkHtml;\n",
              "        element.appendChild(docLink);\n",
              "      }\n",
              "    </script>\n",
              "  </div>\n",
              "\n",
              "\n",
              "<div id=\"df-b41dd030-9d0f-4638-bf81-39889da71175\">\n",
              "  <button class=\"colab-df-quickchart\" onclick=\"quickchart('df-b41dd030-9d0f-4638-bf81-39889da71175')\"\n",
              "            title=\"Suggest charts\"\n",
              "            style=\"display:none;\">\n",
              "\n",
              "<svg xmlns=\"http://www.w3.org/2000/svg\" height=\"24px\"viewBox=\"0 0 24 24\"\n",
              "     width=\"24px\">\n",
              "    <g>\n",
              "        <path d=\"M19 3H5c-1.1 0-2 .9-2 2v14c0 1.1.9 2 2 2h14c1.1 0 2-.9 2-2V5c0-1.1-.9-2-2-2zM9 17H7v-7h2v7zm4 0h-2V7h2v10zm4 0h-2v-4h2v4z\"/>\n",
              "    </g>\n",
              "</svg>\n",
              "  </button>\n",
              "\n",
              "<style>\n",
              "  .colab-df-quickchart {\n",
              "      --bg-color: #E8F0FE;\n",
              "      --fill-color: #1967D2;\n",
              "      --hover-bg-color: #E2EBFA;\n",
              "      --hover-fill-color: #174EA6;\n",
              "      --disabled-fill-color: #AAA;\n",
              "      --disabled-bg-color: #DDD;\n",
              "  }\n",
              "\n",
              "  [theme=dark] .colab-df-quickchart {\n",
              "      --bg-color: #3B4455;\n",
              "      --fill-color: #D2E3FC;\n",
              "      --hover-bg-color: #434B5C;\n",
              "      --hover-fill-color: #FFFFFF;\n",
              "      --disabled-bg-color: #3B4455;\n",
              "      --disabled-fill-color: #666;\n",
              "  }\n",
              "\n",
              "  .colab-df-quickchart {\n",
              "    background-color: var(--bg-color);\n",
              "    border: none;\n",
              "    border-radius: 50%;\n",
              "    cursor: pointer;\n",
              "    display: none;\n",
              "    fill: var(--fill-color);\n",
              "    height: 32px;\n",
              "    padding: 0;\n",
              "    width: 32px;\n",
              "  }\n",
              "\n",
              "  .colab-df-quickchart:hover {\n",
              "    background-color: var(--hover-bg-color);\n",
              "    box-shadow: 0 1px 2px rgba(60, 64, 67, 0.3), 0 1px 3px 1px rgba(60, 64, 67, 0.15);\n",
              "    fill: var(--button-hover-fill-color);\n",
              "  }\n",
              "\n",
              "  .colab-df-quickchart-complete:disabled,\n",
              "  .colab-df-quickchart-complete:disabled:hover {\n",
              "    background-color: var(--disabled-bg-color);\n",
              "    fill: var(--disabled-fill-color);\n",
              "    box-shadow: none;\n",
              "  }\n",
              "\n",
              "  .colab-df-spinner {\n",
              "    border: 2px solid var(--fill-color);\n",
              "    border-color: transparent;\n",
              "    border-bottom-color: var(--fill-color);\n",
              "    animation:\n",
              "      spin 1s steps(1) infinite;\n",
              "  }\n",
              "\n",
              "  @keyframes spin {\n",
              "    0% {\n",
              "      border-color: transparent;\n",
              "      border-bottom-color: var(--fill-color);\n",
              "      border-left-color: var(--fill-color);\n",
              "    }\n",
              "    20% {\n",
              "      border-color: transparent;\n",
              "      border-left-color: var(--fill-color);\n",
              "      border-top-color: var(--fill-color);\n",
              "    }\n",
              "    30% {\n",
              "      border-color: transparent;\n",
              "      border-left-color: var(--fill-color);\n",
              "      border-top-color: var(--fill-color);\n",
              "      border-right-color: var(--fill-color);\n",
              "    }\n",
              "    40% {\n",
              "      border-color: transparent;\n",
              "      border-right-color: var(--fill-color);\n",
              "      border-top-color: var(--fill-color);\n",
              "    }\n",
              "    60% {\n",
              "      border-color: transparent;\n",
              "      border-right-color: var(--fill-color);\n",
              "    }\n",
              "    80% {\n",
              "      border-color: transparent;\n",
              "      border-right-color: var(--fill-color);\n",
              "      border-bottom-color: var(--fill-color);\n",
              "    }\n",
              "    90% {\n",
              "      border-color: transparent;\n",
              "      border-bottom-color: var(--fill-color);\n",
              "    }\n",
              "  }\n",
              "</style>\n",
              "\n",
              "  <script>\n",
              "    async function quickchart(key) {\n",
              "      const quickchartButtonEl =\n",
              "        document.querySelector('#' + key + ' button');\n",
              "      quickchartButtonEl.disabled = true;  // To prevent multiple clicks.\n",
              "      quickchartButtonEl.classList.add('colab-df-spinner');\n",
              "      try {\n",
              "        const charts = await google.colab.kernel.invokeFunction(\n",
              "            'suggestCharts', [key], {});\n",
              "      } catch (error) {\n",
              "        console.error('Error during call to suggestCharts:', error);\n",
              "      }\n",
              "      quickchartButtonEl.classList.remove('colab-df-spinner');\n",
              "      quickchartButtonEl.classList.add('colab-df-quickchart-complete');\n",
              "    }\n",
              "    (() => {\n",
              "      let quickchartButtonEl =\n",
              "        document.querySelector('#df-b41dd030-9d0f-4638-bf81-39889da71175 button');\n",
              "      quickchartButtonEl.style.display =\n",
              "        google.colab.kernel.accessAllowed ? 'block' : 'none';\n",
              "    })();\n",
              "  </script>\n",
              "</div>\n",
              "\n",
              "    </div>\n",
              "  </div>\n"
            ],
            "application/vnd.google.colaboratory.intrinsic+json": {
              "type": "dataframe",
              "variable_name": "df"
            }
          },
          "metadata": {},
          "execution_count": 62
        }
      ]
    },
    {
      "cell_type": "markdown",
      "source": [
        "## Load labels (y)"
      ],
      "metadata": {
        "id": "yblyFaU_MdLd"
      }
    },
    {
      "cell_type": "code",
      "source": [
        "y = df_labels['majority_vote']"
      ],
      "metadata": {
        "id": "2XkLg-xCNIdi"
      },
      "execution_count": 29,
      "outputs": []
    },
    {
      "cell_type": "code",
      "source": [
        "y.shape"
      ],
      "metadata": {
        "colab": {
          "base_uri": "https://localhost:8080/"
        },
        "id": "KMaW5zAsOQZB",
        "outputId": "979087db-14f4-418f-f343-8ed32e18733a"
      },
      "execution_count": 41,
      "outputs": [
        {
          "output_type": "execute_result",
          "data": {
            "text/plain": [
              "(11808,)"
            ]
          },
          "metadata": {},
          "execution_count": 41
        }
      ]
    },
    {
      "cell_type": "code",
      "source": [
        "y[0].shape"
      ],
      "metadata": {
        "colab": {
          "base_uri": "https://localhost:8080/"
        },
        "id": "X7XpHgbGPNir",
        "outputId": "286c80b2-55d0-4722-da75-9d5acaf22acb"
      },
      "execution_count": 43,
      "outputs": [
        {
          "output_type": "execute_result",
          "data": {
            "text/plain": [
              "(9550,)"
            ]
          },
          "metadata": {},
          "execution_count": 43
        }
      ]
    },
    {
      "cell_type": "markdown",
      "source": [
        "## Load vectors (X)"
      ],
      "metadata": {
        "id": "GoedyDCLNNU0"
      }
    },
    {
      "cell_type": "code",
      "source": [
        "# Load the NumPy array from the .npy file\n",
        "vec_type = 'fasttext'\n",
        "loaded_vectors = np.load(drive_path+f'/{vec_type}_vectors.npy')"
      ],
      "metadata": {
        "id": "-3KkPFJQTpkK"
      },
      "execution_count": 70,
      "outputs": []
    },
    {
      "cell_type": "code",
      "source": [
        "loaded_vectors.shape"
      ],
      "metadata": {
        "colab": {
          "base_uri": "https://localhost:8080/"
        },
        "id": "QfECa5PST97N",
        "outputId": "2d9e6043-e65b-4a32-f300-9675fc8b37b0"
      },
      "execution_count": 71,
      "outputs": [
        {
          "output_type": "execute_result",
          "data": {
            "text/plain": [
              "(11808, 100)"
            ]
          },
          "metadata": {},
          "execution_count": 71
        }
      ]
    },
    {
      "cell_type": "code",
      "source": [
        "X = loaded_vectors"
      ],
      "metadata": {
        "id": "Wu3cQJw9SW8x"
      },
      "execution_count": 72,
      "outputs": []
    },
    {
      "cell_type": "code",
      "source": [
        "y.value_counts()"
      ],
      "metadata": {
        "colab": {
          "base_uri": "https://localhost:8080/",
          "height": 209
        },
        "id": "T2-3-uISmxP9",
        "outputId": "38bc9cc5-33e5-433d-e67e-f3002a9bae37"
      },
      "execution_count": 37,
      "outputs": [
        {
          "output_type": "execute_result",
          "data": {
            "text/plain": [
              "majority_vote\n",
              "positive    11227\n",
              "negative      565\n",
              "neutral        16\n",
              "Name: count, dtype: int64"
            ],
            "text/html": [
              "<div>\n",
              "<style scoped>\n",
              "    .dataframe tbody tr th:only-of-type {\n",
              "        vertical-align: middle;\n",
              "    }\n",
              "\n",
              "    .dataframe tbody tr th {\n",
              "        vertical-align: top;\n",
              "    }\n",
              "\n",
              "    .dataframe thead th {\n",
              "        text-align: right;\n",
              "    }\n",
              "</style>\n",
              "<table border=\"1\" class=\"dataframe\">\n",
              "  <thead>\n",
              "    <tr style=\"text-align: right;\">\n",
              "      <th></th>\n",
              "      <th>count</th>\n",
              "    </tr>\n",
              "    <tr>\n",
              "      <th>majority_vote</th>\n",
              "      <th></th>\n",
              "    </tr>\n",
              "  </thead>\n",
              "  <tbody>\n",
              "    <tr>\n",
              "      <th>positive</th>\n",
              "      <td>11227</td>\n",
              "    </tr>\n",
              "    <tr>\n",
              "      <th>negative</th>\n",
              "      <td>565</td>\n",
              "    </tr>\n",
              "    <tr>\n",
              "      <th>neutral</th>\n",
              "      <td>16</td>\n",
              "    </tr>\n",
              "  </tbody>\n",
              "</table>\n",
              "</div><br><label><b>dtype:</b> int64</label>"
            ]
          },
          "metadata": {},
          "execution_count": 37
        }
      ]
    },
    {
      "cell_type": "code",
      "source": [
        "# Split the dataset\n",
        "X_train, X_test, y_train, y_test = train_test_split(X, y, test_size=0.2, random_state=42)"
      ],
      "metadata": {
        "id": "VHC5z38Gklwr"
      },
      "execution_count": 74,
      "outputs": []
    },
    {
      "cell_type": "markdown",
      "source": [
        "## Without SMOTE"
      ],
      "metadata": {
        "id": "ycp34WckVqDj"
      }
    },
    {
      "cell_type": "code",
      "source": [
        "# Train Random Forest model - Without SMOTE\n",
        "rf_model = RandomForestClassifier(n_estimators=100, random_state=42)\n",
        "rf_model.fit(X_train, y_train)"
      ],
      "metadata": {
        "colab": {
          "base_uri": "https://localhost:8080/",
          "height": 80
        },
        "id": "bAKsWcmflUyp",
        "outputId": "8b85de57-fbd2-451b-8721-3e090aa7d92d"
      },
      "execution_count": 75,
      "outputs": [
        {
          "output_type": "execute_result",
          "data": {
            "text/plain": [
              "RandomForestClassifier(random_state=42)"
            ],
            "text/html": [
              "<style>#sk-container-id-1 {\n",
              "  /* Definition of color scheme common for light and dark mode */\n",
              "  --sklearn-color-text: black;\n",
              "  --sklearn-color-line: gray;\n",
              "  /* Definition of color scheme for unfitted estimators */\n",
              "  --sklearn-color-unfitted-level-0: #fff5e6;\n",
              "  --sklearn-color-unfitted-level-1: #f6e4d2;\n",
              "  --sklearn-color-unfitted-level-2: #ffe0b3;\n",
              "  --sklearn-color-unfitted-level-3: chocolate;\n",
              "  /* Definition of color scheme for fitted estimators */\n",
              "  --sklearn-color-fitted-level-0: #f0f8ff;\n",
              "  --sklearn-color-fitted-level-1: #d4ebff;\n",
              "  --sklearn-color-fitted-level-2: #b3dbfd;\n",
              "  --sklearn-color-fitted-level-3: cornflowerblue;\n",
              "\n",
              "  /* Specific color for light theme */\n",
              "  --sklearn-color-text-on-default-background: var(--sg-text-color, var(--theme-code-foreground, var(--jp-content-font-color1, black)));\n",
              "  --sklearn-color-background: var(--sg-background-color, var(--theme-background, var(--jp-layout-color0, white)));\n",
              "  --sklearn-color-border-box: var(--sg-text-color, var(--theme-code-foreground, var(--jp-content-font-color1, black)));\n",
              "  --sklearn-color-icon: #696969;\n",
              "\n",
              "  @media (prefers-color-scheme: dark) {\n",
              "    /* Redefinition of color scheme for dark theme */\n",
              "    --sklearn-color-text-on-default-background: var(--sg-text-color, var(--theme-code-foreground, var(--jp-content-font-color1, white)));\n",
              "    --sklearn-color-background: var(--sg-background-color, var(--theme-background, var(--jp-layout-color0, #111)));\n",
              "    --sklearn-color-border-box: var(--sg-text-color, var(--theme-code-foreground, var(--jp-content-font-color1, white)));\n",
              "    --sklearn-color-icon: #878787;\n",
              "  }\n",
              "}\n",
              "\n",
              "#sk-container-id-1 {\n",
              "  color: var(--sklearn-color-text);\n",
              "}\n",
              "\n",
              "#sk-container-id-1 pre {\n",
              "  padding: 0;\n",
              "}\n",
              "\n",
              "#sk-container-id-1 input.sk-hidden--visually {\n",
              "  border: 0;\n",
              "  clip: rect(1px 1px 1px 1px);\n",
              "  clip: rect(1px, 1px, 1px, 1px);\n",
              "  height: 1px;\n",
              "  margin: -1px;\n",
              "  overflow: hidden;\n",
              "  padding: 0;\n",
              "  position: absolute;\n",
              "  width: 1px;\n",
              "}\n",
              "\n",
              "#sk-container-id-1 div.sk-dashed-wrapped {\n",
              "  border: 1px dashed var(--sklearn-color-line);\n",
              "  margin: 0 0.4em 0.5em 0.4em;\n",
              "  box-sizing: border-box;\n",
              "  padding-bottom: 0.4em;\n",
              "  background-color: var(--sklearn-color-background);\n",
              "}\n",
              "\n",
              "#sk-container-id-1 div.sk-container {\n",
              "  /* jupyter's `normalize.less` sets `[hidden] { display: none; }`\n",
              "     but bootstrap.min.css set `[hidden] { display: none !important; }`\n",
              "     so we also need the `!important` here to be able to override the\n",
              "     default hidden behavior on the sphinx rendered scikit-learn.org.\n",
              "     See: https://github.com/scikit-learn/scikit-learn/issues/21755 */\n",
              "  display: inline-block !important;\n",
              "  position: relative;\n",
              "}\n",
              "\n",
              "#sk-container-id-1 div.sk-text-repr-fallback {\n",
              "  display: none;\n",
              "}\n",
              "\n",
              "div.sk-parallel-item,\n",
              "div.sk-serial,\n",
              "div.sk-item {\n",
              "  /* draw centered vertical line to link estimators */\n",
              "  background-image: linear-gradient(var(--sklearn-color-text-on-default-background), var(--sklearn-color-text-on-default-background));\n",
              "  background-size: 2px 100%;\n",
              "  background-repeat: no-repeat;\n",
              "  background-position: center center;\n",
              "}\n",
              "\n",
              "/* Parallel-specific style estimator block */\n",
              "\n",
              "#sk-container-id-1 div.sk-parallel-item::after {\n",
              "  content: \"\";\n",
              "  width: 100%;\n",
              "  border-bottom: 2px solid var(--sklearn-color-text-on-default-background);\n",
              "  flex-grow: 1;\n",
              "}\n",
              "\n",
              "#sk-container-id-1 div.sk-parallel {\n",
              "  display: flex;\n",
              "  align-items: stretch;\n",
              "  justify-content: center;\n",
              "  background-color: var(--sklearn-color-background);\n",
              "  position: relative;\n",
              "}\n",
              "\n",
              "#sk-container-id-1 div.sk-parallel-item {\n",
              "  display: flex;\n",
              "  flex-direction: column;\n",
              "}\n",
              "\n",
              "#sk-container-id-1 div.sk-parallel-item:first-child::after {\n",
              "  align-self: flex-end;\n",
              "  width: 50%;\n",
              "}\n",
              "\n",
              "#sk-container-id-1 div.sk-parallel-item:last-child::after {\n",
              "  align-self: flex-start;\n",
              "  width: 50%;\n",
              "}\n",
              "\n",
              "#sk-container-id-1 div.sk-parallel-item:only-child::after {\n",
              "  width: 0;\n",
              "}\n",
              "\n",
              "/* Serial-specific style estimator block */\n",
              "\n",
              "#sk-container-id-1 div.sk-serial {\n",
              "  display: flex;\n",
              "  flex-direction: column;\n",
              "  align-items: center;\n",
              "  background-color: var(--sklearn-color-background);\n",
              "  padding-right: 1em;\n",
              "  padding-left: 1em;\n",
              "}\n",
              "\n",
              "\n",
              "/* Toggleable style: style used for estimator/Pipeline/ColumnTransformer box that is\n",
              "clickable and can be expanded/collapsed.\n",
              "- Pipeline and ColumnTransformer use this feature and define the default style\n",
              "- Estimators will overwrite some part of the style using the `sk-estimator` class\n",
              "*/\n",
              "\n",
              "/* Pipeline and ColumnTransformer style (default) */\n",
              "\n",
              "#sk-container-id-1 div.sk-toggleable {\n",
              "  /* Default theme specific background. It is overwritten whether we have a\n",
              "  specific estimator or a Pipeline/ColumnTransformer */\n",
              "  background-color: var(--sklearn-color-background);\n",
              "}\n",
              "\n",
              "/* Toggleable label */\n",
              "#sk-container-id-1 label.sk-toggleable__label {\n",
              "  cursor: pointer;\n",
              "  display: block;\n",
              "  width: 100%;\n",
              "  margin-bottom: 0;\n",
              "  padding: 0.5em;\n",
              "  box-sizing: border-box;\n",
              "  text-align: center;\n",
              "}\n",
              "\n",
              "#sk-container-id-1 label.sk-toggleable__label-arrow:before {\n",
              "  /* Arrow on the left of the label */\n",
              "  content: \"▸\";\n",
              "  float: left;\n",
              "  margin-right: 0.25em;\n",
              "  color: var(--sklearn-color-icon);\n",
              "}\n",
              "\n",
              "#sk-container-id-1 label.sk-toggleable__label-arrow:hover:before {\n",
              "  color: var(--sklearn-color-text);\n",
              "}\n",
              "\n",
              "/* Toggleable content - dropdown */\n",
              "\n",
              "#sk-container-id-1 div.sk-toggleable__content {\n",
              "  max-height: 0;\n",
              "  max-width: 0;\n",
              "  overflow: hidden;\n",
              "  text-align: left;\n",
              "  /* unfitted */\n",
              "  background-color: var(--sklearn-color-unfitted-level-0);\n",
              "}\n",
              "\n",
              "#sk-container-id-1 div.sk-toggleable__content.fitted {\n",
              "  /* fitted */\n",
              "  background-color: var(--sklearn-color-fitted-level-0);\n",
              "}\n",
              "\n",
              "#sk-container-id-1 div.sk-toggleable__content pre {\n",
              "  margin: 0.2em;\n",
              "  border-radius: 0.25em;\n",
              "  color: var(--sklearn-color-text);\n",
              "  /* unfitted */\n",
              "  background-color: var(--sklearn-color-unfitted-level-0);\n",
              "}\n",
              "\n",
              "#sk-container-id-1 div.sk-toggleable__content.fitted pre {\n",
              "  /* unfitted */\n",
              "  background-color: var(--sklearn-color-fitted-level-0);\n",
              "}\n",
              "\n",
              "#sk-container-id-1 input.sk-toggleable__control:checked~div.sk-toggleable__content {\n",
              "  /* Expand drop-down */\n",
              "  max-height: 200px;\n",
              "  max-width: 100%;\n",
              "  overflow: auto;\n",
              "}\n",
              "\n",
              "#sk-container-id-1 input.sk-toggleable__control:checked~label.sk-toggleable__label-arrow:before {\n",
              "  content: \"▾\";\n",
              "}\n",
              "\n",
              "/* Pipeline/ColumnTransformer-specific style */\n",
              "\n",
              "#sk-container-id-1 div.sk-label input.sk-toggleable__control:checked~label.sk-toggleable__label {\n",
              "  color: var(--sklearn-color-text);\n",
              "  background-color: var(--sklearn-color-unfitted-level-2);\n",
              "}\n",
              "\n",
              "#sk-container-id-1 div.sk-label.fitted input.sk-toggleable__control:checked~label.sk-toggleable__label {\n",
              "  background-color: var(--sklearn-color-fitted-level-2);\n",
              "}\n",
              "\n",
              "/* Estimator-specific style */\n",
              "\n",
              "/* Colorize estimator box */\n",
              "#sk-container-id-1 div.sk-estimator input.sk-toggleable__control:checked~label.sk-toggleable__label {\n",
              "  /* unfitted */\n",
              "  background-color: var(--sklearn-color-unfitted-level-2);\n",
              "}\n",
              "\n",
              "#sk-container-id-1 div.sk-estimator.fitted input.sk-toggleable__control:checked~label.sk-toggleable__label {\n",
              "  /* fitted */\n",
              "  background-color: var(--sklearn-color-fitted-level-2);\n",
              "}\n",
              "\n",
              "#sk-container-id-1 div.sk-label label.sk-toggleable__label,\n",
              "#sk-container-id-1 div.sk-label label {\n",
              "  /* The background is the default theme color */\n",
              "  color: var(--sklearn-color-text-on-default-background);\n",
              "}\n",
              "\n",
              "/* On hover, darken the color of the background */\n",
              "#sk-container-id-1 div.sk-label:hover label.sk-toggleable__label {\n",
              "  color: var(--sklearn-color-text);\n",
              "  background-color: var(--sklearn-color-unfitted-level-2);\n",
              "}\n",
              "\n",
              "/* Label box, darken color on hover, fitted */\n",
              "#sk-container-id-1 div.sk-label.fitted:hover label.sk-toggleable__label.fitted {\n",
              "  color: var(--sklearn-color-text);\n",
              "  background-color: var(--sklearn-color-fitted-level-2);\n",
              "}\n",
              "\n",
              "/* Estimator label */\n",
              "\n",
              "#sk-container-id-1 div.sk-label label {\n",
              "  font-family: monospace;\n",
              "  font-weight: bold;\n",
              "  display: inline-block;\n",
              "  line-height: 1.2em;\n",
              "}\n",
              "\n",
              "#sk-container-id-1 div.sk-label-container {\n",
              "  text-align: center;\n",
              "}\n",
              "\n",
              "/* Estimator-specific */\n",
              "#sk-container-id-1 div.sk-estimator {\n",
              "  font-family: monospace;\n",
              "  border: 1px dotted var(--sklearn-color-border-box);\n",
              "  border-radius: 0.25em;\n",
              "  box-sizing: border-box;\n",
              "  margin-bottom: 0.5em;\n",
              "  /* unfitted */\n",
              "  background-color: var(--sklearn-color-unfitted-level-0);\n",
              "}\n",
              "\n",
              "#sk-container-id-1 div.sk-estimator.fitted {\n",
              "  /* fitted */\n",
              "  background-color: var(--sklearn-color-fitted-level-0);\n",
              "}\n",
              "\n",
              "/* on hover */\n",
              "#sk-container-id-1 div.sk-estimator:hover {\n",
              "  /* unfitted */\n",
              "  background-color: var(--sklearn-color-unfitted-level-2);\n",
              "}\n",
              "\n",
              "#sk-container-id-1 div.sk-estimator.fitted:hover {\n",
              "  /* fitted */\n",
              "  background-color: var(--sklearn-color-fitted-level-2);\n",
              "}\n",
              "\n",
              "/* Specification for estimator info (e.g. \"i\" and \"?\") */\n",
              "\n",
              "/* Common style for \"i\" and \"?\" */\n",
              "\n",
              ".sk-estimator-doc-link,\n",
              "a:link.sk-estimator-doc-link,\n",
              "a:visited.sk-estimator-doc-link {\n",
              "  float: right;\n",
              "  font-size: smaller;\n",
              "  line-height: 1em;\n",
              "  font-family: monospace;\n",
              "  background-color: var(--sklearn-color-background);\n",
              "  border-radius: 1em;\n",
              "  height: 1em;\n",
              "  width: 1em;\n",
              "  text-decoration: none !important;\n",
              "  margin-left: 1ex;\n",
              "  /* unfitted */\n",
              "  border: var(--sklearn-color-unfitted-level-1) 1pt solid;\n",
              "  color: var(--sklearn-color-unfitted-level-1);\n",
              "}\n",
              "\n",
              ".sk-estimator-doc-link.fitted,\n",
              "a:link.sk-estimator-doc-link.fitted,\n",
              "a:visited.sk-estimator-doc-link.fitted {\n",
              "  /* fitted */\n",
              "  border: var(--sklearn-color-fitted-level-1) 1pt solid;\n",
              "  color: var(--sklearn-color-fitted-level-1);\n",
              "}\n",
              "\n",
              "/* On hover */\n",
              "div.sk-estimator:hover .sk-estimator-doc-link:hover,\n",
              ".sk-estimator-doc-link:hover,\n",
              "div.sk-label-container:hover .sk-estimator-doc-link:hover,\n",
              ".sk-estimator-doc-link:hover {\n",
              "  /* unfitted */\n",
              "  background-color: var(--sklearn-color-unfitted-level-3);\n",
              "  color: var(--sklearn-color-background);\n",
              "  text-decoration: none;\n",
              "}\n",
              "\n",
              "div.sk-estimator.fitted:hover .sk-estimator-doc-link.fitted:hover,\n",
              ".sk-estimator-doc-link.fitted:hover,\n",
              "div.sk-label-container:hover .sk-estimator-doc-link.fitted:hover,\n",
              ".sk-estimator-doc-link.fitted:hover {\n",
              "  /* fitted */\n",
              "  background-color: var(--sklearn-color-fitted-level-3);\n",
              "  color: var(--sklearn-color-background);\n",
              "  text-decoration: none;\n",
              "}\n",
              "\n",
              "/* Span, style for the box shown on hovering the info icon */\n",
              ".sk-estimator-doc-link span {\n",
              "  display: none;\n",
              "  z-index: 9999;\n",
              "  position: relative;\n",
              "  font-weight: normal;\n",
              "  right: .2ex;\n",
              "  padding: .5ex;\n",
              "  margin: .5ex;\n",
              "  width: min-content;\n",
              "  min-width: 20ex;\n",
              "  max-width: 50ex;\n",
              "  color: var(--sklearn-color-text);\n",
              "  box-shadow: 2pt 2pt 4pt #999;\n",
              "  /* unfitted */\n",
              "  background: var(--sklearn-color-unfitted-level-0);\n",
              "  border: .5pt solid var(--sklearn-color-unfitted-level-3);\n",
              "}\n",
              "\n",
              ".sk-estimator-doc-link.fitted span {\n",
              "  /* fitted */\n",
              "  background: var(--sklearn-color-fitted-level-0);\n",
              "  border: var(--sklearn-color-fitted-level-3);\n",
              "}\n",
              "\n",
              ".sk-estimator-doc-link:hover span {\n",
              "  display: block;\n",
              "}\n",
              "\n",
              "/* \"?\"-specific style due to the `<a>` HTML tag */\n",
              "\n",
              "#sk-container-id-1 a.estimator_doc_link {\n",
              "  float: right;\n",
              "  font-size: 1rem;\n",
              "  line-height: 1em;\n",
              "  font-family: monospace;\n",
              "  background-color: var(--sklearn-color-background);\n",
              "  border-radius: 1rem;\n",
              "  height: 1rem;\n",
              "  width: 1rem;\n",
              "  text-decoration: none;\n",
              "  /* unfitted */\n",
              "  color: var(--sklearn-color-unfitted-level-1);\n",
              "  border: var(--sklearn-color-unfitted-level-1) 1pt solid;\n",
              "}\n",
              "\n",
              "#sk-container-id-1 a.estimator_doc_link.fitted {\n",
              "  /* fitted */\n",
              "  border: var(--sklearn-color-fitted-level-1) 1pt solid;\n",
              "  color: var(--sklearn-color-fitted-level-1);\n",
              "}\n",
              "\n",
              "/* On hover */\n",
              "#sk-container-id-1 a.estimator_doc_link:hover {\n",
              "  /* unfitted */\n",
              "  background-color: var(--sklearn-color-unfitted-level-3);\n",
              "  color: var(--sklearn-color-background);\n",
              "  text-decoration: none;\n",
              "}\n",
              "\n",
              "#sk-container-id-1 a.estimator_doc_link.fitted:hover {\n",
              "  /* fitted */\n",
              "  background-color: var(--sklearn-color-fitted-level-3);\n",
              "}\n",
              "</style><div id=\"sk-container-id-1\" class=\"sk-top-container\"><div class=\"sk-text-repr-fallback\"><pre>RandomForestClassifier(random_state=42)</pre><b>In a Jupyter environment, please rerun this cell to show the HTML representation or trust the notebook. <br />On GitHub, the HTML representation is unable to render, please try loading this page with nbviewer.org.</b></div><div class=\"sk-container\" hidden><div class=\"sk-item\"><div class=\"sk-estimator fitted sk-toggleable\"><input class=\"sk-toggleable__control sk-hidden--visually\" id=\"sk-estimator-id-1\" type=\"checkbox\" checked><label for=\"sk-estimator-id-1\" class=\"sk-toggleable__label fitted sk-toggleable__label-arrow fitted\">&nbsp;&nbsp;RandomForestClassifier<a class=\"sk-estimator-doc-link fitted\" rel=\"noreferrer\" target=\"_blank\" href=\"https://scikit-learn.org/1.5/modules/generated/sklearn.ensemble.RandomForestClassifier.html\">?<span>Documentation for RandomForestClassifier</span></a><span class=\"sk-estimator-doc-link fitted\">i<span>Fitted</span></span></label><div class=\"sk-toggleable__content fitted\"><pre>RandomForestClassifier(random_state=42)</pre></div> </div></div></div></div>"
            ]
          },
          "metadata": {},
          "execution_count": 75
        }
      ]
    },
    {
      "cell_type": "code",
      "source": [
        "y_pred = rf_model.predict(X_test)"
      ],
      "metadata": {
        "id": "uCsLk-hiUTWk"
      },
      "execution_count": 76,
      "outputs": []
    },
    {
      "cell_type": "code",
      "source": [
        "print(\"Without SMOTE:\")\n",
        "print(\"Accuracy:\", accuracy_score(y_test, y_pred))\n",
        "print(\"Confusion Matrix:\\n\", confusion_matrix(y_test, y_pred))\n",
        "print(\"Classification Report:\\n\", classification_report(y_test, y_pred))"
      ],
      "metadata": {
        "colab": {
          "base_uri": "https://localhost:8080/"
        },
        "id": "OsQvePwFkjzX",
        "outputId": "1b244e22-4fc2-4b55-bc86-e89ad2c3039a"
      },
      "execution_count": 77,
      "outputs": [
        {
          "output_type": "stream",
          "name": "stdout",
          "text": [
            "Without SMOTE:\n",
            "Accuracy: 0.9618966977138018\n",
            "Confusion Matrix:\n",
            " [[  22    0   70]\n",
            " [   0    0    4]\n",
            " [  16    0 2250]]\n",
            "Classification Report:\n",
            "               precision    recall  f1-score   support\n",
            "\n",
            "    negative       0.58      0.24      0.34        92\n",
            "     neutral       0.00      0.00      0.00         4\n",
            "    positive       0.97      0.99      0.98      2266\n",
            "\n",
            "    accuracy                           0.96      2362\n",
            "   macro avg       0.52      0.41      0.44      2362\n",
            "weighted avg       0.95      0.96      0.95      2362\n",
            "\n"
          ]
        },
        {
          "output_type": "stream",
          "name": "stderr",
          "text": [
            "/usr/local/lib/python3.10/dist-packages/sklearn/metrics/_classification.py:1531: UndefinedMetricWarning: Precision is ill-defined and being set to 0.0 in labels with no predicted samples. Use `zero_division` parameter to control this behavior.\n",
            "  _warn_prf(average, modifier, f\"{metric.capitalize()} is\", len(result))\n",
            "/usr/local/lib/python3.10/dist-packages/sklearn/metrics/_classification.py:1531: UndefinedMetricWarning: Precision is ill-defined and being set to 0.0 in labels with no predicted samples. Use `zero_division` parameter to control this behavior.\n",
            "  _warn_prf(average, modifier, f\"{metric.capitalize()} is\", len(result))\n",
            "/usr/local/lib/python3.10/dist-packages/sklearn/metrics/_classification.py:1531: UndefinedMetricWarning: Precision is ill-defined and being set to 0.0 in labels with no predicted samples. Use `zero_division` parameter to control this behavior.\n",
            "  _warn_prf(average, modifier, f\"{metric.capitalize()} is\", len(result))\n"
          ]
        }
      ]
    },
    {
      "cell_type": "markdown",
      "source": [
        "## With SMOTE"
      ],
      "metadata": {
        "id": "PFXMZJGyVzze"
      }
    },
    {
      "cell_type": "code",
      "source": [
        "# With SMOTE\n",
        "smote = SMOTE(random_state=42)\n",
        "X_train_sm, y_train_sm = smote.fit_resample(X_train, y_train)"
      ],
      "metadata": {
        "id": "IRPhev9zV3EU"
      },
      "execution_count": 78,
      "outputs": []
    },
    {
      "cell_type": "code",
      "source": [
        "rf_model_smote = RandomForestClassifier(random_state=42)\n",
        "rf_model_smote.fit(X_train_sm, y_train_sm)\n",
        "y_pred_sm = rf_model_smote.predict(X_test)"
      ],
      "metadata": {
        "id": "qIDYfi3qV5MX"
      },
      "execution_count": 79,
      "outputs": []
    },
    {
      "cell_type": "code",
      "source": [
        "print(\"\\nWith SMOTE:\")\n",
        "print(\"Accuracy:\", accuracy_score(y_test, y_pred_sm))\n",
        "print(\"Confusion Matrix:\\n\", confusion_matrix(y_test, y_pred_sm))\n",
        "print(\"Classification Report:\\n\", classification_report(y_test, y_pred_sm))"
      ],
      "metadata": {
        "colab": {
          "base_uri": "https://localhost:8080/"
        },
        "id": "px8E6VJ1V69Z",
        "outputId": "0fce37a3-b614-4ca9-ea49-b5f68c27cb07"
      },
      "execution_count": 80,
      "outputs": [
        {
          "output_type": "stream",
          "name": "stdout",
          "text": [
            "\n",
            "With SMOTE:\n",
            "Accuracy: 0.9508890770533446\n",
            "Confusion Matrix:\n",
            " [[  62    0   30]\n",
            " [   1    0    3]\n",
            " [  82    0 2184]]\n",
            "Classification Report:\n",
            "               precision    recall  f1-score   support\n",
            "\n",
            "    negative       0.43      0.67      0.52        92\n",
            "     neutral       0.00      0.00      0.00         4\n",
            "    positive       0.99      0.96      0.97      2266\n",
            "\n",
            "    accuracy                           0.95      2362\n",
            "   macro avg       0.47      0.55      0.50      2362\n",
            "weighted avg       0.96      0.95      0.96      2362\n",
            "\n"
          ]
        },
        {
          "output_type": "stream",
          "name": "stderr",
          "text": [
            "/usr/local/lib/python3.10/dist-packages/sklearn/metrics/_classification.py:1531: UndefinedMetricWarning: Precision is ill-defined and being set to 0.0 in labels with no predicted samples. Use `zero_division` parameter to control this behavior.\n",
            "  _warn_prf(average, modifier, f\"{metric.capitalize()} is\", len(result))\n",
            "/usr/local/lib/python3.10/dist-packages/sklearn/metrics/_classification.py:1531: UndefinedMetricWarning: Precision is ill-defined and being set to 0.0 in labels with no predicted samples. Use `zero_division` parameter to control this behavior.\n",
            "  _warn_prf(average, modifier, f\"{metric.capitalize()} is\", len(result))\n",
            "/usr/local/lib/python3.10/dist-packages/sklearn/metrics/_classification.py:1531: UndefinedMetricWarning: Precision is ill-defined and being set to 0.0 in labels with no predicted samples. Use `zero_division` parameter to control this behavior.\n",
            "  _warn_prf(average, modifier, f\"{metric.capitalize()} is\", len(result))\n"
          ]
        }
      ]
    },
    {
      "cell_type": "markdown",
      "source": [
        "# Balanced RF Model"
      ],
      "metadata": {
        "id": "Ej4IV-0CWE69"
      }
    },
    {
      "cell_type": "code",
      "source": [
        "from imblearn.ensemble import BalancedRandomForestClassifier\n",
        "brf_model = BalancedRandomForestClassifier(random_state=42)\n"
      ],
      "metadata": {
        "id": "oWGbxN8rWI11"
      },
      "execution_count": 81,
      "outputs": []
    },
    {
      "cell_type": "code",
      "source": [
        "brf_model.fit(X_train, y_train)\n",
        "y_pred = brf_model.predict(X_test)\n",
        "\n",
        "print(\"With Balanced RF model:\")\n",
        "print(\"Accuracy:\", accuracy_score(y_test, y_pred))\n",
        "print(\"Confusion Matrix:\\n\", confusion_matrix(y_test, y_pred))\n",
        "print(\"Classification Report:\\n\", classification_report(y_test, y_pred))"
      ],
      "metadata": {
        "colab": {
          "base_uri": "https://localhost:8080/"
        },
        "id": "9qtAtP1bWLhG",
        "outputId": "ab9b2a09-5221-4872-848c-7d02c0d17149"
      },
      "execution_count": 82,
      "outputs": [
        {
          "output_type": "stream",
          "name": "stderr",
          "text": [
            "/usr/local/lib/python3.10/dist-packages/imblearn/ensemble/_forest.py:577: FutureWarning: The default of `sampling_strategy` will change from `'auto'` to `'all'` in version 0.13. This change will follow the implementation proposed in the original paper. Set to `'all'` to silence this warning and adopt the future behaviour.\n",
            "  warn(\n",
            "/usr/local/lib/python3.10/dist-packages/imblearn/ensemble/_forest.py:589: FutureWarning: The default of `replacement` will change from `False` to `True` in version 0.13. This change will follow the implementation proposed in the original paper. Set to `True` to silence this warning and adopt the future behaviour.\n",
            "  warn(\n",
            "/usr/local/lib/python3.10/dist-packages/imblearn/ensemble/_forest.py:601: FutureWarning: The default of `bootstrap` will change from `True` to `False` in version 0.13. This change will follow the implementation proposed in the original paper. Set to `False` to silence this warning and adopt the future behaviour.\n",
            "  warn(\n"
          ]
        },
        {
          "output_type": "stream",
          "name": "stdout",
          "text": [
            "With Balanced RF model:\n",
            "Accuracy: 0.8272650296359018\n",
            "Confusion Matrix:\n",
            " [[  56   27    9]\n",
            " [   0    3    1]\n",
            " [ 181  190 1895]]\n",
            "Classification Report:\n",
            "               precision    recall  f1-score   support\n",
            "\n",
            "    negative       0.24      0.61      0.34        92\n",
            "     neutral       0.01      0.75      0.03         4\n",
            "    positive       0.99      0.84      0.91      2266\n",
            "\n",
            "    accuracy                           0.83      2362\n",
            "   macro avg       0.41      0.73      0.43      2362\n",
            "weighted avg       0.96      0.83      0.89      2362\n",
            "\n"
          ]
        }
      ]
    },
    {
      "cell_type": "code",
      "source": [
        "from sklearn.metrics import confusion_matrix\n",
        "\n",
        "cm = confusion_matrix(y_test, y_pred)\n",
        "sns.heatmap(cm, annot=True, fmt='d', cmap='Blues', xticklabels=['Negative', 'Neutral', 'Positive'], yticklabels=['Negative', 'Neutral', 'Positive'])\n",
        "plt.title('Confusion Matrix')\n",
        "plt.xlabel('Predicted')\n",
        "plt.ylabel('Actual')\n",
        "plt.show()"
      ],
      "metadata": {
        "colab": {
          "base_uri": "https://localhost:8080/",
          "height": 472
        },
        "id": "LQIa6gtYW-N_",
        "outputId": "16180029-a4d0-4541-b426-55f7e2dfa89b"
      },
      "execution_count": 83,
      "outputs": [
        {
          "output_type": "display_data",
          "data": {
            "text/plain": [
              "<Figure size 640x480 with 2 Axes>"
            ],
            "image/png": "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\n"
          },
          "metadata": {}
        }
      ]
    },
    {
      "cell_type": "code",
      "source": [
        "feature_importances = rf_model.feature_importances_\n",
        "plt.barh(range(len(feature_importances)), feature_importances)\n",
        "plt.title('Feature Importances')\n",
        "plt.xlabel('Importance')\n",
        "plt.ylabel('Features')\n",
        "plt.show()\n"
      ],
      "metadata": {
        "colab": {
          "base_uri": "https://localhost:8080/",
          "height": 472
        },
        "id": "tN0RtC42YGl-",
        "outputId": "2922ec1b-92c0-43d3-f6d1-93b8d34c7be8"
      },
      "execution_count": 84,
      "outputs": [
        {
          "output_type": "display_data",
          "data": {
            "text/plain": [
              "<Figure size 640x480 with 1 Axes>"
            ],
            "image/png": "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\n"
          },
          "metadata": {}
        }
      ]
    },
    {
      "cell_type": "code",
      "source": [
        "def fit_predict_evaluate(model, X_train, y_train, X_test, y_test, text_print = \"\"):\n",
        "\n",
        "    model.fit(X_train, y_train)\n",
        "    y_pred = model.predict(X_test)\n",
        "\n",
        "    print(text_print)\n",
        "    print(\"Accuracy:\", accuracy_score(y_test, y_pred))\n",
        "    print(\"Confusion Matrix:\\n\", confusion_matrix(y_test, y_pred))\n",
        "    print(\"Classification Report:\\n\", classification_report(y_test, y_pred))\n",
        "\n",
        "    cm = confusion_matrix(y_test, y_pred)\n",
        "    sns.heatmap(cm, annot=True, fmt='d', cmap='Blues', xticklabels=['Negative', 'Neutral', 'Positive'], yticklabels=['Negative', 'Neutral', 'Positive'])\n",
        "    plt.title('Confusion Matrix')\n",
        "    plt.xlabel('Predicted')\n",
        "    plt.ylabel('Actual')\n",
        "    plt.show()"
      ],
      "metadata": {
        "id": "c1XVAse5XA8I"
      },
      "execution_count": 87,
      "outputs": []
    },
    {
      "cell_type": "code",
      "source": [
        "fit_predict_evaluate(model =brf_model, X_train=X_train, y_train=y_train, X_test=X_test, y_test=y_test, text_print = \"With Balanced Random Forest Model\")"
      ],
      "metadata": {
        "colab": {
          "base_uri": "https://localhost:8080/",
          "height": 891
        },
        "id": "Z8YGCh3WYtPe",
        "outputId": "c224d563-c98c-49e3-8254-53d9e6bbce13"
      },
      "execution_count": 88,
      "outputs": [
        {
          "output_type": "stream",
          "name": "stderr",
          "text": [
            "/usr/local/lib/python3.10/dist-packages/imblearn/ensemble/_forest.py:577: FutureWarning: The default of `sampling_strategy` will change from `'auto'` to `'all'` in version 0.13. This change will follow the implementation proposed in the original paper. Set to `'all'` to silence this warning and adopt the future behaviour.\n",
            "  warn(\n",
            "/usr/local/lib/python3.10/dist-packages/imblearn/ensemble/_forest.py:589: FutureWarning: The default of `replacement` will change from `False` to `True` in version 0.13. This change will follow the implementation proposed in the original paper. Set to `True` to silence this warning and adopt the future behaviour.\n",
            "  warn(\n",
            "/usr/local/lib/python3.10/dist-packages/imblearn/ensemble/_forest.py:601: FutureWarning: The default of `bootstrap` will change from `True` to `False` in version 0.13. This change will follow the implementation proposed in the original paper. Set to `False` to silence this warning and adopt the future behaviour.\n",
            "  warn(\n"
          ]
        },
        {
          "output_type": "stream",
          "name": "stdout",
          "text": [
            "With Balanced Random Forest Model\n",
            "Accuracy: 0.8272650296359018\n",
            "Confusion Matrix:\n",
            " [[  56   27    9]\n",
            " [   0    3    1]\n",
            " [ 181  190 1895]]\n",
            "Classification Report:\n",
            "               precision    recall  f1-score   support\n",
            "\n",
            "    negative       0.24      0.61      0.34        92\n",
            "     neutral       0.01      0.75      0.03         4\n",
            "    positive       0.99      0.84      0.91      2266\n",
            "\n",
            "    accuracy                           0.83      2362\n",
            "   macro avg       0.41      0.73      0.43      2362\n",
            "weighted avg       0.96      0.83      0.89      2362\n",
            "\n"
          ]
        },
        {
          "output_type": "display_data",
          "data": {
            "text/plain": [
              "<Figure size 640x480 with 2 Axes>"
            ],
            "image/png": "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\n"
          },
          "metadata": {}
        }
      ]
    },
    {
      "cell_type": "code",
      "source": [
        "fit_predict_evaluate(model =rf_model, X_train=X_train, y_train=y_train, X_test=X_test, y_test=y_test, text_print = \"Without SMOTE Random Forest\")"
      ],
      "metadata": {
        "colab": {
          "base_uri": "https://localhost:8080/",
          "height": 891
        },
        "id": "iji4ySGlZR1-",
        "outputId": "c6edca91-fae8-47d6-9059-d56836c2f22f"
      },
      "execution_count": 90,
      "outputs": [
        {
          "output_type": "stream",
          "name": "stdout",
          "text": [
            "Without SMOTE Random Forest\n",
            "Accuracy: 0.9618966977138018\n",
            "Confusion Matrix:\n",
            " [[  22    0   70]\n",
            " [   0    0    4]\n",
            " [  16    0 2250]]\n",
            "Classification Report:\n",
            "               precision    recall  f1-score   support\n",
            "\n",
            "    negative       0.58      0.24      0.34        92\n",
            "     neutral       0.00      0.00      0.00         4\n",
            "    positive       0.97      0.99      0.98      2266\n",
            "\n",
            "    accuracy                           0.96      2362\n",
            "   macro avg       0.52      0.41      0.44      2362\n",
            "weighted avg       0.95      0.96      0.95      2362\n",
            "\n"
          ]
        },
        {
          "output_type": "stream",
          "name": "stderr",
          "text": [
            "/usr/local/lib/python3.10/dist-packages/sklearn/metrics/_classification.py:1531: UndefinedMetricWarning: Precision is ill-defined and being set to 0.0 in labels with no predicted samples. Use `zero_division` parameter to control this behavior.\n",
            "  _warn_prf(average, modifier, f\"{metric.capitalize()} is\", len(result))\n",
            "/usr/local/lib/python3.10/dist-packages/sklearn/metrics/_classification.py:1531: UndefinedMetricWarning: Precision is ill-defined and being set to 0.0 in labels with no predicted samples. Use `zero_division` parameter to control this behavior.\n",
            "  _warn_prf(average, modifier, f\"{metric.capitalize()} is\", len(result))\n",
            "/usr/local/lib/python3.10/dist-packages/sklearn/metrics/_classification.py:1531: UndefinedMetricWarning: Precision is ill-defined and being set to 0.0 in labels with no predicted samples. Use `zero_division` parameter to control this behavior.\n",
            "  _warn_prf(average, modifier, f\"{metric.capitalize()} is\", len(result))\n"
          ]
        },
        {
          "output_type": "display_data",
          "data": {
            "text/plain": [
              "<Figure size 640x480 with 2 Axes>"
            ],
            "image/png": "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\n"
          },
          "metadata": {}
        }
      ]
    }
  ]
}
>>>>>>> cf2ebe8 ([add][WIP] random forest notebook)
